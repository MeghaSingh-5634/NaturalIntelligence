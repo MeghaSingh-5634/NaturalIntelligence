{
  "nbformat": 4,
  "nbformat_minor": 0,
  "metadata": {
    "colab": {
      "provenance": [],
      "mount_file_id": "1UIwHECmh_f7rG3wIjyWT5jH25hg6wX36",
      "authorship_tag": "ABX9TyMqkayXCC5x0Z8kM9BXlbJN",
      "include_colab_link": true
    },
    "kernelspec": {
      "name": "python3",
      "display_name": "Python 3"
    },
    "language_info": {
      "name": "python"
    }
  },
  "cells": [
    {
      "cell_type": "markdown",
      "metadata": {
        "id": "view-in-github",
        "colab_type": "text"
      },
      "source": [
        "<a href=\"https://colab.research.google.com/github/MeMegha14/NaturalIntelligence/blob/main/Movie_recommendation.ipynb\" target=\"_parent\"><img src=\"https://colab.research.google.com/assets/colab-badge.svg\" alt=\"Open In Colab\"/></a>"
      ]
    },
    {
      "cell_type": "code",
      "execution_count": null,
      "metadata": {
        "id": "fyYUp79gIEww"
      },
      "outputs": [],
      "source": [
        "import numpy as np\n",
        "import pandas as pd"
      ]
    },
    {
      "cell_type": "code",
      "source": [
        "movies=pd.read_csv(\"/content/tmdb_5000_movies.csv\",encoding='ISO-8859-1')\n"
      ],
      "metadata": {
        "id": "mncdq-LrP8mB"
      },
      "execution_count": null,
      "outputs": []
    },
    {
      "cell_type": "code",
      "source": [
        "credits=pd.read_csv(\"/content/drive/MyDrive/tmdb_5000_credits.csv\")"
      ],
      "metadata": {
        "id": "6mU86WsOOMbp"
      },
      "execution_count": null,
      "outputs": []
    },
    {
      "cell_type": "code",
      "source": [
        "movies['title'].values"
      ],
      "metadata": {
        "id": "vmdj51HDTlDj",
        "colab": {
          "base_uri": "https://localhost:8080/"
        },
        "outputId": "22ea4502-d9db-414e-c916-e9ff65b022ca"
      },
      "execution_count": null,
      "outputs": [
        {
          "output_type": "execute_result",
          "data": {
            "text/plain": [
              "array(['Avatar', \"Pirates of the Caribbean: At World's End\", 'Spectre',\n",
              "       'The Dark Knight Rises', 'John Carter', 'Spider-Man 3', 'Tangled',\n",
              "       'Avengers: Age of Ultron',\n",
              "       'Harry Potter and the Half-Blood Prince',\n",
              "       'Batman v Superman: Dawn of Justice', 'Superman Returns',\n",
              "       'Quantum of Solace', \"Pirates of the Caribbean: Dead Man's Chest\",\n",
              "       'The Lone Ranger', 'Man of Steel',\n",
              "       'The Chronicles of Narnia: Prince Caspian', 'The Avengers',\n",
              "       'Pirates of the Caribbean: On Stranger Tides', 'Men in Black 3',\n",
              "       'The Hobbit: The Battle of the Five Armies',\n",
              "       'The Amazing Spider-Man', 'Robin Hood',\n",
              "       'The Hobbit: The Desolation of Smaug', 'The Golden Compass',\n",
              "       'King Kong', 'Titanic', 'Captain America: Civil War', 'Battleship',\n",
              "       'Jurassic World', 'Skyfall', 'Spider-Man 2', 'Iron Man 3',\n",
              "       'Alice in Wonderland', 'X-Men: The Last Stand',\n",
              "       'Monsters University', 'Transformers: Revenge of the Fallen',\n",
              "       'Transformers: Age of Extinction', 'Oz: The Great and Powerful',\n",
              "       'The Amazing Spider-Man 2', 'TRON: Legacy', 'Cars 2',\n",
              "       'Green Lantern', 'Toy Story 3', 'Terminator Salvation',\n",
              "       'Furious 7', 'World War Z', 'X-Men: Days of Future Past',\n",
              "       'Star Trek Into Darkness', 'Jack the Giant Slayer',\n",
              "       'The Great Gatsby', 'Prince of Persia: The Sands of Time',\n",
              "       'Pacific Rim', 'Transformers: Dark of the Moon',\n",
              "       'Indiana Jones and the Kingdom of the Crystal Skull',\n",
              "       'The Good Dinosaur', 'Brave', 'Star Trek Beyond', 'WALL·E',\n",
              "       'Rush Hour 3', '2012', 'A Christmas Carol', 'Jupiter Ascending',\n",
              "       'The Legend of Tarzan',\n",
              "       'The Chronicles of Narnia: The Lion, the Witch and the Wardrobe',\n",
              "       'X-Men: Apocalypse', 'The Dark Knight', 'Up', 'Monsters vs Aliens',\n",
              "       'Iron Man', 'Hugo', 'Wild Wild West',\n",
              "       'The Mummy: Tomb of the Dragon Emperor', 'Suicide Squad',\n",
              "       'Evan Almighty', 'Edge of Tomorrow', 'Waterworld',\n",
              "       'G.I. Joe: The Rise of Cobra', 'Inside Out', 'The Jungle Book',\n",
              "       'Iron Man 2', 'Snow White and the Huntsman', 'Maleficent',\n",
              "       'Dawn of the Planet of the Apes', 'The Lovers', '47 Ronin',\n",
              "       'Captain America: The Winter Soldier', 'Shrek Forever After',\n",
              "       'Tomorrowland', 'Big Hero 6', 'Wreck-It Ralph',\n",
              "       'The Polar Express', 'Independence Day: Resurgence',\n",
              "       'How to Train Your Dragon', 'Terminator 3: Rise of the Machines',\n",
              "       'Guardians of the Galaxy', 'Interstellar', 'Inception',\n",
              "       'Shin Godzilla', 'The Hobbit: An Unexpected Journey',\n",
              "       'The Fast and the Furious', 'The Curious Case of Benjamin Button',\n",
              "       'X-Men: First Class', 'The Hunger Games: Mockingjay - Part 2',\n",
              "       \"The Sorcerer's Apprentice\", 'Poseidon',\n",
              "       'Alice Through the Looking Glass', 'Shrek the Third', 'Warcraft',\n",
              "       'Terminator Genisys',\n",
              "       'The Chronicles of Narnia: The Voyage of the Dawn Treader',\n",
              "       'Pearl Harbor', 'Transformers', 'Alexander',\n",
              "       'Harry Potter and the Order of the Phoenix',\n",
              "       'Harry Potter and the Goblet of Fire', 'Hancock', 'I Am Legend',\n",
              "       'Charlie and the Chocolate Factory', 'Ratatouille',\n",
              "       'Batman Begins', 'Madagascar: Escape 2 Africa',\n",
              "       'Night at the Museum: Battle of the Smithsonian',\n",
              "       'X-Men Origins: Wolverine', 'The Matrix Revolutions', 'Frozen',\n",
              "       'The Matrix Reloaded', 'Thor: The Dark World',\n",
              "       'Mad Max: Fury Road', 'Angels & Demons', 'Thor', 'Bolt', 'G-Force',\n",
              "       'Wrath of the Titans', 'Dark Shadows',\n",
              "       'Mission: Impossible - Rogue Nation', 'The Wolfman', 'Bee Movie',\n",
              "       'Kung Fu Panda 2', 'The Last Airbender', 'Mission: Impossible III',\n",
              "       'White House Down', 'Mars Needs Moms', 'Flushed Away', 'Pan',\n",
              "       'Mr. Peabody & Sherman', 'Troy',\n",
              "       \"Madagascar 3: Europe's Most Wanted\", 'Die Another Day',\n",
              "       'Ghostbusters', 'Armageddon', 'Men in Black II', 'Beowulf',\n",
              "       'Kung Fu Panda 3', 'Mission: Impossible - Ghost Protocol',\n",
              "       'Rise of the Guardians', 'Fun with Dick and Jane',\n",
              "       'The Last Samurai', 'Exodus: Gods and Kings', 'Star Trek',\n",
              "       'Spider-Man', 'How to Train Your Dragon 2', 'Gods of Egypt',\n",
              "       'Stealth', 'Watchmen', 'Lethal Weapon 4', 'Hulk',\n",
              "       'G.I. Joe: Retaliation', 'Sahara',\n",
              "       'Final Fantasy: The Spirits Within',\n",
              "       'Captain America: The First Avenger', 'The World Is Not Enough',\n",
              "       'Master and Commander: The Far Side of the World',\n",
              "       'The Twilight Saga: Breaking Dawn - Part 2', 'Happy Feet Two',\n",
              "       'The Incredible Hulk', 'The BFG', 'The Revenant', 'Turbo', 'Rango',\n",
              "       'Penguins of Madagascar', 'The Bourne Ultimatum', 'Kung Fu Panda',\n",
              "       'Ant-Man', 'The Hunger Games: Catching Fire', 'Home',\n",
              "       'War of the Worlds', 'Bad Boys II', 'Puss in Boots', 'Salt',\n",
              "       'Noah', 'The Adventures of Tintin',\n",
              "       'Harry Potter and the Prisoner of Azkaban', 'Australia',\n",
              "       'After Earth', 'Dinosaur',\n",
              "       'Night at the Museum: Secret of the Tomb', 'Megamind',\n",
              "       \"Harry Potter and the Philosopher's Stone\", 'R.I.P.D.',\n",
              "       'Pirates of the Caribbean: The Curse of the Black Pearl',\n",
              "       'The Hunger Games: Mockingjay - Part 1', 'The Da Vinci Code',\n",
              "       'Rio 2', 'X2', 'Fast Five', 'Sherlock Holmes: A Game of Shadows',\n",
              "       'Clash of the Titans', 'Total Recall', 'The 13th Warrior',\n",
              "       'The Bourne Legacy', 'Batman & Robin',\n",
              "       'How the Grinch Stole Christmas', 'The Day After Tomorrow',\n",
              "       'Mission: Impossible II', 'The Perfect Storm',\n",
              "       'Fantastic 4: Rise of the Silver Surfer', 'Life of Pi',\n",
              "       'Ghost Rider', 'Jason Bourne', \"Charlie's Angels: Full Throttle\",\n",
              "       'Prometheus', 'Stuart Little 2', 'Elysium',\n",
              "       'The Chronicles of Riddick', 'RoboCop', 'Speed Racer',\n",
              "       'How Do You Know', 'Knight and Day', 'Oblivion',\n",
              "       'Star Wars: Episode III - Revenge of the Sith',\n",
              "       'Star Wars: Episode II - Attack of the Clones', 'Monsters, Inc.',\n",
              "       'The Wolverine', 'Star Wars: Episode I - The Phantom Menace',\n",
              "       'The Croods', 'Asterix at the Olympic Games', 'Windtalkers',\n",
              "       \"The Huntsman: Winter's War\", 'Teenage Mutant Ninja Turtles',\n",
              "       'Gravity', \"Dante's Peak\",\n",
              "       'Teenage Mutant Ninja Turtles: Out of the Shadows',\n",
              "       'Fantastic Four', 'Night at the Museum', 'San Andreas',\n",
              "       'Tomorrow Never Dies', 'The Patriot', \"Ocean's Twelve\",\n",
              "       'Mr. & Mrs. Smith', 'Insurgent', 'The Aviator',\n",
              "       \"Gulliver's Travels\", 'The Green Hornet', '300: Rise of an Empire',\n",
              "       'The Smurfs', 'Home on the Range', 'Allegiant', 'Real Steel',\n",
              "       'The Smurfs 2', 'Speed 2: Cruise Control', \"Ender's Game\",\n",
              "       'Live Free or Die Hard',\n",
              "       'The Lord of the Rings: The Fellowship of the Ring',\n",
              "       'Around the World in 80 Days', 'Ali', 'The Cat in the Hat',\n",
              "       'I, Robot', 'Kingdom of Heaven', 'Stuart Little',\n",
              "       'The Princess and the Frog', 'The Martian', 'The Island',\n",
              "       'Town & Country', 'Gone in Sixty Seconds', 'Gladiator',\n",
              "       'Minority Report', 'Harry Potter and the Chamber of Secrets',\n",
              "       'Casino Royale', 'Planet of the Apes',\n",
              "       'Terminator 2: Judgment Day', 'Public Enemies',\n",
              "       'American Gangster', 'True Lies', 'The Taking of Pelham 1 2 3',\n",
              "       'Little Fockers', 'The Other Guys', 'Eraser', 'Django Unchained',\n",
              "       'The Hunchback of Notre Dame', \"The Emperor's New Groove\",\n",
              "       'The Expendables 2', 'National Treasure', 'Eragon',\n",
              "       'Where the Wild Things Are', 'Epic', 'The Tourist', 'End of Days',\n",
              "       'Blood Diamond', 'The Wolf of Wall Street', 'Batman Forever',\n",
              "       'Starship Troopers', 'Cloud Atlas',\n",
              "       \"Legend of the Guardians: The Owls of Ga'Hoole\", 'Catwoman',\n",
              "       'Hercules', 'Treasure Planet', 'Land of the Lost',\n",
              "       'The Expendables 3', 'Point Break', 'Son of the Mask',\n",
              "       'In the Heart of the Sea', 'The Adventures of Pluto Nash',\n",
              "       'Green Zone', 'The Peanuts Movie', 'The Spanish Prisoner',\n",
              "       'The Mummy Returns', 'Gangs of New York', 'The Flowers of War',\n",
              "       \"Surf's Up\", 'The Stepford Wives', 'Black Hawk Down',\n",
              "       'The Campaign', 'The Fifth Element', 'Sex and the City 2',\n",
              "       'The Road to El Dorado', 'Ice Age: Continental Drift',\n",
              "       'Cinderella', 'The Lovely Bones', 'Finding Nemo',\n",
              "       'The Lord of the Rings: The Return of the King',\n",
              "       'The Lord of the Rings: The Two Towers', 'Seventh Son',\n",
              "       'Lara Croft: Tomb Raider', 'Transcendence', 'Jurassic Park III',\n",
              "       'Rise of the Planet of the Apes', 'The Spiderwick Chronicles',\n",
              "       'A Good Day to Die Hard', 'The Alamo', 'The Incredibles',\n",
              "       'Cutthroat Island',\n",
              "       'Percy Jackson & the Olympians: The Lightning Thief',\n",
              "       'Men in Black', 'Toy Story 2', 'Unstoppable', 'Rush Hour 2',\n",
              "       'What Lies Beneath', 'Cloudy with a Chance of Meatballs',\n",
              "       'Ice Age: Dawn of the Dinosaurs',\n",
              "       'The Secret Life of Walter Mitty', \"Charlie's Angels\",\n",
              "       'The Departed', 'Mulan', 'Tropic Thunder',\n",
              "       'The Girl with the Dragon Tattoo', 'Die Hard: With a Vengeance',\n",
              "       'Sherlock Holmes', 'Ben-Hur', 'Atlantis: The Lost Empire',\n",
              "       'Alvin and the Chipmunks: The Road Chip', 'Valkyrie',\n",
              "       \"You Don't Mess with the Zohan\", 'Pixels',\n",
              "       'A.I. Artificial Intelligence', 'The Haunted Mansion', 'Contact',\n",
              "       'Hollow Man', 'The Interpreter', 'Percy Jackson: Sea of Monsters',\n",
              "       'Lara Croft Tomb Raider: The Cradle of Life', 'Now You See Me 2',\n",
              "       'The Saint', 'Spy Game', 'Mission to Mars', 'Rio',\n",
              "       'Bicentennial Man', 'Volcano', \"The Devil's Own\",\n",
              "       'K-19: The Widowmaker', 'Conan the Barbarian', 'Cinderella Man',\n",
              "       'The Nutcracker: The Untold Story', 'Seabiscuit', 'Twister',\n",
              "       'Cast Away', 'Happy Feet', 'The Bourne Supremacy', 'Air Force One',\n",
              "       \"Ocean's Eleven\", 'The Three Musketeers', 'Hotel Transylvania',\n",
              "       'Enchanted', 'Safe House', '102 Dalmatians', 'Tower Heist',\n",
              "       'The Holiday', 'Enemy of the State', \"It's Complicated\",\n",
              "       \"Ocean's Thirteen\", 'Open Season', 'Divergent',\n",
              "       'Enemy at the Gates', 'The Rundown', 'Last Action Hero',\n",
              "       'Memoirs of a Geisha', 'The Fast and the Furious: Tokyo Drift',\n",
              "       'Arthur Christmas', 'Meet Joe Black', 'Collateral Damage',\n",
              "       'All That Jazz', 'Mirror Mirror', 'Scott Pilgrim vs. the World',\n",
              "       'The Core', 'Nutty Professor II: The Klumps', 'Scooby-Doo',\n",
              "       'Dredd', 'Click', 'Creepshow',\n",
              "       'Cats & Dogs 2 : The Revenge of Kitty Galore', 'Jumper',\n",
              "       'Hellboy II: The Golden Army', 'Zodiac', 'The 6th Day',\n",
              "       'Bruce Almighty', 'The Expendables', 'Mission: Impossible',\n",
              "       'The Hunger Games', 'The Hangover Part II', 'Batman Returns',\n",
              "       'Over the Hedge', 'Lilo & Stitch', \"Charlotte's Web\",\n",
              "       'Deep Impact', 'RED 2', 'The Longest Yard',\n",
              "       'Alvin and the Chipmunks: Chipwrecked', 'Grown Ups 2', 'Get Smart',\n",
              "       \"Something's Gotta Give\", 'Shutter Island', 'Four Christmases',\n",
              "       'Robots', 'Face/Off', 'Bedtime Stories', 'Road to Perdition',\n",
              "       'Just Go with It', 'Con Air', 'Eagle Eye', 'Cold Mountain',\n",
              "       'The Book of Eli', 'Flubber', 'The Haunting', 'Space Jam',\n",
              "       'The Pink Panther', 'The Day the Earth Stood Still',\n",
              "       'Conspiracy Theory', 'Fury', 'Six Days Seven Nights', 'Yogi Bear',\n",
              "       'Spirit: Stallion of the Cimarron', 'Zookeeper', 'Lost in Space',\n",
              "       'The Manchurian Candidate', 'Déjà Vu', 'Hotel Transylvania 2',\n",
              "       'Fantasia 2000', 'The Time Machine', 'Mighty Joe Young',\n",
              "       'Swordfish', 'The Legend of Zorro', 'What Dreams May Come',\n",
              "       'Little Nicky', 'The Brothers Grimm', 'Mars Attacks!', 'Evolution',\n",
              "       'The Edge', 'Surrogates', 'Thirteen Days', 'Daylight',\n",
              "       'Walking With Dinosaurs', 'Battlefield Earth',\n",
              "       'Looney Tunes: Back in Action', 'Nine', 'Timeline', 'The Postman',\n",
              "       'Babe: Pig in the City', 'The Last Witch Hunter', 'Red Planet',\n",
              "       'Arthur and the Invisibles', 'Oceans', 'A Sound of Thunder',\n",
              "       'Pompeii', 'Top Cat Begins', 'A Beautiful Mind', 'The Lion King',\n",
              "       'Journey 2: The Mysterious Island',\n",
              "       'Cloudy with a Chance of Meatballs 2', 'Red Dragon', 'Hidalgo',\n",
              "       'Jack and Jill', '2 Fast 2 Furious', 'The Little Prince',\n",
              "       'The Invasion', 'The Adventures of Rocky & Bullwinkle',\n",
              "       'The Secret Life of Pets', 'The League of Extraordinary Gentlemen',\n",
              "       'Despicable Me 2', 'Independence Day',\n",
              "       'The Lost World: Jurassic Park', 'Madagascar', 'Children of Men',\n",
              "       'X-Men', 'Wanted', 'The Rock', 'Ice Age: The Meltdown',\n",
              "       '50 First Dates', 'Hairspray', 'Exorcist: The Beginning',\n",
              "       'Inspector Gadget', 'Now You See Me', 'Grown Ups', 'The Terminal',\n",
              "       'Hotel for Dogs', 'Vertical Limit', \"Charlie Wilson's War\",\n",
              "       'Shark Tale', 'Dreamgirls', 'Be Cool', 'Munich',\n",
              "       'Tears of the Sun', 'Killers', 'The Man from U.N.C.L.E.',\n",
              "       'Spanglish', 'Monster House', 'Bandits', 'First Knight',\n",
              "       'Anna and the King', 'Immortals', 'Hostage', 'Titan A.E.',\n",
              "       'Hollywood Homicide', 'Soldier', 'Carriers', 'Monkeybone',\n",
              "       'Flight of the Phoenix', 'Unbreakable', 'Minions', 'Sucker Punch',\n",
              "       'Snake Eyes', 'Sphere', 'The Angry Birds Movie', \"Fool's Gold\",\n",
              "       'Funny People', 'The Kingdom',\n",
              "       'Talladega Nights: The Ballad of Ricky Bobby', 'Dr. Dolittle 2',\n",
              "       'Braveheart', 'Jarhead', 'The Simpsons Movie', 'The Majestic',\n",
              "       'Driven', 'Two Brothers', 'The Village', 'Doctor Dolittle',\n",
              "       'Signs', 'Shrek 2', 'Cars', 'Runaway Bride', 'xXx',\n",
              "       'The SpongeBob Movie: Sponge Out of Water', 'Ransom',\n",
              "       'Inglourious Basterds', 'Hook', 'Die Hard 2', 'S.W.A.T.',\n",
              "       'Vanilla Sky', 'Lady in the Water', 'AVP: Alien vs. Predator',\n",
              "       'Alvin and the Chipmunks: The Squeakquel', 'We Were Soldiers',\n",
              "       'Olympus Has Fallen', 'Star Trek: Insurrection',\n",
              "       'Battle: Los Angeles', 'Big Fish', 'Wolf', 'War Horse',\n",
              "       'The Monuments Men', 'The Abyss',\n",
              "       'Wall Street: Money Never Sleeps', 'Dracula Untold', 'The Siege',\n",
              "       'Stardust', 'Seven Years in Tibet', 'The Dilemma', 'Bad Company',\n",
              "       'Doom', 'I Spy', 'Underworld: Awakening', 'Rock of Ages',\n",
              "       \"Hart's War\", 'Killer Elite', 'Rollerball',\n",
              "       'Ballistic: Ecks vs. Sever', 'Hard Rain', 'Osmosis Jones',\n",
              "       \"Legends of Oz: Dorothy's Return\", 'Blackhat',\n",
              "       'Sky Captain and the World of Tomorrow', 'Basic Instinct 2',\n",
              "       'Escape Plan', 'The Legend of Hercules', 'The Sum of All Fears',\n",
              "       'The Twilight Saga: Eclipse', 'The Score', 'Despicable Me',\n",
              "       'Money Train', 'Ted 2', 'Agora', 'Mystery Men', 'Hall Pass',\n",
              "       'The Insider', 'The Finest Hours', 'Body of Lies',\n",
              "       'Dinner for Schmucks', 'Abraham Lincoln: Vampire Hunter',\n",
              "       'Entrapment', 'The X Files', 'The Last Legion',\n",
              "       'Saving Private Ryan', 'Need for Speed', 'What Women Want',\n",
              "       'Ice Age', 'Dreamcatcher', 'Lincoln', 'The Matrix', 'Apollo 13',\n",
              "       'The Santa Clause 2', 'Les Misérables', \"You've Got Mail\",\n",
              "       'Step Brothers', 'The Mask of Zorro', 'Due Date', 'Unbroken',\n",
              "       'Space Cowboys', 'Cliffhanger', 'Broken Arrow', 'The Kid',\n",
              "       'World Trade Center', 'Mona Lisa Smile', 'The Dictator',\n",
              "       'Eyes Wide Shut', 'Annie', 'Focus', 'This Means War',\n",
              "       'Blade: Trinity', 'Red Dawn', 'Primary Colors',\n",
              "       'Resident Evil: Retribution', 'Death Race',\n",
              "       'The Long Kiss Goodnight', 'Proof of Life',\n",
              "       'Zathura: A Space Adventure', 'Fight Club', 'We Are Marshall',\n",
              "       'Hudson Hawk', 'Lucky Numbers', 'I, Frankenstein', 'Oliver Twist',\n",
              "       'Elektra', 'Sin City: A Dame to Kill For', 'Random Hearts',\n",
              "       'Everest', 'Perfume: The Story of a Murderer',\n",
              "       'Austin Powers in Goldmember', 'Astro Boy', 'Jurassic Park',\n",
              "       'Wyatt Earp', 'Clear and Present Danger', 'Dragon Blade',\n",
              "       'Little Man', 'U-571', 'The American President', 'The Love Guru',\n",
              "       '3000 Miles to Graceland', 'The Hateful Eight', 'Blades of Glory',\n",
              "       'Hop', '300', 'Meet the Fockers', 'Marley & Me', 'The Green Mile',\n",
              "       'Wild Hogs', 'Chicken Little', 'Gone Girl', 'The Bourne Identity',\n",
              "       'GoldenEye', \"The General's Daughter\", 'The Truman Show',\n",
              "       'The Prince of Egypt', 'Daddy Day Care', '2 Guns', 'Cats & Dogs',\n",
              "       'The Italian Job', 'Two Weeks Notice', 'Antz', 'Couples Retreat',\n",
              "       'Days of Thunder', 'Cheaper by the Dozen 2',\n",
              "       'Maze Runner: The Scorch Trials', 'Eat Pray Love',\n",
              "       'The Family Man', 'RED', 'Any Given Sunday', 'The Horse Whisperer',\n",
              "       'Collateral', 'The Scorpion King', 'Ladder 49', 'Jack Reacher',\n",
              "       'Deep Blue Sea', 'This Is It', 'Contagion', 'Kangaroo Jack',\n",
              "       'Coraline', 'The Happening', 'Man on Fire', 'The Shaggy Dog',\n",
              "       'Starsky & Hutch', 'Jingle All the Way', 'Hellboy',\n",
              "       'A Civil Action', 'ParaNorman', 'The Jackal', 'Paycheck',\n",
              "       'Up Close & Personal', 'The Tale of Despereaux', 'The Tuxedo',\n",
              "       'Under Siege 2: Dark Territory', 'Jack Ryan: Shadow Recruit',\n",
              "       'Joy'], dtype=object)"
            ]
          },
          "metadata": {},
          "execution_count": 267
        }
      ]
    },
    {
      "cell_type": "code",
      "source": [
        "credits.head(1)"
      ],
      "metadata": {
        "colab": {
          "base_uri": "https://localhost:8080/",
          "height": 98
        },
        "id": "s9B29h1ycClU",
        "outputId": "05a4b637-789e-4e7a-a6d6-b54205aec673"
      },
      "execution_count": null,
      "outputs": [
        {
          "output_type": "execute_result",
          "data": {
            "text/plain": [
              "   movie_id   title                                               cast  \\\n",
              "0     19995  Avatar  [{\"cast_id\": 242, \"character\": \"Jake Sully\", \"...   \n",
              "\n",
              "                                                crew  \n",
              "0  [{\"credit_id\": \"52fe48009251416c750aca23\", \"de...  "
            ],
            "text/html": [
              "\n",
              "  <div id=\"df-2e1e11a9-b231-40ed-9375-44d0a22fcb80\" class=\"colab-df-container\">\n",
              "    <div>\n",
              "<style scoped>\n",
              "    .dataframe tbody tr th:only-of-type {\n",
              "        vertical-align: middle;\n",
              "    }\n",
              "\n",
              "    .dataframe tbody tr th {\n",
              "        vertical-align: top;\n",
              "    }\n",
              "\n",
              "    .dataframe thead th {\n",
              "        text-align: right;\n",
              "    }\n",
              "</style>\n",
              "<table border=\"1\" class=\"dataframe\">\n",
              "  <thead>\n",
              "    <tr style=\"text-align: right;\">\n",
              "      <th></th>\n",
              "      <th>movie_id</th>\n",
              "      <th>title</th>\n",
              "      <th>cast</th>\n",
              "      <th>crew</th>\n",
              "    </tr>\n",
              "  </thead>\n",
              "  <tbody>\n",
              "    <tr>\n",
              "      <th>0</th>\n",
              "      <td>19995</td>\n",
              "      <td>Avatar</td>\n",
              "      <td>[{\"cast_id\": 242, \"character\": \"Jake Sully\", \"...</td>\n",
              "      <td>[{\"credit_id\": \"52fe48009251416c750aca23\", \"de...</td>\n",
              "    </tr>\n",
              "  </tbody>\n",
              "</table>\n",
              "</div>\n",
              "    <div class=\"colab-df-buttons\">\n",
              "\n",
              "  <div class=\"colab-df-container\">\n",
              "    <button class=\"colab-df-convert\" onclick=\"convertToInteractive('df-2e1e11a9-b231-40ed-9375-44d0a22fcb80')\"\n",
              "            title=\"Convert this dataframe to an interactive table.\"\n",
              "            style=\"display:none;\">\n",
              "\n",
              "  <svg xmlns=\"http://www.w3.org/2000/svg\" height=\"24px\" viewBox=\"0 -960 960 960\">\n",
              "    <path d=\"M120-120v-720h720v720H120Zm60-500h600v-160H180v160Zm220 220h160v-160H400v160Zm0 220h160v-160H400v160ZM180-400h160v-160H180v160Zm440 0h160v-160H620v160ZM180-180h160v-160H180v160Zm440 0h160v-160H620v160Z\"/>\n",
              "  </svg>\n",
              "    </button>\n",
              "\n",
              "  <style>\n",
              "    .colab-df-container {\n",
              "      display:flex;\n",
              "      gap: 12px;\n",
              "    }\n",
              "\n",
              "    .colab-df-convert {\n",
              "      background-color: #E8F0FE;\n",
              "      border: none;\n",
              "      border-radius: 50%;\n",
              "      cursor: pointer;\n",
              "      display: none;\n",
              "      fill: #1967D2;\n",
              "      height: 32px;\n",
              "      padding: 0 0 0 0;\n",
              "      width: 32px;\n",
              "    }\n",
              "\n",
              "    .colab-df-convert:hover {\n",
              "      background-color: #E2EBFA;\n",
              "      box-shadow: 0px 1px 2px rgba(60, 64, 67, 0.3), 0px 1px 3px 1px rgba(60, 64, 67, 0.15);\n",
              "      fill: #174EA6;\n",
              "    }\n",
              "\n",
              "    .colab-df-buttons div {\n",
              "      margin-bottom: 4px;\n",
              "    }\n",
              "\n",
              "    [theme=dark] .colab-df-convert {\n",
              "      background-color: #3B4455;\n",
              "      fill: #D2E3FC;\n",
              "    }\n",
              "\n",
              "    [theme=dark] .colab-df-convert:hover {\n",
              "      background-color: #434B5C;\n",
              "      box-shadow: 0px 1px 3px 1px rgba(0, 0, 0, 0.15);\n",
              "      filter: drop-shadow(0px 1px 2px rgba(0, 0, 0, 0.3));\n",
              "      fill: #FFFFFF;\n",
              "    }\n",
              "  </style>\n",
              "\n",
              "    <script>\n",
              "      const buttonEl =\n",
              "        document.querySelector('#df-2e1e11a9-b231-40ed-9375-44d0a22fcb80 button.colab-df-convert');\n",
              "      buttonEl.style.display =\n",
              "        google.colab.kernel.accessAllowed ? 'block' : 'none';\n",
              "\n",
              "      async function convertToInteractive(key) {\n",
              "        const element = document.querySelector('#df-2e1e11a9-b231-40ed-9375-44d0a22fcb80');\n",
              "        const dataTable =\n",
              "          await google.colab.kernel.invokeFunction('convertToInteractive',\n",
              "                                                    [key], {});\n",
              "        if (!dataTable) return;\n",
              "\n",
              "        const docLinkHtml = 'Like what you see? Visit the ' +\n",
              "          '<a target=\"_blank\" href=https://colab.research.google.com/notebooks/data_table.ipynb>data table notebook</a>'\n",
              "          + ' to learn more about interactive tables.';\n",
              "        element.innerHTML = '';\n",
              "        dataTable['output_type'] = 'display_data';\n",
              "        await google.colab.output.renderOutput(dataTable, element);\n",
              "        const docLink = document.createElement('div');\n",
              "        docLink.innerHTML = docLinkHtml;\n",
              "        element.appendChild(docLink);\n",
              "      }\n",
              "    </script>\n",
              "  </div>\n",
              "\n",
              "\n",
              "    </div>\n",
              "  </div>\n"
            ],
            "application/vnd.google.colaboratory.intrinsic+json": {
              "type": "dataframe",
              "variable_name": "credits",
              "summary": "{\n  \"name\": \"credits\",\n  \"rows\": 4803,\n  \"fields\": [\n    {\n      \"column\": \"movie_id\",\n      \"properties\": {\n        \"dtype\": \"number\",\n        \"std\": 88694,\n        \"min\": 5,\n        \"max\": 459488,\n        \"num_unique_values\": 4803,\n        \"samples\": [\n          8427,\n          13006,\n          18041\n        ],\n        \"semantic_type\": \"\",\n        \"description\": \"\"\n      }\n    },\n    {\n      \"column\": \"title\",\n      \"properties\": {\n        \"dtype\": \"string\",\n        \"num_unique_values\": 4800,\n        \"samples\": [\n          \"I Spy\",\n          \"Who's Your Caddy?\",\n          \"Sleepover\"\n        ],\n        \"semantic_type\": \"\",\n        \"description\": \"\"\n      }\n    },\n    {\n      \"column\": \"cast\",\n      \"properties\": {\n        \"dtype\": \"string\",\n        \"num_unique_values\": 4761,\n        \"samples\": [\n          \"[{\\\"cast_id\\\": 1, \\\"character\\\": \\\"Joshua \\\\\\\"Josh\\\\\\\" Baskin\\\", \\\"credit_id\\\": \\\"52fe4349c3a36847f8048ac3\\\", \\\"gender\\\": 2, \\\"id\\\": 31, \\\"name\\\": \\\"Tom Hanks\\\", \\\"order\\\": 0}, {\\\"cast_id\\\": 2, \\\"character\\\": \\\"Susan\\\", \\\"credit_id\\\": \\\"52fe4349c3a36847f8048ac7\\\", \\\"gender\\\": 1, \\\"id\\\": 20, \\\"name\\\": \\\"Elizabeth Perkins\\\", \\\"order\\\": 1}, {\\\"cast_id\\\": 3, \\\"character\\\": \\\"MacMillan\\\", \\\"credit_id\\\": \\\"52fe4349c3a36847f8048acb\\\", \\\"gender\\\": 2, \\\"id\\\": 1162, \\\"name\\\": \\\"Robert Loggia\\\", \\\"order\\\": 2}, {\\\"cast_id\\\": 4, \\\"character\\\": \\\"Paul\\\", \\\"credit_id\\\": \\\"52fe4349c3a36847f8048acf\\\", \\\"gender\\\": 2, \\\"id\\\": 11512, \\\"name\\\": \\\"John Heard\\\", \\\"order\\\": 3}, {\\\"cast_id\\\": 16, \\\"character\\\": \\\"Billy\\\", \\\"credit_id\\\": \\\"52fe4349c3a36847f8048b11\\\", \\\"gender\\\": 2, \\\"id\\\": 57422, \\\"name\\\": \\\"Jared Rushton\\\", \\\"order\\\": 4}, {\\\"cast_id\\\": 17, \\\"character\\\": \\\"Young Josh\\\", \\\"credit_id\\\": \\\"52fe4349c3a36847f8048b15\\\", \\\"gender\\\": 2, \\\"id\\\": 62123, \\\"name\\\": \\\"David Moscow\\\", \\\"order\\\": 5}, {\\\"cast_id\\\": 5, \\\"character\\\": \\\"Scotty Brennen\\\", \\\"credit_id\\\": \\\"52fe4349c3a36847f8048ad3\\\", \\\"gender\\\": 2, \\\"id\\\": 16165, \\\"name\\\": \\\"Jon Lovitz\\\", \\\"order\\\": 6}, {\\\"cast_id\\\": 6, \\\"character\\\": \\\"Mrs. Baskin\\\", \\\"credit_id\\\": \\\"52fe4349c3a36847f8048ad7\\\", \\\"gender\\\": 1, \\\"id\\\": 2167, \\\"name\\\": \\\"Mercedes Ruehl\\\", \\\"order\\\": 7}, {\\\"cast_id\\\": 18, \\\"character\\\": \\\"Mr. Baskin\\\", \\\"credit_id\\\": \\\"52fe4349c3a36847f8048b19\\\", \\\"gender\\\": 2, \\\"id\\\": 143205, \\\"name\\\": \\\"Josh Clark\\\", \\\"order\\\": 8}, {\\\"cast_id\\\": 22, \\\"character\\\": \\\"Gym Teacher\\\", \\\"credit_id\\\": \\\"52fe4349c3a36847f8048b29\\\", \\\"gender\\\": 2, \\\"id\\\": 123728, \\\"name\\\": \\\"Allan Wasserman\\\", \\\"order\\\": 9}, {\\\"cast_id\\\": 19, \\\"character\\\": \\\"Cynthia Benson\\\", \\\"credit_id\\\": \\\"52fe4349c3a36847f8048b1d\\\", \\\"gender\\\": 0, \\\"id\\\": 1073814, \\\"name\\\": \\\"Kimberlee M. Davis\\\", \\\"order\\\": 10}, {\\\"cast_id\\\": 20, \\\"character\\\": \\\"Freddie Benson\\\", \\\"credit_id\\\": \\\"52fe4349c3a36847f8048b21\\\", \\\"gender\\\": 0, \\\"id\\\": 1073816, \\\"name\\\": \\\"Oliver Block\\\", \\\"order\\\": 11}, {\\\"cast_id\\\": 21, \\\"character\\\": \\\"Cynthia's Friend\\\", \\\"credit_id\\\": \\\"52fe4349c3a36847f8048b25\\\", \\\"gender\\\": 0, \\\"id\\\": 80138, \\\"name\\\": \\\"Erika Katz\\\", \\\"order\\\": 12}, {\\\"cast_id\\\": 23, \\\"character\\\": \\\"Derek\\\", \\\"credit_id\\\": \\\"52fe4349c3a36847f8048b2d\\\", \\\"gender\\\": 2, \\\"id\\\": 166788, \\\"name\\\": \\\"Mark Ballou\\\", \\\"order\\\": 13}, {\\\"cast_id\\\": 24, \\\"character\\\": \\\"Ticket Taker\\\", \\\"credit_id\\\": \\\"52fe4349c3a36847f8048b31\\\", \\\"gender\\\": 0, \\\"id\\\": 994134, \\\"name\\\": \\\"Gary Howard Klar\\\", \\\"order\\\": 14}]\",\n          \"[{\\\"cast_id\\\": 3, \\\"character\\\": \\\"Richard O'Connell\\\", \\\"credit_id\\\": \\\"52fe4312c3a36847f8038407\\\", \\\"gender\\\": 2, \\\"id\\\": 18269, \\\"name\\\": \\\"Brendan Fraser\\\", \\\"order\\\": 0}, {\\\"cast_id\\\": 4, \\\"character\\\": \\\"Evelyn Carnahan O'Connell/Princess Nefertiri\\\", \\\"credit_id\\\": \\\"52fe4312c3a36847f803840b\\\", \\\"gender\\\": 1, \\\"id\\\": 3293, \\\"name\\\": \\\"Rachel Weisz\\\", \\\"order\\\": 1}, {\\\"cast_id\\\": 5, \\\"character\\\": \\\"Jonathan Carnahan\\\", \\\"credit_id\\\": \\\"52fe4312c3a36847f803840f\\\", \\\"gender\\\": 2, \\\"id\\\": 10727, \\\"name\\\": \\\"John Hannah\\\", \\\"order\\\": 2}, {\\\"cast_id\\\": 6, \\\"character\\\": \\\"High Priest Imhotep\\\", \\\"credit_id\\\": \\\"52fe4312c3a36847f8038413\\\", \\\"gender\\\": 2, \\\"id\\\": 16743, \\\"name\\\": \\\"Arnold Vosloo\\\", \\\"order\\\": 3}, {\\\"cast_id\\\": 7, \\\"character\\\": \\\"Ardeth Bay\\\", \\\"credit_id\\\": \\\"52fe4312c3a36847f8038417\\\", \\\"gender\\\": 2, \\\"id\\\": 18041, \\\"name\\\": \\\"Oded Fehr\\\", \\\"order\\\": 4}, {\\\"cast_id\\\": 8, \\\"character\\\": \\\"Mathayus the Scorpion King\\\", \\\"credit_id\\\": \\\"52fe4312c3a36847f803841b\\\", \\\"gender\\\": 2, \\\"id\\\": 18918, \\\"name\\\": \\\"Dwayne Johnson\\\", \\\"order\\\": 5}, {\\\"cast_id\\\": 9, \\\"character\\\": \\\"Alexander O'Connell\\\", \\\"credit_id\\\": \\\"52fe4312c3a36847f803841f\\\", \\\"gender\\\": 2, \\\"id\\\": 18919, \\\"name\\\": \\\"Freddie Boath\\\", \\\"order\\\": 6}, {\\\"cast_id\\\": 10, \\\"character\\\": \\\"Meela Nais/Anck Su Namun\\\", \\\"credit_id\\\": \\\"52fe4312c3a36847f8038423\\\", \\\"gender\\\": 1, \\\"id\\\": 18920, \\\"name\\\": \\\"Patricia Vel\\\\u00e1squez\\\", \\\"order\\\": 7}, {\\\"cast_id\\\": 17, \\\"character\\\": \\\"Baltus Hafez\\\", \\\"credit_id\\\": \\\"52fe4312c3a36847f803844b\\\", \\\"gender\\\": 2, \\\"id\\\": 2629, \\\"name\\\": \\\"Alun Armstrong\\\", \\\"order\\\": 8}, {\\\"cast_id\\\": 18, \\\"character\\\": \\\"Lock-Nah\\\", \\\"credit_id\\\": \\\"52fe4312c3a36847f803844f\\\", \\\"gender\\\": 2, \\\"id\\\": 31164, \\\"name\\\": \\\"Adewale Akinnuoye-Agbaje\\\", \\\"order\\\": 9}, {\\\"cast_id\\\": 19, \\\"character\\\": \\\"Izzy Buttons\\\", \\\"credit_id\\\": \\\"52fe4312c3a36847f8038453\\\", \\\"gender\\\": 2, \\\"id\\\": 30316, \\\"name\\\": \\\"Shaun Parkes\\\", \\\"order\\\": 10}, {\\\"cast_id\\\": 20, \\\"character\\\": \\\"Red\\\", \\\"credit_id\\\": \\\"52fe4312c3a36847f8038457\\\", \\\"gender\\\": 0, \\\"id\\\": 25675, \\\"name\\\": \\\"Bruce Byron\\\", \\\"order\\\": 11}, {\\\"cast_id\\\": 21, \\\"character\\\": \\\"Jacques\\\", \\\"credit_id\\\": \\\"52fe4312c3a36847f803845b\\\", \\\"gender\\\": 0, \\\"id\\\": 1010264, \\\"name\\\": \\\"Joe Dixon\\\", \\\"order\\\": 12}, {\\\"cast_id\\\": 22, \\\"character\\\": \\\"Spivey\\\", \\\"credit_id\\\": \\\"52fe4312c3a36847f803845f\\\", \\\"gender\\\": 2, \\\"id\\\": 208211, \\\"name\\\": \\\"Thomas Fisher\\\", \\\"order\\\": 13}, {\\\"cast_id\\\": 23, \\\"character\\\": \\\"Pharaoh Seti I\\\", \\\"credit_id\\\": \\\"52fe4312c3a36847f8038463\\\", \\\"gender\\\": 2, \\\"id\\\": 25808, \\\"name\\\": \\\"Aharon Ipal\\\\u00e9\\\", \\\"order\\\": 14}, {\\\"cast_id\\\": 24, \\\"character\\\": \\\"Shafek\\\", \\\"credit_id\\\": \\\"52fe4312c3a36847f8038467\\\", \\\"gender\\\": 0, \\\"id\\\": 178631, \\\"name\\\": \\\"Quill Roberts\\\", \\\"order\\\": 15}, {\\\"cast_id\\\": 25, \\\"character\\\": \\\"Showgirl with Jonathan\\\", \\\"credit_id\\\": \\\"52fe4312c3a36847f803846b\\\", \\\"gender\\\": 1, \\\"id\\\": 120886, \\\"name\\\": \\\"Donna Air\\\", \\\"order\\\": 16}, {\\\"cast_id\\\": 26, \\\"character\\\": \\\"Mountain of Flesh\\\", \\\"credit_id\\\": \\\"52fe4312c3a36847f803846f\\\", \\\"gender\\\": 0, \\\"id\\\": 1077874, \\\"name\\\": \\\"Trevor Lovell\\\", \\\"order\\\": 17}, {\\\"cast_id\\\": 30, \\\"character\\\": \\\"Spivey\\\", \\\"credit_id\\\": \\\"536222b20e0a2649a900146a\\\", \\\"gender\\\": 0, \\\"id\\\": 27678, \\\"name\\\": \\\"Tom Fisher\\\", \\\"order\\\": 18}]\",\n          \"[{\\\"cast_id\\\": 2, \\\"character\\\": \\\"Donna Keppel\\\", \\\"credit_id\\\": \\\"52fe44b0c3a36847f80a478f\\\", \\\"gender\\\": 1, \\\"id\\\": 29221, \\\"name\\\": \\\"Brittany Snow\\\", \\\"order\\\": 0}, {\\\"cast_id\\\": 3, \\\"character\\\": \\\"Bobby\\\", \\\"credit_id\\\": \\\"52fe44b0c3a36847f80a4793\\\", \\\"gender\\\": 2, \\\"id\\\": 53368, \\\"name\\\": \\\"Scott Porter\\\", \\\"order\\\": 1}, {\\\"cast_id\\\": 4, \\\"character\\\": \\\"Claire\\\", \\\"credit_id\\\": \\\"52fe44b0c3a36847f80a4797\\\", \\\"gender\\\": 1, \\\"id\\\": 55463, \\\"name\\\": \\\"Jessica Stroup\\\", \\\"order\\\": 2}, {\\\"cast_id\\\": 5, \\\"character\\\": \\\"Lisa Hines\\\", \\\"credit_id\\\": \\\"52fe44b0c3a36847f80a479b\\\", \\\"gender\\\": 1, \\\"id\\\": 39556, \\\"name\\\": \\\"Dana Davis\\\", \\\"order\\\": 3}, {\\\"cast_id\\\": 6, \\\"character\\\": \\\"Michael\\\", \\\"credit_id\\\": \\\"52fe44b0c3a36847f80a479f\\\", \\\"gender\\\": 2, \\\"id\\\": 55464, \\\"name\\\": \\\"Kelly Blatz\\\", \\\"order\\\": 4}, {\\\"cast_id\\\": 7, \\\"character\\\": \\\"Ronnie Heflin\\\", \\\"credit_id\\\": \\\"52fe44b0c3a36847f80a47a3\\\", \\\"gender\\\": 2, \\\"id\\\": 53652, \\\"name\\\": \\\"Collins Pennie\\\", \\\"order\\\": 5}, {\\\"cast_id\\\": 8, \\\"character\\\": \\\"Richard Fenton\\\", \\\"credit_id\\\": \\\"52fe44b0c3a36847f80a47a7\\\", \\\"gender\\\": 2, \\\"id\\\": 51670, \\\"name\\\": \\\"Johnathon Schaech\\\", \\\"order\\\": 6}, {\\\"cast_id\\\": 24, \\\"character\\\": \\\"Detective Winn\\\", \\\"credit_id\\\": \\\"52fe44b0c3a36847f80a47f3\\\", \\\"gender\\\": 2, \\\"id\\\": 17605, \\\"name\\\": \\\"Idris Elba\\\", \\\"order\\\": 7}, {\\\"cast_id\\\": 28, \\\"character\\\": \\\"Dr. Elisha Crowe\\\", \\\"credit_id\\\": \\\"52fe44b0c3a36847f80a4809\\\", \\\"gender\\\": 1, \\\"id\\\": 21702, \\\"name\\\": \\\"Ming-Na Wen\\\", \\\"order\\\": 8}, {\\\"cast_id\\\": 29, \\\"character\\\": \\\"Aunt Karen Turner\\\", \\\"credit_id\\\": \\\"52fe44b0c3a36847f80a480d\\\", \\\"gender\\\": 1, \\\"id\\\": 7523, \\\"name\\\": \\\"Jessalyn Gilsig\\\", \\\"order\\\": 9}, {\\\"cast_id\\\": 30, \\\"character\\\": \\\"Rick Leland\\\", \\\"credit_id\\\": \\\"53e94dbc0e0a2654fd000009\\\", \\\"gender\\\": 2, \\\"id\\\": 34502, \\\"name\\\": \\\"Kellan Lutz\\\", \\\"order\\\": 10}, {\\\"cast_id\\\": 31, \\\"character\\\": \\\"Detective Nash\\\", \\\"credit_id\\\": \\\"53e94e36c3a3687ffa00000e\\\", \\\"gender\\\": 2, \\\"id\\\": 5296, \\\"name\\\": \\\"James Ransone\\\", \\\"order\\\": 11}, {\\\"cast_id\\\": 32, \\\"character\\\": \\\"Ms. Waters\\\", \\\"credit_id\\\": \\\"53e94e940e0a2654fd00001e\\\", \\\"gender\\\": 1, \\\"id\\\": 96554, \\\"name\\\": \\\"Mary Mara\\\", \\\"order\\\": 12}, {\\\"cast_id\\\": 33, \\\"character\\\": \\\"Dancer\\\", \\\"credit_id\\\": \\\"56d207d7c3a3681e4400b3de\\\", \\\"gender\\\": 1, \\\"id\\\": 159913, \\\"name\\\": \\\"Allison Kyler\\\", \\\"order\\\": 13}, {\\\"cast_id\\\": 34, \\\"character\\\": \\\"Officer Hicks\\\", \\\"credit_id\\\": \\\"57dd7339925141784a00050e\\\", \\\"gender\\\": 2, \\\"id\\\": 66560, \\\"name\\\": \\\"Craig Susser\\\", \\\"order\\\": 14}, {\\\"cast_id\\\": 43, \\\"character\\\": \\\"Mrs. Hines\\\", \\\"credit_id\\\": \\\"58c7285fc3a3683dd7001c0d\\\", \\\"gender\\\": 0, \\\"id\\\": 155435, \\\"name\\\": \\\"Valeri Ross\\\", \\\"order\\\": 15}, {\\\"cast_id\\\": 44, \\\"character\\\": \\\"Crissy Lynn\\\", \\\"credit_id\\\": \\\"590c3264c3a36801c60092ea\\\", \\\"gender\\\": 1, \\\"id\\\": 115126, \\\"name\\\": \\\"Brianne Davis\\\", \\\"order\\\": 16}, {\\\"cast_id\\\": 45, \\\"character\\\": \\\"Uncle Jack Turner\\\", \\\"credit_id\\\": \\\"590c32f1c3a36801c60093a5\\\", \\\"gender\\\": 2, \\\"id\\\": 57251, \\\"name\\\": \\\"Linden Ashby\\\", \\\"order\\\": 17}, {\\\"cast_id\\\": 46, \\\"character\\\": \\\"April\\\", \\\"credit_id\\\": \\\"590c336c9251415a8b009abc\\\", \\\"gender\\\": 1, \\\"id\\\": 92856, \\\"name\\\": \\\"Jana Kramer\\\", \\\"order\\\": 18}, {\\\"cast_id\\\": 47, \\\"character\\\": \\\"Taylor\\\", \\\"credit_id\\\": \\\"590c33b49251415a67009232\\\", \\\"gender\\\": 1, \\\"id\\\": 88038, \\\"name\\\": \\\"Rachel Specter\\\", \\\"order\\\": 19}, {\\\"cast_id\\\": 48, \\\"character\\\": \\\"Mrs. Keppel\\\", \\\"credit_id\\\": \\\"590c340a9251415a5e0090fa\\\", \\\"gender\\\": 1, \\\"id\\\": 15010, \\\"name\\\": \\\"Lori Heuring\\\", \\\"order\\\": 20}, {\\\"cast_id\\\": 49, \\\"character\\\": \\\"DJ Tyler\\\", \\\"credit_id\\\": \\\"590c3499c3a3680148009300\\\", \\\"gender\\\": 0, \\\"id\\\": 1627987, \\\"name\\\": \\\"Jay Phillips\\\", \\\"order\\\": 21}, {\\\"cast_id\\\": 61, \\\"character\\\": \\\"Bellhop\\\", \\\"credit_id\\\": \\\"590c397a9251415a8b009fca\\\", \\\"gender\\\": 2, \\\"id\\\": 26852, \\\"name\\\": \\\"Joshua Leonard\\\", \\\"order\\\": 22}]\"\n        ],\n        \"semantic_type\": \"\",\n        \"description\": \"\"\n      }\n    },\n    {\n      \"column\": \"crew\",\n      \"properties\": {\n        \"dtype\": \"string\",\n        \"num_unique_values\": 4776,\n        \"samples\": [\n          \"[{\\\"credit_id\\\": \\\"538d82720e0a26670e005e83\\\", \\\"department\\\": \\\"Editing\\\", \\\"gender\\\": 2, \\\"id\\\": 898, \\\"job\\\": \\\"Editor\\\", \\\"name\\\": \\\"Mark Goldblatt\\\"}, {\\\"credit_id\\\": \\\"538d82860e0a266702005de5\\\", \\\"department\\\": \\\"Editing\\\", \\\"gender\\\": 2, \\\"id\\\": 1098, \\\"job\\\": \\\"Editor\\\", \\\"name\\\": \\\"Mark Helfrich\\\"}, {\\\"credit_id\\\": \\\"538d820c0e0a266708006129\\\", \\\"department\\\": \\\"Production\\\", \\\"gender\\\": 0, \\\"id\\\": 2095, \\\"job\\\": \\\"Producer\\\", \\\"name\\\": \\\"Ralph Winter\\\"}, {\\\"credit_id\\\": \\\"538d82d30e0a266712005def\\\", \\\"department\\\": \\\"Production\\\", \\\"gender\\\": 2, \\\"id\\\": 2624, \\\"job\\\": \\\"Casting\\\", \\\"name\\\": \\\"Richard Pagano\\\"}, {\\\"credit_id\\\": \\\"538d82ea0e0a266715005e74\\\", \\\"department\\\": \\\"Art\\\", \\\"gender\\\": 2, \\\"id\\\": 4953, \\\"job\\\": \\\"Production Design\\\", \\\"name\\\": \\\"Ed Verreaux\\\"}, {\\\"credit_id\\\": \\\"538d82ad0e0a26670800614d\\\", \\\"department\\\": \\\"Production\\\", \\\"gender\\\": 1, \\\"id\\\": 5362, \\\"job\\\": \\\"Casting\\\", \\\"name\\\": \\\"Heike Brandstatter\\\"}, {\\\"credit_id\\\": \\\"538d82c00e0a266705005fa2\\\", \\\"department\\\": \\\"Production\\\", \\\"gender\\\": 1, \\\"id\\\": 5363, \\\"job\\\": \\\"Casting\\\", \\\"name\\\": \\\"Coreen Mayrs\\\"}, {\\\"credit_id\\\": \\\"538d845ec3a368713c0047d2\\\", \\\"department\\\": \\\"Costume & Make-Up\\\", \\\"gender\\\": 0, \\\"id\\\": 6924, \\\"job\\\": \\\"Costume Supervisor\\\", \\\"name\\\": \\\"Dan Moore\\\"}, {\\\"credit_id\\\": \\\"538d81ef0e0a266718005cb8\\\", \\\"department\\\": \\\"Production\\\", \\\"gender\\\": 1, \\\"id\\\": 7200, \\\"job\\\": \\\"Producer\\\", \\\"name\\\": \\\"Lauren Shuler Donner\\\"}, {\\\"credit_id\\\": \\\"576710bec3a36806720004b0\\\", \\\"department\\\": \\\"Production\\\", \\\"gender\\\": 2, \\\"id\\\": 7624, \\\"job\\\": \\\"Executive Producer\\\", \\\"name\\\": \\\"Stan Lee\\\"}, {\\\"credit_id\\\": \\\"538d81d80e0a266715005e4d\\\", \\\"department\\\": \\\"Production\\\", \\\"gender\\\": 2, \\\"id\\\": 7626, \\\"job\\\": \\\"Producer\\\", \\\"name\\\": \\\"Avi Arad\\\"}, {\\\"credit_id\\\": \\\"5767101092514165c20000db\\\", \\\"department\\\": \\\"Production\\\", \\\"gender\\\": 2, \\\"id\\\": 10850, \\\"job\\\": \\\"Executive Producer\\\", \\\"name\\\": \\\"Kevin Feige\\\"}, {\\\"credit_id\\\": \\\"538d83ba0e0a26670b005ded\\\", \\\"department\\\": \\\"Costume & Make-Up\\\", \\\"gender\\\": 1, \\\"id\\\": 10970, \\\"job\\\": \\\"Costume Design\\\", \\\"name\\\": \\\"Judianna Makovsky\\\"}, {\\\"credit_id\\\": \\\"538d83620e0a266715005e82\\\", \\\"department\\\": \\\"Art\\\", \\\"gender\\\": 2, \\\"id\\\": 10549, \\\"job\\\": \\\"Art Direction\\\", \\\"name\\\": \\\"Justin Scoppa Jr.\\\"}, {\\\"credit_id\\\": \\\"5626465bc3a3680e0e01704b\\\", \\\"department\\\": \\\"Sound\\\", \\\"gender\\\": 2, \\\"id\\\": 11098, \\\"job\\\": \\\"Original Music Composer\\\", \\\"name\\\": \\\"John Powell\\\"}, {\\\"credit_id\\\": \\\"52fe45ff9251416c910459e1\\\", \\\"department\\\": \\\"Writing\\\", \\\"gender\\\": 2, \\\"id\\\": 11092, \\\"job\\\": \\\"Screenplay\\\", \\\"name\\\": \\\"Simon Kinberg\\\"}, {\\\"credit_id\\\": \\\"56abe4ecc3a3681c47003aa3\\\", \\\"department\\\": \\\"Crew\\\", \\\"gender\\\": 2, \\\"id\\\": 15017, \\\"job\\\": \\\"Makeup Effects\\\", \\\"name\\\": \\\"Bill Corso\\\"}, {\\\"credit_id\\\": \\\"538d82560e0a266705005f94\\\", \\\"department\\\": \\\"Camera\\\", \\\"gender\\\": 2, \\\"id\\\": 11099, \\\"job\\\": \\\"Director of Photography\\\", \\\"name\\\": \\\"Dante Spinotti\\\"}, {\\\"credit_id\\\": \\\"52fe45ff9251416c910459e7\\\", \\\"department\\\": \\\"Writing\\\", \\\"gender\\\": 2, \\\"id\\\": 11011, \\\"job\\\": \\\"Screenplay\\\", \\\"name\\\": \\\"Zak Penn\\\"}, {\\\"credit_id\\\": \\\"52fe45ff9251416c910459db\\\", \\\"department\\\": \\\"Directing\\\", \\\"gender\\\": 2, \\\"id\\\": 11091, \\\"job\\\": \\\"Director\\\", \\\"name\\\": \\\"Brett Ratner\\\"}, {\\\"credit_id\\\": \\\"538d834f0e0a266712005dfe\\\", \\\"department\\\": \\\"Art\\\", \\\"gender\\\": 1, \\\"id\\\": 22061, \\\"job\\\": \\\"Art Direction\\\", \\\"name\\\": \\\"Helen Jarvis\\\"}, {\\\"credit_id\\\": \\\"538d83a50e0a266715005e8b\\\", \\\"department\\\": \\\"Art\\\", \\\"gender\\\": 1, \\\"id\\\": 11021, \\\"job\\\": \\\"Set Decoration\\\", \\\"name\\\": \\\"Elizabeth Wilcox\\\"}, {\\\"credit_id\\\": \\\"538d83220e0a266702005df6\\\", \\\"department\\\": \\\"Art\\\", \\\"gender\\\": 0, \\\"id\\\": 11102, \\\"job\\\": \\\"Art Direction\\\", \\\"name\\\": \\\"Chad S. Frey\\\"}, {\\\"credit_id\\\": \\\"570b8dde9251412c740020d0\\\", \\\"department\\\": \\\"Art\\\", \\\"gender\\\": 0, \\\"id\\\": 46082, \\\"job\\\": \\\"Supervising Art Director\\\", \\\"name\\\": \\\"Geoff Hubbard\\\"}, {\\\"credit_id\\\": \\\"538d83ce0e0a266702005e02\\\", \\\"department\\\": \\\"Costume & Make-Up\\\", \\\"gender\\\": 2, \\\"id\\\": 11106, \\\"job\\\": \\\"Costume Design\\\", \\\"name\\\": \\\"Lisa Tomczeszyn\\\"}, {\\\"credit_id\\\": \\\"560046499251414e4d000197\\\", \\\"department\\\": \\\"Crew\\\", \\\"gender\\\": 0, \\\"id\\\": 113194, \\\"job\\\": \\\"Stunts\\\", \\\"name\\\": \\\"James Bamford\\\"}, {\\\"credit_id\\\": \\\"538d82990e0a266712005de9\\\", \\\"department\\\": \\\"Editing\\\", \\\"gender\\\": 1, \\\"id\\\": 11100, \\\"job\\\": \\\"Editor\\\", \\\"name\\\": \\\"Julia Wong\\\"}, {\\\"credit_id\\\": \\\"57671042c3a36806b3000104\\\", \\\"department\\\": \\\"Production\\\", \\\"gender\\\": 2, \\\"id\\\": 11095, \\\"job\\\": \\\"Co-Producer\\\", \\\"name\\\": \\\"James M. Freitag\\\"}, {\\\"credit_id\\\": \\\"57670fdbc3a3680722000106\\\", \\\"department\\\": \\\"Production\\\", \\\"gender\\\": 2, \\\"id\\\": 11014, \\\"job\\\": \\\"Co-Producer\\\", \\\"name\\\": \\\"Ross Fanger\\\"}, {\\\"credit_id\\\": \\\"538d83750e0a26670b005de5\\\", \\\"department\\\": \\\"Art\\\", \\\"gender\\\": 0, \\\"id\\\": 223991, \\\"job\\\": \\\"Art Direction\\\", \\\"name\\\": \\\"Sandi Tanaka\\\"}, {\\\"credit_id\\\": \\\"576710f192514133c5001213\\\", \\\"department\\\": \\\"Production\\\", \\\"gender\\\": 0, \\\"id\\\": 1182092, \\\"job\\\": \\\"Executive Producer\\\", \\\"name\\\": \\\"John Palermo\\\"}, {\\\"credit_id\\\": \\\"55402d2fc3a3681da0000633\\\", \\\"department\\\": \\\"Visual Effects\\\", \\\"gender\\\": 0, \\\"id\\\": 1395269, \\\"job\\\": \\\"Visual Effects Supervisor\\\", \\\"name\\\": \\\"John Bruno\\\"}, {\\\"credit_id\\\": \\\"563a9ed79251416d520145a0\\\", \\\"department\\\": \\\"Crew\\\", \\\"gender\\\": 0, \\\"id\\\": 1401803, \\\"job\\\": \\\"Digital Effects Supervisor\\\", \\\"name\\\": \\\"Guy Williams\\\"}, {\\\"credit_id\\\": \\\"5767112fc3a3680722000132\\\", \\\"department\\\": \\\"Production\\\", \\\"gender\\\": 0, \\\"id\\\": 1432021, \\\"job\\\": \\\"Co-Producer\\\", \\\"name\\\": \\\"Kurt Williams\\\"}, {\\\"credit_id\\\": \\\"55423048c3a36829e5003bc8\\\", \\\"department\\\": \\\"Crew\\\", \\\"gender\\\": 0, \\\"id\\\": 1447557, \\\"job\\\": \\\"Compositors\\\", \\\"name\\\": \\\"Rachel Wyn Dunn\\\"}, {\\\"credit_id\\\": \\\"552986b4c3a368596e001a79\\\", \\\"department\\\": \\\"Visual Effects\\\", \\\"gender\\\": 0, \\\"id\\\": 1452932, \\\"job\\\": \\\"Animation\\\", \\\"name\\\": \\\"Joel Fletcher\\\"}, {\\\"credit_id\\\": \\\"57670f92925141655a000109\\\", \\\"department\\\": \\\"Production\\\", \\\"gender\\\": 0, \\\"id\\\": 1477146, \\\"job\\\": \\\"Co-Producer\\\", \\\"name\\\": \\\"Lee Cleary\\\"}, {\\\"credit_id\\\": \\\"5767107c925141655a00012c\\\", \\\"department\\\": \\\"Production\\\", \\\"gender\\\": 0, \\\"id\\\": 1477147, \\\"job\\\": \\\"Associate Producer\\\", \\\"name\\\": \\\"David Gorder\\\"}, {\\\"credit_id\\\": \\\"5767105bc3a36850c4000573\\\", \\\"department\\\": \\\"Production\\\", \\\"gender\\\": 2, \\\"id\\\": 1477203, \\\"job\\\": \\\"Associate Producer\\\", \\\"name\\\": \\\"Luca Marco Paracels\\\"}]\",\n          \"[{\\\"credit_id\\\": \\\"58dd0e90c3a368223e00b59c\\\", \\\"department\\\": \\\"Production\\\", \\\"gender\\\": 1, \\\"id\\\": 546, \\\"job\\\": \\\"Casting\\\", \\\"name\\\": \\\"Jeanne McCarthy\\\"}, {\\\"credit_id\\\": \\\"52fe43bb9251416c7501bf83\\\", \\\"department\\\": \\\"Production\\\", \\\"gender\\\": 2, \\\"id\\\": 2043, \\\"job\\\": \\\"Producer\\\", \\\"name\\\": \\\"John Davis\\\"}, {\\\"credit_id\\\": \\\"5539fe35c3a3685cf8002f1e\\\", \\\"department\\\": \\\"Sound\\\", \\\"gender\\\": 2, \\\"id\\\": 3393, \\\"job\\\": \\\"Original Music Composer\\\", \\\"name\\\": \\\"David Newman\\\"}, {\\\"credit_id\\\": \\\"58dd0d3fc3a368228a00aa50\\\", \\\"department\\\": \\\"Production\\\", \\\"gender\\\": 0, \\\"id\\\": 6187, \\\"job\\\": \\\"Associate Producer\\\", \\\"name\\\": \\\"Aldric La'Auli Porter\\\"}, {\\\"credit_id\\\": \\\"5990427f925141672302ba00\\\", \\\"department\\\": \\\"Directing\\\", \\\"gender\\\": 0, \\\"id\\\": 6187, \\\"job\\\": \\\"First Assistant Director\\\", \\\"name\\\": \\\"Aldric La'Auli Porter\\\"}, {\\\"credit_id\\\": \\\"58dd0efdc3a368228300b438\\\", \\\"department\\\": \\\"Art\\\", \\\"gender\\\": 2, \\\"id\\\": 6877, \\\"job\\\": \\\"Production Design\\\", \\\"name\\\": \\\"William Sandell\\\"}, {\\\"credit_id\\\": \\\"58dd0f56925141411000c340\\\", \\\"department\\\": \\\"Art\\\", \\\"gender\\\": 2, \\\"id\\\": 6880, \\\"job\\\": \\\"Set Decoration\\\", \\\"name\\\": \\\"Robert Gould\\\"}, {\\\"credit_id\\\": \\\"58dd0f1fc3a36822a600c1dd\\\", \\\"department\\\": \\\"Art\\\", \\\"gender\\\": 2, \\\"id\\\": 8705, \\\"job\\\": \\\"Art Direction\\\", \\\"name\\\": \\\"Brad Ricker\\\"}, {\\\"credit_id\\\": \\\"5990490b925141673e02d2f5\\\", \\\"department\\\": \\\"Sound\\\", \\\"gender\\\": 0, \\\"id\\\": 8763, \\\"job\\\": \\\"Foley Editor\\\", \\\"name\\\": \\\"Dan Yale\\\"}, {\\\"credit_id\\\": \\\"58dd0d3192514140f600b915\\\", \\\"department\\\": \\\"Production\\\", \\\"gender\\\": 2, \\\"id\\\": 8880, \\\"job\\\": \\\"Executive Producer\\\", \\\"name\\\": \\\"Neil A. Machlis\\\"}, {\\\"credit_id\\\": \\\"58dd0e0bc3a368229300bdf6\\\", \\\"department\\\": \\\"Production\\\", \\\"gender\\\": 1, \\\"id\\\": 14377, \\\"job\\\": \\\"Casting\\\", \\\"name\\\": \\\"Juel Bestrop\\\"}, {\\\"credit_id\\\": \\\"599045b6925141672302bdac\\\", \\\"department\\\": \\\"Art\\\", \\\"gender\\\": 0, \\\"id\\\": 12639, \\\"job\\\": \\\"Set Designer\\\", \\\"name\\\": \\\"Hugo Santiago\\\"}, {\\\"credit_id\\\": \\\"58dd0f69c3a368228300b48f\\\", \\\"department\\\": \\\"Costume & Make-Up\\\", \\\"gender\\\": 1, \\\"id\\\": 15524, \\\"job\\\": \\\"Costume Design\\\", \\\"name\\\": \\\"Ruth E. Carter\\\"}, {\\\"credit_id\\\": \\\"52fe43bb9251416c7501bf9b\\\", \\\"department\\\": \\\"Editing\\\", \\\"gender\\\": 2, \\\"id\\\": 18276, \\\"job\\\": \\\"Editor\\\", \\\"name\\\": \\\"Craig Herring\\\"}, {\\\"credit_id\\\": \\\"58dd0f2f92514140fa00c653\\\", \\\"department\\\": \\\"Art\\\", \\\"gender\\\": 2, \\\"id\\\": 13434, \\\"job\\\": \\\"Supervising Art Director\\\", \\\"name\\\": \\\"Bruce Crone\\\"}, {\\\"credit_id\\\": \\\"59904bcdc3a368744202b9fb\\\", \\\"department\\\": \\\"Visual Effects\\\", \\\"gender\\\": 0, \\\"id\\\": 27100, \\\"job\\\": \\\"Visual Effects Supervisor\\\", \\\"name\\\": \\\"Douglas Smith\\\"}, {\\\"credit_id\\\": \\\"52fe43bb9251416c7501bf7d\\\", \\\"department\\\": \\\"Writing\\\", \\\"gender\\\": 2, \\\"id\\\": 31026, \\\"job\\\": \\\"Screenplay\\\", \\\"name\\\": \\\"Larry Levin\\\"}, {\\\"credit_id\\\": \\\"58dd0c8592514140fa00c441\\\", \\\"department\\\": \\\"Production\\\", \\\"gender\\\": 1, \\\"id\\\": 49907, \\\"job\\\": \\\"Co-Producer\\\", \\\"name\\\": \\\"Michele Imperato\\\"}, {\\\"credit_id\\\": \\\"58dd0fb0c3a368227300bfad\\\", \\\"department\\\": \\\"Production\\\", \\\"gender\\\": 1, \\\"id\\\": 49907, \\\"job\\\": \\\"Unit Production Manager\\\", \\\"name\\\": \\\"Michele Imperato\\\"}, {\\\"credit_id\\\": \\\"52fe43bb9251416c7501bfb1\\\", \\\"department\\\": \\\"Directing\\\", \\\"gender\\\": 2, \\\"id\\\": 52112, \\\"job\\\": \\\"Director\\\", \\\"name\\\": \\\"Steve Carr\\\"}, {\\\"credit_id\\\": \\\"5990471cc3a36874a302bbdc\\\", \\\"department\\\": \\\"Sound\\\", \\\"gender\\\": 2, \\\"id\\\": 52193, \\\"job\\\": \\\"Dialogue Editor\\\", \\\"name\\\": \\\"R.J. Kizer\\\"}, {\\\"credit_id\\\": \\\"52fe43bb9251416c7501bf95\\\", \\\"department\\\": \\\"Camera\\\", \\\"gender\\\": 2, \\\"id\\\": 56324, \\\"job\\\": \\\"Director of Photography\\\", \\\"name\\\": \\\"Daryn Okada\\\"}, {\\\"credit_id\\\": \\\"52fe43bb9251416c7501bf89\\\", \\\"department\\\": \\\"Production\\\", \\\"gender\\\": 2, \\\"id\\\": 56053, \\\"job\\\": \\\"Producer\\\", \\\"name\\\": \\\"Joseph Singer\\\"}, {\\\"credit_id\\\": \\\"59904a06925141676602b701\\\", \\\"department\\\": \\\"Crew\\\", \\\"gender\\\": 2, \\\"id\\\": 57769, \\\"job\\\": \\\"Visual Effects Editor\\\", \\\"name\\\": \\\"Peter S. Elliot\\\"}, {\\\"credit_id\\\": \\\"58dd0d4c92514140fa00c4da\\\", \\\"department\\\": \\\"Production\\\", \\\"gender\\\": 1, \\\"id\\\": 66921, \\\"job\\\": \\\"Co-Producer\\\", \\\"name\\\": \\\"Heidi Santelli\\\"}, {\\\"credit_id\\\": \\\"59905155c3a36874b402a906\\\", \\\"department\\\": \\\"Sound\\\", \\\"gender\\\": 0, \\\"id\\\": 91324, \\\"job\\\": \\\"Music Editor\\\", \\\"name\\\": \\\"Tom Villano\\\"}, {\\\"credit_id\\\": \\\"5990424a925141676602adf3\\\", \\\"department\\\": \\\"Costume & Make-Up\\\", \\\"gender\\\": 0, \\\"id\\\": 168214, \\\"job\\\": \\\"Makeup Artist\\\", \\\"name\\\": \\\"Judy Murdock\\\"}, {\\\"credit_id\\\": \\\"59904eae925141673e02da30\\\", \\\"department\\\": \\\"Camera\\\", \\\"gender\\\": 2, \\\"id\\\": 555085, \\\"job\\\": \\\"Still Photographer\\\", \\\"name\\\": \\\"Bruce McBroom\\\"}, {\\\"credit_id\\\": \\\"599041d0c3a36874a302b5e9\\\", \\\"department\\\": \\\"Costume & Make-Up\\\", \\\"gender\\\": 0, \\\"id\\\": 1015965, \\\"job\\\": \\\"Makeup Department Head\\\", \\\"name\\\": \\\"Kris Evans\\\"}, {\\\"credit_id\\\": \\\"58dd11a2c3a368227300c14b\\\", \\\"department\\\": \\\"Production\\\", \\\"gender\\\": 0, \\\"id\\\": 1113659, \\\"job\\\": \\\"Location Manager\\\", \\\"name\\\": \\\"Iddo Lampton Enochs Jr.\\\"}, {\\\"credit_id\\\": \\\"59904b71925141675f02b7e7\\\", \\\"department\\\": \\\"Crew\\\", \\\"gender\\\": 0, \\\"id\\\": 1178615, \\\"job\\\": \\\"CG Supervisor\\\", \\\"name\\\": \\\"Liz Radley\\\"}, {\\\"credit_id\\\": \\\"59904fe5c3a368744202bf0c\\\", \\\"department\\\": \\\"Costume & Make-Up\\\", \\\"gender\\\": 0, \\\"id\\\": 1319193, \\\"job\\\": \\\"Costume Supervisor\\\", \\\"name\\\": \\\"Donna Marcione Pollack\\\"}, {\\\"credit_id\\\": \\\"599044c4925141672302bc97\\\", \\\"department\\\": \\\"Art\\\", \\\"gender\\\": 0, \\\"id\\\": 1364403, \\\"job\\\": \\\"Greensman\\\", \\\"name\\\": \\\"Frank McEldowney\\\"}, {\\\"credit_id\\\": \\\"59904694925141673e02cfd2\\\", \\\"department\\\": \\\"Sound\\\", \\\"gender\\\": 0, \\\"id\\\": 1367505, \\\"job\\\": \\\"Dialogue Editor\\\", \\\"name\\\": \\\"Ted Caplan\\\"}, {\\\"credit_id\\\": \\\"5990439d925141675902ac1b\\\", \\\"department\\\": \\\"Art\\\", \\\"gender\\\": 0, \\\"id\\\": 1377216, \\\"job\\\": \\\"Art Department Coordinator\\\", \\\"name\\\": \\\"Gerald Lehtola\\\"}, {\\\"credit_id\\\": \\\"599045fb925141675f02b16c\\\", \\\"department\\\": \\\"Art\\\", \\\"gender\\\": 0, \\\"id\\\": 1378165, \\\"job\\\": \\\"Property Master\\\", \\\"name\\\": \\\"Mark Wade\\\"}, {\\\"credit_id\\\": \\\"58dd0fd0c3a368228a00abfb\\\", \\\"department\\\": \\\"Art\\\", \\\"gender\\\": 1, \\\"id\\\": 1378749, \\\"job\\\": \\\"Set Designer\\\", \\\"name\\\": \\\"Patricia Klawonn\\\"}, {\\\"credit_id\\\": \\\"58dd1023c3a368227300c025\\\", \\\"department\\\": \\\"Art\\\", \\\"gender\\\": 0, \\\"id\\\": 1389585, \\\"job\\\": \\\"Set Designer\\\", \\\"name\\\": \\\"Bill Taliaferro\\\"}, {\\\"credit_id\\\": \\\"59904785c3a3687493029126\\\", \\\"department\\\": \\\"Sound\\\", \\\"gender\\\": 0, \\\"id\\\": 1390527, \\\"job\\\": \\\"Sound Effects Editor\\\", \\\"name\\\": \\\"Dave Kulczycki\\\"}, {\\\"credit_id\\\": \\\"59905010925141675f02bd38\\\", \\\"department\\\": \\\"Costume & Make-Up\\\", \\\"gender\\\": 0, \\\"id\\\": 1399322, \\\"job\\\": \\\"Set Costumer\\\", \\\"name\\\": \\\"Elizabeth Frank\\\"}, {\\\"credit_id\\\": \\\"59904d81925141670b02cf99\\\", \\\"department\\\": \\\"Camera\\\", \\\"gender\\\": 2, \\\"id\\\": 1400374, \\\"job\\\": \\\"Camera Operator\\\", \\\"name\\\": \\\"Casey Hotchkiss\\\"}, {\\\"credit_id\\\": \\\"599046d2c3a3687493029074\\\", \\\"department\\\": \\\"Sound\\\", \\\"gender\\\": 0, \\\"id\\\": 1404841, \\\"job\\\": \\\"ADR Editor\\\", \\\"name\\\": \\\"Zack Davis\\\"}, {\\\"credit_id\\\": \\\"59904214c3a368746102979f\\\", \\\"department\\\": \\\"Costume & Make-Up\\\", \\\"gender\\\": 0, \\\"id\\\": 1408278, \\\"job\\\": \\\"Hair Department Head\\\", \\\"name\\\": \\\"Erma Kent\\\"}, {\\\"credit_id\\\": \\\"599048b2925141670b02c97f\\\", \\\"department\\\": \\\"Sound\\\", \\\"gender\\\": 0, \\\"id\\\": 1416153, \\\"job\\\": \\\"Supervising Sound Editor\\\", \\\"name\\\": \\\"Donald Sylvester\\\"}, {\\\"credit_id\\\": \\\"59904ad6c3a36874b402a1cc\\\", \\\"department\\\": \\\"Visual Effects\\\", \\\"gender\\\": 0, \\\"id\\\": 1416167, \\\"job\\\": \\\"Visual Effects Producer\\\", \\\"name\\\": \\\"John Kilkenny\\\"}, {\\\"credit_id\\\": \\\"56ae7d849251416357002915\\\", \\\"department\\\": \\\"Costume & Make-Up\\\", \\\"gender\\\": 1, \\\"id\\\": 1424894, \\\"job\\\": \\\"Hairstylist\\\", \\\"name\\\": \\\"Camille Friend\\\"}, {\\\"credit_id\\\": \\\"599047ab925141674c02b48e\\\", \\\"department\\\": \\\"Sound\\\", \\\"gender\\\": 0, \\\"id\\\": 1425343, \\\"job\\\": \\\"ADR Editor\\\", \\\"name\\\": \\\"Vanessa Lapato\\\"}, {\\\"credit_id\\\": \\\"59904951925141673902ae4e\\\", \\\"department\\\": \\\"Crew\\\", \\\"gender\\\": 0, \\\"id\\\": 1442509, \\\"job\\\": \\\"Special Effects Coordinator\\\", \\\"name\\\": \\\"Alan E. Lorimer\\\"}, {\\\"credit_id\\\": \\\"59904427925141675902acc6\\\", \\\"department\\\": \\\"Art\\\", \\\"gender\\\": 0, \\\"id\\\": 1451398, \\\"job\\\": \\\"Greensman\\\", \\\"name\\\": \\\"Bryan McBrien\\\"}, {\\\"credit_id\\\": \\\"59904629c3a368744202b2d6\\\", \\\"department\\\": \\\"Art\\\", \\\"gender\\\": 0, \\\"id\\\": 1453276, \\\"job\\\": \\\"Construction Coordinator\\\", \\\"name\\\": \\\"Butch West\\\"}, {\\\"credit_id\\\": \\\"599034bcc3a3687493027d17\\\", \\\"department\\\": \\\"Crew\\\", \\\"gender\\\": 2, \\\"id\\\": 1454647, \\\"job\\\": \\\"Creator\\\", \\\"name\\\": \\\"Hugh Lofting\\\"}, {\\\"credit_id\\\": \\\"58dd11f1c3a36822ae00bc75\\\", \\\"department\\\": \\\"Directing\\\", \\\"gender\\\": 1, \\\"id\\\": 1457729, \\\"job\\\": \\\"Script Supervisor\\\", \\\"name\\\": \\\"Nancy Karlin\\\"}, {\\\"credit_id\\\": \\\"59904a8d925141675f02b6d8\\\", \\\"department\\\": \\\"Visual Effects\\\", \\\"gender\\\": 0, \\\"id\\\": 1496418, \\\"job\\\": \\\"Visual Effects Coordinator\\\", \\\"name\\\": \\\"Mitchell Ferm\\\"}, {\\\"credit_id\\\": \\\"599050e6925141674c02beef\\\", \\\"department\\\": \\\"Sound\\\", \\\"gender\\\": 2, \\\"id\\\": 1550058, \\\"job\\\": \\\"Music Editor\\\", \\\"name\\\": \\\"Jim Harrison\\\"}, {\\\"credit_id\\\": \\\"58dd11b0c3a368223e00b7db\\\", \\\"department\\\": \\\"Art\\\", \\\"gender\\\": 0, \\\"id\\\": 1585159, \\\"job\\\": \\\"Location Scout\\\", \\\"name\\\": \\\"Jasan Sherman\\\"}, {\\\"credit_id\\\": \\\"5990453a925141673902a8ec\\\", \\\"department\\\": \\\"Art\\\", \\\"gender\\\": 0, \\\"id\\\": 1586888, \\\"job\\\": \\\"Sculptor\\\", \\\"name\\\": \\\"Thomas Meikle\\\"}, {\\\"credit_id\\\": \\\"5990506dc3a368747302c6e3\\\", \\\"department\\\": \\\"Sound\\\", \\\"gender\\\": 0, \\\"id\\\": 1587383, \\\"job\\\": \\\"Music Supervisor\\\", \\\"name\\\": \\\"Spring Aspers\\\"}, {\\\"credit_id\\\": \\\"59904fbb925141672302c9ed\\\", \\\"department\\\": \\\"Costume & Make-Up\\\", \\\"gender\\\": 0, \\\"id\\\": 1610228, \\\"job\\\": \\\"Key Costumer\\\", \\\"name\\\": \\\"Craig Anthony\\\"}, {\\\"credit_id\\\": \\\"599047e3925141674c02b4cf\\\", \\\"department\\\": \\\"Sound\\\", \\\"gender\\\": 2, \\\"id\\\": 1737829, \\\"job\\\": \\\"Boom Operator\\\", \\\"name\\\": \\\"Harrison D. Marsh\\\"}, {\\\"credit_id\\\": \\\"58dd10b2c3a368228300b588\\\", \\\"department\\\": \\\"Production\\\", \\\"gender\\\": 1, \\\"id\\\": 1763970, \\\"job\\\": \\\"Casting Assistant\\\", \\\"name\\\": \\\"Nadia Lubbe Simon\\\"}, {\\\"credit_id\\\": \\\"58dd1052925141413c00beac\\\", \\\"department\\\": \\\"Production\\\", \\\"gender\\\": 1, \\\"id\\\": 1786614, \\\"job\\\": \\\"Casting Associate\\\", \\\"name\\\": \\\"Diana Jaher\\\"}, {\\\"credit_id\\\": \\\"58dd11d5c3a368229d00b6a0\\\", \\\"department\\\": \\\"Production\\\", \\\"gender\\\": 0, \\\"id\\\": 1786616, \\\"job\\\": \\\"Location Manager\\\", \\\"name\\\": \\\"Craig W. van Gundy\\\"}, {\\\"credit_id\\\": \\\"58dd1254c3a368227300c1e6\\\", \\\"department\\\": \\\"Production\\\", \\\"gender\\\": 1, \\\"id\\\": 1786618, \\\"job\\\": \\\"Production Coordinator\\\", \\\"name\\\": \\\"Kris Fullan Martinez\\\"}, {\\\"credit_id\\\": \\\"599042f4c3a368744202aefa\\\", \\\"department\\\": \\\"Art\\\", \\\"gender\\\": 0, \\\"id\\\": 1868861, \\\"job\\\": \\\"Painter\\\", \\\"name\\\": \\\"Joe A. Hawthorne\\\"}, {\\\"credit_id\\\": \\\"5990448e925141675f02afa7\\\", \\\"department\\\": \\\"Crew\\\", \\\"gender\\\": 0, \\\"id\\\": 1868865, \\\"job\\\": \\\"Propmaker\\\", \\\"name\\\": \\\"Robert McDonald\\\"}, {\\\"credit_id\\\": \\\"59904571925141670b02c572\\\", \\\"department\\\": \\\"Crew\\\", \\\"gender\\\": 0, \\\"id\\\": 1868867, \\\"job\\\": \\\"Propmaker\\\", \\\"name\\\": \\\"Robert Prchal\\\"}, {\\\"credit_id\\\": \\\"599045da925141673902a9d7\\\", \\\"department\\\": \\\"Crew\\\", \\\"gender\\\": 0, \\\"id\\\": 1868868, \\\"job\\\": \\\"Propmaker\\\", \\\"name\\\": \\\"Hal Schlax\\\"}, {\\\"credit_id\\\": \\\"59904c34925141675f02b8bc\\\", \\\"department\\\": \\\"Crew\\\", \\\"gender\\\": 2, \\\"id\\\": 1868877, \\\"job\\\": \\\"Stunt Coordinator\\\", \\\"name\\\": \\\"John Molo\\\"}, {\\\"credit_id\\\": \\\"59904cac925141673e02d7a8\\\", \\\"department\\\": \\\"Camera\\\", \\\"gender\\\": 0, \\\"id\\\": 1868878, \\\"job\\\": \\\"Camera Operator\\\", \\\"name\\\": \\\"Todd Dos Reis\\\"}, {\\\"credit_id\\\": \\\"59904d04925141676602ba9a\\\", \\\"department\\\": \\\"Camera\\\", \\\"gender\\\": 0, \\\"id\\\": 1868879, \\\"job\\\": \\\"Dolly Grip\\\", \\\"name\\\": \\\"Jason D. Hodges\\\"}, {\\\"credit_id\\\": \\\"59904d3bc3a36874b402a4b0\\\", \\\"department\\\": \\\"Camera\\\", \\\"gender\\\": 0, \\\"id\\\": 1868880, \\\"job\\\": \\\"Key Grip\\\", \\\"name\\\": \\\"Mike Hodges\\\"}, {\\\"credit_id\\\": \\\"59904df0925141672302c7da\\\", \\\"department\\\": \\\"Lighting\\\", \\\"gender\\\": 0, \\\"id\\\": 1868881, \\\"job\\\": \\\"Gaffer\\\", \\\"name\\\": \\\"Kal Manning\\\"}, {\\\"credit_id\\\": \\\"59904ede925141675f02bbe6\\\", \\\"department\\\": \\\"Camera\\\", \\\"gender\\\": 0, \\\"id\\\": 1868889, \\\"job\\\": \\\"Dolly Grip\\\", \\\"name\\\": \\\"Larry McCarron\\\"}, {\\\"credit_id\\\": \\\"59905109925141673e02dcde\\\", \\\"department\\\": \\\"Sound\\\", \\\"gender\\\": 0, \\\"id\\\": 1868892, \\\"job\\\": \\\"Music Editor\\\", \\\"name\\\": \\\"Kim Strand\\\"}]\",\n          \"[{\\\"credit_id\\\": \\\"52fe44479251416c7502f0c3\\\", \\\"department\\\": \\\"Sound\\\", \\\"gender\\\": 2, \\\"id\\\": 20953, \\\"job\\\": \\\"Original Music Composer\\\", \\\"name\\\": \\\"Harry Manfredini\\\"}, {\\\"credit_id\\\": \\\"534a8875c3a3682df60016a4\\\", \\\"department\\\": \\\"Production\\\", \\\"gender\\\": 0, \\\"id\\\": 23545, \\\"job\\\": \\\"Casting\\\", \\\"name\\\": \\\"Robin D. Cook\\\"}, {\\\"credit_id\\\": \\\"52fe44479251416c7502f0ed\\\", \\\"department\\\": \\\"Production\\\", \\\"gender\\\": 2, \\\"id\\\": 35475, \\\"job\\\": \\\"Executive Producer\\\", \\\"name\\\": \\\"Sean S. Cunningham\\\"}, {\\\"credit_id\\\": \\\"52fe44479251416c7502f0cf\\\", \\\"department\\\": \\\"Camera\\\", \\\"gender\\\": 2, \\\"id\\\": 55642, \\\"job\\\": \\\"Director of Photography\\\", \\\"name\\\": \\\"Derick V. Underschultz\\\"}, {\\\"credit_id\\\": \\\"52fe44479251416c7502f0b7\\\", \\\"department\\\": \\\"Writing\\\", \\\"gender\\\": 2, \\\"id\\\": 61117, \\\"job\\\": \\\"Screenplay\\\", \\\"name\\\": \\\"Todd Farmer\\\"}, {\\\"credit_id\\\": \\\"52fe44479251416c7502f0c9\\\", \\\"department\\\": \\\"Editing\\\", \\\"gender\\\": 2, \\\"id\\\": 64748, \\\"job\\\": \\\"Editor\\\", \\\"name\\\": \\\"David Handman\\\"}, {\\\"credit_id\\\": \\\"52fe44479251416c7502f0b1\\\", \\\"department\\\": \\\"Directing\\\", \\\"gender\\\": 2, \\\"id\\\": 69579, \\\"job\\\": \\\"Director\\\", \\\"name\\\": \\\"James Isaac\\\"}, {\\\"credit_id\\\": \\\"52fe44479251416c7502f0bd\\\", \\\"department\\\": \\\"Production\\\", \\\"gender\\\": 2, \\\"id\\\": 69585, \\\"job\\\": \\\"Producer\\\", \\\"name\\\": \\\"Noel Cunningham\\\"}, {\\\"credit_id\\\": \\\"534a888cc3a3682df60016a8\\\", \\\"department\\\": \\\"Costume & Make-Up\\\", \\\"gender\\\": 0, \\\"id\\\": 958703, \\\"job\\\": \\\"Costume Design\\\", \\\"name\\\": \\\"Maxyne Baker\\\"}]\"\n        ],\n        \"semantic_type\": \"\",\n        \"description\": \"\"\n      }\n    }\n  ]\n}"
            }
          },
          "metadata": {},
          "execution_count": 128
        }
      ]
    },
    {
      "cell_type": "code",
      "source": [
        "credits.head(1)['cast'].values"
      ],
      "metadata": {
        "id": "miM-TxydcFXA"
      },
      "execution_count": null,
      "outputs": []
    },
    {
      "cell_type": "code",
      "source": [
        "movies=movies.merge(credits,on='title')"
      ],
      "metadata": {
        "id": "MsptSlPLdJDu"
      },
      "execution_count": null,
      "outputs": []
    },
    {
      "cell_type": "code",
      "source": [
        "existing_columns = movies.columns\n",
        "existing_columns"
      ],
      "metadata": {
        "colab": {
          "base_uri": "https://localhost:8080/"
        },
        "id": "Gn588osRlFVY",
        "outputId": "2ba9246e-cf33-4ea4-d8e0-26d24b8af7ad"
      },
      "execution_count": null,
      "outputs": [
        {
          "output_type": "execute_result",
          "data": {
            "text/plain": [
              "Index(['budget', 'genres', 'homepage', 'id', 'keywords', 'original_language',\n",
              "       'original_title', 'overview', 'popularity', 'production_companies',\n",
              "       'production_countries', 'release_date', 'revenue', 'runtime',\n",
              "       'spoken_languages', 'status', 'tagline', 'title', 'vote_average',\n",
              "       'vote_count', 'movie_id', 'cast', 'crew'],\n",
              "      dtype='object')"
            ]
          },
          "metadata": {},
          "execution_count": 131
        }
      ]
    },
    {
      "cell_type": "code",
      "source": [
        "movies.head(1)"
      ],
      "metadata": {
        "colab": {
          "base_uri": "https://localhost:8080/",
          "height": 217
        },
        "id": "hMYvJS7AmhBa",
        "outputId": "3e36d336-a4e4-4c92-d159-e22cb0cc5b46"
      },
      "execution_count": null,
      "outputs": [
        {
          "output_type": "execute_result",
          "data": {
            "text/plain": [
              "      budget                                             genres  \\\n",
              "0  237000000  [{\"id\": 28, \"name\": \"Action\"}, {\"id\": 12, \"nam...   \n",
              "\n",
              "                      homepage       id  \\\n",
              "0  http://www.avatarmovie.com/  19995.0   \n",
              "\n",
              "                                            keywords original_language  \\\n",
              "0  [{\"id\": 1463, \"name\": \"culture clash\"}, {\"id\":...                en   \n",
              "\n",
              "  original_title                                           overview  \\\n",
              "0         Avatar  In the 22nd century, a paraplegic Marine is di...   \n",
              "\n",
              "   popularity                               production_companies  ... runtime  \\\n",
              "0  150.437577  [{\"name\": \"Ingenious Film Partners\", \"id\": 289...  ...   162.0   \n",
              "\n",
              "                                    spoken_languages    status  \\\n",
              "0  [{\"iso_639_1\": \"en\", \"name\": \"English\"}, {\"iso...  Released   \n",
              "\n",
              "                       tagline   title vote_average vote_count movie_id  \\\n",
              "0  Enter the World of Pandora.  Avatar          7.2    11800.0    19995   \n",
              "\n",
              "                                                cast  \\\n",
              "0  [{\"cast_id\": 242, \"character\": \"Jake Sully\", \"...   \n",
              "\n",
              "                                                crew  \n",
              "0  [{\"credit_id\": \"52fe48009251416c750aca23\", \"de...  \n",
              "\n",
              "[1 rows x 23 columns]"
            ],
            "text/html": [
              "\n",
              "  <div id=\"df-a493a02f-09f6-49dc-9d54-da3120a307f9\" class=\"colab-df-container\">\n",
              "    <div>\n",
              "<style scoped>\n",
              "    .dataframe tbody tr th:only-of-type {\n",
              "        vertical-align: middle;\n",
              "    }\n",
              "\n",
              "    .dataframe tbody tr th {\n",
              "        vertical-align: top;\n",
              "    }\n",
              "\n",
              "    .dataframe thead th {\n",
              "        text-align: right;\n",
              "    }\n",
              "</style>\n",
              "<table border=\"1\" class=\"dataframe\">\n",
              "  <thead>\n",
              "    <tr style=\"text-align: right;\">\n",
              "      <th></th>\n",
              "      <th>budget</th>\n",
              "      <th>genres</th>\n",
              "      <th>homepage</th>\n",
              "      <th>id</th>\n",
              "      <th>keywords</th>\n",
              "      <th>original_language</th>\n",
              "      <th>original_title</th>\n",
              "      <th>overview</th>\n",
              "      <th>popularity</th>\n",
              "      <th>production_companies</th>\n",
              "      <th>...</th>\n",
              "      <th>runtime</th>\n",
              "      <th>spoken_languages</th>\n",
              "      <th>status</th>\n",
              "      <th>tagline</th>\n",
              "      <th>title</th>\n",
              "      <th>vote_average</th>\n",
              "      <th>vote_count</th>\n",
              "      <th>movie_id</th>\n",
              "      <th>cast</th>\n",
              "      <th>crew</th>\n",
              "    </tr>\n",
              "  </thead>\n",
              "  <tbody>\n",
              "    <tr>\n",
              "      <th>0</th>\n",
              "      <td>237000000</td>\n",
              "      <td>[{\"id\": 28, \"name\": \"Action\"}, {\"id\": 12, \"nam...</td>\n",
              "      <td>http://www.avatarmovie.com/</td>\n",
              "      <td>19995.0</td>\n",
              "      <td>[{\"id\": 1463, \"name\": \"culture clash\"}, {\"id\":...</td>\n",
              "      <td>en</td>\n",
              "      <td>Avatar</td>\n",
              "      <td>In the 22nd century, a paraplegic Marine is di...</td>\n",
              "      <td>150.437577</td>\n",
              "      <td>[{\"name\": \"Ingenious Film Partners\", \"id\": 289...</td>\n",
              "      <td>...</td>\n",
              "      <td>162.0</td>\n",
              "      <td>[{\"iso_639_1\": \"en\", \"name\": \"English\"}, {\"iso...</td>\n",
              "      <td>Released</td>\n",
              "      <td>Enter the World of Pandora.</td>\n",
              "      <td>Avatar</td>\n",
              "      <td>7.2</td>\n",
              "      <td>11800.0</td>\n",
              "      <td>19995</td>\n",
              "      <td>[{\"cast_id\": 242, \"character\": \"Jake Sully\", \"...</td>\n",
              "      <td>[{\"credit_id\": \"52fe48009251416c750aca23\", \"de...</td>\n",
              "    </tr>\n",
              "  </tbody>\n",
              "</table>\n",
              "<p>1 rows × 23 columns</p>\n",
              "</div>\n",
              "    <div class=\"colab-df-buttons\">\n",
              "\n",
              "  <div class=\"colab-df-container\">\n",
              "    <button class=\"colab-df-convert\" onclick=\"convertToInteractive('df-a493a02f-09f6-49dc-9d54-da3120a307f9')\"\n",
              "            title=\"Convert this dataframe to an interactive table.\"\n",
              "            style=\"display:none;\">\n",
              "\n",
              "  <svg xmlns=\"http://www.w3.org/2000/svg\" height=\"24px\" viewBox=\"0 -960 960 960\">\n",
              "    <path d=\"M120-120v-720h720v720H120Zm60-500h600v-160H180v160Zm220 220h160v-160H400v160Zm0 220h160v-160H400v160ZM180-400h160v-160H180v160Zm440 0h160v-160H620v160ZM180-180h160v-160H180v160Zm440 0h160v-160H620v160Z\"/>\n",
              "  </svg>\n",
              "    </button>\n",
              "\n",
              "  <style>\n",
              "    .colab-df-container {\n",
              "      display:flex;\n",
              "      gap: 12px;\n",
              "    }\n",
              "\n",
              "    .colab-df-convert {\n",
              "      background-color: #E8F0FE;\n",
              "      border: none;\n",
              "      border-radius: 50%;\n",
              "      cursor: pointer;\n",
              "      display: none;\n",
              "      fill: #1967D2;\n",
              "      height: 32px;\n",
              "      padding: 0 0 0 0;\n",
              "      width: 32px;\n",
              "    }\n",
              "\n",
              "    .colab-df-convert:hover {\n",
              "      background-color: #E2EBFA;\n",
              "      box-shadow: 0px 1px 2px rgba(60, 64, 67, 0.3), 0px 1px 3px 1px rgba(60, 64, 67, 0.15);\n",
              "      fill: #174EA6;\n",
              "    }\n",
              "\n",
              "    .colab-df-buttons div {\n",
              "      margin-bottom: 4px;\n",
              "    }\n",
              "\n",
              "    [theme=dark] .colab-df-convert {\n",
              "      background-color: #3B4455;\n",
              "      fill: #D2E3FC;\n",
              "    }\n",
              "\n",
              "    [theme=dark] .colab-df-convert:hover {\n",
              "      background-color: #434B5C;\n",
              "      box-shadow: 0px 1px 3px 1px rgba(0, 0, 0, 0.15);\n",
              "      filter: drop-shadow(0px 1px 2px rgba(0, 0, 0, 0.3));\n",
              "      fill: #FFFFFF;\n",
              "    }\n",
              "  </style>\n",
              "\n",
              "    <script>\n",
              "      const buttonEl =\n",
              "        document.querySelector('#df-a493a02f-09f6-49dc-9d54-da3120a307f9 button.colab-df-convert');\n",
              "      buttonEl.style.display =\n",
              "        google.colab.kernel.accessAllowed ? 'block' : 'none';\n",
              "\n",
              "      async function convertToInteractive(key) {\n",
              "        const element = document.querySelector('#df-a493a02f-09f6-49dc-9d54-da3120a307f9');\n",
              "        const dataTable =\n",
              "          await google.colab.kernel.invokeFunction('convertToInteractive',\n",
              "                                                    [key], {});\n",
              "        if (!dataTable) return;\n",
              "\n",
              "        const docLinkHtml = 'Like what you see? Visit the ' +\n",
              "          '<a target=\"_blank\" href=https://colab.research.google.com/notebooks/data_table.ipynb>data table notebook</a>'\n",
              "          + ' to learn more about interactive tables.';\n",
              "        element.innerHTML = '';\n",
              "        dataTable['output_type'] = 'display_data';\n",
              "        await google.colab.output.renderOutput(dataTable, element);\n",
              "        const docLink = document.createElement('div');\n",
              "        docLink.innerHTML = docLinkHtml;\n",
              "        element.appendChild(docLink);\n",
              "      }\n",
              "    </script>\n",
              "  </div>\n",
              "\n",
              "\n",
              "    </div>\n",
              "  </div>\n"
            ],
            "application/vnd.google.colaboratory.intrinsic+json": {
              "type": "dataframe",
              "variable_name": "movies"
            }
          },
          "metadata": {},
          "execution_count": 132
        }
      ]
    },
    {
      "cell_type": "code",
      "source": [
        "movies['original_language'].value_counts()"
      ],
      "metadata": {
        "colab": {
          "base_uri": "https://localhost:8080/"
        },
        "id": "-bdeaVS3d39A",
        "outputId": "5a565d9b-f5af-4d12-c7a0-2f80789ec416"
      },
      "execution_count": null,
      "outputs": [
        {
          "output_type": "execute_result",
          "data": {
            "text/plain": [
              "original_language\n",
              "en    733\n",
              "fr      2\n",
              "zh      2\n",
              "ja      1\n",
              "es      1\n",
              "Name: count, dtype: int64"
            ]
          },
          "metadata": {},
          "execution_count": 90
        }
      ]
    },
    {
      "cell_type": "code",
      "source": [
        "existing_columns = movies.columns\n",
        "existing_columns"
      ],
      "metadata": {
        "colab": {
          "base_uri": "https://localhost:8080/"
        },
        "id": "WCBf__H9kxUw",
        "outputId": "79adea24-37eb-4e53-d7c9-34f8a87be7d3"
      },
      "execution_count": null,
      "outputs": [
        {
          "output_type": "execute_result",
          "data": {
            "text/plain": [
              "Index(['budget', 'genres', 'homepage', 'id', 'keywords', 'original_language',\n",
              "       'original_title', 'overview', 'popularity', 'production_companies',\n",
              "       'production_countries', 'release_date', 'revenue', 'runtime',\n",
              "       'spoken_languages', 'status', 'tagline', 'title', 'vote_average',\n",
              "       'vote_count', 'movie_id', 'cast', 'crew'],\n",
              "      dtype='object')"
            ]
          },
          "metadata": {},
          "execution_count": 133
        }
      ]
    },
    {
      "cell_type": "code",
      "source": [
        "movies=movies[['movie_id','title','overview','genres','keywords','cast','crew']]"
      ],
      "metadata": {
        "id": "eJsoCbpul2W9"
      },
      "execution_count": null,
      "outputs": []
    },
    {
      "cell_type": "code",
      "source": [
        "movies.head(2)"
      ],
      "metadata": {
        "colab": {
          "base_uri": "https://localhost:8080/",
          "height": 286
        },
        "id": "sno-giXLmKoe",
        "outputId": "df5e6c2b-1ee1-497b-d512-59efba4bbb6d"
      },
      "execution_count": null,
      "outputs": [
        {
          "output_type": "execute_result",
          "data": {
            "text/plain": [
              "   movie_id                                     title  \\\n",
              "0     19995                                    Avatar   \n",
              "1       285  Pirates of the Caribbean: At World's End   \n",
              "\n",
              "                                            overview  \\\n",
              "0  In the 22nd century, a paraplegic Marine is di...   \n",
              "1  Captain Barbossa, long believed to be dead, ha...   \n",
              "\n",
              "                                              genres  \\\n",
              "0  [{\"id\": 28, \"name\": \"Action\"}, {\"id\": 12, \"nam...   \n",
              "1  [{\"id\": 12, \"name\": \"Adventure\"}, {\"id\": 14, \"...   \n",
              "\n",
              "                                            keywords  \\\n",
              "0  [{\"id\": 1463, \"name\": \"culture clash\"}, {\"id\":...   \n",
              "1  [{\"id\": 270, \"name\": \"ocean\"}, {\"id\": 726, \"na...   \n",
              "\n",
              "                                                cast  \\\n",
              "0  [{\"cast_id\": 242, \"character\": \"Jake Sully\", \"...   \n",
              "1  [{\"cast_id\": 4, \"character\": \"Captain Jack Spa...   \n",
              "\n",
              "                                                crew  \n",
              "0  [{\"credit_id\": \"52fe48009251416c750aca23\", \"de...  \n",
              "1  [{\"credit_id\": \"52fe4232c3a36847f800b579\", \"de...  "
            ],
            "text/html": [
              "\n",
              "  <div id=\"df-bf546d60-5f95-4a99-bf84-03be5ed0cb44\" class=\"colab-df-container\">\n",
              "    <div>\n",
              "<style scoped>\n",
              "    .dataframe tbody tr th:only-of-type {\n",
              "        vertical-align: middle;\n",
              "    }\n",
              "\n",
              "    .dataframe tbody tr th {\n",
              "        vertical-align: top;\n",
              "    }\n",
              "\n",
              "    .dataframe thead th {\n",
              "        text-align: right;\n",
              "    }\n",
              "</style>\n",
              "<table border=\"1\" class=\"dataframe\">\n",
              "  <thead>\n",
              "    <tr style=\"text-align: right;\">\n",
              "      <th></th>\n",
              "      <th>movie_id</th>\n",
              "      <th>title</th>\n",
              "      <th>overview</th>\n",
              "      <th>genres</th>\n",
              "      <th>keywords</th>\n",
              "      <th>cast</th>\n",
              "      <th>crew</th>\n",
              "    </tr>\n",
              "  </thead>\n",
              "  <tbody>\n",
              "    <tr>\n",
              "      <th>0</th>\n",
              "      <td>19995</td>\n",
              "      <td>Avatar</td>\n",
              "      <td>In the 22nd century, a paraplegic Marine is di...</td>\n",
              "      <td>[{\"id\": 28, \"name\": \"Action\"}, {\"id\": 12, \"nam...</td>\n",
              "      <td>[{\"id\": 1463, \"name\": \"culture clash\"}, {\"id\":...</td>\n",
              "      <td>[{\"cast_id\": 242, \"character\": \"Jake Sully\", \"...</td>\n",
              "      <td>[{\"credit_id\": \"52fe48009251416c750aca23\", \"de...</td>\n",
              "    </tr>\n",
              "    <tr>\n",
              "      <th>1</th>\n",
              "      <td>285</td>\n",
              "      <td>Pirates of the Caribbean: At World's End</td>\n",
              "      <td>Captain Barbossa, long believed to be dead, ha...</td>\n",
              "      <td>[{\"id\": 12, \"name\": \"Adventure\"}, {\"id\": 14, \"...</td>\n",
              "      <td>[{\"id\": 270, \"name\": \"ocean\"}, {\"id\": 726, \"na...</td>\n",
              "      <td>[{\"cast_id\": 4, \"character\": \"Captain Jack Spa...</td>\n",
              "      <td>[{\"credit_id\": \"52fe4232c3a36847f800b579\", \"de...</td>\n",
              "    </tr>\n",
              "  </tbody>\n",
              "</table>\n",
              "</div>\n",
              "    <div class=\"colab-df-buttons\">\n",
              "\n",
              "  <div class=\"colab-df-container\">\n",
              "    <button class=\"colab-df-convert\" onclick=\"convertToInteractive('df-bf546d60-5f95-4a99-bf84-03be5ed0cb44')\"\n",
              "            title=\"Convert this dataframe to an interactive table.\"\n",
              "            style=\"display:none;\">\n",
              "\n",
              "  <svg xmlns=\"http://www.w3.org/2000/svg\" height=\"24px\" viewBox=\"0 -960 960 960\">\n",
              "    <path d=\"M120-120v-720h720v720H120Zm60-500h600v-160H180v160Zm220 220h160v-160H400v160Zm0 220h160v-160H400v160ZM180-400h160v-160H180v160Zm440 0h160v-160H620v160ZM180-180h160v-160H180v160Zm440 0h160v-160H620v160Z\"/>\n",
              "  </svg>\n",
              "    </button>\n",
              "\n",
              "  <style>\n",
              "    .colab-df-container {\n",
              "      display:flex;\n",
              "      gap: 12px;\n",
              "    }\n",
              "\n",
              "    .colab-df-convert {\n",
              "      background-color: #E8F0FE;\n",
              "      border: none;\n",
              "      border-radius: 50%;\n",
              "      cursor: pointer;\n",
              "      display: none;\n",
              "      fill: #1967D2;\n",
              "      height: 32px;\n",
              "      padding: 0 0 0 0;\n",
              "      width: 32px;\n",
              "    }\n",
              "\n",
              "    .colab-df-convert:hover {\n",
              "      background-color: #E2EBFA;\n",
              "      box-shadow: 0px 1px 2px rgba(60, 64, 67, 0.3), 0px 1px 3px 1px rgba(60, 64, 67, 0.15);\n",
              "      fill: #174EA6;\n",
              "    }\n",
              "\n",
              "    .colab-df-buttons div {\n",
              "      margin-bottom: 4px;\n",
              "    }\n",
              "\n",
              "    [theme=dark] .colab-df-convert {\n",
              "      background-color: #3B4455;\n",
              "      fill: #D2E3FC;\n",
              "    }\n",
              "\n",
              "    [theme=dark] .colab-df-convert:hover {\n",
              "      background-color: #434B5C;\n",
              "      box-shadow: 0px 1px 3px 1px rgba(0, 0, 0, 0.15);\n",
              "      filter: drop-shadow(0px 1px 2px rgba(0, 0, 0, 0.3));\n",
              "      fill: #FFFFFF;\n",
              "    }\n",
              "  </style>\n",
              "\n",
              "    <script>\n",
              "      const buttonEl =\n",
              "        document.querySelector('#df-bf546d60-5f95-4a99-bf84-03be5ed0cb44 button.colab-df-convert');\n",
              "      buttonEl.style.display =\n",
              "        google.colab.kernel.accessAllowed ? 'block' : 'none';\n",
              "\n",
              "      async function convertToInteractive(key) {\n",
              "        const element = document.querySelector('#df-bf546d60-5f95-4a99-bf84-03be5ed0cb44');\n",
              "        const dataTable =\n",
              "          await google.colab.kernel.invokeFunction('convertToInteractive',\n",
              "                                                    [key], {});\n",
              "        if (!dataTable) return;\n",
              "\n",
              "        const docLinkHtml = 'Like what you see? Visit the ' +\n",
              "          '<a target=\"_blank\" href=https://colab.research.google.com/notebooks/data_table.ipynb>data table notebook</a>'\n",
              "          + ' to learn more about interactive tables.';\n",
              "        element.innerHTML = '';\n",
              "        dataTable['output_type'] = 'display_data';\n",
              "        await google.colab.output.renderOutput(dataTable, element);\n",
              "        const docLink = document.createElement('div');\n",
              "        docLink.innerHTML = docLinkHtml;\n",
              "        element.appendChild(docLink);\n",
              "      }\n",
              "    </script>\n",
              "  </div>\n",
              "\n",
              "\n",
              "<div id=\"df-e46ee75f-8532-4240-91d2-5dcab94a2a7d\">\n",
              "  <button class=\"colab-df-quickchart\" onclick=\"quickchart('df-e46ee75f-8532-4240-91d2-5dcab94a2a7d')\"\n",
              "            title=\"Suggest charts\"\n",
              "            style=\"display:none;\">\n",
              "\n",
              "<svg xmlns=\"http://www.w3.org/2000/svg\" height=\"24px\"viewBox=\"0 0 24 24\"\n",
              "     width=\"24px\">\n",
              "    <g>\n",
              "        <path d=\"M19 3H5c-1.1 0-2 .9-2 2v14c0 1.1.9 2 2 2h14c1.1 0 2-.9 2-2V5c0-1.1-.9-2-2-2zM9 17H7v-7h2v7zm4 0h-2V7h2v10zm4 0h-2v-4h2v4z\"/>\n",
              "    </g>\n",
              "</svg>\n",
              "  </button>\n",
              "\n",
              "<style>\n",
              "  .colab-df-quickchart {\n",
              "      --bg-color: #E8F0FE;\n",
              "      --fill-color: #1967D2;\n",
              "      --hover-bg-color: #E2EBFA;\n",
              "      --hover-fill-color: #174EA6;\n",
              "      --disabled-fill-color: #AAA;\n",
              "      --disabled-bg-color: #DDD;\n",
              "  }\n",
              "\n",
              "  [theme=dark] .colab-df-quickchart {\n",
              "      --bg-color: #3B4455;\n",
              "      --fill-color: #D2E3FC;\n",
              "      --hover-bg-color: #434B5C;\n",
              "      --hover-fill-color: #FFFFFF;\n",
              "      --disabled-bg-color: #3B4455;\n",
              "      --disabled-fill-color: #666;\n",
              "  }\n",
              "\n",
              "  .colab-df-quickchart {\n",
              "    background-color: var(--bg-color);\n",
              "    border: none;\n",
              "    border-radius: 50%;\n",
              "    cursor: pointer;\n",
              "    display: none;\n",
              "    fill: var(--fill-color);\n",
              "    height: 32px;\n",
              "    padding: 0;\n",
              "    width: 32px;\n",
              "  }\n",
              "\n",
              "  .colab-df-quickchart:hover {\n",
              "    background-color: var(--hover-bg-color);\n",
              "    box-shadow: 0 1px 2px rgba(60, 64, 67, 0.3), 0 1px 3px 1px rgba(60, 64, 67, 0.15);\n",
              "    fill: var(--button-hover-fill-color);\n",
              "  }\n",
              "\n",
              "  .colab-df-quickchart-complete:disabled,\n",
              "  .colab-df-quickchart-complete:disabled:hover {\n",
              "    background-color: var(--disabled-bg-color);\n",
              "    fill: var(--disabled-fill-color);\n",
              "    box-shadow: none;\n",
              "  }\n",
              "\n",
              "  .colab-df-spinner {\n",
              "    border: 2px solid var(--fill-color);\n",
              "    border-color: transparent;\n",
              "    border-bottom-color: var(--fill-color);\n",
              "    animation:\n",
              "      spin 1s steps(1) infinite;\n",
              "  }\n",
              "\n",
              "  @keyframes spin {\n",
              "    0% {\n",
              "      border-color: transparent;\n",
              "      border-bottom-color: var(--fill-color);\n",
              "      border-left-color: var(--fill-color);\n",
              "    }\n",
              "    20% {\n",
              "      border-color: transparent;\n",
              "      border-left-color: var(--fill-color);\n",
              "      border-top-color: var(--fill-color);\n",
              "    }\n",
              "    30% {\n",
              "      border-color: transparent;\n",
              "      border-left-color: var(--fill-color);\n",
              "      border-top-color: var(--fill-color);\n",
              "      border-right-color: var(--fill-color);\n",
              "    }\n",
              "    40% {\n",
              "      border-color: transparent;\n",
              "      border-right-color: var(--fill-color);\n",
              "      border-top-color: var(--fill-color);\n",
              "    }\n",
              "    60% {\n",
              "      border-color: transparent;\n",
              "      border-right-color: var(--fill-color);\n",
              "    }\n",
              "    80% {\n",
              "      border-color: transparent;\n",
              "      border-right-color: var(--fill-color);\n",
              "      border-bottom-color: var(--fill-color);\n",
              "    }\n",
              "    90% {\n",
              "      border-color: transparent;\n",
              "      border-bottom-color: var(--fill-color);\n",
              "    }\n",
              "  }\n",
              "</style>\n",
              "\n",
              "  <script>\n",
              "    async function quickchart(key) {\n",
              "      const quickchartButtonEl =\n",
              "        document.querySelector('#' + key + ' button');\n",
              "      quickchartButtonEl.disabled = true;  // To prevent multiple clicks.\n",
              "      quickchartButtonEl.classList.add('colab-df-spinner');\n",
              "      try {\n",
              "        const charts = await google.colab.kernel.invokeFunction(\n",
              "            'suggestCharts', [key], {});\n",
              "      } catch (error) {\n",
              "        console.error('Error during call to suggestCharts:', error);\n",
              "      }\n",
              "      quickchartButtonEl.classList.remove('colab-df-spinner');\n",
              "      quickchartButtonEl.classList.add('colab-df-quickchart-complete');\n",
              "    }\n",
              "    (() => {\n",
              "      let quickchartButtonEl =\n",
              "        document.querySelector('#df-e46ee75f-8532-4240-91d2-5dcab94a2a7d button');\n",
              "      quickchartButtonEl.style.display =\n",
              "        google.colab.kernel.accessAllowed ? 'block' : 'none';\n",
              "    })();\n",
              "  </script>\n",
              "</div>\n",
              "\n",
              "    </div>\n",
              "  </div>\n"
            ],
            "application/vnd.google.colaboratory.intrinsic+json": {
              "type": "dataframe",
              "variable_name": "movies",
              "summary": "{\n  \"name\": \"movies\",\n  \"rows\": 739,\n  \"fields\": [\n    {\n      \"column\": \"movie_id\",\n      \"properties\": {\n        \"dtype\": \"number\",\n        \"std\": 71530,\n        \"min\": 12,\n        \"max\": 417859,\n        \"num_unique_values\": 739,\n        \"samples\": [\n          102651,\n          13475,\n          14160\n        ],\n        \"semantic_type\": \"\",\n        \"description\": \"\"\n      }\n    },\n    {\n      \"column\": \"title\",\n      \"properties\": {\n        \"dtype\": \"string\",\n        \"num_unique_values\": 739,\n        \"samples\": [\n          \"Maleficent\",\n          \"Star Trek\",\n          \"Up\"\n        ],\n        \"semantic_type\": \"\",\n        \"description\": \"\"\n      }\n    },\n    {\n      \"column\": \"overview\",\n      \"properties\": {\n        \"dtype\": \"string\",\n        \"num_unique_values\": 739,\n        \"samples\": [\n          \"The untold story of Disney's most iconic villain from the 1959 classic 'Sleeping Beauty'. A beautiful, pure-hearted young woman, Maleficent has an idyllic life growing up in a peaceable forest kingdom, until one day when an invading army threatens the harmony of the land.  Maleficent rises to be the land's fiercest protector, but she ultimately suffers a ruthless betrayal ? an act that begins to turn her heart into stone. Bent on revenge, Maleficent faces an epic battle with the invading King's successor and, as a result, places a curse upon his newborn infant Aurora. As the child grows, Maleficent realizes that Aurora holds the key to peace in the kingdom - and to Maleficent's true happiness as well.\",\n          \"The fate of the galaxy rests in the hands of bitter rivals. One, James Kirk, is a delinquent, thrill-seeking Iowa farm boy. The other, Spock, a Vulcan, was raised in a logic-based society that rejects all emotion. As fiery instinct clashes with calm reason, their unlikely but powerful partnership is the only thing capable of leading their crew through unimaginable danger, boldly going where no one has gone before. The human adventure has begun again.\",\n          \"Carl Fredricksen spent his entire life dreaming of exploring the globe and experiencing life to its fullest. But at age 78, life seems to have passed him by, until a twist of fate (and a persistent 8-year old Wilderness Explorer named Russell) gives him a new lease on life.\"\n        ],\n        \"semantic_type\": \"\",\n        \"description\": \"\"\n      }\n    },\n    {\n      \"column\": \"genres\",\n      \"properties\": {\n        \"dtype\": \"string\",\n        \"num_unique_values\": 400,\n        \"samples\": [\n          \"[{\\\"id\\\": 28, \\\"name\\\": \\\"Action\\\"}, {\\\"id\\\": 12, \\\"name\\\": \\\"Adventure\\\"}, {\\\"id\\\": 16, \\\"name\\\": \\\"Animation\\\"}, {\\\"id\\\": 10751, \\\"name\\\": \\\"Family\\\"}]\",\n          \"[{\\\"id\\\": 16, \\\"name\\\": \\\"Animation\\\"}, {\\\"id\\\": 10751, \\\"name\\\": \\\"Family\\\"}, {\\\"id\\\": 10402, \\\"name\\\": \\\"Music\\\"}]\",\n          \"[{\\\"id\\\": 28, \\\"name\\\": \\\"Action\\\"}, {\\\"id\\\": 10751, \\\"name\\\": \\\"Family\\\"}, {\\\"id\\\": 14, \\\"name\\\": \\\"Fantasy\\\"}]\"\n        ],\n        \"semantic_type\": \"\",\n        \"description\": \"\"\n      }\n    },\n    {\n      \"column\": \"keywords\",\n      \"properties\": {\n        \"dtype\": \"string\",\n        \"num_unique_values\": 730,\n        \"samples\": [\n          \"[{\\\"id\\\": 380, \\\"name\\\": \\\"brother brother relationship\\\"}, {\\\"id\\\": 2132, \\\"name\\\": \\\"literature\\\"}, {\\\"id\\\": 179430, \\\"name\\\": \\\"aftercreditsstinger\\\"}]\",\n          \"[{\\\"id\\\": 83, \\\"name\\\": \\\"saving the world\\\"}, {\\\"id\\\": 90, \\\"name\\\": \\\"paris\\\"}, {\\\"id\\\": 305, \\\"name\\\": \\\"moon\\\"}, {\\\"id\\\": 843, \\\"name\\\": \\\"cataclysm\\\"}, {\\\"id\\\": 1423, \\\"name\\\": \\\"asteroid\\\"}, {\\\"id\\\": 1430, \\\"name\\\": \\\"self sacrifice\\\"}, {\\\"id\\\": 1432, \\\"name\\\": \\\"nasa\\\"}, {\\\"id\\\": 1826, \\\"name\\\": \\\"space marine\\\"}, {\\\"id\\\": 1872, \\\"name\\\": \\\"loss of father\\\"}, {\\\"id\\\": 5600, \\\"name\\\": \\\"daughter\\\"}, {\\\"id\\\": 9882, \\\"name\\\": \\\"space\\\"}, {\\\"id\\\": 13027, \\\"name\\\": \\\"wedding\\\"}, {\\\"id\\\": 14626, \\\"name\\\": \\\"astronaut\\\"}, {\\\"id\\\": 164889, \\\"name\\\": \\\"eiffel tower paris\\\"}, {\\\"id\\\": 179431, \\\"name\\\": \\\"duringcreditsstinger\\\"}, {\\\"id\\\": 199076, \\\"name\\\": \\\"disaster movie\\\"}, {\\\"id\\\": 211487, \\\"name\\\": \\\"space centre\\\"}]\",\n          \"[{\\\"id\\\": 418, \\\"name\\\": \\\"white russian\\\"}, {\\\"id\\\": 572, \\\"name\\\": \\\"sex\\\"}, {\\\"id\\\": 849, \\\"name\\\": \\\"dc comics\\\"}, {\\\"id\\\": 3258, \\\"name\\\": \\\"beauty\\\"}, {\\\"id\\\": 4411, \\\"name\\\": \\\"sexism\\\"}, {\\\"id\\\": 6496, \\\"name\\\": \\\"basketball\\\"}, {\\\"id\\\": 10843, \\\"name\\\": \\\"superheroine\\\"}, {\\\"id\\\": 11322, \\\"name\\\": \\\"female protagonist\\\"}, {\\\"id\\\": 11738, \\\"name\\\": \\\"evil corporation\\\"}, {\\\"id\\\": 18933, \\\"name\\\": \\\"catwoman\\\"}, {\\\"id\\\": 180734, \\\"name\\\": \\\"masked superhero\\\"}, {\\\"id\\\": 236969, \\\"name\\\": \\\"cat lady\\\"}]\"\n        ],\n        \"semantic_type\": \"\",\n        \"description\": \"\"\n      }\n    },\n    {\n      \"column\": \"cast\",\n      \"properties\": {\n        \"dtype\": \"string\",\n        \"num_unique_values\": 739,\n        \"samples\": [\n          \"[{\\\"cast_id\\\": 7, \\\"character\\\": \\\"Maleficent\\\", \\\"credit_id\\\": \\\"52fe4a0cc3a36847f81b5cb3\\\", \\\"gender\\\": 1, \\\"id\\\": 11701, \\\"name\\\": \\\"Angelina Jolie\\\", \\\"order\\\": 0}, {\\\"cast_id\\\": 6, \\\"character\\\": \\\"Princess Aurora\\\", \\\"credit_id\\\": \\\"52fe4a0cc3a36847f81b5caf\\\", \\\"gender\\\": 1, \\\"id\\\": 18050, \\\"name\\\": \\\"Elle Fanning\\\", \\\"order\\\": 1}, {\\\"cast_id\\\": 12, \\\"character\\\": \\\"Stefan\\\", \\\"credit_id\\\": \\\"52fe4a0cc3a36847f81b5cc7\\\", \\\"gender\\\": 2, \\\"id\\\": 82191, \\\"name\\\": \\\"Sharlto Copley\\\", \\\"order\\\": 2}, {\\\"cast_id\\\": 17, \\\"character\\\": \\\"Diaval\\\", \\\"credit_id\\\": \\\"52fe4a0cc3a36847f81b5cdb\\\", \\\"gender\\\": 2, \\\"id\\\": 32987, \\\"name\\\": \\\"Sam Riley\\\", \\\"order\\\": 3}, {\\\"cast_id\\\": 11, \\\"character\\\": \\\"Thistletwit\\\", \\\"credit_id\\\": \\\"52fe4a0cc3a36847f81b5cc3\\\", \\\"gender\\\": 1, \\\"id\\\": 36594, \\\"name\\\": \\\"Juno Temple\\\", \\\"order\\\": 4}, {\\\"cast_id\\\": 16, \\\"character\\\": \\\"Knotgrass\\\", \\\"credit_id\\\": \\\"52fe4a0cc3a36847f81b5cd7\\\", \\\"gender\\\": 1, \\\"id\\\": 11356, \\\"name\\\": \\\"Imelda Staunton\\\", \\\"order\\\": 5}, {\\\"cast_id\\\": 20, \\\"character\\\": \\\"Flittle\\\", \\\"credit_id\\\": \\\"52fe4a0cc3a36847f81b5ce7\\\", \\\"gender\\\": 1, \\\"id\\\": 72305, \\\"name\\\": \\\"Lesley Manville\\\", \\\"order\\\": 6}, {\\\"cast_id\\\": 15, \\\"character\\\": \\\"Prince Phillip\\\", \\\"credit_id\\\": \\\"52fe4a0cc3a36847f81b5cd3\\\", \\\"gender\\\": 2, \\\"id\\\": 1017347, \\\"name\\\": \\\"Brenton Thwaites\\\", \\\"order\\\": 7}, {\\\"cast_id\\\": 25, \\\"character\\\": \\\"Young Maleficent\\\", \\\"credit_id\\\": \\\"53f7bf4f0e0a267a72000014\\\", \\\"gender\\\": 0, \\\"id\\\": 1355733, \\\"name\\\": \\\"Isobelle Molloy\\\", \\\"order\\\": 8}, {\\\"cast_id\\\": 14, \\\"character\\\": \\\"Queen Ulla\\\", \\\"credit_id\\\": \\\"52fe4a0cc3a36847f81b5ccf\\\", \\\"gender\\\": 1, \\\"id\\\": 8436, \\\"name\\\": \\\"Miranda Richardson\\\", \\\"order\\\": 9}, {\\\"cast_id\\\": 19, \\\"character\\\": \\\"Shepherd\\\", \\\"credit_id\\\": \\\"52fe4a0cc3a36847f81b5ce3\\\", \\\"gender\\\": 2, \\\"id\\\": 1833, \\\"name\\\": \\\"Jamie Sives\\\", \\\"order\\\": 10}, {\\\"cast_id\\\": 21, \\\"character\\\": \\\"Young Stefan\\\", \\\"credit_id\\\": \\\"52fe4a0cc3a36847f81b5ceb\\\", \\\"gender\\\": 2, \\\"id\\\": 116606, \\\"name\\\": \\\"Toby Regbo\\\", \\\"order\\\": 11}, {\\\"cast_id\\\": 22, \\\"character\\\": \\\"King Henry\\\", \\\"credit_id\\\": \\\"52fe4a0cc3a36847f81b5cef\\\", \\\"gender\\\": 2, \\\"id\\\": 26258, \\\"name\\\": \\\"Kenneth Cranham\\\", \\\"order\\\": 12}, {\\\"cast_id\\\": 23, \\\"character\\\": \\\"Princess Leila\\\", \\\"credit_id\\\": \\\"53b422de0e0a26598c00cd9f\\\", \\\"gender\\\": 1, \\\"id\\\": 1258225, \\\"name\\\": \\\"Hannah New\\\", \\\"order\\\": 13}, {\\\"cast_id\\\": 24, \\\"character\\\": \\\"Teen Maleficent\\\", \\\"credit_id\\\": \\\"53b423300e0a26597d00c977\\\", \\\"gender\\\": 1, \\\"id\\\": 989325, \\\"name\\\": \\\"Ella Purnell\\\", \\\"order\\\": 14}, {\\\"cast_id\\\": 34, \\\"character\\\": \\\"Princess Leila's Handmaiden\\\", \\\"credit_id\\\": \\\"55e41e56c3a368419a0037b7\\\", \\\"gender\\\": 0, \\\"id\\\": 195286, \\\"name\\\": \\\"Sarah Flind\\\", \\\"order\\\": 15}, {\\\"cast_id\\\": 35, \\\"character\\\": \\\"Teen Stefan\\\", \\\"credit_id\\\": \\\"55e41e5692514137da0038f7\\\", \\\"gender\\\": 0, \\\"id\\\": 1502461, \\\"name\\\": \\\"Jackson Bews\\\", \\\"order\\\": 16}, {\\\"cast_id\\\": 36, \\\"character\\\": \\\"Advisor to King Henry\\\", \\\"credit_id\\\": \\\"55e41e57c3a3684191003bce\\\", \\\"gender\\\": 0, \\\"id\\\": 1252814, \\\"name\\\": \\\"Angus Wright\\\", \\\"order\\\": 17}, {\\\"cast_id\\\": 37, \\\"character\\\": \\\"Advisor to King Henry\\\", \\\"credit_id\\\": \\\"55e41e5792514137ec0036a9\\\", \\\"gender\\\": 2, \\\"id\\\": 65451, \\\"name\\\": \\\"Oliver Maltman\\\", \\\"order\\\": 18}, {\\\"cast_id\\\": 38, \\\"character\\\": \\\"Nobleman\\\", \\\"credit_id\\\": \\\"55e41e57c3a3684191003bd0\\\", \\\"gender\\\": 2, \\\"id\\\": 230697, \\\"name\\\": \\\"Gary Cargill\\\", \\\"order\\\": 19}, {\\\"cast_id\\\": 39, \\\"character\\\": \\\"Nobleman\\\", \\\"credit_id\\\": \\\"55e41e5892514137da0038fb\\\", \\\"gender\\\": 0, \\\"id\\\": 140525, \\\"name\\\": \\\"John O'Toole\\\", \\\"order\\\": 20}, {\\\"cast_id\\\": 40, \\\"character\\\": \\\"Nobleman\\\", \\\"credit_id\\\": \\\"55e41e58c3a368418800339a\\\", \\\"gender\\\": 0, \\\"id\\\": 1502462, \\\"name\\\": \\\"Harry Attwell\\\", \\\"order\\\": 21}, {\\\"cast_id\\\": 41, \\\"character\\\": \\\"Nobleman\\\", \\\"credit_id\\\": \\\"55e41e5892514137e30035e5\\\", \\\"gender\\\": 0, \\\"id\\\": 115622, \\\"name\\\": \\\"Anthony May\\\", \\\"order\\\": 22}, {\\\"cast_id\\\": 42, \\\"character\\\": \\\"Military Nobleman\\\", \\\"credit_id\\\": \\\"55e41e58c3a36841970037bc\\\", \\\"gender\\\": 2, \\\"id\\\": 96281, \\\"name\\\": \\\"James Hicks\\\", \\\"order\\\": 23}, {\\\"cast_id\\\": 43, \\\"character\\\": \\\"General\\\", \\\"credit_id\\\": \\\"55e41e5992514137da0038fd\\\", \\\"gender\\\": 2, \\\"id\\\": 185003, \\\"name\\\": \\\"Stephan Chase\\\", \\\"order\\\": 24}, {\\\"cast_id\\\": 44, \\\"character\\\": \\\"General\\\", \\\"credit_id\\\": \\\"55e41e59c3a368418800339e\\\", \\\"gender\\\": 0, \\\"id\\\": 139811, \\\"name\\\": \\\"Mark Caven\\\", \\\"order\\\": 25}, {\\\"cast_id\\\": 45, \\\"character\\\": \\\"Servant in Wing Room\\\", \\\"credit_id\\\": \\\"55e41e5992514137e900353f\\\", \\\"gender\\\": 0, \\\"id\\\": 1238441, \\\"name\\\": \\\"Chris Leaney\\\", \\\"order\\\": 26}, {\\\"cast_id\\\": 46, \\\"character\\\": \\\"Soldier in Wood\\\", \\\"credit_id\\\": \\\"55e41e5ac3a36841880033a0\\\", \\\"gender\\\": 0, \\\"id\\\": 145071, \\\"name\\\": \\\"Jamie Maclachlan\\\", \\\"order\\\": 27}, {\\\"cast_id\\\": 47, \\\"character\\\": \\\"Aurora (5 yrs.)\\\", \\\"credit_id\\\": \\\"55e41e5ac3a368419400373a\\\", \\\"gender\\\": 0, \\\"id\\\": 1502463, \\\"name\\\": \\\"Vivienne Jolie-Pitt\\\", \\\"order\\\": 28}, {\\\"cast_id\\\": 48, \\\"character\\\": \\\"Aurora (8 yrs.)\\\", \\\"credit_id\\\": \\\"55e41e5b92514137e6003623\\\", \\\"gender\\\": 1, \\\"id\\\": 1462923, \\\"name\\\": \\\"Eleanor Worthington-Cox\\\", \\\"order\\\": 29}, {\\\"cast_id\\\": 49, \\\"character\\\": \\\"Captain\\\", \\\"credit_id\\\": \\\"55e41e5bc3a3684191003bd3\\\", \\\"gender\\\": 2, \\\"id\\\": 550549, \\\"name\\\": \\\"John MacMillan\\\", \\\"order\\\": 30}, {\\\"cast_id\\\": 50, \\\"character\\\": \\\"Farmer\\\", \\\"credit_id\\\": \\\"55e41e5bc3a368418b0033ee\\\", \\\"gender\\\": 0, \\\"id\\\": 1001523, \\\"name\\\": \\\"Tim Treloar\\\", \\\"order\\\": 31}, {\\\"cast_id\\\": 51, \\\"character\\\": \\\"Guard (voice)\\\", \\\"credit_id\\\": \\\"55e41e5bc3a368419400373e\\\", \\\"gender\\\": 0, \\\"id\\\": 568393, \\\"name\\\": \\\"Peter G. Reed\\\", \\\"order\\\": 32}, {\\\"cast_id\\\": 52, \\\"character\\\": \\\"Servant\\\", \\\"credit_id\\\": \\\"55e41e5c92514137e9003542\\\", \\\"gender\\\": 0, \\\"id\\\": 1312266, \\\"name\\\": \\\"Marama Corlett\\\", \\\"order\\\": 33}, {\\\"cast_id\\\": 53, \\\"character\\\": \\\"King Henry's Captain\\\", \\\"credit_id\\\": \\\"55e41e5cc3a3684191003bd5\\\", \\\"gender\\\": 2, \\\"id\\\": 75065, \\\"name\\\": \\\"Liam McKenna\\\", \\\"order\\\": 34}, {\\\"cast_id\\\": 54, \\\"character\\\": \\\"Overseer\\\", \\\"credit_id\\\": \\\"55e41e5c92514137dd0035a9\\\", \\\"gender\\\": 0, \\\"id\\\": 1102427, \\\"name\\\": \\\"Steven Cree\\\", \\\"order\\\": 35}, {\\\"cast_id\\\": 55, \\\"character\\\": \\\"Fairies / Creatures (voice)\\\", \\\"credit_id\\\": \\\"55e41e5dc3a368418b0033f0\\\", \\\"gender\\\": 1, \\\"id\\\": 91023, \\\"name\\\": \\\"Sandy Fox\\\", \\\"order\\\": 36}, {\\\"cast_id\\\": 56, \\\"character\\\": \\\"Narrator (voice)\\\", \\\"credit_id\\\": \\\"55e41e5d92514137e30035e7\\\", \\\"gender\\\": 1, \\\"id\\\": 47627, \\\"name\\\": \\\"Janet McTeer\\\", \\\"order\\\": 37}, {\\\"cast_id\\\": 57, \\\"character\\\": \\\"Blue Suit Performer (uncredited)\\\", \\\"credit_id\\\": \\\"55e41e5dc3a368419a0037ba\\\", \\\"gender\\\": 0, \\\"id\\\": 1218685, \\\"name\\\": \\\"Karen Anderson\\\", \\\"order\\\": 38}, {\\\"cast_id\\\": 58, \\\"character\\\": \\\"King Henry Soldier (uncredited)\\\", \\\"credit_id\\\": \\\"55e41e5e92514137da0038ff\\\", \\\"gender\\\": 2, \\\"id\\\": 1363049, \\\"name\\\": \\\"Lasco Atkins\\\", \\\"order\\\": 39}, {\\\"cast_id\\\": 59, \\\"character\\\": \\\"Stefans Guard (uncredited)\\\", \\\"credit_id\\\": \\\"55e41e5ec3a3684185003531\\\", \\\"gender\\\": 0, \\\"id\\\": 1502464, \\\"name\\\": \\\"James Ayling\\\", \\\"order\\\": 40}, {\\\"cast_id\\\": 60, \\\"character\\\": \\\"Palace Guard (uncredited)\\\", \\\"credit_id\\\": \\\"55e41e5f92514137ec0036ab\\\", \\\"gender\\\": 1, \\\"id\\\": 1174490, \\\"name\\\": \\\"Laura Black\\\", \\\"order\\\": 41}, {\\\"cast_id\\\": 61, \\\"character\\\": \\\"Courtier (uncredited)\\\", \\\"credit_id\\\": \\\"55e41e5fc3a368418e003175\\\", \\\"gender\\\": 0, \\\"id\\\": 1502465, \\\"name\\\": \\\"Sophie-Anna Brough\\\", \\\"order\\\": 42}, {\\\"cast_id\\\": 62, \\\"character\\\": \\\"King Henry's General (uncredited)\\\", \\\"credit_id\\\": \\\"55e41e5f92514137da003903\\\", \\\"gender\\\": 0, \\\"id\\\": 1430707, \\\"name\\\": \\\"Alfred Camp\\\", \\\"order\\\": 43}, {\\\"cast_id\\\": 63, \\\"character\\\": \\\"Young Man (uncredited)\\\", \\\"credit_id\\\": \\\"55e41e60c3a36841880033a4\\\", \\\"gender\\\": 0, \\\"id\\\": 1502466, \\\"name\\\": \\\"Raf Cross\\\", \\\"order\\\": 44}, {\\\"cast_id\\\": 64, \\\"character\\\": \\\"Stefan's Guard (uncredited)\\\", \\\"credit_id\\\": \\\"55e41e6092514137da003906\\\", \\\"gender\\\": 0, \\\"id\\\": 1502467, \\\"name\\\": \\\"Nick Donald\\\", \\\"order\\\": 45}, {\\\"cast_id\\\": 65, \\\"character\\\": \\\"Curse Voice, Fairies, Creatures (uncredited)\\\", \\\"credit_id\\\": \\\"55e41e60c3a36841970037bf\\\", \\\"gender\\\": 1, \\\"id\\\": 186605, \\\"name\\\": \\\"Terri Douglas\\\", \\\"order\\\": 46}, {\\\"cast_id\\\": 66, \\\"character\\\": \\\"Court Jester (uncredited)\\\", \\\"credit_id\\\": \\\"55e41e6192514137dd0035ad\\\", \\\"gender\\\": 2, \\\"id\\\": 1502468, \\\"name\\\": \\\"Damon Driver\\\", \\\"order\\\": 47}, {\\\"cast_id\\\": 67, \\\"character\\\": \\\"Stefan's Soldier / Henry's Soldier (uncredited)\\\", \\\"credit_id\\\": \\\"55e41e61c3a3684191003bda\\\", \\\"gender\\\": 0, \\\"id\\\": 1502469, \\\"name\\\": \\\"Josh Dyer\\\", \\\"order\\\": 48}, {\\\"cast_id\\\": 68, \\\"character\\\": \\\"Dancer (uncredited)\\\", \\\"credit_id\\\": \\\"55e41e6192514137e30035ec\\\", \\\"gender\\\": 1, \\\"id\\\": 1502470, \\\"name\\\": \\\"Stephanie Elstob\\\", \\\"order\\\": 49}, {\\\"cast_id\\\": 69, \\\"character\\\": \\\"Courtier (uncredited)\\\", \\\"credit_id\\\": \\\"55e41e61c3a368418e00317b\\\", \\\"gender\\\": 0, \\\"id\\\": 1502471, \\\"name\\\": \\\"Ellis Fuller\\\", \\\"order\\\": 50}, {\\\"cast_id\\\": 70, \\\"character\\\": \\\"Blue Suit Performer (uncredited)\\\", \\\"credit_id\\\": \\\"55e41e6292514137ec0036ae\\\", \\\"gender\\\": 0, \\\"id\\\": 1502472, \\\"name\\\": \\\"Craig Garner\\\", \\\"order\\\": 51}, {\\\"cast_id\\\": 71, \\\"character\\\": \\\"King Henry's Solider (uncredited)\\\", \\\"credit_id\\\": \\\"55e41e62c3a3684185003535\\\", \\\"gender\\\": 0, \\\"id\\\": 1394404, \\\"name\\\": \\\"Alexander Gillison\\\", \\\"order\\\": 52}, {\\\"cast_id\\\": 72, \\\"character\\\": \\\"Courtier (uncredited)\\\", \\\"credit_id\\\": \\\"55e41e62c3a368418b0033f4\\\", \\\"gender\\\": 0, \\\"id\\\": 1502473, \\\"name\\\": \\\"Victoria Gugenheim\\\", \\\"order\\\": 53}, {\\\"cast_id\\\": 73, \\\"character\\\": \\\"Courtier (uncredited)\\\", \\\"credit_id\\\": \\\"55e41e6392514137da00390c\\\", \\\"gender\\\": 0, \\\"id\\\": 1502474, \\\"name\\\": \\\"Daniel Harland\\\", \\\"order\\\": 54}, {\\\"cast_id\\\": 74, \\\"character\\\": \\\"Pixie Reader (uncredited)\\\", \\\"credit_id\\\": \\\"55e41e6392514137e6003627\\\", \\\"gender\\\": 0, \\\"id\\\": 1347128, \\\"name\\\": \\\"Kara Lily Hayworth\\\", \\\"order\\\": 55}, {\\\"cast_id\\\": 75, \\\"character\\\": \\\"Soldier / Courtier (uncredited)\\\", \\\"credit_id\\\": \\\"55e41e63c3a3684194003741\\\", \\\"gender\\\": 0, \\\"id\\\": 1375518, \\\"name\\\": \\\"John Heartstone\\\", \\\"order\\\": 56}, {\\\"cast_id\\\": 76, \\\"character\\\": \\\"Stefan's Soldier (uncredited)\\\", \\\"credit_id\\\": \\\"55e41e6492514137d7003643\\\", \\\"gender\\\": 0, \\\"id\\\": 1075104, \\\"name\\\": \\\"Matt Hookings\\\", \\\"order\\\": 57}, {\\\"cast_id\\\": 77, \\\"character\\\": \\\"King Henry's Soldier (uncredited)\\\", \\\"credit_id\\\": \\\"55e41e64c3a3684191003be0\\\", \\\"gender\\\": 0, \\\"id\\\": 1502475, \\\"name\\\": \\\"Craig Izzard\\\", \\\"order\\\": 58}, {\\\"cast_id\\\": 78, \\\"character\\\": \\\"Dancer (uncredited)\\\", \\\"credit_id\\\": \\\"55e41e6492514137e000358e\\\", \\\"gender\\\": 0, \\\"id\\\": 1502476, \\\"name\\\": \\\"Ceri Jerome\\\", \\\"order\\\": 59}, {\\\"cast_id\\\": 79, \\\"character\\\": \\\"Girl (uncredited)\\\", \\\"credit_id\\\": \\\"55e41e64c3a3684185003537\\\", \\\"gender\\\": 0, \\\"id\\\": 1242871, \\\"name\\\": \\\"Zahara Jolie-Pitt\\\", \\\"order\\\": 60}, {\\\"cast_id\\\": 80, \\\"character\\\": \\\"Blue Suit Performer (uncredited)\\\", \\\"credit_id\\\": \\\"55e41e65c3a368418b0033fa\\\", \\\"gender\\\": 0, \\\"id\\\": 1502477, \\\"name\\\": \\\"Lee Edward Jones\\\", \\\"order\\\": 61}, {\\\"cast_id\\\": 81, \\\"character\\\": \\\"Courtier (uncredited)\\\", \\\"credit_id\\\": \\\"55e41e6592514137dd0035b2\\\", \\\"gender\\\": 0, \\\"id\\\": 1378466, \\\"name\\\": \\\"Hrvoje Klecz\\\", \\\"order\\\": 62}, {\\\"cast_id\\\": 82, \\\"character\\\": \\\"Servant (uncredited)\\\", \\\"credit_id\\\": \\\"55e41e65c3a3684194003743\\\", \\\"gender\\\": 0, \\\"id\\\": 1394405, \\\"name\\\": \\\"Alex Marek\\\", \\\"order\\\": 63}, {\\\"cast_id\\\": 83, \\\"character\\\": \\\"Palace Guard (uncredited)\\\", \\\"credit_id\\\": \\\"55e41e6692514137da003910\\\", \\\"gender\\\": 0, \\\"id\\\": 1207207, \\\"name\\\": \\\"Jo\\\\u00e3o Costa Menezes\\\", \\\"order\\\": 64}, {\\\"cast_id\\\": 84, \\\"character\\\": \\\"Courtier (uncredited)\\\", \\\"credit_id\\\": \\\"55e41e66c3a36841970037c2\\\", \\\"gender\\\": 0, \\\"id\\\": 1502478, \\\"name\\\": \\\"Karen Mkrtchyan\\\", \\\"order\\\": 65}, {\\\"cast_id\\\": 85, \\\"character\\\": \\\"King Stefan's Army (uncredited)\\\", \\\"credit_id\\\": \\\"55e41e6692514137e600362a\\\", \\\"gender\\\": 0, \\\"id\\\": 1502479, \\\"name\\\": \\\"Matthew John Morley\\\", \\\"order\\\": 66}, {\\\"cast_id\\\": 86, \\\"character\\\": \\\"Courtier (uncredited)\\\", \\\"credit_id\\\": \\\"55e41e67c3a368418b0033ff\\\", \\\"gender\\\": 0, \\\"id\\\": 1502480, \\\"name\\\": \\\"Steven John Nice\\\", \\\"order\\\": 67}, {\\\"cast_id\\\": 87, \\\"character\\\": \\\"Blue Suit Performer (uncredited)\\\", \\\"credit_id\\\": \\\"55e41e6792514137e9003547\\\", \\\"gender\\\": 0, \\\"id\\\": 1278780, \\\"name\\\": \\\"Edd Osmond\\\", \\\"order\\\": 68}, {\\\"cast_id\\\": 88, \\\"character\\\": \\\"Blue Suit Performer (uncredited)\\\", \\\"credit_id\\\": \\\"55e41e67c3a36841970037c6\\\", \\\"gender\\\": 0, \\\"id\\\": 1278771, \\\"name\\\": \\\"Jo Osmond\\\", \\\"order\\\": 69}, {\\\"cast_id\\\": 89, \\\"character\\\": \\\"King Henry's Soldier (uncredited)\\\", \\\"credit_id\\\": \\\"55e41e6792514137d7003645\\\", \\\"gender\\\": 0, \\\"id\\\": 1279742, \\\"name\\\": \\\"Andrew James Porter\\\", \\\"order\\\": 70}, {\\\"cast_id\\\": 90, \\\"character\\\": \\\"Stefan's Page (uncredited)\\\", \\\"credit_id\\\": \\\"55e41e68c3a3684191003be4\\\", \\\"gender\\\": 0, \\\"id\\\": 1462424, \\\"name\\\": \\\"Guy Potter\\\", \\\"order\\\": 71}, {\\\"cast_id\\\": 91, \\\"character\\\": \\\"King Stefans Guard (uncredited)\\\", \\\"credit_id\\\": \\\"55e41e6892514137e0003594\\\", \\\"gender\\\": 0, \\\"id\\\": 1502481, \\\"name\\\": \\\"Marc Rolfe\\\", \\\"order\\\": 72}, {\\\"cast_id\\\": 92, \\\"character\\\": \\\"Palace Guard (uncredited)\\\", \\\"credit_id\\\": \\\"55e41e68c3a368419a0037bd\\\", \\\"gender\\\": 0, \\\"id\\\": 1394408, \\\"name\\\": \\\"Jd Roth-round\\\", \\\"order\\\": 73}, {\\\"cast_id\\\": 93, \\\"character\\\": \\\"Stefan's General (uncredited)\\\", \\\"credit_id\\\": \\\"55e41e6992514137e900354b\\\", \\\"gender\\\": 0, \\\"id\\\": 1394409, \\\"name\\\": \\\"Julian Seager\\\", \\\"order\\\": 74}, {\\\"cast_id\\\": 94, \\\"character\\\": \\\"Soldier / Courtier (uncredited)\\\", \\\"credit_id\\\": \\\"55e41e69c3a3684194003747\\\", \\\"gender\\\": 0, \\\"id\\\": 1502482, \\\"name\\\": \\\"Peter Stacey\\\", \\\"order\\\": 75}, {\\\"cast_id\\\": 95, \\\"character\\\": \\\"Screen Combat, Soldier (uncredited)\\\", \\\"credit_id\\\": \\\"55e41e6992514137da003913\\\", \\\"gender\\\": 0, \\\"id\\\": 1481440, \\\"name\\\": \\\"Daniel Stisen\\\", \\\"order\\\": 76}, {\\\"cast_id\\\": 96, \\\"character\\\": \\\"Stefan Guard (uncredited)\\\", \\\"credit_id\\\": \\\"55e41e6ac3a368418b003404\\\", \\\"gender\\\": 0, \\\"id\\\": 1438979, \\\"name\\\": \\\"Richard Summers-Calvert\\\", \\\"order\\\": 77}, {\\\"cast_id\\\": 97, \\\"character\\\": \\\"Young Man (uncredited)\\\", \\\"credit_id\\\": \\\"55e41e6ac3a368419400374c\\\", \\\"gender\\\": 0, \\\"id\\\": 1502483, \\\"name\\\": \\\"Leo Suter\\\", \\\"order\\\": 78}, {\\\"cast_id\\\": 98, \\\"character\\\": \\\"Courtier (uncredited)\\\", \\\"credit_id\\\": \\\"55e41e6a92514137e600362f\\\", \\\"gender\\\": 0, \\\"id\\\": 1394377, \\\"name\\\": \\\"Tom Swacha\\\", \\\"order\\\": 79}, {\\\"cast_id\\\": 99, \\\"character\\\": \\\"Special action soldier (uncredited)\\\", \\\"credit_id\\\": \\\"55e41e6ac3a368419a0037c4\\\", \\\"gender\\\": 0, \\\"id\\\": 1371439, \\\"name\\\": \\\"Daniel Westwood\\\", \\\"order\\\": 80}, {\\\"cast_id\\\": 100, \\\"character\\\": \\\"Courtier at Christening (uncredited)\\\", \\\"credit_id\\\": \\\"55e41e6b92514137e6003632\\\", \\\"gender\\\": 2, \\\"id\\\": 590936, \\\"name\\\": \\\"Christian Wolf-La'Moy \\\", \\\"order\\\": 81}]\",\n          \"[{\\\"cast_id\\\": 15, \\\"character\\\": \\\"James T. Kirk\\\", \\\"credit_id\\\": \\\"52fe456c9251416c75056169\\\", \\\"gender\\\": 2, \\\"id\\\": 62064, \\\"name\\\": \\\"Chris Pine\\\", \\\"order\\\": 0}, {\\\"cast_id\\\": 16, \\\"character\\\": \\\"Spock\\\", \\\"credit_id\\\": \\\"52fe456c9251416c7505616d\\\", \\\"gender\\\": 2, \\\"id\\\": 17306, \\\"name\\\": \\\"Zachary Quinto\\\", \\\"order\\\": 1}, {\\\"cast_id\\\": 26, \\\"character\\\": \\\"Spock Prime\\\", \\\"credit_id\\\": \\\"52fe456c9251416c75056195\\\", \\\"gender\\\": 2, \\\"id\\\": 1749, \\\"name\\\": \\\"Leonard Nimoy\\\", \\\"order\\\": 2}, {\\\"cast_id\\\": 17, \\\"character\\\": \\\"Nero\\\", \\\"credit_id\\\": \\\"52fe456c9251416c75056171\\\", \\\"gender\\\": 2, \\\"id\\\": 8783, \\\"name\\\": \\\"Eric Bana\\\", \\\"order\\\": 3}, {\\\"cast_id\\\": 23, \\\"character\\\": \\\"Christopher Pike\\\", \\\"credit_id\\\": \\\"52fe456c9251416c75056189\\\", \\\"gender\\\": 2, \\\"id\\\": 21089, \\\"name\\\": \\\"Bruce Greenwood\\\", \\\"order\\\": 4}, {\\\"cast_id\\\": 21, \\\"character\\\": \\\"Leonard 'Bones' McCoy\\\", \\\"credit_id\\\": \\\"52fe456c9251416c75056181\\\", \\\"gender\\\": 2, \\\"id\\\": 1372, \\\"name\\\": \\\"Karl Urban\\\", \\\"order\\\": 5}, {\\\"cast_id\\\": 20, \\\"character\\\": \\\"Nyota Uhura\\\", \\\"credit_id\\\": \\\"52fe456c9251416c7505617d\\\", \\\"gender\\\": 1, \\\"id\\\": 8691, \\\"name\\\": \\\"Zoe Saldana\\\", \\\"order\\\": 6}, {\\\"cast_id\\\": 18, \\\"character\\\": \\\"Montgomery Scott\\\", \\\"credit_id\\\": \\\"52fe456c9251416c75056175\\\", \\\"gender\\\": 2, \\\"id\\\": 11108, \\\"name\\\": \\\"Simon Pegg\\\", \\\"order\\\": 7}, {\\\"cast_id\\\": 22, \\\"character\\\": \\\"Hikaru Sulu\\\", \\\"credit_id\\\": \\\"52fe456c9251416c75056185\\\", \\\"gender\\\": 2, \\\"id\\\": 68842, \\\"name\\\": \\\"John Cho\\\", \\\"order\\\": 8}, {\\\"cast_id\\\": 25, \\\"character\\\": \\\"Pavel Chekov\\\", \\\"credit_id\\\": \\\"52fe456c9251416c75056191\\\", \\\"gender\\\": 2, \\\"id\\\": 21028, \\\"name\\\": \\\"Anton Yelchin\\\", \\\"order\\\": 9}, {\\\"cast_id\\\": 24, \\\"character\\\": \\\"Sarek\\\", \\\"credit_id\\\": \\\"52fe456c9251416c7505618d\\\", \\\"gender\\\": 2, \\\"id\\\": 29068, \\\"name\\\": \\\"Ben Cross\\\", \\\"order\\\": 10}, {\\\"cast_id\\\": 19, \\\"character\\\": \\\"Amanda Grayson\\\", \\\"credit_id\\\": \\\"52fe456c9251416c75056179\\\", \\\"gender\\\": 1, \\\"id\\\": 1920, \\\"name\\\": \\\"Winona Ryder\\\", \\\"order\\\": 11}, {\\\"cast_id\\\": 28, \\\"character\\\": \\\"George Kirk\\\", \\\"credit_id\\\": \\\"52fe456c9251416c7505619d\\\", \\\"gender\\\": 2, \\\"id\\\": 74568, \\\"name\\\": \\\"Chris Hemsworth\\\", \\\"order\\\": 12}, {\\\"cast_id\\\": 29, \\\"character\\\": \\\"Winona Kirk\\\", \\\"credit_id\\\": \\\"52fe456c9251416c750561a1\\\", \\\"gender\\\": 1, \\\"id\\\": 41421, \\\"name\\\": \\\"Jennifer Morrison\\\", \\\"order\\\": 13}, {\\\"cast_id\\\": 33, \\\"character\\\": \\\"Galia\\\", \\\"credit_id\\\": \\\"52fe456d9251416c750561b1\\\", \\\"gender\\\": 1, \\\"id\\\": 50347, \\\"name\\\": \\\"Rachel Nichols\\\", \\\"order\\\": 14}, {\\\"cast_id\\\": 34, \\\"character\\\": \\\"Captain Robau\\\", \\\"credit_id\\\": \\\"52fe456d9251416c750561b5\\\", \\\"gender\\\": 2, \\\"id\\\": 57452, \\\"name\\\": \\\"Faran Tahir\\\", \\\"order\\\": 15}, {\\\"cast_id\\\": 35, \\\"character\\\": \\\"Ayel\\\", \\\"credit_id\\\": \\\"52fe456d9251416c750561b9\\\", \\\"gender\\\": 2, \\\"id\\\": 5365, \\\"name\\\": \\\"Clifton Collins Jr\\\", \\\"order\\\": 16}, {\\\"cast_id\\\": 27, \\\"character\\\": \\\"Chief Engineer Olsen\\\", \\\"credit_id\\\": \\\"52fe456c9251416c75056199\\\", \\\"gender\\\": 2, \\\"id\\\": 4031, \\\"name\\\": \\\"Greg Ellis\\\", \\\"order\\\": 17}, {\\\"cast_id\\\": 30, \\\"character\\\": \\\"Nero's Wife\\\", \\\"credit_id\\\": \\\"52fe456c9251416c750561a5\\\", \\\"gender\\\": 1, \\\"id\\\": 128628, \\\"name\\\": \\\"Scottie Thompson\\\", \\\"order\\\": 18}, {\\\"cast_id\\\": 31, \\\"character\\\": \\\"Barracks Officer\\\", \\\"credit_id\\\": \\\"52fe456d9251416c750561a9\\\", \\\"gender\\\": 2, \\\"id\\\": 26069, \\\"name\\\": \\\"Paul McGillion\\\", \\\"order\\\": 19}, {\\\"cast_id\\\": 32, \\\"character\\\": \\\"Romulan Communications Officer\\\", \\\"credit_id\\\": \\\"52fe456d9251416c750561ad\\\", \\\"gender\\\": 0, \\\"id\\\": 451, \\\"name\\\": \\\"Lucia Rijker\\\", \\\"order\\\": 20}, {\\\"cast_id\\\": 36, \\\"character\\\": \\\"Young James T. Kirk\\\", \\\"credit_id\\\": \\\"52fe456d9251416c750561bd\\\", \\\"gender\\\": 2, \\\"id\\\": 6860, \\\"name\\\": \\\"Jimmy Bennett\\\", \\\"order\\\": 21}, {\\\"cast_id\\\": 37, \\\"character\\\": \\\"Stepdad (voice)\\\", \\\"credit_id\\\": \\\"52fe456d9251416c750561c1\\\", \\\"gender\\\": 2, \\\"id\\\": 17305, \\\"name\\\": \\\"Greg Grunberg\\\", \\\"order\\\": 22}, {\\\"cast_id\\\": 38, \\\"character\\\": \\\"Barracks Officer\\\", \\\"credit_id\\\": \\\"52fe456d9251416c750561c5\\\", \\\"gender\\\": 1, \\\"id\\\": 92774, \\\"name\\\": \\\"Lisa Vidal\\\", \\\"order\\\": 23}, {\\\"cast_id\\\": 39, \\\"character\\\": \\\"Young Spock\\\", \\\"credit_id\\\": \\\"52fe456d9251416c750561c9\\\", \\\"gender\\\": 2, \\\"id\\\": 46801, \\\"name\\\": \\\"Jacob Kogan\\\", \\\"order\\\": 24}, {\\\"cast_id\\\": 40, \\\"character\\\": \\\"Admiral Richard Barnett\\\", \\\"credit_id\\\": \\\"52fe456d9251416c750561cd\\\", \\\"gender\\\": 2, \\\"id\\\": 80602, \\\"name\\\": \\\"Tyler Perry\\\", \\\"order\\\": 25}, {\\\"cast_id\\\": 41, \\\"character\\\": \\\"Hannity\\\", \\\"credit_id\\\": \\\"52fe456d9251416c750561d1\\\", \\\"gender\\\": 1, \\\"id\\\": 13024, \\\"name\\\": \\\"Amanda Foreman\\\", \\\"order\\\": 26}, {\\\"cast_id\\\": 42, \\\"character\\\": \\\"The Wrong Orion\\\", \\\"credit_id\\\": \\\"52fe456d9251416c750561d5\\\", \\\"gender\\\": 1, \\\"id\\\": 59263, \\\"name\\\": \\\"Diora Baird\\\", \\\"order\\\": 27}, {\\\"cast_id\\\": 44, \\\"character\\\": \\\"Cadet Alien\\\", \\\"credit_id\\\": \\\"52fe456d9251416c750561df\\\", \\\"gender\\\": 1, \\\"id\\\": 1181331, \\\"name\\\": \\\"Sufe Bradshaw\\\", \\\"order\\\": 28}, {\\\"cast_id\\\": 51, \\\"character\\\": \\\"Officer Pitts\\\", \\\"credit_id\\\": \\\"52fe456d9251416c75056207\\\", \\\"gender\\\": 2, \\\"id\\\": 138324, \\\"name\\\": \\\"Tony Elias\\\", \\\"order\\\": 29}, {\\\"cast_id\\\": 52, \\\"character\\\": \\\"Tactical Officer\\\", \\\"credit_id\\\": \\\"52fe456d9251416c7505620b\\\", \\\"gender\\\": 0, \\\"id\\\": 188796, \\\"name\\\": \\\"Sean Gerace\\\", \\\"order\\\": 30}, {\\\"cast_id\\\": 53, \\\"character\\\": \\\"Kelvin Crew Member\\\", \\\"credit_id\\\": \\\"52fe456d9251416c7505620f\\\", \\\"gender\\\": 0, \\\"id\\\": 1274566, \\\"name\\\": \\\"Randy Pausch\\\", \\\"order\\\": 31}, {\\\"cast_id\\\": 54, \\\"character\\\": \\\"Kelvin Engineer\\\", \\\"credit_id\\\": \\\"52fe456d9251416c75056213\\\", \\\"gender\\\": 2, \\\"id\\\": 27031, \\\"name\\\": \\\"Tim Griffin\\\", \\\"order\\\": 32}, {\\\"cast_id\\\": 55, \\\"character\\\": \\\"Kelvin Helmsman\\\", \\\"credit_id\\\": \\\"52fe456d9251416c75056217\\\", \\\"gender\\\": 1, \\\"id\\\": 51754, \\\"name\\\": \\\"Freda Foh Shen\\\", \\\"order\\\": 33}, {\\\"cast_id\\\": 56, \\\"character\\\": \\\"Kelvin Alien\\\", \\\"credit_id\\\": \\\"52fe456d9251416c7505621b\\\", \\\"gender\\\": 0, \\\"id\\\": 583844, \\\"name\\\": \\\"Kasia Kowalczyk\\\", \\\"order\\\": 34}, {\\\"cast_id\\\": 57, \\\"character\\\": \\\"Romulan Helmsman\\\", \\\"credit_id\\\": \\\"52fe456d9251416c7505621f\\\", \\\"gender\\\": 2, \\\"id\\\": 154748, \\\"name\\\": \\\"Jason Brooks\\\", \\\"order\\\": 35}, {\\\"cast_id\\\": 58, \\\"character\\\": \\\"Kelvin Doctor\\\", \\\"credit_id\\\": \\\"52fe456d9251416c75056223\\\", \\\"gender\\\": 1, \\\"id\\\": 963257, \\\"name\\\": \\\"Sonita Henry\\\", \\\"order\\\": 36}, {\\\"cast_id\\\": 59, \\\"character\\\": \\\"Medical Technician\\\", \\\"credit_id\\\": \\\"52fe456d9251416c75056227\\\", \\\"gender\\\": 2, \\\"id\\\": 51997, \\\"name\\\": \\\"Kelvin Yu\\\", \\\"order\\\": 37}, {\\\"cast_id\\\": 60, \\\"character\\\": \\\"Medical Technician\\\", \\\"credit_id\\\": \\\"52fe456d9251416c7505622b\\\", \\\"gender\\\": 1, \\\"id\\\": 1216155, \\\"name\\\": \\\"Marta Martin\\\", \\\"order\\\": 38}, {\\\"cast_id\\\": 61, \\\"character\\\": \\\"Kelvin Crew Member\\\", \\\"credit_id\\\": \\\"52fe456d9251416c7505622f\\\", \\\"gender\\\": 0, \\\"id\\\": 1274869, \\\"name\\\": \\\"Tavarus Conley\\\", \\\"order\\\": 39}, {\\\"cast_id\\\": 62, \\\"character\\\": \\\"Kelvin Crew Member\\\", \\\"credit_id\\\": \\\"52fe456d9251416c75056233\\\", \\\"gender\\\": 0, \\\"id\\\": 1026981, \\\"name\\\": \\\"Jeff Castle\\\", \\\"order\\\": 40}, {\\\"cast_id\\\": 63, \\\"character\\\": \\\"Med Evac Pilot\\\", \\\"credit_id\\\": \\\"52fe456d9251416c75056237\\\", \\\"gender\\\": 2, \\\"id\\\": 64805, \\\"name\\\": \\\"Billy Brown\\\", \\\"order\\\": 41}, {\\\"cast_id\\\": 64, \\\"character\\\": \\\"Johnny\\\", \\\"credit_id\\\": \\\"52fe456d9251416c7505623b\\\", \\\"gender\\\": 2, \\\"id\\\": 168962, \\\"name\\\": \\\"Spencer Daniels\\\", \\\"order\\\": 42}, {\\\"cast_id\\\": 65, \\\"character\\\": \\\"Iowa Cop\\\", \\\"credit_id\\\": \\\"52fe456d9251416c7505623f\\\", \\\"gender\\\": 2, \\\"id\\\": 126841, \\\"name\\\": \\\"Jeremy Fitzgerald\\\", \\\"order\\\": 43}, {\\\"cast_id\\\": 66, \\\"character\\\": \\\"Vulcan Student\\\", \\\"credit_id\\\": \\\"52fe456d9251416c75056243\\\", \\\"gender\\\": 0, \\\"id\\\": 1275518, \\\"name\\\": \\\"Zoe Chernov\\\", \\\"order\\\": 44}, {\\\"cast_id\\\": 67, \\\"character\\\": \\\"Vulcan Student\\\", \\\"credit_id\\\": \\\"52fe456d9251416c75056247\\\", \\\"gender\\\": 0, \\\"id\\\": 1275519, \\\"name\\\": \\\"Max Chernov\\\", \\\"order\\\": 45}, {\\\"cast_id\\\": 68, \\\"character\\\": \\\"Vulcan Bully\\\", \\\"credit_id\\\": \\\"52fe456d9251416c7505624b\\\", \\\"gender\\\": 2, \\\"id\\\": 1107818, \\\"name\\\": \\\"Lorenzo James Henrie\\\", \\\"order\\\": 46}, {\\\"cast_id\\\": 69, \\\"character\\\": \\\"Vulcan Bully\\\", \\\"credit_id\\\": \\\"52fe456d9251416c7505624f\\\", \\\"gender\\\": 0, \\\"id\\\": 203012, \\\"name\\\": \\\"Colby Paul\\\", \\\"order\\\": 47}, {\\\"cast_id\\\": 70, \\\"character\\\": \\\"Vulcan Bully\\\", \\\"credit_id\\\": \\\"52fe456d9251416c75056253\\\", \\\"gender\\\": 0, \\\"id\\\": 170883, \\\"name\\\": \\\"Cody Klop\\\", \\\"order\\\": 48}, {\\\"cast_id\\\": 71, \\\"character\\\": \\\"Vulcan Council Member\\\", \\\"credit_id\\\": \\\"52fe456d9251416c75056257\\\", \\\"gender\\\": 2, \\\"id\\\": 5575, \\\"name\\\": \\\"Akiva Goldsman\\\", \\\"order\\\": 49}, {\\\"cast_id\\\": 72, \\\"character\\\": \\\"Vulcan Council Member\\\", \\\"credit_id\\\": \\\"52fe456d9251416c7505625b\\\", \\\"gender\\\": 1, \\\"id\\\": 27570, \\\"name\\\": \\\"Anna Katarina\\\", \\\"order\\\": 50}, {\\\"cast_id\\\": 73, \\\"character\\\": \\\"Long Face Bar Alien\\\", \\\"credit_id\\\": \\\"52fe456d9251416c7505625f\\\", \\\"gender\\\": 2, \\\"id\\\": 51301, \\\"name\\\": \\\"Douglas Tait\\\", \\\"order\\\": 51}, {\\\"cast_id\\\": 74, \\\"character\\\": \\\"Lew the Bartender\\\", \\\"credit_id\\\": \\\"52fe456d9251416c75056263\\\", \\\"gender\\\": 2, \\\"id\\\": 178452, \\\"name\\\": \\\"Tony Guma\\\", \\\"order\\\": 52}, {\\\"cast_id\\\": 75, \\\"character\\\": \\\"Barfly\\\", \\\"credit_id\\\": \\\"52fe456d9251416c75056267\\\", \\\"gender\\\": 0, \\\"id\\\": 181879, \\\"name\\\": \\\"Gerald W. Abrams\\\", \\\"order\\\": 53}, {\\\"cast_id\\\": 76, \\\"character\\\": \\\"Barfly\\\", \\\"credit_id\\\": \\\"52fe456d9251416c7505626b\\\", \\\"gender\\\": 0, \\\"id\\\": 1275520, \\\"name\\\": \\\"James McGrath\\\", \\\"order\\\": 54}, {\\\"cast_id\\\": 77, \\\"character\\\": \\\"Burly Cadet\\\", \\\"credit_id\\\": \\\"52fe456d9251416c7505626f\\\", \\\"gender\\\": 2, \\\"id\\\": 154702, \\\"name\\\": \\\"Jason Matthew Smith\\\", \\\"order\\\": 55}, {\\\"cast_id\\\": 78, \\\"character\\\": \\\"Burly Cadet\\\", \\\"credit_id\\\": \\\"52fe456d9251416c75056273\\\", \\\"gender\\\": 2, \\\"id\\\": 182213, \\\"name\\\": \\\"Marcus Young\\\", \\\"order\\\": 56}, {\\\"cast_id\\\": 79, \\\"character\\\": \\\"Shipyard Worker\\\", \\\"credit_id\\\": \\\"52fe456d9251416c75056277\\\", \\\"gender\\\": 2, \\\"id\\\": 129661, \\\"name\\\": \\\"Bob Clendenin\\\", \\\"order\\\": 57}, {\\\"cast_id\\\": 81, \\\"character\\\": \\\"Test Administrator\\\", \\\"credit_id\\\": \\\"52fe456d9251416c7505627f\\\", \\\"gender\\\": 2, \\\"id\\\": 22075, \\\"name\\\": \\\"Reggie Lee\\\", \\\"order\\\": 59}, {\\\"cast_id\\\": 82, \\\"character\\\": \\\"Test Administrator\\\", \\\"credit_id\\\": \\\"52fe456d9251416c75056283\\\", \\\"gender\\\": 2, \\\"id\\\": 78899, \\\"name\\\": \\\"Jeffrey Byron\\\", \\\"order\\\": 60}, {\\\"cast_id\\\": 83, \\\"character\\\": \\\"Simulator Tactical Officer\\\", \\\"credit_id\\\": \\\"52fe456d9251416c75056287\\\", \\\"gender\\\": 0, \\\"id\\\": 1228940, \\\"name\\\": \\\"Jonathan Dixon\\\", \\\"order\\\": 61}, {\\\"cast_id\\\": 84, \\\"character\\\": \\\"Admiral James Komack\\\", \\\"credit_id\\\": \\\"52fe456d9251416c7505628b\\\", \\\"gender\\\": 0, \\\"id\\\": 1275522, \\\"name\\\": \\\"Ben Binswagner\\\", \\\"order\\\": 62}, {\\\"cast_id\\\": 85, \\\"character\\\": \\\"College Council Stenographer\\\", \\\"credit_id\\\": \\\"52fe456d9251416c7505628f\\\", \\\"gender\\\": 0, \\\"id\\\": 51994, \\\"name\\\": \\\"Margot Farley\\\", \\\"order\\\": 63}, {\\\"cast_id\\\": 86, \\\"character\\\": \\\"Shuttle Officer\\\", \\\"credit_id\\\": \\\"52fe456d9251416c75056293\\\", \\\"gender\\\": 0, \\\"id\\\": 1212484, \\\"name\\\": \\\"Alex Nevil\\\", \\\"order\\\": 64}, {\\\"cast_id\\\": 87, \\\"character\\\": \\\"Kimberly Arland\\\", \\\"credit_id\\\": \\\"52fe456d9251416c75056297\\\", \\\"gender\\\": 0, \\\"id\\\": 1271733, \\\"name\\\": \\\"Kimberly Arland\\\", \\\"order\\\": 65}, {\\\"cast_id\\\": 88, \\\"character\\\": \\\"Cadet Alien\\\", \\\"credit_id\\\": \\\"52fe456d9251416c7505629b\\\", \\\"gender\\\": 2, \\\"id\\\": 56448, \\\"name\\\": \\\"Jeff Chase\\\", \\\"order\\\": 66}, {\\\"cast_id\\\": 89, \\\"character\\\": \\\"Enterprise Crew Member\\\", \\\"credit_id\\\": \\\"52fe456d9251416c7505629f\\\", \\\"gender\\\": 2, \\\"id\\\": 1275523, \\\"name\\\": \\\"Charles Haugk\\\", \\\"order\\\": 67}, {\\\"cast_id\\\": 90, \\\"character\\\": \\\"Enterprise Crew Member\\\", \\\"credit_id\\\": \\\"52fe456d9251416c750562a3\\\", \\\"gender\\\": 1, \\\"id\\\": 1007337, \\\"name\\\": \\\"Nana Hill\\\", \\\"order\\\": 68}, {\\\"cast_id\\\": 91, \\\"character\\\": \\\"Enterprise Crew Member\\\", \\\"credit_id\\\": \\\"52fe456d9251416c750562a7\\\", \\\"gender\\\": 0, \\\"id\\\": 1275524, \\\"name\\\": \\\"Michael Saglimbeni\\\", \\\"order\\\": 69}, {\\\"cast_id\\\": 92, \\\"character\\\": \\\"Enterprise Crew Member\\\", \\\"credit_id\\\": \\\"52fe456d9251416c750562ab\\\", \\\"gender\\\": 0, \\\"id\\\": 1275932, \\\"name\\\": \\\"John Blackman\\\", \\\"order\\\": 70}, {\\\"cast_id\\\": 93, \\\"character\\\": \\\"Enterprise Crew Member\\\", \\\"credit_id\\\": \\\"52fe456d9251416c750562af\\\", \\\"gender\\\": 0, \\\"id\\\": 1275933, \\\"name\\\": \\\"Jack Millard\\\", \\\"order\\\": 71}, {\\\"cast_id\\\": 94, \\\"character\\\": \\\"Enterprise Crew Member\\\", \\\"credit_id\\\": \\\"52fe456d9251416c750562b3\\\", \\\"gender\\\": 0, \\\"id\\\": 1275934, \\\"name\\\": \\\"Shaela Luter\\\", \\\"order\\\": 72}, {\\\"cast_id\\\": 95, \\\"character\\\": \\\"Enterprise Crew Member\\\", \\\"credit_id\\\": \\\"52fe456d9251416c750562b7\\\", \\\"gender\\\": 0, \\\"id\\\": 1275935, \\\"name\\\": \\\"Sabrina Morris\\\", \\\"order\\\": 73}, {\\\"cast_id\\\": 96, \\\"character\\\": \\\"Enterprise Crew Member\\\", \\\"credit_id\\\": \\\"52fe456d9251416c750562bb\\\", \\\"gender\\\": 0, \\\"id\\\": 187563, \\\"name\\\": \\\"Michelle Parylak\\\", \\\"order\\\": 74}, {\\\"cast_id\\\": 97, \\\"character\\\": \\\"Enterprise Communiations Officer\\\", \\\"credit_id\\\": \\\"52fe456d9251416c750562bf\\\", \\\"gender\\\": 2, \\\"id\\\": 90609, \\\"name\\\": \\\"Oz Perkins\\\", \\\"order\\\": 75}, {\\\"cast_id\\\": 98, \\\"character\\\": \\\"Romulan Tactical Officer\\\", \\\"credit_id\\\": \\\"52fe456d9251416c750562c3\\\", \\\"gender\\\": 0, \\\"id\\\": 1716, \\\"name\\\": \\\"Michael Berry Jr.\\\", \\\"order\\\": 76}, {\\\"cast_id\\\": 100, \\\"character\\\": \\\"Romulan Crew Member\\\", \\\"credit_id\\\": \\\"52fe456d9251416c750562cb\\\", \\\"gender\\\": 0, \\\"id\\\": 1275937, \\\"name\\\": \\\"Matthew Beisner\\\", \\\"order\\\": 78}, {\\\"cast_id\\\": 101, \\\"character\\\": \\\"Romulan Crew Member\\\", \\\"credit_id\\\": \\\"52fe456d9251416c750562cf\\\", \\\"gender\\\": 2, \\\"id\\\": 1080735, \\\"name\\\": \\\"Neville Page\\\", \\\"order\\\": 79}, {\\\"cast_id\\\": 102, \\\"character\\\": \\\"Romulan Crew Member\\\", \\\"credit_id\\\": \\\"52fe456d9251416c750562d3\\\", \\\"gender\\\": 0, \\\"id\\\": 1275938, \\\"name\\\": \\\"Jesper Inglis\\\", \\\"order\\\": 80}, {\\\"cast_id\\\": 103, \\\"character\\\": \\\"Transport Chief\\\", \\\"credit_id\\\": \\\"52fe456d9251416c750562d7\\\", \\\"gender\\\": 1, \\\"id\\\": 146004, \\\"name\\\": \\\"Marlene Forte\\\", \\\"order\\\": 81}, {\\\"cast_id\\\": 104, \\\"character\\\": \\\"Vulcan Elder\\\", \\\"credit_id\\\": \\\"52fe456d9251416c750562db\\\", \\\"gender\\\": 0, \\\"id\\\": 174797, \\\"name\\\": \\\"Leonard O. Turner\\\", \\\"order\\\": 82}, {\\\"cast_id\\\": 105, \\\"character\\\": \\\"Vulcan Elder\\\", \\\"credit_id\\\": \\\"52fe456d9251416c750562df\\\", \\\"gender\\\": 0, \\\"id\\\": 156283, \\\"name\\\": \\\"Mark Bramhall\\\", \\\"order\\\": 83}, {\\\"cast_id\\\": 106, \\\"character\\\": \\\"Vulcan Elder\\\", \\\"credit_id\\\": \\\"52fe456d9251416c750562e3\\\", \\\"gender\\\": 0, \\\"id\\\": 1275939, \\\"name\\\": \\\"Ronald F. Hoiseck\\\", \\\"order\\\": 84}, {\\\"cast_id\\\": 107, \\\"character\\\": \\\"Vulcan Elder\\\", \\\"credit_id\\\": \\\"52fe456d9251416c750562e7\\\", \\\"gender\\\": 0, \\\"id\\\": 79585, \\\"name\\\": \\\"Irene Roseen\\\", \\\"order\\\": 85}, {\\\"cast_id\\\": 108, \\\"character\\\": \\\"Vulcan Elder\\\", \\\"credit_id\\\": \\\"52fe456d9251416c750562eb\\\", \\\"gender\\\": 2, \\\"id\\\": 1020340, \\\"name\\\": \\\"Jeff O'Haco\\\", \\\"order\\\": 86}, {\\\"cast_id\\\": 109, \\\"character\\\": \\\"Keenser\\\", \\\"credit_id\\\": \\\"52fe456d9251416c750562ef\\\", \\\"gender\\\": 2, \\\"id\\\": 1295, \\\"name\\\": \\\"Deep Roy\\\", \\\"order\\\": 87}, {\\\"cast_id\\\": 110, \\\"character\\\": \\\"Starfleet Computer (voice)\\\", \\\"credit_id\\\": \\\"52fe456d9251416c750562f3\\\", \\\"gender\\\": 0, \\\"id\\\": 1755, \\\"name\\\": \\\"Majel Barrett\\\", \\\"order\\\": 88}, {\\\"cast_id\\\": 111, \\\"character\\\": \\\"Council Member - Captain Kelley Bogel (uncredited)\\\", \\\"credit_id\\\": \\\"52fe456d9251416c750562f7\\\", \\\"gender\\\": 2, \\\"id\\\": 204068, \\\"name\\\": \\\"Rico E. Anderson\\\", \\\"order\\\": 89}, {\\\"cast_id\\\": 112, \\\"character\\\": \\\"Romulan Science Tech (uncredited)\\\", \\\"credit_id\\\": \\\"52fe456d9251416c750562fb\\\", \\\"gender\\\": 2, \\\"id\\\": 993162, \\\"name\\\": \\\"Richard Arnold\\\", \\\"order\\\": 90}, {\\\"cast_id\\\": 113, \\\"character\\\": \\\"Amphibian Prisoner (uncredited)\\\", \\\"credit_id\\\": \\\"52fe456d9251416c750562ff\\\", \\\"gender\\\": 0, \\\"id\\\": 225488, \\\"name\\\": \\\"Tad Atkinson\\\", \\\"order\\\": 91}, {\\\"cast_id\\\": 114, \\\"character\\\": \\\"Doctor (uncredited)\\\", \\\"credit_id\\\": \\\"52fe456d9251416c75056303\\\", \\\"gender\\\": 1, \\\"id\\\": 931039, \\\"name\\\": \\\"Leslie Augustine\\\", \\\"order\\\": 92}, {\\\"cast_id\\\": 115, \\\"character\\\": \\\"Starfleet Cadet (uncredited)\\\", \\\"credit_id\\\": \\\"52fe456d9251416c75056307\\\", \\\"gender\\\": 0, \\\"id\\\": 1278357, \\\"name\\\": \\\"Johnny Baca\\\", \\\"order\\\": 93}, {\\\"cast_id\\\": 116, \\\"character\\\": \\\"Drill Tower Romulan (uncredited)\\\", \\\"credit_id\\\": \\\"52fe456d9251416c7505630b\\\", \\\"gender\\\": 2, \\\"id\\\": 1366, \\\"name\\\": \\\"Sala Baker\\\", \\\"order\\\": 94}, {\\\"cast_id\\\": 117, \\\"character\\\": \\\"Starfleet Cadet (uncredited)\\\", \\\"credit_id\\\": \\\"52fe456d9251416c7505630f\\\", \\\"gender\\\": 0, \\\"id\\\": 1278358, \\\"name\\\": \\\"Leo Baligaya\\\", \\\"order\\\": 95}, {\\\"cast_id\\\": 118, \\\"character\\\": \\\"Starfleet Cadet (uncredited)\\\", \\\"credit_id\\\": \\\"52fe456d9251416c75056313\\\", \\\"gender\\\": 0, \\\"id\\\": 1278359, \\\"name\\\": \\\"Corey Becker\\\", \\\"order\\\": 96}, {\\\"cast_id\\\": 119, \\\"character\\\": \\\"Bridgeport Cadet (uncredited)\\\", \\\"credit_id\\\": \\\"52fe456d9251416c75056317\\\", \\\"gender\\\": 0, \\\"id\\\": 1278360, \\\"name\\\": \\\"Jessica Boss\\\", \\\"order\\\": 97}, {\\\"cast_id\\\": 120, \\\"character\\\": \\\"Starfleet Cadet (uncredited)\\\", \\\"credit_id\\\": \\\"52fe456d9251416c7505631b\\\", \\\"gender\\\": 0, \\\"id\\\": 1278361, \\\"name\\\": \\\"Neil S. Bulk\\\", \\\"order\\\": 98}, {\\\"cast_id\\\": 121, \\\"character\\\": \\\"Enterprise Crewmember (uncredited)\\\", \\\"credit_id\\\": \\\"52fe456d9251416c7505631f\\\", \\\"gender\\\": 0, \\\"id\\\": 1278363, \\\"name\\\": \\\"James Cawley\\\", \\\"order\\\": 99}, {\\\"cast_id\\\": 122, \\\"character\\\": \\\"Starfleet Cadet (uncredited)\\\", \\\"credit_id\\\": \\\"52fe456d9251416c75056323\\\", \\\"gender\\\": 0, \\\"id\\\": 1278364, \\\"name\\\": \\\"Brad Champagne\\\", \\\"order\\\": 100}, {\\\"cast_id\\\": 123, \\\"character\\\": \\\"Starfleet Cadet (uncredited)\\\", \\\"credit_id\\\": \\\"52fe456d9251416c75056327\\\", \\\"gender\\\": 0, \\\"id\\\": 1278365, \\\"name\\\": \\\"Zachary Culbertson\\\", \\\"order\\\": 101}, {\\\"cast_id\\\": 124, \\\"character\\\": \\\"Security Officer Daniels (uncredited)\\\", \\\"credit_id\\\": \\\"52fe456d9251416c7505632b\\\", \\\"gender\\\": 0, \\\"id\\\": 1278367, \\\"name\\\": \\\"Calvin Dean\\\", \\\"order\\\": 102}, {\\\"cast_id\\\": 125, \\\"character\\\": \\\"Starfleet Officer (uncredited)\\\", \\\"credit_id\\\": \\\"52fe456d9251416c7505632f\\\", \\\"gender\\\": 0, \\\"id\\\": 1278368, \\\"name\\\": \\\"Christopher Doohan\\\", \\\"order\\\": 103}, {\\\"cast_id\\\": 126, \\\"character\\\": \\\"Enterprise Crew Member (uncredited)\\\", \\\"credit_id\\\": \\\"52fe456d9251416c75056333\\\", \\\"gender\\\": 0, \\\"id\\\": 1278369, \\\"name\\\": \\\"Claire Dor\\\\u00e9\\\", \\\"order\\\": 104}, {\\\"cast_id\\\": 127, \\\"character\\\": \\\"Klingon Prisoner - Nero's Flashback (uncredited)\\\", \\\"credit_id\\\": \\\"52fe456d9251416c75056337\\\", \\\"gender\\\": 2, \\\"id\\\": 97447, \\\"name\\\": \\\"Mark Casimir Dyniewicz\\\", \\\"order\\\": 105}, {\\\"cast_id\\\": 128, \\\"character\\\": \\\"Vulcan Federation Officer (uncredited)\\\", \\\"credit_id\\\": \\\"52fe456d9251416c7505633b\\\", \\\"gender\\\": 0, \\\"id\\\": 1278370, \\\"name\\\": \\\"Etienne Eckert\\\", \\\"order\\\": 106}, {\\\"cast_id\\\": 129, \\\"character\\\": \\\"Doctor (uncredited)\\\", \\\"credit_id\\\": \\\"52fe456d9251416c7505633f\\\", \\\"gender\\\": 0, \\\"id\\\": 1278371, \\\"name\\\": \\\"Ken Edling\\\", \\\"order\\\": 107}, {\\\"cast_id\\\": 130, \\\"character\\\": \\\"Hurried Cadet with Clipboard (uncredited)\\\", \\\"credit_id\\\": \\\"52fe456d9251416c75056343\\\", \\\"gender\\\": 0, \\\"id\\\": 1278372, \\\"name\\\": \\\"Aliza Finley\\\", \\\"order\\\": 108}, {\\\"cast_id\\\": 131, \\\"character\\\": \\\"Shipyard Worker (uncredited)\\\", \\\"credit_id\\\": \\\"52fe456e9251416c75056347\\\", \\\"gender\\\": 2, \\\"id\\\": 129600, \\\"name\\\": \\\"Ian Fisher\\\", \\\"order\\\": 109}, {\\\"cast_id\\\": 132, \\\"character\\\": \\\"Starfleet Cadet (uncredited)\\\", \\\"credit_id\\\": \\\"52fe456e9251416c7505634b\\\", \\\"gender\\\": 0, \\\"id\\\": 1278373, \\\"name\\\": \\\"Mathew Thomas Foss\\\", \\\"order\\\": 110}, {\\\"cast_id\\\": 133, \\\"character\\\": \\\"Missile Launcher (uncredited)\\\", \\\"credit_id\\\": \\\"52fe456e9251416c7505634f\\\", \\\"gender\\\": 0, \\\"id\\\": 1010873, \\\"name\\\": \\\"Massi Furlan\\\", \\\"order\\\": 111}, {\\\"cast_id\\\": 134, \\\"character\\\": \\\"Klingon Interrogator (scenes deleted) (uncredited)\\\", \\\"credit_id\\\": \\\"52fe456e9251416c75056353\\\", \\\"gender\\\": 2, \\\"id\\\": 8536, \\\"name\\\": \\\"Victor Garber\\\", \\\"order\\\": 112}, {\\\"cast_id\\\": 135, \\\"character\\\": \\\"FourSquare (uncredited)\\\", \\\"credit_id\\\": \\\"52fe456e9251416c75056357\\\", \\\"gender\\\": 0, \\\"id\\\": 1278375, \\\"name\\\": \\\"Tommy Germanovich Jr.\\\", \\\"order\\\": 113}, {\\\"cast_id\\\": 136, \\\"character\\\": \\\"Shipyard Bar Patron (uncredited)\\\", \\\"credit_id\\\": \\\"52fe456e9251416c7505635b\\\", \\\"gender\\\": 0, \\\"id\\\": 218569, \\\"name\\\": \\\"Mary Grace\\\", \\\"order\\\": 114}, {\\\"cast_id\\\": 137, \\\"character\\\": \\\"Starfleet Cadet (uncredited)\\\", \\\"credit_id\\\": \\\"52fe456e9251416c7505635f\\\", \\\"gender\\\": 0, \\\"id\\\": 1278378, \\\"name\\\": \\\"Wyatt Gray\\\", \\\"order\\\": 115}, {\\\"cast_id\\\": 138, \\\"character\\\": \\\"Child Running in Snow (uncredited)\\\", \\\"credit_id\\\": \\\"52fe456e9251416c75056363\\\", \\\"gender\\\": 2, \\\"id\\\": 971780, \\\"name\\\": \\\"Joshua Greene\\\", \\\"order\\\": 116}, {\\\"cast_id\\\": 139, \\\"character\\\": \\\"Crew Member (uncredited)\\\", \\\"credit_id\\\": \\\"52fe456e9251416c75056367\\\", \\\"gender\\\": 0, \\\"id\\\": 74504, \\\"name\\\": \\\"Nancy Guerriero\\\", \\\"order\\\": 117}, {\\\"cast_id\\\": 140, \\\"character\\\": \\\"Starfleet Security Officer (uncredited)\\\", \\\"credit_id\\\": \\\"52fe456e9251416c7505636b\\\", \\\"gender\\\": 0, \\\"id\\\": 85743, \\\"name\\\": \\\"Justin Rodgers Hall\\\", \\\"order\\\": 118}, {\\\"cast_id\\\": 141, \\\"character\\\": \\\"Kelvin Crew Member (uncredited)\\\", \\\"credit_id\\\": \\\"52fe456e9251416c7505636f\\\", \\\"gender\\\": 0, \\\"id\\\": 1278379, \\\"name\\\": \\\"Jeffery Hauser\\\", \\\"order\\\": 119}, {\\\"cast_id\\\": 142, \\\"character\\\": \\\"Uncle Frank (uncredited) (unconfirmed)\\\", \\\"credit_id\\\": \\\"52fe456e9251416c75056373\\\", \\\"gender\\\": 2, \\\"id\\\": 15376, \\\"name\\\": \\\"Brad William Henke\\\", \\\"order\\\": 120}, {\\\"cast_id\\\": 143, \\\"character\\\": \\\"Enterprise Nurse (uncredited)\\\", \\\"credit_id\\\": \\\"52fe456e9251416c75056377\\\", \\\"gender\\\": 1, \\\"id\\\": 490982, \\\"name\\\": \\\"Elizabeth Ingalls\\\", \\\"order\\\": 121}, {\\\"cast_id\\\": 144, \\\"character\\\": \\\"Shipyard Worker (uncredited)\\\", \\\"credit_id\\\": \\\"52fe456e9251416c7505637b\\\", \\\"gender\\\": 2, \\\"id\\\": 228458, \\\"name\\\": \\\"Christopher Karl Johnson\\\", \\\"order\\\": 122}, {\\\"cast_id\\\": 145, \\\"character\\\": \\\"Enterprise Crew Member (uncredited)\\\", \\\"credit_id\\\": \\\"52fe456e9251416c7505637f\\\", \\\"gender\\\": 0, \\\"id\\\": 1278380, \\\"name\\\": \\\"Jolene Kay\\\", \\\"order\\\": 123}, {\\\"cast_id\\\": 146, \\\"character\\\": \\\"Starfleet Cadet (uncredited)\\\", \\\"credit_id\\\": \\\"52fe456e9251416c75056383\\\", \\\"gender\\\": 0, \\\"id\\\": 1278381, \\\"name\\\": \\\"Sarah Klaren\\\", \\\"order\\\": 124}, {\\\"cast_id\\\": 147, \\\"character\\\": \\\"Enterprise Crew Member (uncredited)\\\", \\\"credit_id\\\": \\\"52fe456e9251416c75056387\\\", \\\"gender\\\": 0, \\\"id\\\": 1278382, \\\"name\\\": \\\"Makiko Konishi\\\", \\\"order\\\": 125}, {\\\"cast_id\\\": 148, \\\"character\\\": \\\"Starfleet Cadet (uncredited)\\\", \\\"credit_id\\\": \\\"52fe456e9251416c7505638b\\\", \\\"gender\\\": 0, \\\"id\\\": 1014618, \\\"name\\\": \\\"Bryan Lee\\\", \\\"order\\\": 126}, {\\\"cast_id\\\": 149, \\\"character\\\": \\\"Starfleet Commander (uncredited)\\\", \\\"credit_id\\\": \\\"52fe456e9251416c7505638f\\\", \\\"gender\\\": 0, \\\"id\\\": 1278383, \\\"name\\\": \\\"Daniel D. Lee\\\", \\\"order\\\": 127}, {\\\"cast_id\\\": 150, \\\"character\\\": \\\"Enterprise Crew Member (uncredited)\\\", \\\"credit_id\\\": \\\"52fe456e9251416c75056393\\\", \\\"gender\\\": 1, \\\"id\\\": 139553, \\\"name\\\": \\\"Anne Leighton\\\", \\\"order\\\": 128}, {\\\"cast_id\\\": 151, \\\"character\\\": \\\"Lieutenant Star Fleet Command (uncredited)\\\", \\\"credit_id\\\": \\\"52fe456e9251416c75056397\\\", \\\"gender\\\": 2, \\\"id\\\": 1103961, \\\"name\\\": \\\"Steve Luna\\\", \\\"order\\\": 129}, {\\\"cast_id\\\": 152, \\\"character\\\": \\\"Flight Operational Air Safety Conductor (uncredited)\\\", \\\"credit_id\\\": \\\"52fe456e9251416c7505639b\\\", \\\"gender\\\": 0, \\\"id\\\": 1278384, \\\"name\\\": \\\"Aaron Lynch\\\", \\\"order\\\": 130}, {\\\"cast_id\\\": 153, \\\"character\\\": \\\"Starfleet Cadet (uncredited)\\\", \\\"credit_id\\\": \\\"52fe456e9251416c7505639f\\\", \\\"gender\\\": 0, \\\"id\\\": 1278385, \\\"name\\\": \\\"Justin Malachi\\\", \\\"order\\\": 131}, {\\\"cast_id\\\": 154, \\\"character\\\": \\\"Romulan Crew Member Placing Bomb (uncredited)\\\", \\\"credit_id\\\": \\\"52fe456e9251416c750563a3\\\", \\\"gender\\\": 2, \\\"id\\\": 989924, \\\"name\\\": \\\"Nav Mann\\\", \\\"order\\\": 132}, {\\\"cast_id\\\": 155, \\\"character\\\": \\\"Bar Patron (uncredited)\\\", \\\"credit_id\\\": \\\"52fe456e9251416c750563a7\\\", \\\"gender\\\": 0, \\\"id\\\": 1278386, \\\"name\\\": \\\"Paul Marshall\\\", \\\"order\\\": 133}, {\\\"cast_id\\\": 156, \\\"character\\\": \\\"Alien Cadet / Enterprise Crew (uncredited)\\\", \\\"credit_id\\\": \\\"52fe456e9251416c750563ab\\\", \\\"gender\\\": 0, \\\"id\\\": 1114365, \\\"name\\\": \\\"Owen Martin\\\", \\\"order\\\": 134}, {\\\"cast_id\\\": 157, \\\"character\\\": \\\"Kelvin Alien (uncredited)\\\", \\\"credit_id\\\": \\\"52fe456e9251416c750563af\\\", \\\"gender\\\": 0, \\\"id\\\": 1278387, \\\"name\\\": \\\"Taylor McCluskey\\\", \\\"order\\\": 135}, {\\\"cast_id\\\": 158, \\\"character\\\": \\\"Starfleet Cadet (uncredited)\\\", \\\"credit_id\\\": \\\"52fe456e9251416c750563b3\\\", \\\"gender\\\": 0, \\\"id\\\": 1278388, \\\"name\\\": \\\"Matthew McGregor\\\", \\\"order\\\": 136}, {\\\"cast_id\\\": 159, \\\"character\\\": \\\"Kelvin Computer (uncredited)\\\", \\\"credit_id\\\": \\\"52fe456e9251416c750563b7\\\", \\\"gender\\\": 1, \\\"id\\\": 59055, \\\"name\\\": \\\"Caitlin McKenna-Wilkinson\\\", \\\"order\\\": 137}, {\\\"cast_id\\\": 160, \\\"character\\\": \\\"Councilwoman (uncredited)\\\", \\\"credit_id\\\": \\\"52fe456e9251416c750563bb\\\", \\\"gender\\\": 0, \\\"id\\\": 1278389, \\\"name\\\": \\\"Patrizia Milano\\\", \\\"order\\\": 138}, {\\\"cast_id\\\": 161, \\\"character\\\": \\\"Enterprise Crewman (uncredited)\\\", \\\"credit_id\\\": \\\"52fe456e9251416c750563bf\\\", \\\"gender\\\": 0, \\\"id\\\": 1278390, \\\"name\\\": \\\"Kevin Moser\\\", \\\"order\\\": 139}, {\\\"cast_id\\\": 162, \\\"character\\\": \\\"Starfleet Cadet (uncredited)\\\", \\\"credit_id\\\": \\\"52fe456e9251416c750563c3\\\", \\\"gender\\\": 0, \\\"id\\\": 1278391, \\\"name\\\": \\\"Jonathan W.D. Newkerk\\\", \\\"order\\\": 140}, {\\\"cast_id\\\": 163, \\\"character\\\": \\\"Enterprise Crew Member (uncredited)\\\", \\\"credit_id\\\": \\\"52fe456e9251416c750563c7\\\", \\\"gender\\\": 0, \\\"id\\\": 1278392, \\\"name\\\": \\\"Westley Nguyen\\\", \\\"order\\\": 141}, {\\\"cast_id\\\": 164, \\\"character\\\": \\\"Sal (uncredited)\\\", \\\"credit_id\\\": \\\"52fe456e9251416c750563cb\\\", \\\"gender\\\": 0, \\\"id\\\": 1278393, \\\"name\\\": \\\"Jim Nieb\\\", \\\"order\\\": 142}, {\\\"cast_id\\\": 165, \\\"character\\\": \\\"Romulan Crew Member (uncredited)\\\", \\\"credit_id\\\": \\\"52fe456e9251416c750563cf\\\", \\\"gender\\\": 2, \\\"id\\\": 1226016, \\\"name\\\": \\\"Andres Perez-Molina\\\", \\\"order\\\": 143}, {\\\"cast_id\\\": 166, \\\"character\\\": \\\"Romulan (uncredited)\\\", \\\"credit_id\\\": \\\"52fe456e9251416c750563d3\\\", \\\"gender\\\": 2, \\\"id\\\": 149466, \\\"name\\\": \\\"Mark Phelan\\\", \\\"order\\\": 144}, {\\\"cast_id\\\": 167, \\\"character\\\": \\\"Drill Hanson #1 (uncredited)\\\", \\\"credit_id\\\": \\\"52fe456e9251416c750563d7\\\", \\\"gender\\\": 2, \\\"id\\\": 150194, \\\"name\\\": \\\"Damion Poitier\\\", \\\"order\\\": 145}, {\\\"cast_id\\\": 168, \\\"character\\\": \\\"Academy Teacher (uncredited)\\\", \\\"credit_id\\\": \\\"52fe456e9251416c750563db\\\", \\\"gender\\\": 1, \\\"id\\\": 986700, \\\"name\\\": \\\"Rahvaunia\\\", \\\"order\\\": 146}, {\\\"cast_id\\\": 169, \\\"character\\\": \\\"Shuttle Cadet (uncredited)\\\", \\\"credit_id\\\": \\\"52fe456e9251416c750563df\\\", \\\"gender\\\": 0, \\\"id\\\": 97466, \\\"name\\\": \\\"Bertrand Roberson Jr.\\\", \\\"order\\\": 147}, {\\\"cast_id\\\": 170, \\\"character\\\": \\\"Starfleet Cadet (uncredited)\\\", \\\"credit_id\\\": \\\"52fe456e9251416c750563e3\\\", \\\"gender\\\": 1, \\\"id\\\": 588647, \\\"name\\\": \\\"Deborah Rombaut\\\", \\\"order\\\": 148}, {\\\"cast_id\\\": 171, \\\"character\\\": \\\"Starfleet Cadet (uncredited)\\\", \\\"credit_id\\\": \\\"52fe456e9251416c750563e7\\\", \\\"gender\\\": 0, \\\"id\\\": 1278394, \\\"name\\\": \\\"Leonard Jonathan Ruebe\\\", \\\"order\\\": 149}, {\\\"cast_id\\\": 172, \\\"character\\\": \\\"Starfleet Cadet (uncredited)\\\", \\\"credit_id\\\": \\\"52fe456e9251416c750563eb\\\", \\\"gender\\\": 0, \\\"id\\\": 1278395, \\\"name\\\": \\\"Ramona Seymour\\\", \\\"order\\\": 150}, {\\\"cast_id\\\": 173, \\\"character\\\": \\\"Vulcan Science Minister (uncredited)\\\", \\\"credit_id\\\": \\\"52fe456e9251416c750563ef\\\", \\\"gender\\\": 0, \\\"id\\\": 938390, \\\"name\\\": \\\"William Morgan Sheppard\\\", \\\"order\\\": 151}, {\\\"cast_id\\\": 174, \\\"character\\\": \\\"Enterprise Crew Member (uncredited)\\\", \\\"credit_id\\\": \\\"52fe456e9251416c750563f3\\\", \\\"gender\\\": 0, \\\"id\\\": 1278397, \\\"name\\\": \\\"Katie Soo\\\", \\\"order\\\": 152}, {\\\"cast_id\\\": 176, \\\"character\\\": \\\"Shuttle Pilot (uncredited)\\\", \\\"credit_id\\\": \\\"52fe456e9251416c750563fb\\\", \\\"gender\\\": 0, \\\"id\\\": 121905, \\\"name\\\": \\\"Ronnie Steadman\\\", \\\"order\\\": 154}, {\\\"cast_id\\\": 177, \\\"character\\\": \\\"Cadet Officer (uncredited)\\\", \\\"credit_id\\\": \\\"52fe456e9251416c750563ff\\\", \\\"gender\\\": 0, \\\"id\\\": 1278398, \\\"name\\\": \\\"Joseph Stephens Jr.\\\", \\\"order\\\": 155}, {\\\"cast_id\\\": 178, \\\"character\\\": \\\"Romulan Engineer (uncredited)\\\", \\\"credit_id\\\": \\\"52fe456e9251416c75056403\\\", \\\"gender\\\": 0, \\\"id\\\": 1278399, \\\"name\\\": \\\"Joseph Steven\\\", \\\"order\\\": 156}, {\\\"cast_id\\\": 179, \\\"character\\\": \\\"Klingon Agitator (uncredited)\\\", \\\"credit_id\\\": \\\"52fe456e9251416c75056407\\\", \\\"gender\\\": 2, \\\"id\\\": 980805, \\\"name\\\": \\\"T.J. Storm\\\", \\\"order\\\": 157}, {\\\"cast_id\\\": 180, \\\"character\\\": \\\"Starfleet Security Officer (uncredited)\\\", \\\"credit_id\\\": \\\"52fe456e9251416c7505640b\\\", \\\"gender\\\": 0, \\\"id\\\": 203279, \\\"name\\\": \\\"Paul Townsend\\\", \\\"order\\\": 158}, {\\\"cast_id\\\": 181, \\\"character\\\": \\\"Klingon Prison Guard (uncredited)\\\", \\\"credit_id\\\": \\\"52fe456e9251416c7505640f\\\", \\\"gender\\\": 2, \\\"id\\\": 1235227, \\\"name\\\": \\\"Scott Trimble\\\", \\\"order\\\": 159}, {\\\"cast_id\\\": 182, \\\"character\\\": \\\"Federation Captain Cartwright (uncredited)\\\", \\\"credit_id\\\": \\\"52fe456e9251416c75056413\\\", \\\"gender\\\": 0, \\\"id\\\": 1278508, \\\"name\\\": \\\"Errik Tustenuggee\\\", \\\"order\\\": 160}, {\\\"cast_id\\\": 183, \\\"character\\\": \\\"Cadet at Trial (uncredited)\\\", \\\"credit_id\\\": \\\"52fe456e9251416c75056417\\\", \\\"gender\\\": 0, \\\"id\\\": 1278509, \\\"name\\\": \\\"Ravi Valleti\\\", \\\"order\\\": 161}, {\\\"cast_id\\\": 184, \\\"character\\\": \\\"Starfleet Cadet (uncredited)\\\", \\\"credit_id\\\": \\\"52fe456e9251416c7505641b\\\", \\\"gender\\\": 0, \\\"id\\\": 1278514, \\\"name\\\": \\\"Jason Vaughn\\\", \\\"order\\\": 162}, {\\\"cast_id\\\": 185, \\\"character\\\": \\\"Enterprise Crewman (uncredited)\\\", \\\"credit_id\\\": \\\"52fe456e9251416c7505641f\\\", \\\"gender\\\": 2, \\\"id\\\": 1278515, \\\"name\\\": \\\"A.J. Verel\\\", \\\"order\\\": 163}, {\\\"cast_id\\\": 186, \\\"character\\\": \\\"Vulcan Council Member (uncredited)\\\", \\\"credit_id\\\": \\\"52fe456e9251416c75056423\\\", \\\"gender\\\": 0, \\\"id\\\": 1202555, \\\"name\\\": \\\"Brian Waller\\\", \\\"order\\\": 164}, {\\\"cast_id\\\": 187, \\\"character\\\": \\\"Star Fleet Cadet (uncredited)\\\", \\\"credit_id\\\": \\\"52fe456e9251416c75056427\\\", \\\"gender\\\": 0, \\\"id\\\": 1278516, \\\"name\\\": \\\"Steve Wharton\\\", \\\"order\\\": 165}, {\\\"cast_id\\\": 188, \\\"character\\\": \\\"Romulan (voice) (uncredited)\\\", \\\"credit_id\\\": \\\"52fe456e9251416c7505642b\\\", \\\"gender\\\": 2, \\\"id\\\": 3033, \\\"name\\\": \\\"Wil Wheaton\\\", \\\"order\\\": 166}, {\\\"cast_id\\\": 189, \\\"character\\\": \\\"Starfleet Cadet (uncredited)\\\", \\\"credit_id\\\": \\\"52fe456e9251416c7505642f\\\", \\\"gender\\\": 0, \\\"id\\\": 1278521, \\\"name\\\": \\\"Brianna Womick\\\", \\\"order\\\": 167}, {\\\"cast_id\\\": 190, \\\"character\\\": \\\"Enterprise Computer (voice) (uncredited)\\\", \\\"credit_id\\\": \\\"52fe456e9251416c75056433\\\", \\\"gender\\\": 0, \\\"id\\\": 64451, \\\"name\\\": \\\"Lynnanne Zager\\\", \\\"order\\\": 168}, {\\\"cast_id\\\": 199, \\\"character\\\": \\\"Romulan Officer\\\", \\\"credit_id\\\": \\\"54e8a4569251412eb1001f2f\\\", \\\"gender\\\": 2, \\\"id\\\": 52762, \\\"name\\\": \\\"Pavel Lychnikoff\\\", \\\"order\\\": 169}, {\\\"cast_id\\\": 203, \\\"character\\\": \\\"Flight Officer\\\", \\\"credit_id\\\": \\\"58c7f9ce92514179f700e482\\\", \\\"gender\\\": 1, \\\"id\\\": 130733, \\\"name\\\": \\\"Darlena Tejeiro\\\", \\\"order\\\": 170}]\",\n          \"[{\\\"cast_id\\\": 4, \\\"character\\\": \\\"Carl Fredricksen (voice)\\\", \\\"credit_id\\\": \\\"52fe45d19251416c75063875\\\", \\\"gender\\\": 2, \\\"id\\\": 68812, \\\"name\\\": \\\"Ed Asner\\\", \\\"order\\\": 0}, {\\\"cast_id\\\": 5, \\\"character\\\": \\\"Charles Muntz (voice)\\\", \\\"credit_id\\\": \\\"52fe45d19251416c75063879\\\", \\\"gender\\\": 2, \\\"id\\\": 290, \\\"name\\\": \\\"Christopher Plummer\\\", \\\"order\\\": 1}, {\\\"cast_id\\\": 6, \\\"character\\\": \\\"Russell (voice)\\\", \\\"credit_id\\\": \\\"52fe45d19251416c7506387d\\\", \\\"gender\\\": 2, \\\"id\\\": 80676, \\\"name\\\": \\\"Jordan Nagai\\\", \\\"order\\\": 2}, {\\\"cast_id\\\": 7, \\\"character\\\": \\\"Dug / Alpha (voice)\\\", \\\"credit_id\\\": \\\"52fe45d19251416c75063881\\\", \\\"gender\\\": 2, \\\"id\\\": 10, \\\"name\\\": \\\"Bob Peterson\\\", \\\"order\\\": 3}, {\\\"cast_id\\\": 8, \\\"character\\\": \\\"Beta (voice)\\\", \\\"credit_id\\\": \\\"52fe45d19251416c75063885\\\", \\\"gender\\\": 2, \\\"id\\\": 18792, \\\"name\\\": \\\"Delroy Lindo\\\", \\\"order\\\": 4}, {\\\"cast_id\\\": 19, \\\"character\\\": \\\"Gamma (voice)\\\", \\\"credit_id\\\": \\\"52fe45d19251416c750638ad\\\", \\\"gender\\\": 2, \\\"id\\\": 7960, \\\"name\\\": \\\"Jerome Ranft\\\", \\\"order\\\": 5}, {\\\"cast_id\\\": 10, \\\"character\\\": \\\"Construction Foreman Tom (voice)\\\", \\\"credit_id\\\": \\\"52fe45d19251416c75063889\\\", \\\"gender\\\": 2, \\\"id\\\": 7907, \\\"name\\\": \\\"John Ratzenberger\\\", \\\"order\\\": 6}, {\\\"cast_id\\\": 11, \\\"character\\\": \\\"Newsreel Announcer (voice)\\\", \\\"credit_id\\\": \\\"52fe45d19251416c7506388d\\\", \\\"gender\\\": 2, \\\"id\\\": 84490, \\\"name\\\": \\\"David Kaye\\\", \\\"order\\\": 7}, {\\\"cast_id\\\": 12, \\\"character\\\": \\\"Young Ellie (voice)\\\", \\\"credit_id\\\": \\\"52fe45d19251416c75063891\\\", \\\"gender\\\": 0, \\\"id\\\": 84491, \\\"name\\\": \\\"Elie Docter\\\", \\\"order\\\": 8}, {\\\"cast_id\\\": 13, \\\"character\\\": \\\"Young Carl (voice)\\\", \\\"credit_id\\\": \\\"52fe45d19251416c75063895\\\", \\\"gender\\\": 0, \\\"id\\\": 84492, \\\"name\\\": \\\"Jeremy Leary\\\", \\\"order\\\": 9}, {\\\"cast_id\\\": 14, \\\"character\\\": \\\"Police Officer Edith (voice)\\\", \\\"credit_id\\\": \\\"52fe45d19251416c75063899\\\", \\\"gender\\\": 0, \\\"id\\\": 84493, \\\"name\\\": \\\"Mickie McGowan\\\", \\\"order\\\": 10}, {\\\"cast_id\\\": 15, \\\"character\\\": \\\"Construction Worker Steve (voice)\\\", \\\"credit_id\\\": \\\"52fe45d19251416c7506389d\\\", \\\"gender\\\": 2, \\\"id\\\": 52699, \\\"name\\\": \\\"Danny Mann\\\", \\\"order\\\": 11}, {\\\"cast_id\\\": 16, \\\"character\\\": \\\"Nurse George (voice)\\\", \\\"credit_id\\\": \\\"52fe45d19251416c750638a1\\\", \\\"gender\\\": 0, \\\"id\\\": 84494, \\\"name\\\": \\\"Donald Fullilove\\\", \\\"order\\\": 12}, {\\\"cast_id\\\": 17, \\\"character\\\": \\\"Nurse AJ (voice)\\\", \\\"credit_id\\\": \\\"52fe45d19251416c750638a5\\\", \\\"gender\\\": 2, \\\"id\\\": 84495, \\\"name\\\": \\\"Jess Harnell\\\", \\\"order\\\": 13}, {\\\"cast_id\\\": 18, \\\"character\\\": \\\"Omega (voice)\\\", \\\"credit_id\\\": \\\"52fe45d19251416c750638a9\\\", \\\"gender\\\": 0, \\\"id\\\": 84496, \\\"name\\\": \\\"Josh Cooley\\\", \\\"order\\\": 14}, {\\\"cast_id\\\": 20, \\\"character\\\": \\\"Campmaster Strauch (voice)\\\", \\\"credit_id\\\": \\\"52fe45d19251416c750638b1\\\", \\\"gender\\\": 2, \\\"id\\\": 12890, \\\"name\\\": \\\"Pete Docter\\\", \\\"order\\\": 15}]\"\n        ],\n        \"semantic_type\": \"\",\n        \"description\": \"\"\n      }\n    },\n    {\n      \"column\": \"crew\",\n      \"properties\": {\n        \"dtype\": \"string\",\n        \"num_unique_values\": 739,\n        \"samples\": [\n          \"[{\\\"credit_id\\\": \\\"52fe4a0cc3a36847f81b5c9f\\\", \\\"department\\\": \\\"Production\\\", \\\"gender\\\": 0, \\\"id\\\": 8386, \\\"job\\\": \\\"Executive Producer\\\", \\\"name\\\": \\\"Sarah Bradshaw\\\"}, {\\\"credit_id\\\": \\\"543eb4b5c3a368250a0028c5\\\", \\\"department\\\": \\\"Sound\\\", \\\"gender\\\": 2, \\\"id\\\": 1213, \\\"job\\\": \\\"Original Music Composer\\\", \\\"name\\\": \\\"James Newton Howard\\\"}, {\\\"credit_id\\\": \\\"55a77d9592514125da0011b2\\\", \\\"department\\\": \\\"Camera\\\", \\\"gender\\\": 2, \\\"id\\\": 4501, \\\"job\\\": \\\"Director of Photography\\\", \\\"name\\\": \\\"Dean Semler\\\"}, {\\\"credit_id\\\": \\\"55a77dc39251411e18001479\\\", \\\"department\\\": \\\"Costume & Make-Up\\\", \\\"gender\\\": 1, \\\"id\\\": 6688, \\\"job\\\": \\\"Costume Design\\\", \\\"name\\\": \\\"Anna B. Sheppard\\\"}, {\\\"credit_id\\\": \\\"58cf90499251415a39031f8d\\\", \\\"department\\\": \\\"Production\\\", \\\"gender\\\": 1, \\\"id\\\": 11701, \\\"job\\\": \\\"Executive Producer\\\", \\\"name\\\": \\\"Angelina Jolie\\\"}, {\\\"credit_id\\\": \\\"52fe4a0cc3a36847f81b5ca5\\\", \\\"department\\\": \\\"Production\\\", \\\"gender\\\": 2, \\\"id\\\": 12824, \\\"job\\\": \\\"Producer\\\", \\\"name\\\": \\\"Don Hahn\\\"}, {\\\"credit_id\\\": \\\"52fe4a0cc3a36847f81b5cab\\\", \\\"department\\\": \\\"Production\\\", \\\"gender\\\": 1, \\\"id\\\": 23424, \\\"job\\\": \\\"Casting\\\", \\\"name\\\": \\\"Lucy Bevan\\\"}, {\\\"credit_id\\\": \\\"52fe4a0cc3a36847f81b5cbf\\\", \\\"department\\\": \\\"Writing\\\", \\\"gender\\\": 1, \\\"id\\\": 38792, \\\"job\\\": \\\"Screenplay\\\", \\\"name\\\": \\\"Linda Woolverton\\\"}, {\\\"credit_id\\\": \\\"52fe4a0cc3a36847f81b5cb9\\\", \\\"department\\\": \\\"Directing\\\", \\\"gender\\\": 0, \\\"id\\\": 1032536, \\\"job\\\": \\\"Director\\\", \\\"name\\\": \\\"Robert Stromberg\\\"}, {\\\"credit_id\\\": \\\"554fb323c3a3681870005427\\\", \\\"department\\\": \\\"Crew\\\", \\\"gender\\\": 0, \\\"id\\\": 1447542, \\\"job\\\": \\\"Compositors\\\", \\\"name\\\": \\\"Erik Classen\\\"}, {\\\"credit_id\\\": \\\"55468e5bc3a3680cd700770d\\\", \\\"department\\\": \\\"Visual Effects\\\", \\\"gender\\\": 0, \\\"id\\\": 1451684, \\\"job\\\": \\\"Visual Effects\\\", \\\"name\\\": \\\"Matthew Maners\\\"}, {\\\"credit_id\\\": \\\"552c5c7892514174db0002cf\\\", \\\"department\\\": \\\"Visual Effects\\\", \\\"gender\\\": 0, \\\"id\\\": 1452995, \\\"job\\\": \\\"Animation\\\", \\\"name\\\": \\\"Stewart Alves\\\"}, {\\\"credit_id\\\": \\\"552f5f15c3a368220e0014a0\\\", \\\"department\\\": \\\"Directing\\\", \\\"gender\\\": 0, \\\"id\\\": 1454884, \\\"job\\\": \\\"Assistant Director\\\", \\\"name\\\": \\\"Cedric Nicolas-Troyan\\\"}, {\\\"credit_id\\\": \\\"554ec43b92514162f5000072\\\", \\\"department\\\": \\\"Crew\\\", \\\"gender\\\": 0, \\\"id\\\": 1460603, \\\"job\\\": \\\"Compositors\\\", \\\"name\\\": \\\"Dhumal Sagar\\\"}]\",\n          \"[{\\\"credit_id\\\": \\\"53748f960e0a267c5f003884\\\", \\\"department\\\": \\\"Costume & Make-Up\\\", \\\"gender\\\": 2, \\\"id\\\": 605, \\\"job\\\": \\\"Costume Design\\\", \\\"name\\\": \\\"Michael Kaplan\\\"}, {\\\"credit_id\\\": \\\"57ec8eebc3a3683a850026a8\\\", \\\"department\\\": \\\"Writing\\\", \\\"gender\\\": 2, \\\"id\\\": 1745, \\\"job\\\": \\\"Characters\\\", \\\"name\\\": \\\"Gene Roddenberry\\\"}, {\\\"credit_id\\\": \\\"52fe456d9251416c750561f7\\\", \\\"department\\\": \\\"Production\\\", \\\"gender\\\": 1, \\\"id\\\": 6052, \\\"job\\\": \\\"Casting\\\", \\\"name\\\": \\\"April Webster\\\"}, {\\\"credit_id\\\": \\\"52fe456c9251416c75056141\\\", \\\"department\\\": \\\"Directing\\\", \\\"gender\\\": 2, \\\"id\\\": 15344, \\\"job\\\": \\\"Director\\\", \\\"name\\\": \\\"J.J. Abrams\\\"}, {\\\"credit_id\\\": \\\"52fe456c9251416c75056147\\\", \\\"department\\\": \\\"Production\\\", \\\"gender\\\": 2, \\\"id\\\": 15344, \\\"job\\\": \\\"Producer\\\", \\\"name\\\": \\\"J.J. Abrams\\\"}, {\\\"credit_id\\\": \\\"52fe456c9251416c75056159\\\", \\\"department\\\": \\\"Production\\\", \\\"gender\\\": 2, \\\"id\\\": 15345, \\\"job\\\": \\\"Executive Producer\\\", \\\"name\\\": \\\"Alex Kurtzman\\\"}, {\\\"credit_id\\\": \\\"52fe456e9251416c7505643f\\\", \\\"department\\\": \\\"Writing\\\", \\\"gender\\\": 2, \\\"id\\\": 15345, \\\"job\\\": \\\"Writer\\\", \\\"name\\\": \\\"Alex Kurtzman\\\"}, {\\\"credit_id\\\": \\\"52fe456c9251416c7505615f\\\", \\\"department\\\": \\\"Production\\\", \\\"gender\\\": 2, \\\"id\\\": 15346, \\\"job\\\": \\\"Executive Producer\\\", \\\"name\\\": \\\"Roberto Orci\\\"}, {\\\"credit_id\\\": \\\"52fe456e9251416c75056439\\\", \\\"department\\\": \\\"Writing\\\", \\\"gender\\\": 2, \\\"id\\\": 15346, \\\"job\\\": \\\"Writer\\\", \\\"name\\\": \\\"Roberto Orci\\\"}, {\\\"credit_id\\\": \\\"52fe456e9251416c75056445\\\", \\\"department\\\": \\\"Sound\\\", \\\"gender\\\": 2, \\\"id\\\": 15347, \\\"job\\\": \\\"Original Music Composer\\\", \\\"name\\\": \\\"Michael Giacchino\\\"}, {\\\"credit_id\\\": \\\"52fe456d9251416c750561e5\\\", \\\"department\\\": \\\"Camera\\\", \\\"gender\\\": 0, \\\"id\\\": 15348, \\\"job\\\": \\\"Director of Photography\\\", \\\"name\\\": \\\"Daniel Mindel\\\"}, {\\\"credit_id\\\": \\\"52fe456d9251416c750561eb\\\", \\\"department\\\": \\\"Editing\\\", \\\"gender\\\": 1, \\\"id\\\": 15349, \\\"job\\\": \\\"Editor\\\", \\\"name\\\": \\\"Maryann Brandon\\\"}, {\\\"credit_id\\\": \\\"52fe456d9251416c750561f1\\\", \\\"department\\\": \\\"Editing\\\", \\\"gender\\\": 1, \\\"id\\\": 15350, \\\"job\\\": \\\"Editor\\\", \\\"name\\\": \\\"Mary Jo Markey\\\"}, {\\\"credit_id\\\": \\\"52fe456d9251416c75056203\\\", \\\"department\\\": \\\"Art\\\", \\\"gender\\\": 2, \\\"id\\\": 15351, \\\"job\\\": \\\"Production Design\\\", \\\"name\\\": \\\"Scott Chambliss\\\"}, {\\\"credit_id\\\": \\\"537490870e0a267c670036c2\\\", \\\"department\\\": \\\"Art\\\", \\\"gender\\\": 1, \\\"id\\\": 15352, \\\"job\\\": \\\"Set Decoration\\\", \\\"name\\\": \\\"Karen Manthey\\\"}, {\\\"credit_id\\\": \\\"537490520e0a267c550037e3\\\", \\\"department\\\": \\\"Art\\\", \\\"gender\\\": 0, \\\"id\\\": 21568, \\\"job\\\": \\\"Art Direction\\\", \\\"name\\\": \\\"Keith P. Cunningham\\\"}, {\\\"credit_id\\\": \\\"52fe456c9251416c75056153\\\", \\\"department\\\": \\\"Production\\\", \\\"gender\\\": 2, \\\"id\\\": 40592, \\\"job\\\": \\\"Executive Producer\\\", \\\"name\\\": \\\"Jeffrey Chernov\\\"}, {\\\"credit_id\\\": \\\"52fe456c9251416c7505614d\\\", \\\"department\\\": \\\"Production\\\", \\\"gender\\\": 2, \\\"id\\\": 28977, \\\"job\\\": \\\"Executive Producer\\\", \\\"name\\\": \\\"Bryan Burk\\\"}, {\\\"credit_id\\\": \\\"52fe456c9251416c75056165\\\", \\\"department\\\": \\\"Production\\\", \\\"gender\\\": 2, \\\"id\\\": 28974, \\\"job\\\": \\\"Producer\\\", \\\"name\\\": \\\"Damon Lindelof\\\"}, {\\\"credit_id\\\": \\\"556550c69251413549000dfd\\\", \\\"department\\\": \\\"Crew\\\", \\\"gender\\\": 2, \\\"id\\\": 150194, \\\"job\\\": \\\"Stunts\\\", \\\"name\\\": \\\"Damion Poitier\\\"}, {\\\"credit_id\\\": \\\"52fe456d9251416c750561fd\\\", \\\"department\\\": \\\"Production\\\", \\\"gender\\\": 0, \\\"id\\\": 765144, \\\"job\\\": \\\"Casting\\\", \\\"name\\\": \\\"Alyssa Weisberg\\\"}, {\\\"credit_id\\\": \\\"53748fdb0e0a267c5c0038b0\\\", \\\"department\\\": \\\"Costume & Make-Up\\\", \\\"gender\\\": 0, \\\"id\\\": 1319743, \\\"job\\\": \\\"Makeup Department Head\\\", \\\"name\\\": \\\"Mindy Hall\\\"}, {\\\"credit_id\\\": \\\"537490140e0a267c670036bc\\\", \\\"department\\\": \\\"Costume & Make-Up\\\", \\\"gender\\\": 0, \\\"id\\\": 1319744, \\\"job\\\": \\\"Costume Supervisor\\\", \\\"name\\\": \\\"Linda Matthews\\\"}, {\\\"credit_id\\\": \\\"55519a35c3a3683d3b0000c3\\\", \\\"department\\\": \\\"Crew\\\", \\\"gender\\\": 0, \\\"id\\\": 1463568, \\\"job\\\": \\\"Digital Effects Supervisor\\\", \\\"name\\\": \\\"Mike Marcuzzi\\\"}]\",\n          \"[{\\\"credit_id\\\": \\\"5683b5f8c3a3684be90168e1\\\", \\\"department\\\": \\\"Production\\\", \\\"gender\\\": 2, \\\"id\\\": 7, \\\"job\\\": \\\"Executive Producer\\\", \\\"name\\\": \\\"Andrew Stanton\\\"}, {\\\"credit_id\\\": \\\"52fe45d19251416c75063871\\\", \\\"department\\\": \\\"Writing\\\", \\\"gender\\\": 2, \\\"id\\\": 10, \\\"job\\\": \\\"Screenplay\\\", \\\"name\\\": \\\"Bob Peterson\\\"}, {\\\"credit_id\\\": \\\"5882575a925141302b01110e\\\", \\\"department\\\": \\\"Directing\\\", \\\"gender\\\": 2, \\\"id\\\": 10, \\\"job\\\": \\\"Co-Director\\\", \\\"name\\\": \\\"Bob Peterson\\\"}, {\\\"credit_id\\\": \\\"568c7cf4c3a36860e9030b51\\\", \\\"department\\\": \\\"Writing\\\", \\\"gender\\\": 2, \\\"id\\\": 10, \\\"job\\\": \\\"Story\\\", \\\"name\\\": \\\"Bob Peterson\\\"}, {\\\"credit_id\\\": \\\"5683b62fc3a3684be90168f3\\\", \\\"department\\\": \\\"Production\\\", \\\"gender\\\": 2, \\\"id\\\": 7879, \\\"job\\\": \\\"Executive Producer\\\", \\\"name\\\": \\\"John Lasseter\\\"}, {\\\"credit_id\\\": \\\"588259ca9251413034011489\\\", \\\"department\\\": \\\"Lighting\\\", \\\"gender\\\": 2, \\\"id\\\": 7883, \\\"job\\\": \\\"Lighting Director\\\", \\\"name\\\": \\\"Ralph Eggleston\\\"}, {\\\"credit_id\\\": \\\"588259d3925141302b0112ae\\\", \\\"department\\\": \\\"Lighting\\\", \\\"gender\\\": 0, \\\"id\\\": 7888, \\\"job\\\": \\\"Lighting Director\\\", \\\"name\\\": \\\"Harley Jessup\\\"}, {\\\"credit_id\\\": \\\"572297499251413eaf0008d0\\\", \\\"department\\\": \\\"Camera\\\", \\\"gender\\\": 0, \\\"id\\\": 7894, \\\"job\\\": \\\"Director of Photography\\\", \\\"name\\\": \\\"Jean-Claude Kalache\\\"}, {\\\"credit_id\\\": \\\"57229461c3a3682d43000888\\\", \\\"department\\\": \\\"Art\\\", \\\"gender\\\": 0, \\\"id\\\": 7927, \\\"job\\\": \\\"Production Design\\\", \\\"name\\\": \\\"Ricky Nierva\\\"}, {\\\"credit_id\\\": \\\"572f6eef92514173a1003135\\\", \\\"department\\\": \\\"Visual Effects\\\", \\\"gender\\\": 0, \\\"id\\\": 7929, \\\"job\\\": \\\"Animation\\\", \\\"name\\\": \\\"Angus MacLane\\\"}, {\\\"credit_id\\\": \\\"5683b65d92514132db0152f4\\\", \\\"department\\\": \\\"Production\\\", \\\"gender\\\": 0, \\\"id\\\": 7940, \\\"job\\\": \\\"Producer\\\", \\\"name\\\": \\\"Jonas Rivera\\\"}, {\\\"credit_id\\\": \\\"588259b39251413037010f5e\\\", \\\"department\\\": \\\"Lighting\\\", \\\"gender\\\": 2, \\\"id\\\": 7962, \\\"job\\\": \\\"Lighting Director\\\", \\\"name\\\": \\\"Lou Romano\\\"}, {\\\"credit_id\\\": \\\"5882581ac3a368147d00fb1a\\\", \\\"department\\\": \\\"Camera\\\", \\\"gender\\\": 0, \\\"id\\\": 7975, \\\"job\\\": \\\"Director of Photography\\\", \\\"name\\\": \\\"Patrick Lin\\\"}, {\\\"credit_id\\\": \\\"58825c699251413034011641\\\", \\\"department\\\": \\\"Directing\\\", \\\"gender\\\": 0, \\\"id\\\": 7979, \\\"job\\\": \\\"Layout\\\", \\\"name\\\": \\\"Gregg Olsson\\\"}, {\\\"credit_id\\\": \\\"58825c57c3a368144f010266\\\", \\\"department\\\": \\\"Directing\\\", \\\"gender\\\": 2, \\\"id\\\": 7981, \\\"job\\\": \\\"Layout\\\", \\\"name\\\": \\\"Robert Anderson\\\"}, {\\\"credit_id\\\": \\\"576d6a63c3a36874e0001af2\\\", \\\"department\\\": \\\"Directing\\\", \\\"gender\\\": 0, \\\"id\\\": 7984, \\\"job\\\": \\\"Layout\\\", \\\"name\\\": \\\"Mark Sanford\\\"}, {\\\"credit_id\\\": \\\"588257f6c3a36814700116ee\\\", \\\"department\\\": \\\"Crew\\\", \\\"gender\\\": 2, \\\"id\\\": 8011, \\\"job\\\": \\\"Supervising Animator\\\", \\\"name\\\": \\\"Scott Clark\\\"}, {\\\"credit_id\\\": \\\"58825ce2c3a3681443010a0e\\\", \\\"department\\\": \\\"Visual Effects\\\", \\\"gender\\\": 0, \\\"id\\\": 8015, \\\"job\\\": \\\"Animation Director\\\", \\\"name\\\": \\\"Shawn Krause\\\"}, {\\\"credit_id\\\": \\\"58825d36c3a3681460012187\\\", \\\"department\\\": \\\"Visual Effects\\\", \\\"gender\\\": 0, \\\"id\\\": 8026, \\\"job\\\": \\\"Animation\\\", \\\"name\\\": \\\"Brett Coderre\\\"}, {\\\"credit_id\\\": \\\"58825d54c3a3681467010ae0\\\", \\\"department\\\": \\\"Visual Effects\\\", \\\"gender\\\": 0, \\\"id\\\": 8028, \\\"job\\\": \\\"Animation\\\", \\\"name\\\": \\\"Doug Dooley\\\"}, {\\\"credit_id\\\": \\\"58825d489251413028010cec\\\", \\\"department\\\": \\\"Visual Effects\\\", \\\"gender\\\": 0, \\\"id\\\": 8033, \\\"job\\\": \\\"Animation\\\", \\\"name\\\": \\\"Tim Crawfurd\\\"}, {\\\"credit_id\\\": \\\"58825d6292514130370111ee\\\", \\\"department\\\": \\\"Visual Effects\\\", \\\"gender\\\": 0, \\\"id\\\": 8034, \\\"job\\\": \\\"Animation\\\", \\\"name\\\": \\\"Ike Feldman\\\"}, {\\\"credit_id\\\": \\\"5724e104c3a368423a00220b\\\", \\\"department\\\": \\\"Visual Effects\\\", \\\"gender\\\": 0, \\\"id\\\": 8042, \\\"job\\\": \\\"Animation\\\", \\\"name\\\": \\\"Andy Schmidt\\\"}, {\\\"credit_id\\\": \\\"58825cec92514130340116b6\\\", \\\"department\\\": \\\"Visual Effects\\\", \\\"gender\\\": 0, \\\"id\\\": 8046, \\\"job\\\": \\\"Animation Director\\\", \\\"name\\\": \\\"Dave Mullins\\\"}, {\\\"credit_id\\\": \\\"58825cf592514130340116be\\\", \\\"department\\\": \\\"Visual Effects\\\", \\\"gender\\\": 0, \\\"id\\\": 8053, \\\"job\\\": \\\"Animation Director\\\", \\\"name\\\": \\\"Michael Venturini\\\"}, {\\\"credit_id\\\": \\\"58825b879251413037011097\\\", \\\"department\\\": \\\"Editing\\\", \\\"gender\\\": 0, \\\"id\\\": 8066, \\\"job\\\": \\\"Editor\\\", \\\"name\\\": \\\"Katherine Ringgold\\\"}, {\\\"credit_id\\\": \\\"572296829251414d330006fe\\\", \\\"department\\\": \\\"Production\\\", \\\"gender\\\": 0, \\\"id\\\": 8103, \\\"job\\\": \\\"Production Manager\\\", \\\"name\\\": \\\"Mark Nielsen\\\"}, {\\\"credit_id\\\": \\\"588257cd925141302e010fd8\\\", \\\"department\\\": \\\"Crew\\\", \\\"gender\\\": 0, \\\"id\\\": 8115, \\\"job\\\": \\\"Supervising Technical Director\\\", \\\"name\\\": \\\"Steve May\\\"}, {\\\"credit_id\\\": \\\"5722958bc3a3682d1e0007fc\\\", \\\"department\\\": \\\"Crew\\\", \\\"gender\\\": 0, \\\"id\\\": 8153, \\\"job\\\": \\\"Post Production Supervisor\\\", \\\"name\\\": \\\"Paul Cichocki\\\"}, {\\\"credit_id\\\": \\\"5683b71b9251412e52015b56\\\", \\\"department\\\": \\\"Sound\\\", \\\"gender\\\": 0, \\\"id\\\": 8158, \\\"job\\\": \\\"Supervising Sound Editor\\\", \\\"name\\\": \\\"Michael Silvers\\\"}, {\\\"credit_id\\\": \\\"568c7cdf92514132db02e56a\\\", \\\"department\\\": \\\"Writing\\\", \\\"gender\\\": 2, \\\"id\\\": 12890, \\\"job\\\": \\\"Screenplay\\\", \\\"name\\\": \\\"Pete Docter\\\"}, {\\\"credit_id\\\": \\\"568c7ce99251412e5202ea9b\\\", \\\"department\\\": \\\"Writing\\\", \\\"gender\\\": 2, \\\"id\\\": 12890, \\\"job\\\": \\\"Story\\\", \\\"name\\\": \\\"Pete Docter\\\"}, {\\\"credit_id\\\": \\\"5692ed0e9251414453000a9c\\\", \\\"department\\\": \\\"Directing\\\", \\\"gender\\\": 2, \\\"id\\\": 12890, \\\"job\\\": \\\"Director\\\", \\\"name\\\": \\\"Pete Docter\\\"}, {\\\"credit_id\\\": \\\"5683b6e39251412e52015b4b\\\", \\\"department\\\": \\\"Sound\\\", \\\"gender\\\": 1, \\\"id\\\": 15893, \\\"job\\\": \\\"Sound Effects Editor\\\", \\\"name\\\": \\\"Teresa Eckton\\\"}, {\\\"credit_id\\\": \\\"5683b69d9251417def01767e\\\", \\\"department\\\": \\\"Sound\\\", \\\"gender\\\": 2, \\\"id\\\": 15894, \\\"job\\\": \\\"Sound Re-Recording Mixer\\\", \\\"name\\\": \\\"Tom Myers\\\"}, {\\\"credit_id\\\": \\\"5683b6a592514131df014a8b\\\", \\\"department\\\": \\\"Sound\\\", \\\"gender\\\": 2, \\\"id\\\": 15894, \\\"job\\\": \\\"Sound Designer\\\", \\\"name\\\": \\\"Tom Myers\\\"}, {\\\"credit_id\\\": \\\"5683b6b09251412e52015b40\\\", \\\"department\\\": \\\"Sound\\\", \\\"gender\\\": 2, \\\"id\\\": 15894, \\\"job\\\": \\\"Supervising Sound Editor\\\", \\\"name\\\": \\\"Tom Myers\\\"}, {\\\"credit_id\\\": \\\"57dc208e9251412ee3000196\\\", \\\"department\\\": \\\"Visual Effects\\\", \\\"gender\\\": 0, \\\"id\\\": 15895, \\\"job\\\": \\\"Shading\\\", \\\"name\\\": \\\"David Munier\\\"}, {\\\"credit_id\\\": \\\"5882578bc3a368147d00fabb\\\", \\\"department\\\": \\\"Sound\\\", \\\"gender\\\": 2, \\\"id\\\": 15347, \\\"job\\\": \\\"Music\\\", \\\"name\\\": \\\"Michael Giacchino\\\"}, {\\\"credit_id\\\": \\\"5724db2e92514155c30033ef\\\", \\\"department\\\": \\\"Sound\\\", \\\"gender\\\": 2, \\\"id\\\": 15354, \\\"job\\\": \\\"Music Editor\\\", \\\"name\\\": \\\"Stephen M. Davis\\\"}, {\\\"credit_id\\\": \\\"568c7d03c3a3680e01009b81\\\", \\\"department\\\": \\\"Writing\\\", \\\"gender\\\": 0, \\\"id\\\": 17867, \\\"job\\\": \\\"Story\\\", \\\"name\\\": \\\"Tom McCarthy\\\"}, {\\\"credit_id\\\": \\\"588260489251413028010eef\\\", \\\"department\\\": \\\"Sound\\\", \\\"gender\\\": 0, \\\"id\\\": 28241, \\\"job\\\": \\\"Orchestrator\\\", \\\"name\\\": \\\"Tim Simonec\\\"}, {\\\"credit_id\\\": \\\"5683b865c3a368227b00cfda\\\", \\\"department\\\": \\\"Production\\\", \\\"gender\\\": 2, \\\"id\\\": 57673, \\\"job\\\": \\\"Casting\\\", \\\"name\\\": \\\"Kevin Reher\\\"}, {\\\"credit_id\\\": \\\"5772a56dc3a36846dd00029e\\\", \\\"department\\\": \\\"Directing\\\", \\\"gender\\\": 0, \\\"id\\\": 72972, \\\"job\\\": \\\"Layout\\\", \\\"name\\\": \\\"Andrew Cadelago\\\"}, {\\\"credit_id\\\": \\\"57681c359251417d1300077b\\\", \\\"department\\\": \\\"Sound\\\", \\\"gender\\\": 2, \\\"id\\\": 74811, \\\"job\\\": \\\"Sound Mixer\\\", \\\"name\\\": \\\"Dan Wallin\\\"}, {\\\"credit_id\\\": \\\"57229c5c9251413eaf00096e\\\", \\\"department\\\": \\\"Visual Effects\\\", \\\"gender\\\": 2, \\\"id\\\": 107704, \\\"job\\\": \\\"Animation\\\", \\\"name\\\": \\\"Rodrigo Blaas\\\"}, {\\\"credit_id\\\": \\\"588260079251413028010ec6\\\", \\\"department\\\": \\\"Sound\\\", \\\"gender\\\": 0, \\\"id\\\": 138617, \\\"job\\\": \\\"Foley Editor\\\", \\\"name\\\": \\\"Jonathan Null\\\"}, {\\\"credit_id\\\": \\\"58826083c3a368144f010517\\\", \\\"department\\\": \\\"Crew\\\", \\\"gender\\\": 0, \\\"id\\\": 953331, \\\"job\\\": \\\"Executive Music Producer\\\", \\\"name\\\": \\\"Chris Montan\\\"}, {\\\"credit_id\\\": \\\"5683b87dc3a36860e9017128\\\", \\\"department\\\": \\\"Production\\\", \\\"gender\\\": 1, \\\"id\\\": 963497, \\\"job\\\": \\\"Casting\\\", \\\"name\\\": \\\"Natalie Lyon\\\"}, {\\\"credit_id\\\": \\\"5683b671c3a3685f89002fd7\\\", \\\"department\\\": \\\"Production\\\", \\\"gender\\\": 1, \\\"id\\\": 970529, \\\"job\\\": \\\"Associate Producer\\\", \\\"name\\\": \\\"Denise Ream\\\"}, {\\\"credit_id\\\": \\\"572bd499925141388e0002f6\\\", \\\"department\\\": \\\"Art\\\", \\\"gender\\\": 0, \\\"id\\\": 1211220, \\\"job\\\": \\\"Sculptor\\\", \\\"name\\\": \\\"Greg Dykstra\\\"}, {\\\"credit_id\\\": \\\"57327728c3a3686957000525\\\", \\\"department\\\": \\\"Sound\\\", \\\"gender\\\": 0, \\\"id\\\": 1291315, \\\"job\\\": \\\"Music Supervisor\\\", \\\"name\\\": \\\"Tom MacDougall\\\"}, {\\\"credit_id\\\": \\\"5724de2592514118af0022a6\\\", \\\"department\\\": \\\"Visual Effects\\\", \\\"gender\\\": 2, \\\"id\\\": 1299484, \\\"job\\\": \\\"Visual Effects Supervisor\\\", \\\"name\\\": \\\"Bob Whitehill\\\"}, {\\\"credit_id\\\": \\\"5683b68d9251414ecb008c1d\\\", \\\"department\\\": \\\"Sound\\\", \\\"gender\\\": 0, \\\"id\\\": 1378828, \\\"job\\\": \\\"Sound Re-Recording Mixer\\\", \\\"name\\\": \\\"Michael Semanick\\\"}, {\\\"credit_id\\\": \\\"58825d2dc3a3681470011aac\\\", \\\"department\\\": \\\"Visual Effects\\\", \\\"gender\\\": 0, \\\"id\\\": 1397397, \\\"job\\\": \\\"Animation\\\", \\\"name\\\": \\\"Louis Clichy\\\"}, {\\\"credit_id\\\": \\\"576eb50dc3a3683c240045bc\\\", \\\"department\\\": \\\"Visual Effects\\\", \\\"gender\\\": 0, \\\"id\\\": 1408648, \\\"job\\\": \\\"Animation\\\", \\\"name\\\": \\\"Jason Boose\\\"}, {\\\"credit_id\\\": \\\"58825ffc92514130340118b5\\\", \\\"department\\\": \\\"Sound\\\", \\\"gender\\\": 0, \\\"id\\\": 1412984, \\\"job\\\": \\\"Foley Editor\\\", \\\"name\\\": \\\"Pascal Garneau\\\"}, {\\\"credit_id\\\": \\\"57229ab0c3a3682d43000934\\\", \\\"department\\\": \\\"Visual Effects\\\", \\\"gender\\\": 0, \\\"id\\\": 1413096, \\\"job\\\": \\\"Animation\\\", \\\"name\\\": \\\"Simon Allen\\\"}, {\\\"credit_id\\\": \\\"5683b6ee9251412e52015b4f\\\", \\\"department\\\": \\\"Sound\\\", \\\"gender\\\": 0, \\\"id\\\": 1414177, \\\"job\\\": \\\"Sound Effects Editor\\\", \\\"name\\\": \\\"J.R. Grubbs\\\"}, {\\\"credit_id\\\": \\\"5683b6c6c3a3684bcc0188eb\\\", \\\"department\\\": \\\"Sound\\\", \\\"gender\\\": 0, \\\"id\\\": 1422411, \\\"job\\\": \\\"Sound Effects Editor\\\", \\\"name\\\": \\\"Al Nelson\\\"}, {\\\"credit_id\\\": \\\"576d7329c3a36874e0001f52\\\", \\\"department\\\": \\\"Editing\\\", \\\"gender\\\": 0, \\\"id\\\": 1435597, \\\"job\\\": \\\"Additional Editorial Assistant\\\", \\\"name\\\": \\\"Kevin Rose-Williams\\\"}, {\\\"credit_id\\\": \\\"58825b1a925141302b01139b\\\", \\\"department\\\": \\\"Art\\\", \\\"gender\\\": 0, \\\"id\\\": 1443472, \\\"job\\\": \\\"Art Department Coordinator\\\", \\\"name\\\": \\\"Erik Langley\\\"}, {\\\"credit_id\\\": \\\"57dc1e639251412ef30000e3\\\", \\\"department\\\": \\\"Visual Effects\\\", \\\"gender\\\": 0, \\\"id\\\": 1443479, \\\"job\\\": \\\"Animation Manager\\\", \\\"name\\\": \\\"A.J. Riebli III\\\"}, {\\\"credit_id\\\": \\\"5525950a92514166c1005b49\\\", \\\"department\\\": \\\"Editing\\\", \\\"gender\\\": 0, \\\"id\\\": 1450317, \\\"job\\\": \\\"Editorial Manager\\\", \\\"name\\\": \\\"Laura Leganza Reynolds\\\"}, {\\\"credit_id\\\": \\\"572297249251413eaf0008ca\\\", \\\"department\\\": \\\"Camera\\\", \\\"gender\\\": 2, \\\"id\\\": 1451703, \\\"job\\\": \\\"Camera Operator\\\", \\\"name\\\": \\\"Mark Dinicola\\\"}, {\\\"credit_id\\\": \\\"572f699fc3a36874eb00061e\\\", \\\"department\\\": \\\"Crew\\\", \\\"gender\\\": 0, \\\"id\\\": 1484178, \\\"job\\\": \\\"Sound Design Assistant\\\", \\\"name\\\": \\\"Dustin Cawood\\\"}, {\\\"credit_id\\\": \\\"5683b5d692514131df014a5b\\\", \\\"department\\\": \\\"Editing\\\", \\\"gender\\\": 0, \\\"id\\\": 1516156, \\\"job\\\": \\\"Editor\\\", \\\"name\\\": \\\"Kevin Nolting\\\"}, {\\\"credit_id\\\": \\\"5882609a925141303401191a\\\", \\\"department\\\": \\\"Editing\\\", \\\"gender\\\": 0, \\\"id\\\": 1552873, \\\"job\\\": \\\"Color Timer\\\", \\\"name\\\": \\\"Terry Claborn\\\"}, {\\\"credit_id\\\": \\\"5683b72a925141133400e990\\\", \\\"department\\\": \\\"Directing\\\", \\\"gender\\\": 0, \\\"id\\\": 1555650, \\\"job\\\": \\\"Script Supervisor\\\", \\\"name\\\": \\\"Lorien McKenna\\\"}, {\\\"credit_id\\\": \\\"58825b92c3a36814670109c9\\\", \\\"department\\\": \\\"Editing\\\", \\\"gender\\\": 0, \\\"id\\\": 1556629, \\\"job\\\": \\\"Associate Editor\\\", \\\"name\\\": \\\"Gregory Amundson\\\"}, {\\\"credit_id\\\": \\\"5882601192514130370113da\\\", \\\"department\\\": \\\"Sound\\\", \\\"gender\\\": 0, \\\"id\\\": 1556632, \\\"job\\\": \\\"ADR Editor\\\", \\\"name\\\": \\\"Steve Slanec\\\"}, {\\\"credit_id\\\": \\\"58825ae89251413037011023\\\", \\\"department\\\": \\\"Art\\\", \\\"gender\\\": 1, \\\"id\\\": 1605896, \\\"job\\\": \\\"Art Department Coordinator\\\", \\\"name\\\": \\\"Stephanie Hamilton\\\"}, {\\\"credit_id\\\": \\\"58825d91c3a3681467010b0c\\\", \\\"department\\\": \\\"Visual Effects\\\", \\\"gender\\\": 0, \\\"id\\\": 1711834, \\\"job\\\": \\\"Animation\\\", \\\"name\\\": \\\"Aaron Hartline\\\"}, {\\\"credit_id\\\": \\\"58825d0fc3a3681470011a91\\\", \\\"department\\\": \\\"Visual Effects\\\", \\\"gender\\\": 0, \\\"id\\\": 1711836, \\\"job\\\": \\\"Animation\\\", \\\"name\\\": \\\"Shaun Chacko\\\"}, {\\\"credit_id\\\": \\\"588259e5c3a368144f0100bf\\\", \\\"department\\\": \\\"Crew\\\", \\\"gender\\\": 0, \\\"id\\\": 1742706, \\\"job\\\": \\\"Production Artist\\\", \\\"name\\\": \\\"Daniel Arriaga\\\"}, {\\\"credit_id\\\": \\\"588259efc3a36814430107f6\\\", \\\"department\\\": \\\"Crew\\\", \\\"gender\\\": 0, \\\"id\\\": 1742707, \\\"job\\\": \\\"Production Artist\\\", \\\"name\\\": \\\"Noah Klocek\\\"}, {\\\"credit_id\\\": \\\"58825a3bc3a3681460011f59\\\", \\\"department\\\": \\\"Art\\\", \\\"gender\\\": 1, \\\"id\\\": 1742709, \\\"job\\\": \\\"Art Department Manager\\\", \\\"name\\\": \\\"Jennifer Birmingham\\\"}, {\\\"credit_id\\\": \\\"58825b699251413028010b7d\\\", \\\"department\\\": \\\"Editing\\\", \\\"gender\\\": 0, \\\"id\\\": 1742711, \\\"job\\\": \\\"Editorial Manager\\\", \\\"name\\\": \\\"Shannon Ryan\\\"}, {\\\"credit_id\\\": \\\"58825ba7c3a36814670109d9\\\", \\\"department\\\": \\\"Editing\\\", \\\"gender\\\": 0, \\\"id\\\": 1742712, \\\"job\\\": \\\"Assistant Editor\\\", \\\"name\\\": \\\"Thomas Gonzales\\\"}, {\\\"credit_id\\\": \\\"58825bb3c3a3681460012061\\\", \\\"department\\\": \\\"Editing\\\", \\\"gender\\\": 0, \\\"id\\\": 1742713, \\\"job\\\": \\\"Assistant Editor\\\", \\\"name\\\": \\\"C.J. Hsu\\\"}, {\\\"credit_id\\\": \\\"58825bbb92514130370110b7\\\", \\\"department\\\": \\\"Editing\\\", \\\"gender\\\": 0, \\\"id\\\": 1742714, \\\"job\\\": \\\"Assistant Editor\\\", \\\"name\\\": \\\"Amera Rizk\\\"}, {\\\"credit_id\\\": \\\"58825bf4c3a3681443010958\\\", \\\"department\\\": \\\"Editing\\\", \\\"gender\\\": 0, \\\"id\\\": 1742717, \\\"job\\\": \\\"Editorial Coordinator\\\", \\\"name\\\": \\\"Dallis Anderson\\\"}, {\\\"credit_id\\\": \\\"58825c21c3a3681449011bcd\\\", \\\"department\\\": \\\"Directing\\\", \\\"gender\\\": 0, \\\"id\\\": 1742719, \\\"job\\\": \\\"Layout\\\", \\\"name\\\": \\\"Mahyar Abousaeedi\\\"}, {\\\"credit_id\\\": \\\"58825c60c3a368147d00fdc7\\\", \\\"department\\\": \\\"Directing\\\", \\\"gender\\\": 0, \\\"id\\\": 1742720, \\\"job\\\": \\\"Layout\\\", \\\"name\\\": \\\"Josh Anon\\\"}, {\\\"credit_id\\\": \\\"58825c77c3a36814600120f5\\\", \\\"department\\\": \\\"Directing\\\", \\\"gender\\\": 0, \\\"id\\\": 1742721, \\\"job\\\": \\\"Layout\\\", \\\"name\\\": \\\"Sukwon Park\\\"}, {\\\"credit_id\\\": \\\"58825c7ec3a368147d00fde3\\\", \\\"department\\\": \\\"Directing\\\", \\\"gender\\\": 0, \\\"id\\\": 1742722, \\\"job\\\": \\\"Layout\\\", \\\"name\\\": \\\"Mark Shirra\\\"}, {\\\"credit_id\\\": \\\"58825c8ac3a36814430109ca\\\", \\\"department\\\": \\\"Directing\\\", \\\"gender\\\": 0, \\\"id\\\": 1742723, \\\"job\\\": \\\"Layout\\\", \\\"name\\\": \\\"Matthew Silas\\\"}, {\\\"credit_id\\\": \\\"58825c99c3a368146001211a\\\", \\\"department\\\": \\\"Directing\\\", \\\"gender\\\": 0, \\\"id\\\": 1742724, \\\"job\\\": \\\"Layout\\\", \\\"name\\\": \\\"Sylvia Gray Wong\\\"}, {\\\"credit_id\\\": \\\"58825ee9c3a368145b010f6b\\\", \\\"department\\\": \\\"Camera\\\", \\\"gender\\\": 0, \\\"id\\\": 1742751, \\\"job\\\": \\\"Camera Operator\\\", \\\"name\\\": \\\"Jeff Wan\\\"}, {\\\"credit_id\\\": \\\"58825f31c3a3681449011dfa\\\", \\\"department\\\": \\\"Crew\\\", \\\"gender\\\": 2, \\\"id\\\": 1742756, \\\"job\\\": \\\"Post-Production Manager\\\", \\\"name\\\": \\\"Eric Pearson\\\"}, {\\\"credit_id\\\": \\\"58825f5d925141303a01131b\\\", \\\"department\\\": \\\"Crew\\\", \\\"gender\\\": 0, \\\"id\\\": 1742757, \\\"job\\\": \\\"Post Production Assistant\\\", \\\"name\\\": \\\"Freesia Pearson\\\"}]\"\n        ],\n        \"semantic_type\": \"\",\n        \"description\": \"\"\n      }\n    }\n  ]\n}"
            }
          },
          "metadata": {},
          "execution_count": 135
        }
      ]
    },
    {
      "cell_type": "code",
      "source": [
        "movies.head(1)['genres'].values"
      ],
      "metadata": {
        "colab": {
          "base_uri": "https://localhost:8080/"
        },
        "id": "phB7FJoXmcc6",
        "outputId": "0bafee66-fb63-4b83-d9a3-0c501900fd39"
      },
      "execution_count": null,
      "outputs": [
        {
          "output_type": "execute_result",
          "data": {
            "text/plain": [
              "array(['[{\"id\": 28, \"name\": \"Action\"}, {\"id\": 12, \"name\": \"Adventure\"}, {\"id\": 14, \"name\": \"Fantasy\"}, {\"id\": 878, \"name\": \"Science Fiction\"}]'],\n",
              "      dtype=object)"
            ]
          },
          "metadata": {},
          "execution_count": 137
        }
      ]
    },
    {
      "cell_type": "code",
      "source": [
        "movies.iloc[0].genres"
      ],
      "metadata": {
        "colab": {
          "base_uri": "https://localhost:8080/",
          "height": 52
        },
        "id": "vmEC5sNTsQ_Z",
        "outputId": "16defaad-c100-4986-8e4e-4d7d4af5be32"
      },
      "execution_count": null,
      "outputs": [
        {
          "output_type": "execute_result",
          "data": {
            "text/plain": [
              "'[{\"id\": 28, \"name\": \"Action\"}, {\"id\": 12, \"name\": \"Adventure\"}, {\"id\": 14, \"name\": \"Fantasy\"}, {\"id\": 878, \"name\": \"Science Fiction\"}]'"
            ],
            "application/vnd.google.colaboratory.intrinsic+json": {
              "type": "string"
            }
          },
          "metadata": {},
          "execution_count": 138
        }
      ]
    },
    {
      "cell_type": "code",
      "source": [
        "import ast\n",
        "ast.literal_eval('[{\"id\": 28, \"name\": \"Action\"}, {\"id\": 12, \"name\": \"Adventure\"}, {\"id\": 14, \"name\": \"Fantasy\"}, {\"id\": 878, \"name\": \"Science Fiction\"}]')"
      ],
      "metadata": {
        "colab": {
          "base_uri": "https://localhost:8080/"
        },
        "id": "dWtcl4s_naYl",
        "outputId": "cf8a1771-9899-44ef-de11-722dd776c9f5"
      },
      "execution_count": null,
      "outputs": [
        {
          "output_type": "execute_result",
          "data": {
            "text/plain": [
              "[{'id': 28, 'name': 'Action'},\n",
              " {'id': 12, 'name': 'Adventure'},\n",
              " {'id': 14, 'name': 'Fantasy'},\n",
              " {'id': 878, 'name': 'Science Fiction'}]"
            ]
          },
          "metadata": {},
          "execution_count": 195
        }
      ]
    },
    {
      "cell_type": "code",
      "source": [
        "def give(obj):\n",
        "    li=[]\n",
        "    for i in ast.literal_eval(obj):\n",
        "      li.append(i['name'])\n",
        "    return li\n"
      ],
      "metadata": {
        "id": "PkdnM6x2nQIz"
      },
      "execution_count": null,
      "outputs": []
    },
    {
      "cell_type": "code",
      "source": [
        "movies['genres']=movies['genres'].apply(give)"
      ],
      "metadata": {
        "id": "__nCwmCWorId"
      },
      "execution_count": null,
      "outputs": []
    },
    {
      "cell_type": "code",
      "source": [
        "movies.head(1)['keywords'].values"
      ],
      "metadata": {
        "colab": {
          "base_uri": "https://localhost:8080/"
        },
        "id": "XOaCRi1Rm46U",
        "outputId": "788283bd-dfe2-4a11-c0b5-94d62637eaf4"
      },
      "execution_count": null,
      "outputs": [
        {
          "output_type": "execute_result",
          "data": {
            "text/plain": [
              "array(['[{\"id\": 1463, \"name\": \"culture clash\"}, {\"id\": 2964, \"name\": \"future\"}, {\"id\": 3386, \"name\": \"space war\"}, {\"id\": 3388, \"name\": \"space colony\"}, {\"id\": 3679, \"name\": \"society\"}, {\"id\": 3801, \"name\": \"space travel\"}, {\"id\": 9685, \"name\": \"futuristic\"}, {\"id\": 9840, \"name\": \"romance\"}, {\"id\": 9882, \"name\": \"space\"}, {\"id\": 9951, \"name\": \"alien\"}, {\"id\": 10148, \"name\": \"tribe\"}, {\"id\": 10158, \"name\": \"alien planet\"}, {\"id\": 10987, \"name\": \"cgi\"}, {\"id\": 11399, \"name\": \"marine\"}, {\"id\": 13065, \"name\": \"soldier\"}, {\"id\": 14643, \"name\": \"battle\"}, {\"id\": 14720, \"name\": \"love affair\"}, {\"id\": 165431, \"name\": \"anti war\"}, {\"id\": 193554, \"name\": \"power relations\"}, {\"id\": 206690, \"name\": \"mind and soul\"}, {\"id\": 209714, \"name\": \"3d\"}]'],\n",
              "      dtype=object)"
            ]
          },
          "metadata": {},
          "execution_count": 142
        }
      ]
    },
    {
      "cell_type": "code",
      "source": [
        "def give1(obj):\n",
        "  li=[]\n",
        "  for i in ast.literal_eval(obj):\n",
        "    li.append(i['name'])\n",
        "  return li\n",
        "movies['keywords']=movies['keywords'].apply(give1)\n"
      ],
      "metadata": {
        "id": "rmKGQdVApXIN"
      },
      "execution_count": null,
      "outputs": []
    },
    {
      "cell_type": "code",
      "source": [
        "movies.head(2)"
      ],
      "metadata": {
        "colab": {
          "base_uri": "https://localhost:8080/",
          "height": 321
        },
        "id": "0fJJy6Wnt5Cu",
        "outputId": "ae9276be-6f54-484f-d889-c9e8da57fcb4"
      },
      "execution_count": null,
      "outputs": [
        {
          "output_type": "execute_result",
          "data": {
            "text/plain": [
              "   movie_id                                     title  \\\n",
              "0     19995                                    Avatar   \n",
              "1       285  Pirates of the Caribbean: At World's End   \n",
              "\n",
              "                                            overview  \\\n",
              "0  In the 22nd century, a paraplegic Marine is di...   \n",
              "1  Captain Barbossa, long believed to be dead, ha...   \n",
              "\n",
              "                                          genres  \\\n",
              "0  [Action, Adventure, Fantasy, Science Fiction]   \n",
              "1                   [Adventure, Fantasy, Action]   \n",
              "\n",
              "                                            keywords  \\\n",
              "0  [culture clash, future, space war, space colon...   \n",
              "1  [ocean, drug abuse, exotic island, east india ...   \n",
              "\n",
              "                                                cast  \\\n",
              "0  [{\"cast_id\": 242, \"character\": \"Jake Sully\", \"...   \n",
              "1  [{\"cast_id\": 4, \"character\": \"Captain Jack Spa...   \n",
              "\n",
              "                                                crew  \n",
              "0  [{\"credit_id\": \"52fe48009251416c750aca23\", \"de...  \n",
              "1  [{\"credit_id\": \"52fe4232c3a36847f800b579\", \"de...  "
            ],
            "text/html": [
              "\n",
              "  <div id=\"df-bdbb48c9-86cf-44b2-834f-92c5a3556fc8\" class=\"colab-df-container\">\n",
              "    <div>\n",
              "<style scoped>\n",
              "    .dataframe tbody tr th:only-of-type {\n",
              "        vertical-align: middle;\n",
              "    }\n",
              "\n",
              "    .dataframe tbody tr th {\n",
              "        vertical-align: top;\n",
              "    }\n",
              "\n",
              "    .dataframe thead th {\n",
              "        text-align: right;\n",
              "    }\n",
              "</style>\n",
              "<table border=\"1\" class=\"dataframe\">\n",
              "  <thead>\n",
              "    <tr style=\"text-align: right;\">\n",
              "      <th></th>\n",
              "      <th>movie_id</th>\n",
              "      <th>title</th>\n",
              "      <th>overview</th>\n",
              "      <th>genres</th>\n",
              "      <th>keywords</th>\n",
              "      <th>cast</th>\n",
              "      <th>crew</th>\n",
              "    </tr>\n",
              "  </thead>\n",
              "  <tbody>\n",
              "    <tr>\n",
              "      <th>0</th>\n",
              "      <td>19995</td>\n",
              "      <td>Avatar</td>\n",
              "      <td>In the 22nd century, a paraplegic Marine is di...</td>\n",
              "      <td>[Action, Adventure, Fantasy, Science Fiction]</td>\n",
              "      <td>[culture clash, future, space war, space colon...</td>\n",
              "      <td>[{\"cast_id\": 242, \"character\": \"Jake Sully\", \"...</td>\n",
              "      <td>[{\"credit_id\": \"52fe48009251416c750aca23\", \"de...</td>\n",
              "    </tr>\n",
              "    <tr>\n",
              "      <th>1</th>\n",
              "      <td>285</td>\n",
              "      <td>Pirates of the Caribbean: At World's End</td>\n",
              "      <td>Captain Barbossa, long believed to be dead, ha...</td>\n",
              "      <td>[Adventure, Fantasy, Action]</td>\n",
              "      <td>[ocean, drug abuse, exotic island, east india ...</td>\n",
              "      <td>[{\"cast_id\": 4, \"character\": \"Captain Jack Spa...</td>\n",
              "      <td>[{\"credit_id\": \"52fe4232c3a36847f800b579\", \"de...</td>\n",
              "    </tr>\n",
              "  </tbody>\n",
              "</table>\n",
              "</div>\n",
              "    <div class=\"colab-df-buttons\">\n",
              "\n",
              "  <div class=\"colab-df-container\">\n",
              "    <button class=\"colab-df-convert\" onclick=\"convertToInteractive('df-bdbb48c9-86cf-44b2-834f-92c5a3556fc8')\"\n",
              "            title=\"Convert this dataframe to an interactive table.\"\n",
              "            style=\"display:none;\">\n",
              "\n",
              "  <svg xmlns=\"http://www.w3.org/2000/svg\" height=\"24px\" viewBox=\"0 -960 960 960\">\n",
              "    <path d=\"M120-120v-720h720v720H120Zm60-500h600v-160H180v160Zm220 220h160v-160H400v160Zm0 220h160v-160H400v160ZM180-400h160v-160H180v160Zm440 0h160v-160H620v160ZM180-180h160v-160H180v160Zm440 0h160v-160H620v160Z\"/>\n",
              "  </svg>\n",
              "    </button>\n",
              "\n",
              "  <style>\n",
              "    .colab-df-container {\n",
              "      display:flex;\n",
              "      gap: 12px;\n",
              "    }\n",
              "\n",
              "    .colab-df-convert {\n",
              "      background-color: #E8F0FE;\n",
              "      border: none;\n",
              "      border-radius: 50%;\n",
              "      cursor: pointer;\n",
              "      display: none;\n",
              "      fill: #1967D2;\n",
              "      height: 32px;\n",
              "      padding: 0 0 0 0;\n",
              "      width: 32px;\n",
              "    }\n",
              "\n",
              "    .colab-df-convert:hover {\n",
              "      background-color: #E2EBFA;\n",
              "      box-shadow: 0px 1px 2px rgba(60, 64, 67, 0.3), 0px 1px 3px 1px rgba(60, 64, 67, 0.15);\n",
              "      fill: #174EA6;\n",
              "    }\n",
              "\n",
              "    .colab-df-buttons div {\n",
              "      margin-bottom: 4px;\n",
              "    }\n",
              "\n",
              "    [theme=dark] .colab-df-convert {\n",
              "      background-color: #3B4455;\n",
              "      fill: #D2E3FC;\n",
              "    }\n",
              "\n",
              "    [theme=dark] .colab-df-convert:hover {\n",
              "      background-color: #434B5C;\n",
              "      box-shadow: 0px 1px 3px 1px rgba(0, 0, 0, 0.15);\n",
              "      filter: drop-shadow(0px 1px 2px rgba(0, 0, 0, 0.3));\n",
              "      fill: #FFFFFF;\n",
              "    }\n",
              "  </style>\n",
              "\n",
              "    <script>\n",
              "      const buttonEl =\n",
              "        document.querySelector('#df-bdbb48c9-86cf-44b2-834f-92c5a3556fc8 button.colab-df-convert');\n",
              "      buttonEl.style.display =\n",
              "        google.colab.kernel.accessAllowed ? 'block' : 'none';\n",
              "\n",
              "      async function convertToInteractive(key) {\n",
              "        const element = document.querySelector('#df-bdbb48c9-86cf-44b2-834f-92c5a3556fc8');\n",
              "        const dataTable =\n",
              "          await google.colab.kernel.invokeFunction('convertToInteractive',\n",
              "                                                    [key], {});\n",
              "        if (!dataTable) return;\n",
              "\n",
              "        const docLinkHtml = 'Like what you see? Visit the ' +\n",
              "          '<a target=\"_blank\" href=https://colab.research.google.com/notebooks/data_table.ipynb>data table notebook</a>'\n",
              "          + ' to learn more about interactive tables.';\n",
              "        element.innerHTML = '';\n",
              "        dataTable['output_type'] = 'display_data';\n",
              "        await google.colab.output.renderOutput(dataTable, element);\n",
              "        const docLink = document.createElement('div');\n",
              "        docLink.innerHTML = docLinkHtml;\n",
              "        element.appendChild(docLink);\n",
              "      }\n",
              "    </script>\n",
              "  </div>\n",
              "\n",
              "\n",
              "<div id=\"df-d0b56130-3a42-4855-b608-e6f43f8d076d\">\n",
              "  <button class=\"colab-df-quickchart\" onclick=\"quickchart('df-d0b56130-3a42-4855-b608-e6f43f8d076d')\"\n",
              "            title=\"Suggest charts\"\n",
              "            style=\"display:none;\">\n",
              "\n",
              "<svg xmlns=\"http://www.w3.org/2000/svg\" height=\"24px\"viewBox=\"0 0 24 24\"\n",
              "     width=\"24px\">\n",
              "    <g>\n",
              "        <path d=\"M19 3H5c-1.1 0-2 .9-2 2v14c0 1.1.9 2 2 2h14c1.1 0 2-.9 2-2V5c0-1.1-.9-2-2-2zM9 17H7v-7h2v7zm4 0h-2V7h2v10zm4 0h-2v-4h2v4z\"/>\n",
              "    </g>\n",
              "</svg>\n",
              "  </button>\n",
              "\n",
              "<style>\n",
              "  .colab-df-quickchart {\n",
              "      --bg-color: #E8F0FE;\n",
              "      --fill-color: #1967D2;\n",
              "      --hover-bg-color: #E2EBFA;\n",
              "      --hover-fill-color: #174EA6;\n",
              "      --disabled-fill-color: #AAA;\n",
              "      --disabled-bg-color: #DDD;\n",
              "  }\n",
              "\n",
              "  [theme=dark] .colab-df-quickchart {\n",
              "      --bg-color: #3B4455;\n",
              "      --fill-color: #D2E3FC;\n",
              "      --hover-bg-color: #434B5C;\n",
              "      --hover-fill-color: #FFFFFF;\n",
              "      --disabled-bg-color: #3B4455;\n",
              "      --disabled-fill-color: #666;\n",
              "  }\n",
              "\n",
              "  .colab-df-quickchart {\n",
              "    background-color: var(--bg-color);\n",
              "    border: none;\n",
              "    border-radius: 50%;\n",
              "    cursor: pointer;\n",
              "    display: none;\n",
              "    fill: var(--fill-color);\n",
              "    height: 32px;\n",
              "    padding: 0;\n",
              "    width: 32px;\n",
              "  }\n",
              "\n",
              "  .colab-df-quickchart:hover {\n",
              "    background-color: var(--hover-bg-color);\n",
              "    box-shadow: 0 1px 2px rgba(60, 64, 67, 0.3), 0 1px 3px 1px rgba(60, 64, 67, 0.15);\n",
              "    fill: var(--button-hover-fill-color);\n",
              "  }\n",
              "\n",
              "  .colab-df-quickchart-complete:disabled,\n",
              "  .colab-df-quickchart-complete:disabled:hover {\n",
              "    background-color: var(--disabled-bg-color);\n",
              "    fill: var(--disabled-fill-color);\n",
              "    box-shadow: none;\n",
              "  }\n",
              "\n",
              "  .colab-df-spinner {\n",
              "    border: 2px solid var(--fill-color);\n",
              "    border-color: transparent;\n",
              "    border-bottom-color: var(--fill-color);\n",
              "    animation:\n",
              "      spin 1s steps(1) infinite;\n",
              "  }\n",
              "\n",
              "  @keyframes spin {\n",
              "    0% {\n",
              "      border-color: transparent;\n",
              "      border-bottom-color: var(--fill-color);\n",
              "      border-left-color: var(--fill-color);\n",
              "    }\n",
              "    20% {\n",
              "      border-color: transparent;\n",
              "      border-left-color: var(--fill-color);\n",
              "      border-top-color: var(--fill-color);\n",
              "    }\n",
              "    30% {\n",
              "      border-color: transparent;\n",
              "      border-left-color: var(--fill-color);\n",
              "      border-top-color: var(--fill-color);\n",
              "      border-right-color: var(--fill-color);\n",
              "    }\n",
              "    40% {\n",
              "      border-color: transparent;\n",
              "      border-right-color: var(--fill-color);\n",
              "      border-top-color: var(--fill-color);\n",
              "    }\n",
              "    60% {\n",
              "      border-color: transparent;\n",
              "      border-right-color: var(--fill-color);\n",
              "    }\n",
              "    80% {\n",
              "      border-color: transparent;\n",
              "      border-right-color: var(--fill-color);\n",
              "      border-bottom-color: var(--fill-color);\n",
              "    }\n",
              "    90% {\n",
              "      border-color: transparent;\n",
              "      border-bottom-color: var(--fill-color);\n",
              "    }\n",
              "  }\n",
              "</style>\n",
              "\n",
              "  <script>\n",
              "    async function quickchart(key) {\n",
              "      const quickchartButtonEl =\n",
              "        document.querySelector('#' + key + ' button');\n",
              "      quickchartButtonEl.disabled = true;  // To prevent multiple clicks.\n",
              "      quickchartButtonEl.classList.add('colab-df-spinner');\n",
              "      try {\n",
              "        const charts = await google.colab.kernel.invokeFunction(\n",
              "            'suggestCharts', [key], {});\n",
              "      } catch (error) {\n",
              "        console.error('Error during call to suggestCharts:', error);\n",
              "      }\n",
              "      quickchartButtonEl.classList.remove('colab-df-spinner');\n",
              "      quickchartButtonEl.classList.add('colab-df-quickchart-complete');\n",
              "    }\n",
              "    (() => {\n",
              "      let quickchartButtonEl =\n",
              "        document.querySelector('#df-d0b56130-3a42-4855-b608-e6f43f8d076d button');\n",
              "      quickchartButtonEl.style.display =\n",
              "        google.colab.kernel.accessAllowed ? 'block' : 'none';\n",
              "    })();\n",
              "  </script>\n",
              "</div>\n",
              "\n",
              "    </div>\n",
              "  </div>\n"
            ],
            "application/vnd.google.colaboratory.intrinsic+json": {
              "type": "dataframe",
              "variable_name": "movies",
              "summary": "{\n  \"name\": \"movies\",\n  \"rows\": 739,\n  \"fields\": [\n    {\n      \"column\": \"movie_id\",\n      \"properties\": {\n        \"dtype\": \"number\",\n        \"std\": 71530,\n        \"min\": 12,\n        \"max\": 417859,\n        \"num_unique_values\": 739,\n        \"samples\": [\n          102651,\n          13475,\n          14160\n        ],\n        \"semantic_type\": \"\",\n        \"description\": \"\"\n      }\n    },\n    {\n      \"column\": \"title\",\n      \"properties\": {\n        \"dtype\": \"string\",\n        \"num_unique_values\": 739,\n        \"samples\": [\n          \"Maleficent\",\n          \"Star Trek\",\n          \"Up\"\n        ],\n        \"semantic_type\": \"\",\n        \"description\": \"\"\n      }\n    },\n    {\n      \"column\": \"overview\",\n      \"properties\": {\n        \"dtype\": \"string\",\n        \"num_unique_values\": 739,\n        \"samples\": [\n          \"The untold story of Disney's most iconic villain from the 1959 classic 'Sleeping Beauty'. A beautiful, pure-hearted young woman, Maleficent has an idyllic life growing up in a peaceable forest kingdom, until one day when an invading army threatens the harmony of the land.  Maleficent rises to be the land's fiercest protector, but she ultimately suffers a ruthless betrayal ? an act that begins to turn her heart into stone. Bent on revenge, Maleficent faces an epic battle with the invading King's successor and, as a result, places a curse upon his newborn infant Aurora. As the child grows, Maleficent realizes that Aurora holds the key to peace in the kingdom - and to Maleficent's true happiness as well.\",\n          \"The fate of the galaxy rests in the hands of bitter rivals. One, James Kirk, is a delinquent, thrill-seeking Iowa farm boy. The other, Spock, a Vulcan, was raised in a logic-based society that rejects all emotion. As fiery instinct clashes with calm reason, their unlikely but powerful partnership is the only thing capable of leading their crew through unimaginable danger, boldly going where no one has gone before. The human adventure has begun again.\",\n          \"Carl Fredricksen spent his entire life dreaming of exploring the globe and experiencing life to its fullest. But at age 78, life seems to have passed him by, until a twist of fate (and a persistent 8-year old Wilderness Explorer named Russell) gives him a new lease on life.\"\n        ],\n        \"semantic_type\": \"\",\n        \"description\": \"\"\n      }\n    },\n    {\n      \"column\": \"genres\",\n      \"properties\": {\n        \"dtype\": \"object\",\n        \"semantic_type\": \"\",\n        \"description\": \"\"\n      }\n    },\n    {\n      \"column\": \"keywords\",\n      \"properties\": {\n        \"dtype\": \"object\",\n        \"semantic_type\": \"\",\n        \"description\": \"\"\n      }\n    },\n    {\n      \"column\": \"cast\",\n      \"properties\": {\n        \"dtype\": \"string\",\n        \"num_unique_values\": 739,\n        \"samples\": [\n          \"[{\\\"cast_id\\\": 7, \\\"character\\\": \\\"Maleficent\\\", \\\"credit_id\\\": \\\"52fe4a0cc3a36847f81b5cb3\\\", \\\"gender\\\": 1, \\\"id\\\": 11701, \\\"name\\\": \\\"Angelina Jolie\\\", \\\"order\\\": 0}, {\\\"cast_id\\\": 6, \\\"character\\\": \\\"Princess Aurora\\\", \\\"credit_id\\\": \\\"52fe4a0cc3a36847f81b5caf\\\", \\\"gender\\\": 1, \\\"id\\\": 18050, \\\"name\\\": \\\"Elle Fanning\\\", \\\"order\\\": 1}, {\\\"cast_id\\\": 12, \\\"character\\\": \\\"Stefan\\\", \\\"credit_id\\\": \\\"52fe4a0cc3a36847f81b5cc7\\\", \\\"gender\\\": 2, \\\"id\\\": 82191, \\\"name\\\": \\\"Sharlto Copley\\\", \\\"order\\\": 2}, {\\\"cast_id\\\": 17, \\\"character\\\": \\\"Diaval\\\", \\\"credit_id\\\": \\\"52fe4a0cc3a36847f81b5cdb\\\", \\\"gender\\\": 2, \\\"id\\\": 32987, \\\"name\\\": \\\"Sam Riley\\\", \\\"order\\\": 3}, {\\\"cast_id\\\": 11, \\\"character\\\": \\\"Thistletwit\\\", \\\"credit_id\\\": \\\"52fe4a0cc3a36847f81b5cc3\\\", \\\"gender\\\": 1, \\\"id\\\": 36594, \\\"name\\\": \\\"Juno Temple\\\", \\\"order\\\": 4}, {\\\"cast_id\\\": 16, \\\"character\\\": \\\"Knotgrass\\\", \\\"credit_id\\\": \\\"52fe4a0cc3a36847f81b5cd7\\\", \\\"gender\\\": 1, \\\"id\\\": 11356, \\\"name\\\": \\\"Imelda Staunton\\\", \\\"order\\\": 5}, {\\\"cast_id\\\": 20, \\\"character\\\": \\\"Flittle\\\", \\\"credit_id\\\": \\\"52fe4a0cc3a36847f81b5ce7\\\", \\\"gender\\\": 1, \\\"id\\\": 72305, \\\"name\\\": \\\"Lesley Manville\\\", \\\"order\\\": 6}, {\\\"cast_id\\\": 15, \\\"character\\\": \\\"Prince Phillip\\\", \\\"credit_id\\\": \\\"52fe4a0cc3a36847f81b5cd3\\\", \\\"gender\\\": 2, \\\"id\\\": 1017347, \\\"name\\\": \\\"Brenton Thwaites\\\", \\\"order\\\": 7}, {\\\"cast_id\\\": 25, \\\"character\\\": \\\"Young Maleficent\\\", \\\"credit_id\\\": \\\"53f7bf4f0e0a267a72000014\\\", \\\"gender\\\": 0, \\\"id\\\": 1355733, \\\"name\\\": \\\"Isobelle Molloy\\\", \\\"order\\\": 8}, {\\\"cast_id\\\": 14, \\\"character\\\": \\\"Queen Ulla\\\", \\\"credit_id\\\": \\\"52fe4a0cc3a36847f81b5ccf\\\", \\\"gender\\\": 1, \\\"id\\\": 8436, \\\"name\\\": \\\"Miranda Richardson\\\", \\\"order\\\": 9}, {\\\"cast_id\\\": 19, \\\"character\\\": \\\"Shepherd\\\", \\\"credit_id\\\": \\\"52fe4a0cc3a36847f81b5ce3\\\", \\\"gender\\\": 2, \\\"id\\\": 1833, \\\"name\\\": \\\"Jamie Sives\\\", \\\"order\\\": 10}, {\\\"cast_id\\\": 21, \\\"character\\\": \\\"Young Stefan\\\", \\\"credit_id\\\": \\\"52fe4a0cc3a36847f81b5ceb\\\", \\\"gender\\\": 2, \\\"id\\\": 116606, \\\"name\\\": \\\"Toby Regbo\\\", \\\"order\\\": 11}, {\\\"cast_id\\\": 22, \\\"character\\\": \\\"King Henry\\\", \\\"credit_id\\\": \\\"52fe4a0cc3a36847f81b5cef\\\", \\\"gender\\\": 2, \\\"id\\\": 26258, \\\"name\\\": \\\"Kenneth Cranham\\\", \\\"order\\\": 12}, {\\\"cast_id\\\": 23, \\\"character\\\": \\\"Princess Leila\\\", \\\"credit_id\\\": \\\"53b422de0e0a26598c00cd9f\\\", \\\"gender\\\": 1, \\\"id\\\": 1258225, \\\"name\\\": \\\"Hannah New\\\", \\\"order\\\": 13}, {\\\"cast_id\\\": 24, \\\"character\\\": \\\"Teen Maleficent\\\", \\\"credit_id\\\": \\\"53b423300e0a26597d00c977\\\", \\\"gender\\\": 1, \\\"id\\\": 989325, \\\"name\\\": \\\"Ella Purnell\\\", \\\"order\\\": 14}, {\\\"cast_id\\\": 34, \\\"character\\\": \\\"Princess Leila's Handmaiden\\\", \\\"credit_id\\\": \\\"55e41e56c3a368419a0037b7\\\", \\\"gender\\\": 0, \\\"id\\\": 195286, \\\"name\\\": \\\"Sarah Flind\\\", \\\"order\\\": 15}, {\\\"cast_id\\\": 35, \\\"character\\\": \\\"Teen Stefan\\\", \\\"credit_id\\\": \\\"55e41e5692514137da0038f7\\\", \\\"gender\\\": 0, \\\"id\\\": 1502461, \\\"name\\\": \\\"Jackson Bews\\\", \\\"order\\\": 16}, {\\\"cast_id\\\": 36, \\\"character\\\": \\\"Advisor to King Henry\\\", \\\"credit_id\\\": \\\"55e41e57c3a3684191003bce\\\", \\\"gender\\\": 0, \\\"id\\\": 1252814, \\\"name\\\": \\\"Angus Wright\\\", \\\"order\\\": 17}, {\\\"cast_id\\\": 37, \\\"character\\\": \\\"Advisor to King Henry\\\", \\\"credit_id\\\": \\\"55e41e5792514137ec0036a9\\\", \\\"gender\\\": 2, \\\"id\\\": 65451, \\\"name\\\": \\\"Oliver Maltman\\\", \\\"order\\\": 18}, {\\\"cast_id\\\": 38, \\\"character\\\": \\\"Nobleman\\\", \\\"credit_id\\\": \\\"55e41e57c3a3684191003bd0\\\", \\\"gender\\\": 2, \\\"id\\\": 230697, \\\"name\\\": \\\"Gary Cargill\\\", \\\"order\\\": 19}, {\\\"cast_id\\\": 39, \\\"character\\\": \\\"Nobleman\\\", \\\"credit_id\\\": \\\"55e41e5892514137da0038fb\\\", \\\"gender\\\": 0, \\\"id\\\": 140525, \\\"name\\\": \\\"John O'Toole\\\", \\\"order\\\": 20}, {\\\"cast_id\\\": 40, \\\"character\\\": \\\"Nobleman\\\", \\\"credit_id\\\": \\\"55e41e58c3a368418800339a\\\", \\\"gender\\\": 0, \\\"id\\\": 1502462, \\\"name\\\": \\\"Harry Attwell\\\", \\\"order\\\": 21}, {\\\"cast_id\\\": 41, \\\"character\\\": \\\"Nobleman\\\", \\\"credit_id\\\": \\\"55e41e5892514137e30035e5\\\", \\\"gender\\\": 0, \\\"id\\\": 115622, \\\"name\\\": \\\"Anthony May\\\", \\\"order\\\": 22}, {\\\"cast_id\\\": 42, \\\"character\\\": \\\"Military Nobleman\\\", \\\"credit_id\\\": \\\"55e41e58c3a36841970037bc\\\", \\\"gender\\\": 2, \\\"id\\\": 96281, \\\"name\\\": \\\"James Hicks\\\", \\\"order\\\": 23}, {\\\"cast_id\\\": 43, \\\"character\\\": \\\"General\\\", \\\"credit_id\\\": \\\"55e41e5992514137da0038fd\\\", \\\"gender\\\": 2, \\\"id\\\": 185003, \\\"name\\\": \\\"Stephan Chase\\\", \\\"order\\\": 24}, {\\\"cast_id\\\": 44, \\\"character\\\": \\\"General\\\", \\\"credit_id\\\": \\\"55e41e59c3a368418800339e\\\", \\\"gender\\\": 0, \\\"id\\\": 139811, \\\"name\\\": \\\"Mark Caven\\\", \\\"order\\\": 25}, {\\\"cast_id\\\": 45, \\\"character\\\": \\\"Servant in Wing Room\\\", \\\"credit_id\\\": \\\"55e41e5992514137e900353f\\\", \\\"gender\\\": 0, \\\"id\\\": 1238441, \\\"name\\\": \\\"Chris Leaney\\\", \\\"order\\\": 26}, {\\\"cast_id\\\": 46, \\\"character\\\": \\\"Soldier in Wood\\\", \\\"credit_id\\\": \\\"55e41e5ac3a36841880033a0\\\", \\\"gender\\\": 0, \\\"id\\\": 145071, \\\"name\\\": \\\"Jamie Maclachlan\\\", \\\"order\\\": 27}, {\\\"cast_id\\\": 47, \\\"character\\\": \\\"Aurora (5 yrs.)\\\", \\\"credit_id\\\": \\\"55e41e5ac3a368419400373a\\\", \\\"gender\\\": 0, \\\"id\\\": 1502463, \\\"name\\\": \\\"Vivienne Jolie-Pitt\\\", \\\"order\\\": 28}, {\\\"cast_id\\\": 48, \\\"character\\\": \\\"Aurora (8 yrs.)\\\", \\\"credit_id\\\": \\\"55e41e5b92514137e6003623\\\", \\\"gender\\\": 1, \\\"id\\\": 1462923, \\\"name\\\": \\\"Eleanor Worthington-Cox\\\", \\\"order\\\": 29}, {\\\"cast_id\\\": 49, \\\"character\\\": \\\"Captain\\\", \\\"credit_id\\\": \\\"55e41e5bc3a3684191003bd3\\\", \\\"gender\\\": 2, \\\"id\\\": 550549, \\\"name\\\": \\\"John MacMillan\\\", \\\"order\\\": 30}, {\\\"cast_id\\\": 50, \\\"character\\\": \\\"Farmer\\\", \\\"credit_id\\\": \\\"55e41e5bc3a368418b0033ee\\\", \\\"gender\\\": 0, \\\"id\\\": 1001523, \\\"name\\\": \\\"Tim Treloar\\\", \\\"order\\\": 31}, {\\\"cast_id\\\": 51, \\\"character\\\": \\\"Guard (voice)\\\", \\\"credit_id\\\": \\\"55e41e5bc3a368419400373e\\\", \\\"gender\\\": 0, \\\"id\\\": 568393, \\\"name\\\": \\\"Peter G. Reed\\\", \\\"order\\\": 32}, {\\\"cast_id\\\": 52, \\\"character\\\": \\\"Servant\\\", \\\"credit_id\\\": \\\"55e41e5c92514137e9003542\\\", \\\"gender\\\": 0, \\\"id\\\": 1312266, \\\"name\\\": \\\"Marama Corlett\\\", \\\"order\\\": 33}, {\\\"cast_id\\\": 53, \\\"character\\\": \\\"King Henry's Captain\\\", \\\"credit_id\\\": \\\"55e41e5cc3a3684191003bd5\\\", \\\"gender\\\": 2, \\\"id\\\": 75065, \\\"name\\\": \\\"Liam McKenna\\\", \\\"order\\\": 34}, {\\\"cast_id\\\": 54, \\\"character\\\": \\\"Overseer\\\", \\\"credit_id\\\": \\\"55e41e5c92514137dd0035a9\\\", \\\"gender\\\": 0, \\\"id\\\": 1102427, \\\"name\\\": \\\"Steven Cree\\\", \\\"order\\\": 35}, {\\\"cast_id\\\": 55, \\\"character\\\": \\\"Fairies / Creatures (voice)\\\", \\\"credit_id\\\": \\\"55e41e5dc3a368418b0033f0\\\", \\\"gender\\\": 1, \\\"id\\\": 91023, \\\"name\\\": \\\"Sandy Fox\\\", \\\"order\\\": 36}, {\\\"cast_id\\\": 56, \\\"character\\\": \\\"Narrator (voice)\\\", \\\"credit_id\\\": \\\"55e41e5d92514137e30035e7\\\", \\\"gender\\\": 1, \\\"id\\\": 47627, \\\"name\\\": \\\"Janet McTeer\\\", \\\"order\\\": 37}, {\\\"cast_id\\\": 57, \\\"character\\\": \\\"Blue Suit Performer (uncredited)\\\", \\\"credit_id\\\": \\\"55e41e5dc3a368419a0037ba\\\", \\\"gender\\\": 0, \\\"id\\\": 1218685, \\\"name\\\": \\\"Karen Anderson\\\", \\\"order\\\": 38}, {\\\"cast_id\\\": 58, \\\"character\\\": \\\"King Henry Soldier (uncredited)\\\", \\\"credit_id\\\": \\\"55e41e5e92514137da0038ff\\\", \\\"gender\\\": 2, \\\"id\\\": 1363049, \\\"name\\\": \\\"Lasco Atkins\\\", \\\"order\\\": 39}, {\\\"cast_id\\\": 59, \\\"character\\\": \\\"Stefans Guard (uncredited)\\\", \\\"credit_id\\\": \\\"55e41e5ec3a3684185003531\\\", \\\"gender\\\": 0, \\\"id\\\": 1502464, \\\"name\\\": \\\"James Ayling\\\", \\\"order\\\": 40}, {\\\"cast_id\\\": 60, \\\"character\\\": \\\"Palace Guard (uncredited)\\\", \\\"credit_id\\\": \\\"55e41e5f92514137ec0036ab\\\", \\\"gender\\\": 1, \\\"id\\\": 1174490, \\\"name\\\": \\\"Laura Black\\\", \\\"order\\\": 41}, {\\\"cast_id\\\": 61, \\\"character\\\": \\\"Courtier (uncredited)\\\", \\\"credit_id\\\": \\\"55e41e5fc3a368418e003175\\\", \\\"gender\\\": 0, \\\"id\\\": 1502465, \\\"name\\\": \\\"Sophie-Anna Brough\\\", \\\"order\\\": 42}, {\\\"cast_id\\\": 62, \\\"character\\\": \\\"King Henry's General (uncredited)\\\", \\\"credit_id\\\": \\\"55e41e5f92514137da003903\\\", \\\"gender\\\": 0, \\\"id\\\": 1430707, \\\"name\\\": \\\"Alfred Camp\\\", \\\"order\\\": 43}, {\\\"cast_id\\\": 63, \\\"character\\\": \\\"Young Man (uncredited)\\\", \\\"credit_id\\\": \\\"55e41e60c3a36841880033a4\\\", \\\"gender\\\": 0, \\\"id\\\": 1502466, \\\"name\\\": \\\"Raf Cross\\\", \\\"order\\\": 44}, {\\\"cast_id\\\": 64, \\\"character\\\": \\\"Stefan's Guard (uncredited)\\\", \\\"credit_id\\\": \\\"55e41e6092514137da003906\\\", \\\"gender\\\": 0, \\\"id\\\": 1502467, \\\"name\\\": \\\"Nick Donald\\\", \\\"order\\\": 45}, {\\\"cast_id\\\": 65, \\\"character\\\": \\\"Curse Voice, Fairies, Creatures (uncredited)\\\", \\\"credit_id\\\": \\\"55e41e60c3a36841970037bf\\\", \\\"gender\\\": 1, \\\"id\\\": 186605, \\\"name\\\": \\\"Terri Douglas\\\", \\\"order\\\": 46}, {\\\"cast_id\\\": 66, \\\"character\\\": \\\"Court Jester (uncredited)\\\", \\\"credit_id\\\": \\\"55e41e6192514137dd0035ad\\\", \\\"gender\\\": 2, \\\"id\\\": 1502468, \\\"name\\\": \\\"Damon Driver\\\", \\\"order\\\": 47}, {\\\"cast_id\\\": 67, \\\"character\\\": \\\"Stefan's Soldier / Henry's Soldier (uncredited)\\\", \\\"credit_id\\\": \\\"55e41e61c3a3684191003bda\\\", \\\"gender\\\": 0, \\\"id\\\": 1502469, \\\"name\\\": \\\"Josh Dyer\\\", \\\"order\\\": 48}, {\\\"cast_id\\\": 68, \\\"character\\\": \\\"Dancer (uncredited)\\\", \\\"credit_id\\\": \\\"55e41e6192514137e30035ec\\\", \\\"gender\\\": 1, \\\"id\\\": 1502470, \\\"name\\\": \\\"Stephanie Elstob\\\", \\\"order\\\": 49}, {\\\"cast_id\\\": 69, \\\"character\\\": \\\"Courtier (uncredited)\\\", \\\"credit_id\\\": \\\"55e41e61c3a368418e00317b\\\", \\\"gender\\\": 0, \\\"id\\\": 1502471, \\\"name\\\": \\\"Ellis Fuller\\\", \\\"order\\\": 50}, {\\\"cast_id\\\": 70, \\\"character\\\": \\\"Blue Suit Performer (uncredited)\\\", \\\"credit_id\\\": \\\"55e41e6292514137ec0036ae\\\", \\\"gender\\\": 0, \\\"id\\\": 1502472, \\\"name\\\": \\\"Craig Garner\\\", \\\"order\\\": 51}, {\\\"cast_id\\\": 71, \\\"character\\\": \\\"King Henry's Solider (uncredited)\\\", \\\"credit_id\\\": \\\"55e41e62c3a3684185003535\\\", \\\"gender\\\": 0, \\\"id\\\": 1394404, \\\"name\\\": \\\"Alexander Gillison\\\", \\\"order\\\": 52}, {\\\"cast_id\\\": 72, \\\"character\\\": \\\"Courtier (uncredited)\\\", \\\"credit_id\\\": \\\"55e41e62c3a368418b0033f4\\\", \\\"gender\\\": 0, \\\"id\\\": 1502473, \\\"name\\\": \\\"Victoria Gugenheim\\\", \\\"order\\\": 53}, {\\\"cast_id\\\": 73, \\\"character\\\": \\\"Courtier (uncredited)\\\", \\\"credit_id\\\": \\\"55e41e6392514137da00390c\\\", \\\"gender\\\": 0, \\\"id\\\": 1502474, \\\"name\\\": \\\"Daniel Harland\\\", \\\"order\\\": 54}, {\\\"cast_id\\\": 74, \\\"character\\\": \\\"Pixie Reader (uncredited)\\\", \\\"credit_id\\\": \\\"55e41e6392514137e6003627\\\", \\\"gender\\\": 0, \\\"id\\\": 1347128, \\\"name\\\": \\\"Kara Lily Hayworth\\\", \\\"order\\\": 55}, {\\\"cast_id\\\": 75, \\\"character\\\": \\\"Soldier / Courtier (uncredited)\\\", \\\"credit_id\\\": \\\"55e41e63c3a3684194003741\\\", \\\"gender\\\": 0, \\\"id\\\": 1375518, \\\"name\\\": \\\"John Heartstone\\\", \\\"order\\\": 56}, {\\\"cast_id\\\": 76, \\\"character\\\": \\\"Stefan's Soldier (uncredited)\\\", \\\"credit_id\\\": \\\"55e41e6492514137d7003643\\\", \\\"gender\\\": 0, \\\"id\\\": 1075104, \\\"name\\\": \\\"Matt Hookings\\\", \\\"order\\\": 57}, {\\\"cast_id\\\": 77, \\\"character\\\": \\\"King Henry's Soldier (uncredited)\\\", \\\"credit_id\\\": \\\"55e41e64c3a3684191003be0\\\", \\\"gender\\\": 0, \\\"id\\\": 1502475, \\\"name\\\": \\\"Craig Izzard\\\", \\\"order\\\": 58}, {\\\"cast_id\\\": 78, \\\"character\\\": \\\"Dancer (uncredited)\\\", \\\"credit_id\\\": \\\"55e41e6492514137e000358e\\\", \\\"gender\\\": 0, \\\"id\\\": 1502476, \\\"name\\\": \\\"Ceri Jerome\\\", \\\"order\\\": 59}, {\\\"cast_id\\\": 79, \\\"character\\\": \\\"Girl (uncredited)\\\", \\\"credit_id\\\": \\\"55e41e64c3a3684185003537\\\", \\\"gender\\\": 0, \\\"id\\\": 1242871, \\\"name\\\": \\\"Zahara Jolie-Pitt\\\", \\\"order\\\": 60}, {\\\"cast_id\\\": 80, \\\"character\\\": \\\"Blue Suit Performer (uncredited)\\\", \\\"credit_id\\\": \\\"55e41e65c3a368418b0033fa\\\", \\\"gender\\\": 0, \\\"id\\\": 1502477, \\\"name\\\": \\\"Lee Edward Jones\\\", \\\"order\\\": 61}, {\\\"cast_id\\\": 81, \\\"character\\\": \\\"Courtier (uncredited)\\\", \\\"credit_id\\\": \\\"55e41e6592514137dd0035b2\\\", \\\"gender\\\": 0, \\\"id\\\": 1378466, \\\"name\\\": \\\"Hrvoje Klecz\\\", \\\"order\\\": 62}, {\\\"cast_id\\\": 82, \\\"character\\\": \\\"Servant (uncredited)\\\", \\\"credit_id\\\": \\\"55e41e65c3a3684194003743\\\", \\\"gender\\\": 0, \\\"id\\\": 1394405, \\\"name\\\": \\\"Alex Marek\\\", \\\"order\\\": 63}, {\\\"cast_id\\\": 83, \\\"character\\\": \\\"Palace Guard (uncredited)\\\", \\\"credit_id\\\": \\\"55e41e6692514137da003910\\\", \\\"gender\\\": 0, \\\"id\\\": 1207207, \\\"name\\\": \\\"Jo\\\\u00e3o Costa Menezes\\\", \\\"order\\\": 64}, {\\\"cast_id\\\": 84, \\\"character\\\": \\\"Courtier (uncredited)\\\", \\\"credit_id\\\": \\\"55e41e66c3a36841970037c2\\\", \\\"gender\\\": 0, \\\"id\\\": 1502478, \\\"name\\\": \\\"Karen Mkrtchyan\\\", \\\"order\\\": 65}, {\\\"cast_id\\\": 85, \\\"character\\\": \\\"King Stefan's Army (uncredited)\\\", \\\"credit_id\\\": \\\"55e41e6692514137e600362a\\\", \\\"gender\\\": 0, \\\"id\\\": 1502479, \\\"name\\\": \\\"Matthew John Morley\\\", \\\"order\\\": 66}, {\\\"cast_id\\\": 86, \\\"character\\\": \\\"Courtier (uncredited)\\\", \\\"credit_id\\\": \\\"55e41e67c3a368418b0033ff\\\", \\\"gender\\\": 0, \\\"id\\\": 1502480, \\\"name\\\": \\\"Steven John Nice\\\", \\\"order\\\": 67}, {\\\"cast_id\\\": 87, \\\"character\\\": \\\"Blue Suit Performer (uncredited)\\\", \\\"credit_id\\\": \\\"55e41e6792514137e9003547\\\", \\\"gender\\\": 0, \\\"id\\\": 1278780, \\\"name\\\": \\\"Edd Osmond\\\", \\\"order\\\": 68}, {\\\"cast_id\\\": 88, \\\"character\\\": \\\"Blue Suit Performer (uncredited)\\\", \\\"credit_id\\\": \\\"55e41e67c3a36841970037c6\\\", \\\"gender\\\": 0, \\\"id\\\": 1278771, \\\"name\\\": \\\"Jo Osmond\\\", \\\"order\\\": 69}, {\\\"cast_id\\\": 89, \\\"character\\\": \\\"King Henry's Soldier (uncredited)\\\", \\\"credit_id\\\": \\\"55e41e6792514137d7003645\\\", \\\"gender\\\": 0, \\\"id\\\": 1279742, \\\"name\\\": \\\"Andrew James Porter\\\", \\\"order\\\": 70}, {\\\"cast_id\\\": 90, \\\"character\\\": \\\"Stefan's Page (uncredited)\\\", \\\"credit_id\\\": \\\"55e41e68c3a3684191003be4\\\", \\\"gender\\\": 0, \\\"id\\\": 1462424, \\\"name\\\": \\\"Guy Potter\\\", \\\"order\\\": 71}, {\\\"cast_id\\\": 91, \\\"character\\\": \\\"King Stefans Guard (uncredited)\\\", \\\"credit_id\\\": \\\"55e41e6892514137e0003594\\\", \\\"gender\\\": 0, \\\"id\\\": 1502481, \\\"name\\\": \\\"Marc Rolfe\\\", \\\"order\\\": 72}, {\\\"cast_id\\\": 92, \\\"character\\\": \\\"Palace Guard (uncredited)\\\", \\\"credit_id\\\": \\\"55e41e68c3a368419a0037bd\\\", \\\"gender\\\": 0, \\\"id\\\": 1394408, \\\"name\\\": \\\"Jd Roth-round\\\", \\\"order\\\": 73}, {\\\"cast_id\\\": 93, \\\"character\\\": \\\"Stefan's General (uncredited)\\\", \\\"credit_id\\\": \\\"55e41e6992514137e900354b\\\", \\\"gender\\\": 0, \\\"id\\\": 1394409, \\\"name\\\": \\\"Julian Seager\\\", \\\"order\\\": 74}, {\\\"cast_id\\\": 94, \\\"character\\\": \\\"Soldier / Courtier (uncredited)\\\", \\\"credit_id\\\": \\\"55e41e69c3a3684194003747\\\", \\\"gender\\\": 0, \\\"id\\\": 1502482, \\\"name\\\": \\\"Peter Stacey\\\", \\\"order\\\": 75}, {\\\"cast_id\\\": 95, \\\"character\\\": \\\"Screen Combat, Soldier (uncredited)\\\", \\\"credit_id\\\": \\\"55e41e6992514137da003913\\\", \\\"gender\\\": 0, \\\"id\\\": 1481440, \\\"name\\\": \\\"Daniel Stisen\\\", \\\"order\\\": 76}, {\\\"cast_id\\\": 96, \\\"character\\\": \\\"Stefan Guard (uncredited)\\\", \\\"credit_id\\\": \\\"55e41e6ac3a368418b003404\\\", \\\"gender\\\": 0, \\\"id\\\": 1438979, \\\"name\\\": \\\"Richard Summers-Calvert\\\", \\\"order\\\": 77}, {\\\"cast_id\\\": 97, \\\"character\\\": \\\"Young Man (uncredited)\\\", \\\"credit_id\\\": \\\"55e41e6ac3a368419400374c\\\", \\\"gender\\\": 0, \\\"id\\\": 1502483, \\\"name\\\": \\\"Leo Suter\\\", \\\"order\\\": 78}, {\\\"cast_id\\\": 98, \\\"character\\\": \\\"Courtier (uncredited)\\\", \\\"credit_id\\\": \\\"55e41e6a92514137e600362f\\\", \\\"gender\\\": 0, \\\"id\\\": 1394377, \\\"name\\\": \\\"Tom Swacha\\\", \\\"order\\\": 79}, {\\\"cast_id\\\": 99, \\\"character\\\": \\\"Special action soldier (uncredited)\\\", \\\"credit_id\\\": \\\"55e41e6ac3a368419a0037c4\\\", \\\"gender\\\": 0, \\\"id\\\": 1371439, \\\"name\\\": \\\"Daniel Westwood\\\", \\\"order\\\": 80}, {\\\"cast_id\\\": 100, \\\"character\\\": \\\"Courtier at Christening (uncredited)\\\", \\\"credit_id\\\": \\\"55e41e6b92514137e6003632\\\", \\\"gender\\\": 2, \\\"id\\\": 590936, \\\"name\\\": \\\"Christian Wolf-La'Moy \\\", \\\"order\\\": 81}]\",\n          \"[{\\\"cast_id\\\": 15, \\\"character\\\": \\\"James T. Kirk\\\", \\\"credit_id\\\": \\\"52fe456c9251416c75056169\\\", \\\"gender\\\": 2, \\\"id\\\": 62064, \\\"name\\\": \\\"Chris Pine\\\", \\\"order\\\": 0}, {\\\"cast_id\\\": 16, \\\"character\\\": \\\"Spock\\\", \\\"credit_id\\\": \\\"52fe456c9251416c7505616d\\\", \\\"gender\\\": 2, \\\"id\\\": 17306, \\\"name\\\": \\\"Zachary Quinto\\\", \\\"order\\\": 1}, {\\\"cast_id\\\": 26, \\\"character\\\": \\\"Spock Prime\\\", \\\"credit_id\\\": \\\"52fe456c9251416c75056195\\\", \\\"gender\\\": 2, \\\"id\\\": 1749, \\\"name\\\": \\\"Leonard Nimoy\\\", \\\"order\\\": 2}, {\\\"cast_id\\\": 17, \\\"character\\\": \\\"Nero\\\", \\\"credit_id\\\": \\\"52fe456c9251416c75056171\\\", \\\"gender\\\": 2, \\\"id\\\": 8783, \\\"name\\\": \\\"Eric Bana\\\", \\\"order\\\": 3}, {\\\"cast_id\\\": 23, \\\"character\\\": \\\"Christopher Pike\\\", \\\"credit_id\\\": \\\"52fe456c9251416c75056189\\\", \\\"gender\\\": 2, \\\"id\\\": 21089, \\\"name\\\": \\\"Bruce Greenwood\\\", \\\"order\\\": 4}, {\\\"cast_id\\\": 21, \\\"character\\\": \\\"Leonard 'Bones' McCoy\\\", \\\"credit_id\\\": \\\"52fe456c9251416c75056181\\\", \\\"gender\\\": 2, \\\"id\\\": 1372, \\\"name\\\": \\\"Karl Urban\\\", \\\"order\\\": 5}, {\\\"cast_id\\\": 20, \\\"character\\\": \\\"Nyota Uhura\\\", \\\"credit_id\\\": \\\"52fe456c9251416c7505617d\\\", \\\"gender\\\": 1, \\\"id\\\": 8691, \\\"name\\\": \\\"Zoe Saldana\\\", \\\"order\\\": 6}, {\\\"cast_id\\\": 18, \\\"character\\\": \\\"Montgomery Scott\\\", \\\"credit_id\\\": \\\"52fe456c9251416c75056175\\\", \\\"gender\\\": 2, \\\"id\\\": 11108, \\\"name\\\": \\\"Simon Pegg\\\", \\\"order\\\": 7}, {\\\"cast_id\\\": 22, \\\"character\\\": \\\"Hikaru Sulu\\\", \\\"credit_id\\\": \\\"52fe456c9251416c75056185\\\", \\\"gender\\\": 2, \\\"id\\\": 68842, \\\"name\\\": \\\"John Cho\\\", \\\"order\\\": 8}, {\\\"cast_id\\\": 25, \\\"character\\\": \\\"Pavel Chekov\\\", \\\"credit_id\\\": \\\"52fe456c9251416c75056191\\\", \\\"gender\\\": 2, \\\"id\\\": 21028, \\\"name\\\": \\\"Anton Yelchin\\\", \\\"order\\\": 9}, {\\\"cast_id\\\": 24, \\\"character\\\": \\\"Sarek\\\", \\\"credit_id\\\": \\\"52fe456c9251416c7505618d\\\", \\\"gender\\\": 2, \\\"id\\\": 29068, \\\"name\\\": \\\"Ben Cross\\\", \\\"order\\\": 10}, {\\\"cast_id\\\": 19, \\\"character\\\": \\\"Amanda Grayson\\\", \\\"credit_id\\\": \\\"52fe456c9251416c75056179\\\", \\\"gender\\\": 1, \\\"id\\\": 1920, \\\"name\\\": \\\"Winona Ryder\\\", \\\"order\\\": 11}, {\\\"cast_id\\\": 28, \\\"character\\\": \\\"George Kirk\\\", \\\"credit_id\\\": \\\"52fe456c9251416c7505619d\\\", \\\"gender\\\": 2, \\\"id\\\": 74568, \\\"name\\\": \\\"Chris Hemsworth\\\", \\\"order\\\": 12}, {\\\"cast_id\\\": 29, \\\"character\\\": \\\"Winona Kirk\\\", \\\"credit_id\\\": \\\"52fe456c9251416c750561a1\\\", \\\"gender\\\": 1, \\\"id\\\": 41421, \\\"name\\\": \\\"Jennifer Morrison\\\", \\\"order\\\": 13}, {\\\"cast_id\\\": 33, \\\"character\\\": \\\"Galia\\\", \\\"credit_id\\\": \\\"52fe456d9251416c750561b1\\\", \\\"gender\\\": 1, \\\"id\\\": 50347, \\\"name\\\": \\\"Rachel Nichols\\\", \\\"order\\\": 14}, {\\\"cast_id\\\": 34, \\\"character\\\": \\\"Captain Robau\\\", \\\"credit_id\\\": \\\"52fe456d9251416c750561b5\\\", \\\"gender\\\": 2, \\\"id\\\": 57452, \\\"name\\\": \\\"Faran Tahir\\\", \\\"order\\\": 15}, {\\\"cast_id\\\": 35, \\\"character\\\": \\\"Ayel\\\", \\\"credit_id\\\": \\\"52fe456d9251416c750561b9\\\", \\\"gender\\\": 2, \\\"id\\\": 5365, \\\"name\\\": \\\"Clifton Collins Jr\\\", \\\"order\\\": 16}, {\\\"cast_id\\\": 27, \\\"character\\\": \\\"Chief Engineer Olsen\\\", \\\"credit_id\\\": \\\"52fe456c9251416c75056199\\\", \\\"gender\\\": 2, \\\"id\\\": 4031, \\\"name\\\": \\\"Greg Ellis\\\", \\\"order\\\": 17}, {\\\"cast_id\\\": 30, \\\"character\\\": \\\"Nero's Wife\\\", \\\"credit_id\\\": \\\"52fe456c9251416c750561a5\\\", \\\"gender\\\": 1, \\\"id\\\": 128628, \\\"name\\\": \\\"Scottie Thompson\\\", \\\"order\\\": 18}, {\\\"cast_id\\\": 31, \\\"character\\\": \\\"Barracks Officer\\\", \\\"credit_id\\\": \\\"52fe456d9251416c750561a9\\\", \\\"gender\\\": 2, \\\"id\\\": 26069, \\\"name\\\": \\\"Paul McGillion\\\", \\\"order\\\": 19}, {\\\"cast_id\\\": 32, \\\"character\\\": \\\"Romulan Communications Officer\\\", \\\"credit_id\\\": \\\"52fe456d9251416c750561ad\\\", \\\"gender\\\": 0, \\\"id\\\": 451, \\\"name\\\": \\\"Lucia Rijker\\\", \\\"order\\\": 20}, {\\\"cast_id\\\": 36, \\\"character\\\": \\\"Young James T. Kirk\\\", \\\"credit_id\\\": \\\"52fe456d9251416c750561bd\\\", \\\"gender\\\": 2, \\\"id\\\": 6860, \\\"name\\\": \\\"Jimmy Bennett\\\", \\\"order\\\": 21}, {\\\"cast_id\\\": 37, \\\"character\\\": \\\"Stepdad (voice)\\\", \\\"credit_id\\\": \\\"52fe456d9251416c750561c1\\\", \\\"gender\\\": 2, \\\"id\\\": 17305, \\\"name\\\": \\\"Greg Grunberg\\\", \\\"order\\\": 22}, {\\\"cast_id\\\": 38, \\\"character\\\": \\\"Barracks Officer\\\", \\\"credit_id\\\": \\\"52fe456d9251416c750561c5\\\", \\\"gender\\\": 1, \\\"id\\\": 92774, \\\"name\\\": \\\"Lisa Vidal\\\", \\\"order\\\": 23}, {\\\"cast_id\\\": 39, \\\"character\\\": \\\"Young Spock\\\", \\\"credit_id\\\": \\\"52fe456d9251416c750561c9\\\", \\\"gender\\\": 2, \\\"id\\\": 46801, \\\"name\\\": \\\"Jacob Kogan\\\", \\\"order\\\": 24}, {\\\"cast_id\\\": 40, \\\"character\\\": \\\"Admiral Richard Barnett\\\", \\\"credit_id\\\": \\\"52fe456d9251416c750561cd\\\", \\\"gender\\\": 2, \\\"id\\\": 80602, \\\"name\\\": \\\"Tyler Perry\\\", \\\"order\\\": 25}, {\\\"cast_id\\\": 41, \\\"character\\\": \\\"Hannity\\\", \\\"credit_id\\\": \\\"52fe456d9251416c750561d1\\\", \\\"gender\\\": 1, \\\"id\\\": 13024, \\\"name\\\": \\\"Amanda Foreman\\\", \\\"order\\\": 26}, {\\\"cast_id\\\": 42, \\\"character\\\": \\\"The Wrong Orion\\\", \\\"credit_id\\\": \\\"52fe456d9251416c750561d5\\\", \\\"gender\\\": 1, \\\"id\\\": 59263, \\\"name\\\": \\\"Diora Baird\\\", \\\"order\\\": 27}, {\\\"cast_id\\\": 44, \\\"character\\\": \\\"Cadet Alien\\\", \\\"credit_id\\\": \\\"52fe456d9251416c750561df\\\", \\\"gender\\\": 1, \\\"id\\\": 1181331, \\\"name\\\": \\\"Sufe Bradshaw\\\", \\\"order\\\": 28}, {\\\"cast_id\\\": 51, \\\"character\\\": \\\"Officer Pitts\\\", \\\"credit_id\\\": \\\"52fe456d9251416c75056207\\\", \\\"gender\\\": 2, \\\"id\\\": 138324, \\\"name\\\": \\\"Tony Elias\\\", \\\"order\\\": 29}, {\\\"cast_id\\\": 52, \\\"character\\\": \\\"Tactical Officer\\\", \\\"credit_id\\\": \\\"52fe456d9251416c7505620b\\\", \\\"gender\\\": 0, \\\"id\\\": 188796, \\\"name\\\": \\\"Sean Gerace\\\", \\\"order\\\": 30}, {\\\"cast_id\\\": 53, \\\"character\\\": \\\"Kelvin Crew Member\\\", \\\"credit_id\\\": \\\"52fe456d9251416c7505620f\\\", \\\"gender\\\": 0, \\\"id\\\": 1274566, \\\"name\\\": \\\"Randy Pausch\\\", \\\"order\\\": 31}, {\\\"cast_id\\\": 54, \\\"character\\\": \\\"Kelvin Engineer\\\", \\\"credit_id\\\": \\\"52fe456d9251416c75056213\\\", \\\"gender\\\": 2, \\\"id\\\": 27031, \\\"name\\\": \\\"Tim Griffin\\\", \\\"order\\\": 32}, {\\\"cast_id\\\": 55, \\\"character\\\": \\\"Kelvin Helmsman\\\", \\\"credit_id\\\": \\\"52fe456d9251416c75056217\\\", \\\"gender\\\": 1, \\\"id\\\": 51754, \\\"name\\\": \\\"Freda Foh Shen\\\", \\\"order\\\": 33}, {\\\"cast_id\\\": 56, \\\"character\\\": \\\"Kelvin Alien\\\", \\\"credit_id\\\": \\\"52fe456d9251416c7505621b\\\", \\\"gender\\\": 0, \\\"id\\\": 583844, \\\"name\\\": \\\"Kasia Kowalczyk\\\", \\\"order\\\": 34}, {\\\"cast_id\\\": 57, \\\"character\\\": \\\"Romulan Helmsman\\\", \\\"credit_id\\\": \\\"52fe456d9251416c7505621f\\\", \\\"gender\\\": 2, \\\"id\\\": 154748, \\\"name\\\": \\\"Jason Brooks\\\", \\\"order\\\": 35}, {\\\"cast_id\\\": 58, \\\"character\\\": \\\"Kelvin Doctor\\\", \\\"credit_id\\\": \\\"52fe456d9251416c75056223\\\", \\\"gender\\\": 1, \\\"id\\\": 963257, \\\"name\\\": \\\"Sonita Henry\\\", \\\"order\\\": 36}, {\\\"cast_id\\\": 59, \\\"character\\\": \\\"Medical Technician\\\", \\\"credit_id\\\": \\\"52fe456d9251416c75056227\\\", \\\"gender\\\": 2, \\\"id\\\": 51997, \\\"name\\\": \\\"Kelvin Yu\\\", \\\"order\\\": 37}, {\\\"cast_id\\\": 60, \\\"character\\\": \\\"Medical Technician\\\", \\\"credit_id\\\": \\\"52fe456d9251416c7505622b\\\", \\\"gender\\\": 1, \\\"id\\\": 1216155, \\\"name\\\": \\\"Marta Martin\\\", \\\"order\\\": 38}, {\\\"cast_id\\\": 61, \\\"character\\\": \\\"Kelvin Crew Member\\\", \\\"credit_id\\\": \\\"52fe456d9251416c7505622f\\\", \\\"gender\\\": 0, \\\"id\\\": 1274869, \\\"name\\\": \\\"Tavarus Conley\\\", \\\"order\\\": 39}, {\\\"cast_id\\\": 62, \\\"character\\\": \\\"Kelvin Crew Member\\\", \\\"credit_id\\\": \\\"52fe456d9251416c75056233\\\", \\\"gender\\\": 0, \\\"id\\\": 1026981, \\\"name\\\": \\\"Jeff Castle\\\", \\\"order\\\": 40}, {\\\"cast_id\\\": 63, \\\"character\\\": \\\"Med Evac Pilot\\\", \\\"credit_id\\\": \\\"52fe456d9251416c75056237\\\", \\\"gender\\\": 2, \\\"id\\\": 64805, \\\"name\\\": \\\"Billy Brown\\\", \\\"order\\\": 41}, {\\\"cast_id\\\": 64, \\\"character\\\": \\\"Johnny\\\", \\\"credit_id\\\": \\\"52fe456d9251416c7505623b\\\", \\\"gender\\\": 2, \\\"id\\\": 168962, \\\"name\\\": \\\"Spencer Daniels\\\", \\\"order\\\": 42}, {\\\"cast_id\\\": 65, \\\"character\\\": \\\"Iowa Cop\\\", \\\"credit_id\\\": \\\"52fe456d9251416c7505623f\\\", \\\"gender\\\": 2, \\\"id\\\": 126841, \\\"name\\\": \\\"Jeremy Fitzgerald\\\", \\\"order\\\": 43}, {\\\"cast_id\\\": 66, \\\"character\\\": \\\"Vulcan Student\\\", \\\"credit_id\\\": \\\"52fe456d9251416c75056243\\\", \\\"gender\\\": 0, \\\"id\\\": 1275518, \\\"name\\\": \\\"Zoe Chernov\\\", \\\"order\\\": 44}, {\\\"cast_id\\\": 67, \\\"character\\\": \\\"Vulcan Student\\\", \\\"credit_id\\\": \\\"52fe456d9251416c75056247\\\", \\\"gender\\\": 0, \\\"id\\\": 1275519, \\\"name\\\": \\\"Max Chernov\\\", \\\"order\\\": 45}, {\\\"cast_id\\\": 68, \\\"character\\\": \\\"Vulcan Bully\\\", \\\"credit_id\\\": \\\"52fe456d9251416c7505624b\\\", \\\"gender\\\": 2, \\\"id\\\": 1107818, \\\"name\\\": \\\"Lorenzo James Henrie\\\", \\\"order\\\": 46}, {\\\"cast_id\\\": 69, \\\"character\\\": \\\"Vulcan Bully\\\", \\\"credit_id\\\": \\\"52fe456d9251416c7505624f\\\", \\\"gender\\\": 0, \\\"id\\\": 203012, \\\"name\\\": \\\"Colby Paul\\\", \\\"order\\\": 47}, {\\\"cast_id\\\": 70, \\\"character\\\": \\\"Vulcan Bully\\\", \\\"credit_id\\\": \\\"52fe456d9251416c75056253\\\", \\\"gender\\\": 0, \\\"id\\\": 170883, \\\"name\\\": \\\"Cody Klop\\\", \\\"order\\\": 48}, {\\\"cast_id\\\": 71, \\\"character\\\": \\\"Vulcan Council Member\\\", \\\"credit_id\\\": \\\"52fe456d9251416c75056257\\\", \\\"gender\\\": 2, \\\"id\\\": 5575, \\\"name\\\": \\\"Akiva Goldsman\\\", \\\"order\\\": 49}, {\\\"cast_id\\\": 72, \\\"character\\\": \\\"Vulcan Council Member\\\", \\\"credit_id\\\": \\\"52fe456d9251416c7505625b\\\", \\\"gender\\\": 1, \\\"id\\\": 27570, \\\"name\\\": \\\"Anna Katarina\\\", \\\"order\\\": 50}, {\\\"cast_id\\\": 73, \\\"character\\\": \\\"Long Face Bar Alien\\\", \\\"credit_id\\\": \\\"52fe456d9251416c7505625f\\\", \\\"gender\\\": 2, \\\"id\\\": 51301, \\\"name\\\": \\\"Douglas Tait\\\", \\\"order\\\": 51}, {\\\"cast_id\\\": 74, \\\"character\\\": \\\"Lew the Bartender\\\", \\\"credit_id\\\": \\\"52fe456d9251416c75056263\\\", \\\"gender\\\": 2, \\\"id\\\": 178452, \\\"name\\\": \\\"Tony Guma\\\", \\\"order\\\": 52}, {\\\"cast_id\\\": 75, \\\"character\\\": \\\"Barfly\\\", \\\"credit_id\\\": \\\"52fe456d9251416c75056267\\\", \\\"gender\\\": 0, \\\"id\\\": 181879, \\\"name\\\": \\\"Gerald W. Abrams\\\", \\\"order\\\": 53}, {\\\"cast_id\\\": 76, \\\"character\\\": \\\"Barfly\\\", \\\"credit_id\\\": \\\"52fe456d9251416c7505626b\\\", \\\"gender\\\": 0, \\\"id\\\": 1275520, \\\"name\\\": \\\"James McGrath\\\", \\\"order\\\": 54}, {\\\"cast_id\\\": 77, \\\"character\\\": \\\"Burly Cadet\\\", \\\"credit_id\\\": \\\"52fe456d9251416c7505626f\\\", \\\"gender\\\": 2, \\\"id\\\": 154702, \\\"name\\\": \\\"Jason Matthew Smith\\\", \\\"order\\\": 55}, {\\\"cast_id\\\": 78, \\\"character\\\": \\\"Burly Cadet\\\", \\\"credit_id\\\": \\\"52fe456d9251416c75056273\\\", \\\"gender\\\": 2, \\\"id\\\": 182213, \\\"name\\\": \\\"Marcus Young\\\", \\\"order\\\": 56}, {\\\"cast_id\\\": 79, \\\"character\\\": \\\"Shipyard Worker\\\", \\\"credit_id\\\": \\\"52fe456d9251416c75056277\\\", \\\"gender\\\": 2, \\\"id\\\": 129661, \\\"name\\\": \\\"Bob Clendenin\\\", \\\"order\\\": 57}, {\\\"cast_id\\\": 81, \\\"character\\\": \\\"Test Administrator\\\", \\\"credit_id\\\": \\\"52fe456d9251416c7505627f\\\", \\\"gender\\\": 2, \\\"id\\\": 22075, \\\"name\\\": \\\"Reggie Lee\\\", \\\"order\\\": 59}, {\\\"cast_id\\\": 82, \\\"character\\\": \\\"Test Administrator\\\", \\\"credit_id\\\": \\\"52fe456d9251416c75056283\\\", \\\"gender\\\": 2, \\\"id\\\": 78899, \\\"name\\\": \\\"Jeffrey Byron\\\", \\\"order\\\": 60}, {\\\"cast_id\\\": 83, \\\"character\\\": \\\"Simulator Tactical Officer\\\", \\\"credit_id\\\": \\\"52fe456d9251416c75056287\\\", \\\"gender\\\": 0, \\\"id\\\": 1228940, \\\"name\\\": \\\"Jonathan Dixon\\\", \\\"order\\\": 61}, {\\\"cast_id\\\": 84, \\\"character\\\": \\\"Admiral James Komack\\\", \\\"credit_id\\\": \\\"52fe456d9251416c7505628b\\\", \\\"gender\\\": 0, \\\"id\\\": 1275522, \\\"name\\\": \\\"Ben Binswagner\\\", \\\"order\\\": 62}, {\\\"cast_id\\\": 85, \\\"character\\\": \\\"College Council Stenographer\\\", \\\"credit_id\\\": \\\"52fe456d9251416c7505628f\\\", \\\"gender\\\": 0, \\\"id\\\": 51994, \\\"name\\\": \\\"Margot Farley\\\", \\\"order\\\": 63}, {\\\"cast_id\\\": 86, \\\"character\\\": \\\"Shuttle Officer\\\", \\\"credit_id\\\": \\\"52fe456d9251416c75056293\\\", \\\"gender\\\": 0, \\\"id\\\": 1212484, \\\"name\\\": \\\"Alex Nevil\\\", \\\"order\\\": 64}, {\\\"cast_id\\\": 87, \\\"character\\\": \\\"Kimberly Arland\\\", \\\"credit_id\\\": \\\"52fe456d9251416c75056297\\\", \\\"gender\\\": 0, \\\"id\\\": 1271733, \\\"name\\\": \\\"Kimberly Arland\\\", \\\"order\\\": 65}, {\\\"cast_id\\\": 88, \\\"character\\\": \\\"Cadet Alien\\\", \\\"credit_id\\\": \\\"52fe456d9251416c7505629b\\\", \\\"gender\\\": 2, \\\"id\\\": 56448, \\\"name\\\": \\\"Jeff Chase\\\", \\\"order\\\": 66}, {\\\"cast_id\\\": 89, \\\"character\\\": \\\"Enterprise Crew Member\\\", \\\"credit_id\\\": \\\"52fe456d9251416c7505629f\\\", \\\"gender\\\": 2, \\\"id\\\": 1275523, \\\"name\\\": \\\"Charles Haugk\\\", \\\"order\\\": 67}, {\\\"cast_id\\\": 90, \\\"character\\\": \\\"Enterprise Crew Member\\\", \\\"credit_id\\\": \\\"52fe456d9251416c750562a3\\\", \\\"gender\\\": 1, \\\"id\\\": 1007337, \\\"name\\\": \\\"Nana Hill\\\", \\\"order\\\": 68}, {\\\"cast_id\\\": 91, \\\"character\\\": \\\"Enterprise Crew Member\\\", \\\"credit_id\\\": \\\"52fe456d9251416c750562a7\\\", \\\"gender\\\": 0, \\\"id\\\": 1275524, \\\"name\\\": \\\"Michael Saglimbeni\\\", \\\"order\\\": 69}, {\\\"cast_id\\\": 92, \\\"character\\\": \\\"Enterprise Crew Member\\\", \\\"credit_id\\\": \\\"52fe456d9251416c750562ab\\\", \\\"gender\\\": 0, \\\"id\\\": 1275932, \\\"name\\\": \\\"John Blackman\\\", \\\"order\\\": 70}, {\\\"cast_id\\\": 93, \\\"character\\\": \\\"Enterprise Crew Member\\\", \\\"credit_id\\\": \\\"52fe456d9251416c750562af\\\", \\\"gender\\\": 0, \\\"id\\\": 1275933, \\\"name\\\": \\\"Jack Millard\\\", \\\"order\\\": 71}, {\\\"cast_id\\\": 94, \\\"character\\\": \\\"Enterprise Crew Member\\\", \\\"credit_id\\\": \\\"52fe456d9251416c750562b3\\\", \\\"gender\\\": 0, \\\"id\\\": 1275934, \\\"name\\\": \\\"Shaela Luter\\\", \\\"order\\\": 72}, {\\\"cast_id\\\": 95, \\\"character\\\": \\\"Enterprise Crew Member\\\", \\\"credit_id\\\": \\\"52fe456d9251416c750562b7\\\", \\\"gender\\\": 0, \\\"id\\\": 1275935, \\\"name\\\": \\\"Sabrina Morris\\\", \\\"order\\\": 73}, {\\\"cast_id\\\": 96, \\\"character\\\": \\\"Enterprise Crew Member\\\", \\\"credit_id\\\": \\\"52fe456d9251416c750562bb\\\", \\\"gender\\\": 0, \\\"id\\\": 187563, \\\"name\\\": \\\"Michelle Parylak\\\", \\\"order\\\": 74}, {\\\"cast_id\\\": 97, \\\"character\\\": \\\"Enterprise Communiations Officer\\\", \\\"credit_id\\\": \\\"52fe456d9251416c750562bf\\\", \\\"gender\\\": 2, \\\"id\\\": 90609, \\\"name\\\": \\\"Oz Perkins\\\", \\\"order\\\": 75}, {\\\"cast_id\\\": 98, \\\"character\\\": \\\"Romulan Tactical Officer\\\", \\\"credit_id\\\": \\\"52fe456d9251416c750562c3\\\", \\\"gender\\\": 0, \\\"id\\\": 1716, \\\"name\\\": \\\"Michael Berry Jr.\\\", \\\"order\\\": 76}, {\\\"cast_id\\\": 100, \\\"character\\\": \\\"Romulan Crew Member\\\", \\\"credit_id\\\": \\\"52fe456d9251416c750562cb\\\", \\\"gender\\\": 0, \\\"id\\\": 1275937, \\\"name\\\": \\\"Matthew Beisner\\\", \\\"order\\\": 78}, {\\\"cast_id\\\": 101, \\\"character\\\": \\\"Romulan Crew Member\\\", \\\"credit_id\\\": \\\"52fe456d9251416c750562cf\\\", \\\"gender\\\": 2, \\\"id\\\": 1080735, \\\"name\\\": \\\"Neville Page\\\", \\\"order\\\": 79}, {\\\"cast_id\\\": 102, \\\"character\\\": \\\"Romulan Crew Member\\\", \\\"credit_id\\\": \\\"52fe456d9251416c750562d3\\\", \\\"gender\\\": 0, \\\"id\\\": 1275938, \\\"name\\\": \\\"Jesper Inglis\\\", \\\"order\\\": 80}, {\\\"cast_id\\\": 103, \\\"character\\\": \\\"Transport Chief\\\", \\\"credit_id\\\": \\\"52fe456d9251416c750562d7\\\", \\\"gender\\\": 1, \\\"id\\\": 146004, \\\"name\\\": \\\"Marlene Forte\\\", \\\"order\\\": 81}, {\\\"cast_id\\\": 104, \\\"character\\\": \\\"Vulcan Elder\\\", \\\"credit_id\\\": \\\"52fe456d9251416c750562db\\\", \\\"gender\\\": 0, \\\"id\\\": 174797, \\\"name\\\": \\\"Leonard O. Turner\\\", \\\"order\\\": 82}, {\\\"cast_id\\\": 105, \\\"character\\\": \\\"Vulcan Elder\\\", \\\"credit_id\\\": \\\"52fe456d9251416c750562df\\\", \\\"gender\\\": 0, \\\"id\\\": 156283, \\\"name\\\": \\\"Mark Bramhall\\\", \\\"order\\\": 83}, {\\\"cast_id\\\": 106, \\\"character\\\": \\\"Vulcan Elder\\\", \\\"credit_id\\\": \\\"52fe456d9251416c750562e3\\\", \\\"gender\\\": 0, \\\"id\\\": 1275939, \\\"name\\\": \\\"Ronald F. Hoiseck\\\", \\\"order\\\": 84}, {\\\"cast_id\\\": 107, \\\"character\\\": \\\"Vulcan Elder\\\", \\\"credit_id\\\": \\\"52fe456d9251416c750562e7\\\", \\\"gender\\\": 0, \\\"id\\\": 79585, \\\"name\\\": \\\"Irene Roseen\\\", \\\"order\\\": 85}, {\\\"cast_id\\\": 108, \\\"character\\\": \\\"Vulcan Elder\\\", \\\"credit_id\\\": \\\"52fe456d9251416c750562eb\\\", \\\"gender\\\": 2, \\\"id\\\": 1020340, \\\"name\\\": \\\"Jeff O'Haco\\\", \\\"order\\\": 86}, {\\\"cast_id\\\": 109, \\\"character\\\": \\\"Keenser\\\", \\\"credit_id\\\": \\\"52fe456d9251416c750562ef\\\", \\\"gender\\\": 2, \\\"id\\\": 1295, \\\"name\\\": \\\"Deep Roy\\\", \\\"order\\\": 87}, {\\\"cast_id\\\": 110, \\\"character\\\": \\\"Starfleet Computer (voice)\\\", \\\"credit_id\\\": \\\"52fe456d9251416c750562f3\\\", \\\"gender\\\": 0, \\\"id\\\": 1755, \\\"name\\\": \\\"Majel Barrett\\\", \\\"order\\\": 88}, {\\\"cast_id\\\": 111, \\\"character\\\": \\\"Council Member - Captain Kelley Bogel (uncredited)\\\", \\\"credit_id\\\": \\\"52fe456d9251416c750562f7\\\", \\\"gender\\\": 2, \\\"id\\\": 204068, \\\"name\\\": \\\"Rico E. Anderson\\\", \\\"order\\\": 89}, {\\\"cast_id\\\": 112, \\\"character\\\": \\\"Romulan Science Tech (uncredited)\\\", \\\"credit_id\\\": \\\"52fe456d9251416c750562fb\\\", \\\"gender\\\": 2, \\\"id\\\": 993162, \\\"name\\\": \\\"Richard Arnold\\\", \\\"order\\\": 90}, {\\\"cast_id\\\": 113, \\\"character\\\": \\\"Amphibian Prisoner (uncredited)\\\", \\\"credit_id\\\": \\\"52fe456d9251416c750562ff\\\", \\\"gender\\\": 0, \\\"id\\\": 225488, \\\"name\\\": \\\"Tad Atkinson\\\", \\\"order\\\": 91}, {\\\"cast_id\\\": 114, \\\"character\\\": \\\"Doctor (uncredited)\\\", \\\"credit_id\\\": \\\"52fe456d9251416c75056303\\\", \\\"gender\\\": 1, \\\"id\\\": 931039, \\\"name\\\": \\\"Leslie Augustine\\\", \\\"order\\\": 92}, {\\\"cast_id\\\": 115, \\\"character\\\": \\\"Starfleet Cadet (uncredited)\\\", \\\"credit_id\\\": \\\"52fe456d9251416c75056307\\\", \\\"gender\\\": 0, \\\"id\\\": 1278357, \\\"name\\\": \\\"Johnny Baca\\\", \\\"order\\\": 93}, {\\\"cast_id\\\": 116, \\\"character\\\": \\\"Drill Tower Romulan (uncredited)\\\", \\\"credit_id\\\": \\\"52fe456d9251416c7505630b\\\", \\\"gender\\\": 2, \\\"id\\\": 1366, \\\"name\\\": \\\"Sala Baker\\\", \\\"order\\\": 94}, {\\\"cast_id\\\": 117, \\\"character\\\": \\\"Starfleet Cadet (uncredited)\\\", \\\"credit_id\\\": \\\"52fe456d9251416c7505630f\\\", \\\"gender\\\": 0, \\\"id\\\": 1278358, \\\"name\\\": \\\"Leo Baligaya\\\", \\\"order\\\": 95}, {\\\"cast_id\\\": 118, \\\"character\\\": \\\"Starfleet Cadet (uncredited)\\\", \\\"credit_id\\\": \\\"52fe456d9251416c75056313\\\", \\\"gender\\\": 0, \\\"id\\\": 1278359, \\\"name\\\": \\\"Corey Becker\\\", \\\"order\\\": 96}, {\\\"cast_id\\\": 119, \\\"character\\\": \\\"Bridgeport Cadet (uncredited)\\\", \\\"credit_id\\\": \\\"52fe456d9251416c75056317\\\", \\\"gender\\\": 0, \\\"id\\\": 1278360, \\\"name\\\": \\\"Jessica Boss\\\", \\\"order\\\": 97}, {\\\"cast_id\\\": 120, \\\"character\\\": \\\"Starfleet Cadet (uncredited)\\\", \\\"credit_id\\\": \\\"52fe456d9251416c7505631b\\\", \\\"gender\\\": 0, \\\"id\\\": 1278361, \\\"name\\\": \\\"Neil S. Bulk\\\", \\\"order\\\": 98}, {\\\"cast_id\\\": 121, \\\"character\\\": \\\"Enterprise Crewmember (uncredited)\\\", \\\"credit_id\\\": \\\"52fe456d9251416c7505631f\\\", \\\"gender\\\": 0, \\\"id\\\": 1278363, \\\"name\\\": \\\"James Cawley\\\", \\\"order\\\": 99}, {\\\"cast_id\\\": 122, \\\"character\\\": \\\"Starfleet Cadet (uncredited)\\\", \\\"credit_id\\\": \\\"52fe456d9251416c75056323\\\", \\\"gender\\\": 0, \\\"id\\\": 1278364, \\\"name\\\": \\\"Brad Champagne\\\", \\\"order\\\": 100}, {\\\"cast_id\\\": 123, \\\"character\\\": \\\"Starfleet Cadet (uncredited)\\\", \\\"credit_id\\\": \\\"52fe456d9251416c75056327\\\", \\\"gender\\\": 0, \\\"id\\\": 1278365, \\\"name\\\": \\\"Zachary Culbertson\\\", \\\"order\\\": 101}, {\\\"cast_id\\\": 124, \\\"character\\\": \\\"Security Officer Daniels (uncredited)\\\", \\\"credit_id\\\": \\\"52fe456d9251416c7505632b\\\", \\\"gender\\\": 0, \\\"id\\\": 1278367, \\\"name\\\": \\\"Calvin Dean\\\", \\\"order\\\": 102}, {\\\"cast_id\\\": 125, \\\"character\\\": \\\"Starfleet Officer (uncredited)\\\", \\\"credit_id\\\": \\\"52fe456d9251416c7505632f\\\", \\\"gender\\\": 0, \\\"id\\\": 1278368, \\\"name\\\": \\\"Christopher Doohan\\\", \\\"order\\\": 103}, {\\\"cast_id\\\": 126, \\\"character\\\": \\\"Enterprise Crew Member (uncredited)\\\", \\\"credit_id\\\": \\\"52fe456d9251416c75056333\\\", \\\"gender\\\": 0, \\\"id\\\": 1278369, \\\"name\\\": \\\"Claire Dor\\\\u00e9\\\", \\\"order\\\": 104}, {\\\"cast_id\\\": 127, \\\"character\\\": \\\"Klingon Prisoner - Nero's Flashback (uncredited)\\\", \\\"credit_id\\\": \\\"52fe456d9251416c75056337\\\", \\\"gender\\\": 2, \\\"id\\\": 97447, \\\"name\\\": \\\"Mark Casimir Dyniewicz\\\", \\\"order\\\": 105}, {\\\"cast_id\\\": 128, \\\"character\\\": \\\"Vulcan Federation Officer (uncredited)\\\", \\\"credit_id\\\": \\\"52fe456d9251416c7505633b\\\", \\\"gender\\\": 0, \\\"id\\\": 1278370, \\\"name\\\": \\\"Etienne Eckert\\\", \\\"order\\\": 106}, {\\\"cast_id\\\": 129, \\\"character\\\": \\\"Doctor (uncredited)\\\", \\\"credit_id\\\": \\\"52fe456d9251416c7505633f\\\", \\\"gender\\\": 0, \\\"id\\\": 1278371, \\\"name\\\": \\\"Ken Edling\\\", \\\"order\\\": 107}, {\\\"cast_id\\\": 130, \\\"character\\\": \\\"Hurried Cadet with Clipboard (uncredited)\\\", \\\"credit_id\\\": \\\"52fe456d9251416c75056343\\\", \\\"gender\\\": 0, \\\"id\\\": 1278372, \\\"name\\\": \\\"Aliza Finley\\\", \\\"order\\\": 108}, {\\\"cast_id\\\": 131, \\\"character\\\": \\\"Shipyard Worker (uncredited)\\\", \\\"credit_id\\\": \\\"52fe456e9251416c75056347\\\", \\\"gender\\\": 2, \\\"id\\\": 129600, \\\"name\\\": \\\"Ian Fisher\\\", \\\"order\\\": 109}, {\\\"cast_id\\\": 132, \\\"character\\\": \\\"Starfleet Cadet (uncredited)\\\", \\\"credit_id\\\": \\\"52fe456e9251416c7505634b\\\", \\\"gender\\\": 0, \\\"id\\\": 1278373, \\\"name\\\": \\\"Mathew Thomas Foss\\\", \\\"order\\\": 110}, {\\\"cast_id\\\": 133, \\\"character\\\": \\\"Missile Launcher (uncredited)\\\", \\\"credit_id\\\": \\\"52fe456e9251416c7505634f\\\", \\\"gender\\\": 0, \\\"id\\\": 1010873, \\\"name\\\": \\\"Massi Furlan\\\", \\\"order\\\": 111}, {\\\"cast_id\\\": 134, \\\"character\\\": \\\"Klingon Interrogator (scenes deleted) (uncredited)\\\", \\\"credit_id\\\": \\\"52fe456e9251416c75056353\\\", \\\"gender\\\": 2, \\\"id\\\": 8536, \\\"name\\\": \\\"Victor Garber\\\", \\\"order\\\": 112}, {\\\"cast_id\\\": 135, \\\"character\\\": \\\"FourSquare (uncredited)\\\", \\\"credit_id\\\": \\\"52fe456e9251416c75056357\\\", \\\"gender\\\": 0, \\\"id\\\": 1278375, \\\"name\\\": \\\"Tommy Germanovich Jr.\\\", \\\"order\\\": 113}, {\\\"cast_id\\\": 136, \\\"character\\\": \\\"Shipyard Bar Patron (uncredited)\\\", \\\"credit_id\\\": \\\"52fe456e9251416c7505635b\\\", \\\"gender\\\": 0, \\\"id\\\": 218569, \\\"name\\\": \\\"Mary Grace\\\", \\\"order\\\": 114}, {\\\"cast_id\\\": 137, \\\"character\\\": \\\"Starfleet Cadet (uncredited)\\\", \\\"credit_id\\\": \\\"52fe456e9251416c7505635f\\\", \\\"gender\\\": 0, \\\"id\\\": 1278378, \\\"name\\\": \\\"Wyatt Gray\\\", \\\"order\\\": 115}, {\\\"cast_id\\\": 138, \\\"character\\\": \\\"Child Running in Snow (uncredited)\\\", \\\"credit_id\\\": \\\"52fe456e9251416c75056363\\\", \\\"gender\\\": 2, \\\"id\\\": 971780, \\\"name\\\": \\\"Joshua Greene\\\", \\\"order\\\": 116}, {\\\"cast_id\\\": 139, \\\"character\\\": \\\"Crew Member (uncredited)\\\", \\\"credit_id\\\": \\\"52fe456e9251416c75056367\\\", \\\"gender\\\": 0, \\\"id\\\": 74504, \\\"name\\\": \\\"Nancy Guerriero\\\", \\\"order\\\": 117}, {\\\"cast_id\\\": 140, \\\"character\\\": \\\"Starfleet Security Officer (uncredited)\\\", \\\"credit_id\\\": \\\"52fe456e9251416c7505636b\\\", \\\"gender\\\": 0, \\\"id\\\": 85743, \\\"name\\\": \\\"Justin Rodgers Hall\\\", \\\"order\\\": 118}, {\\\"cast_id\\\": 141, \\\"character\\\": \\\"Kelvin Crew Member (uncredited)\\\", \\\"credit_id\\\": \\\"52fe456e9251416c7505636f\\\", \\\"gender\\\": 0, \\\"id\\\": 1278379, \\\"name\\\": \\\"Jeffery Hauser\\\", \\\"order\\\": 119}, {\\\"cast_id\\\": 142, \\\"character\\\": \\\"Uncle Frank (uncredited) (unconfirmed)\\\", \\\"credit_id\\\": \\\"52fe456e9251416c75056373\\\", \\\"gender\\\": 2, \\\"id\\\": 15376, \\\"name\\\": \\\"Brad William Henke\\\", \\\"order\\\": 120}, {\\\"cast_id\\\": 143, \\\"character\\\": \\\"Enterprise Nurse (uncredited)\\\", \\\"credit_id\\\": \\\"52fe456e9251416c75056377\\\", \\\"gender\\\": 1, \\\"id\\\": 490982, \\\"name\\\": \\\"Elizabeth Ingalls\\\", \\\"order\\\": 121}, {\\\"cast_id\\\": 144, \\\"character\\\": \\\"Shipyard Worker (uncredited)\\\", \\\"credit_id\\\": \\\"52fe456e9251416c7505637b\\\", \\\"gender\\\": 2, \\\"id\\\": 228458, \\\"name\\\": \\\"Christopher Karl Johnson\\\", \\\"order\\\": 122}, {\\\"cast_id\\\": 145, \\\"character\\\": \\\"Enterprise Crew Member (uncredited)\\\", \\\"credit_id\\\": \\\"52fe456e9251416c7505637f\\\", \\\"gender\\\": 0, \\\"id\\\": 1278380, \\\"name\\\": \\\"Jolene Kay\\\", \\\"order\\\": 123}, {\\\"cast_id\\\": 146, \\\"character\\\": \\\"Starfleet Cadet (uncredited)\\\", \\\"credit_id\\\": \\\"52fe456e9251416c75056383\\\", \\\"gender\\\": 0, \\\"id\\\": 1278381, \\\"name\\\": \\\"Sarah Klaren\\\", \\\"order\\\": 124}, {\\\"cast_id\\\": 147, \\\"character\\\": \\\"Enterprise Crew Member (uncredited)\\\", \\\"credit_id\\\": \\\"52fe456e9251416c75056387\\\", \\\"gender\\\": 0, \\\"id\\\": 1278382, \\\"name\\\": \\\"Makiko Konishi\\\", \\\"order\\\": 125}, {\\\"cast_id\\\": 148, \\\"character\\\": \\\"Starfleet Cadet (uncredited)\\\", \\\"credit_id\\\": \\\"52fe456e9251416c7505638b\\\", \\\"gender\\\": 0, \\\"id\\\": 1014618, \\\"name\\\": \\\"Bryan Lee\\\", \\\"order\\\": 126}, {\\\"cast_id\\\": 149, \\\"character\\\": \\\"Starfleet Commander (uncredited)\\\", \\\"credit_id\\\": \\\"52fe456e9251416c7505638f\\\", \\\"gender\\\": 0, \\\"id\\\": 1278383, \\\"name\\\": \\\"Daniel D. Lee\\\", \\\"order\\\": 127}, {\\\"cast_id\\\": 150, \\\"character\\\": \\\"Enterprise Crew Member (uncredited)\\\", \\\"credit_id\\\": \\\"52fe456e9251416c75056393\\\", \\\"gender\\\": 1, \\\"id\\\": 139553, \\\"name\\\": \\\"Anne Leighton\\\", \\\"order\\\": 128}, {\\\"cast_id\\\": 151, \\\"character\\\": \\\"Lieutenant Star Fleet Command (uncredited)\\\", \\\"credit_id\\\": \\\"52fe456e9251416c75056397\\\", \\\"gender\\\": 2, \\\"id\\\": 1103961, \\\"name\\\": \\\"Steve Luna\\\", \\\"order\\\": 129}, {\\\"cast_id\\\": 152, \\\"character\\\": \\\"Flight Operational Air Safety Conductor (uncredited)\\\", \\\"credit_id\\\": \\\"52fe456e9251416c7505639b\\\", \\\"gender\\\": 0, \\\"id\\\": 1278384, \\\"name\\\": \\\"Aaron Lynch\\\", \\\"order\\\": 130}, {\\\"cast_id\\\": 153, \\\"character\\\": \\\"Starfleet Cadet (uncredited)\\\", \\\"credit_id\\\": \\\"52fe456e9251416c7505639f\\\", \\\"gender\\\": 0, \\\"id\\\": 1278385, \\\"name\\\": \\\"Justin Malachi\\\", \\\"order\\\": 131}, {\\\"cast_id\\\": 154, \\\"character\\\": \\\"Romulan Crew Member Placing Bomb (uncredited)\\\", \\\"credit_id\\\": \\\"52fe456e9251416c750563a3\\\", \\\"gender\\\": 2, \\\"id\\\": 989924, \\\"name\\\": \\\"Nav Mann\\\", \\\"order\\\": 132}, {\\\"cast_id\\\": 155, \\\"character\\\": \\\"Bar Patron (uncredited)\\\", \\\"credit_id\\\": \\\"52fe456e9251416c750563a7\\\", \\\"gender\\\": 0, \\\"id\\\": 1278386, \\\"name\\\": \\\"Paul Marshall\\\", \\\"order\\\": 133}, {\\\"cast_id\\\": 156, \\\"character\\\": \\\"Alien Cadet / Enterprise Crew (uncredited)\\\", \\\"credit_id\\\": \\\"52fe456e9251416c750563ab\\\", \\\"gender\\\": 0, \\\"id\\\": 1114365, \\\"name\\\": \\\"Owen Martin\\\", \\\"order\\\": 134}, {\\\"cast_id\\\": 157, \\\"character\\\": \\\"Kelvin Alien (uncredited)\\\", \\\"credit_id\\\": \\\"52fe456e9251416c750563af\\\", \\\"gender\\\": 0, \\\"id\\\": 1278387, \\\"name\\\": \\\"Taylor McCluskey\\\", \\\"order\\\": 135}, {\\\"cast_id\\\": 158, \\\"character\\\": \\\"Starfleet Cadet (uncredited)\\\", \\\"credit_id\\\": \\\"52fe456e9251416c750563b3\\\", \\\"gender\\\": 0, \\\"id\\\": 1278388, \\\"name\\\": \\\"Matthew McGregor\\\", \\\"order\\\": 136}, {\\\"cast_id\\\": 159, \\\"character\\\": \\\"Kelvin Computer (uncredited)\\\", \\\"credit_id\\\": \\\"52fe456e9251416c750563b7\\\", \\\"gender\\\": 1, \\\"id\\\": 59055, \\\"name\\\": \\\"Caitlin McKenna-Wilkinson\\\", \\\"order\\\": 137}, {\\\"cast_id\\\": 160, \\\"character\\\": \\\"Councilwoman (uncredited)\\\", \\\"credit_id\\\": \\\"52fe456e9251416c750563bb\\\", \\\"gender\\\": 0, \\\"id\\\": 1278389, \\\"name\\\": \\\"Patrizia Milano\\\", \\\"order\\\": 138}, {\\\"cast_id\\\": 161, \\\"character\\\": \\\"Enterprise Crewman (uncredited)\\\", \\\"credit_id\\\": \\\"52fe456e9251416c750563bf\\\", \\\"gender\\\": 0, \\\"id\\\": 1278390, \\\"name\\\": \\\"Kevin Moser\\\", \\\"order\\\": 139}, {\\\"cast_id\\\": 162, \\\"character\\\": \\\"Starfleet Cadet (uncredited)\\\", \\\"credit_id\\\": \\\"52fe456e9251416c750563c3\\\", \\\"gender\\\": 0, \\\"id\\\": 1278391, \\\"name\\\": \\\"Jonathan W.D. Newkerk\\\", \\\"order\\\": 140}, {\\\"cast_id\\\": 163, \\\"character\\\": \\\"Enterprise Crew Member (uncredited)\\\", \\\"credit_id\\\": \\\"52fe456e9251416c750563c7\\\", \\\"gender\\\": 0, \\\"id\\\": 1278392, \\\"name\\\": \\\"Westley Nguyen\\\", \\\"order\\\": 141}, {\\\"cast_id\\\": 164, \\\"character\\\": \\\"Sal (uncredited)\\\", \\\"credit_id\\\": \\\"52fe456e9251416c750563cb\\\", \\\"gender\\\": 0, \\\"id\\\": 1278393, \\\"name\\\": \\\"Jim Nieb\\\", \\\"order\\\": 142}, {\\\"cast_id\\\": 165, \\\"character\\\": \\\"Romulan Crew Member (uncredited)\\\", \\\"credit_id\\\": \\\"52fe456e9251416c750563cf\\\", \\\"gender\\\": 2, \\\"id\\\": 1226016, \\\"name\\\": \\\"Andres Perez-Molina\\\", \\\"order\\\": 143}, {\\\"cast_id\\\": 166, \\\"character\\\": \\\"Romulan (uncredited)\\\", \\\"credit_id\\\": \\\"52fe456e9251416c750563d3\\\", \\\"gender\\\": 2, \\\"id\\\": 149466, \\\"name\\\": \\\"Mark Phelan\\\", \\\"order\\\": 144}, {\\\"cast_id\\\": 167, \\\"character\\\": \\\"Drill Hanson #1 (uncredited)\\\", \\\"credit_id\\\": \\\"52fe456e9251416c750563d7\\\", \\\"gender\\\": 2, \\\"id\\\": 150194, \\\"name\\\": \\\"Damion Poitier\\\", \\\"order\\\": 145}, {\\\"cast_id\\\": 168, \\\"character\\\": \\\"Academy Teacher (uncredited)\\\", \\\"credit_id\\\": \\\"52fe456e9251416c750563db\\\", \\\"gender\\\": 1, \\\"id\\\": 986700, \\\"name\\\": \\\"Rahvaunia\\\", \\\"order\\\": 146}, {\\\"cast_id\\\": 169, \\\"character\\\": \\\"Shuttle Cadet (uncredited)\\\", \\\"credit_id\\\": \\\"52fe456e9251416c750563df\\\", \\\"gender\\\": 0, \\\"id\\\": 97466, \\\"name\\\": \\\"Bertrand Roberson Jr.\\\", \\\"order\\\": 147}, {\\\"cast_id\\\": 170, \\\"character\\\": \\\"Starfleet Cadet (uncredited)\\\", \\\"credit_id\\\": \\\"52fe456e9251416c750563e3\\\", \\\"gender\\\": 1, \\\"id\\\": 588647, \\\"name\\\": \\\"Deborah Rombaut\\\", \\\"order\\\": 148}, {\\\"cast_id\\\": 171, \\\"character\\\": \\\"Starfleet Cadet (uncredited)\\\", \\\"credit_id\\\": \\\"52fe456e9251416c750563e7\\\", \\\"gender\\\": 0, \\\"id\\\": 1278394, \\\"name\\\": \\\"Leonard Jonathan Ruebe\\\", \\\"order\\\": 149}, {\\\"cast_id\\\": 172, \\\"character\\\": \\\"Starfleet Cadet (uncredited)\\\", \\\"credit_id\\\": \\\"52fe456e9251416c750563eb\\\", \\\"gender\\\": 0, \\\"id\\\": 1278395, \\\"name\\\": \\\"Ramona Seymour\\\", \\\"order\\\": 150}, {\\\"cast_id\\\": 173, \\\"character\\\": \\\"Vulcan Science Minister (uncredited)\\\", \\\"credit_id\\\": \\\"52fe456e9251416c750563ef\\\", \\\"gender\\\": 0, \\\"id\\\": 938390, \\\"name\\\": \\\"William Morgan Sheppard\\\", \\\"order\\\": 151}, {\\\"cast_id\\\": 174, \\\"character\\\": \\\"Enterprise Crew Member (uncredited)\\\", \\\"credit_id\\\": \\\"52fe456e9251416c750563f3\\\", \\\"gender\\\": 0, \\\"id\\\": 1278397, \\\"name\\\": \\\"Katie Soo\\\", \\\"order\\\": 152}, {\\\"cast_id\\\": 176, \\\"character\\\": \\\"Shuttle Pilot (uncredited)\\\", \\\"credit_id\\\": \\\"52fe456e9251416c750563fb\\\", \\\"gender\\\": 0, \\\"id\\\": 121905, \\\"name\\\": \\\"Ronnie Steadman\\\", \\\"order\\\": 154}, {\\\"cast_id\\\": 177, \\\"character\\\": \\\"Cadet Officer (uncredited)\\\", \\\"credit_id\\\": \\\"52fe456e9251416c750563ff\\\", \\\"gender\\\": 0, \\\"id\\\": 1278398, \\\"name\\\": \\\"Joseph Stephens Jr.\\\", \\\"order\\\": 155}, {\\\"cast_id\\\": 178, \\\"character\\\": \\\"Romulan Engineer (uncredited)\\\", \\\"credit_id\\\": \\\"52fe456e9251416c75056403\\\", \\\"gender\\\": 0, \\\"id\\\": 1278399, \\\"name\\\": \\\"Joseph Steven\\\", \\\"order\\\": 156}, {\\\"cast_id\\\": 179, \\\"character\\\": \\\"Klingon Agitator (uncredited)\\\", \\\"credit_id\\\": \\\"52fe456e9251416c75056407\\\", \\\"gender\\\": 2, \\\"id\\\": 980805, \\\"name\\\": \\\"T.J. Storm\\\", \\\"order\\\": 157}, {\\\"cast_id\\\": 180, \\\"character\\\": \\\"Starfleet Security Officer (uncredited)\\\", \\\"credit_id\\\": \\\"52fe456e9251416c7505640b\\\", \\\"gender\\\": 0, \\\"id\\\": 203279, \\\"name\\\": \\\"Paul Townsend\\\", \\\"order\\\": 158}, {\\\"cast_id\\\": 181, \\\"character\\\": \\\"Klingon Prison Guard (uncredited)\\\", \\\"credit_id\\\": \\\"52fe456e9251416c7505640f\\\", \\\"gender\\\": 2, \\\"id\\\": 1235227, \\\"name\\\": \\\"Scott Trimble\\\", \\\"order\\\": 159}, {\\\"cast_id\\\": 182, \\\"character\\\": \\\"Federation Captain Cartwright (uncredited)\\\", \\\"credit_id\\\": \\\"52fe456e9251416c75056413\\\", \\\"gender\\\": 0, \\\"id\\\": 1278508, \\\"name\\\": \\\"Errik Tustenuggee\\\", \\\"order\\\": 160}, {\\\"cast_id\\\": 183, \\\"character\\\": \\\"Cadet at Trial (uncredited)\\\", \\\"credit_id\\\": \\\"52fe456e9251416c75056417\\\", \\\"gender\\\": 0, \\\"id\\\": 1278509, \\\"name\\\": \\\"Ravi Valleti\\\", \\\"order\\\": 161}, {\\\"cast_id\\\": 184, \\\"character\\\": \\\"Starfleet Cadet (uncredited)\\\", \\\"credit_id\\\": \\\"52fe456e9251416c7505641b\\\", \\\"gender\\\": 0, \\\"id\\\": 1278514, \\\"name\\\": \\\"Jason Vaughn\\\", \\\"order\\\": 162}, {\\\"cast_id\\\": 185, \\\"character\\\": \\\"Enterprise Crewman (uncredited)\\\", \\\"credit_id\\\": \\\"52fe456e9251416c7505641f\\\", \\\"gender\\\": 2, \\\"id\\\": 1278515, \\\"name\\\": \\\"A.J. Verel\\\", \\\"order\\\": 163}, {\\\"cast_id\\\": 186, \\\"character\\\": \\\"Vulcan Council Member (uncredited)\\\", \\\"credit_id\\\": \\\"52fe456e9251416c75056423\\\", \\\"gender\\\": 0, \\\"id\\\": 1202555, \\\"name\\\": \\\"Brian Waller\\\", \\\"order\\\": 164}, {\\\"cast_id\\\": 187, \\\"character\\\": \\\"Star Fleet Cadet (uncredited)\\\", \\\"credit_id\\\": \\\"52fe456e9251416c75056427\\\", \\\"gender\\\": 0, \\\"id\\\": 1278516, \\\"name\\\": \\\"Steve Wharton\\\", \\\"order\\\": 165}, {\\\"cast_id\\\": 188, \\\"character\\\": \\\"Romulan (voice) (uncredited)\\\", \\\"credit_id\\\": \\\"52fe456e9251416c7505642b\\\", \\\"gender\\\": 2, \\\"id\\\": 3033, \\\"name\\\": \\\"Wil Wheaton\\\", \\\"order\\\": 166}, {\\\"cast_id\\\": 189, \\\"character\\\": \\\"Starfleet Cadet (uncredited)\\\", \\\"credit_id\\\": \\\"52fe456e9251416c7505642f\\\", \\\"gender\\\": 0, \\\"id\\\": 1278521, \\\"name\\\": \\\"Brianna Womick\\\", \\\"order\\\": 167}, {\\\"cast_id\\\": 190, \\\"character\\\": \\\"Enterprise Computer (voice) (uncredited)\\\", \\\"credit_id\\\": \\\"52fe456e9251416c75056433\\\", \\\"gender\\\": 0, \\\"id\\\": 64451, \\\"name\\\": \\\"Lynnanne Zager\\\", \\\"order\\\": 168}, {\\\"cast_id\\\": 199, \\\"character\\\": \\\"Romulan Officer\\\", \\\"credit_id\\\": \\\"54e8a4569251412eb1001f2f\\\", \\\"gender\\\": 2, \\\"id\\\": 52762, \\\"name\\\": \\\"Pavel Lychnikoff\\\", \\\"order\\\": 169}, {\\\"cast_id\\\": 203, \\\"character\\\": \\\"Flight Officer\\\", \\\"credit_id\\\": \\\"58c7f9ce92514179f700e482\\\", \\\"gender\\\": 1, \\\"id\\\": 130733, \\\"name\\\": \\\"Darlena Tejeiro\\\", \\\"order\\\": 170}]\",\n          \"[{\\\"cast_id\\\": 4, \\\"character\\\": \\\"Carl Fredricksen (voice)\\\", \\\"credit_id\\\": \\\"52fe45d19251416c75063875\\\", \\\"gender\\\": 2, \\\"id\\\": 68812, \\\"name\\\": \\\"Ed Asner\\\", \\\"order\\\": 0}, {\\\"cast_id\\\": 5, \\\"character\\\": \\\"Charles Muntz (voice)\\\", \\\"credit_id\\\": \\\"52fe45d19251416c75063879\\\", \\\"gender\\\": 2, \\\"id\\\": 290, \\\"name\\\": \\\"Christopher Plummer\\\", \\\"order\\\": 1}, {\\\"cast_id\\\": 6, \\\"character\\\": \\\"Russell (voice)\\\", \\\"credit_id\\\": \\\"52fe45d19251416c7506387d\\\", \\\"gender\\\": 2, \\\"id\\\": 80676, \\\"name\\\": \\\"Jordan Nagai\\\", \\\"order\\\": 2}, {\\\"cast_id\\\": 7, \\\"character\\\": \\\"Dug / Alpha (voice)\\\", \\\"credit_id\\\": \\\"52fe45d19251416c75063881\\\", \\\"gender\\\": 2, \\\"id\\\": 10, \\\"name\\\": \\\"Bob Peterson\\\", \\\"order\\\": 3}, {\\\"cast_id\\\": 8, \\\"character\\\": \\\"Beta (voice)\\\", \\\"credit_id\\\": \\\"52fe45d19251416c75063885\\\", \\\"gender\\\": 2, \\\"id\\\": 18792, \\\"name\\\": \\\"Delroy Lindo\\\", \\\"order\\\": 4}, {\\\"cast_id\\\": 19, \\\"character\\\": \\\"Gamma (voice)\\\", \\\"credit_id\\\": \\\"52fe45d19251416c750638ad\\\", \\\"gender\\\": 2, \\\"id\\\": 7960, \\\"name\\\": \\\"Jerome Ranft\\\", \\\"order\\\": 5}, {\\\"cast_id\\\": 10, \\\"character\\\": \\\"Construction Foreman Tom (voice)\\\", \\\"credit_id\\\": \\\"52fe45d19251416c75063889\\\", \\\"gender\\\": 2, \\\"id\\\": 7907, \\\"name\\\": \\\"John Ratzenberger\\\", \\\"order\\\": 6}, {\\\"cast_id\\\": 11, \\\"character\\\": \\\"Newsreel Announcer (voice)\\\", \\\"credit_id\\\": \\\"52fe45d19251416c7506388d\\\", \\\"gender\\\": 2, \\\"id\\\": 84490, \\\"name\\\": \\\"David Kaye\\\", \\\"order\\\": 7}, {\\\"cast_id\\\": 12, \\\"character\\\": \\\"Young Ellie (voice)\\\", \\\"credit_id\\\": \\\"52fe45d19251416c75063891\\\", \\\"gender\\\": 0, \\\"id\\\": 84491, \\\"name\\\": \\\"Elie Docter\\\", \\\"order\\\": 8}, {\\\"cast_id\\\": 13, \\\"character\\\": \\\"Young Carl (voice)\\\", \\\"credit_id\\\": \\\"52fe45d19251416c75063895\\\", \\\"gender\\\": 0, \\\"id\\\": 84492, \\\"name\\\": \\\"Jeremy Leary\\\", \\\"order\\\": 9}, {\\\"cast_id\\\": 14, \\\"character\\\": \\\"Police Officer Edith (voice)\\\", \\\"credit_id\\\": \\\"52fe45d19251416c75063899\\\", \\\"gender\\\": 0, \\\"id\\\": 84493, \\\"name\\\": \\\"Mickie McGowan\\\", \\\"order\\\": 10}, {\\\"cast_id\\\": 15, \\\"character\\\": \\\"Construction Worker Steve (voice)\\\", \\\"credit_id\\\": \\\"52fe45d19251416c7506389d\\\", \\\"gender\\\": 2, \\\"id\\\": 52699, \\\"name\\\": \\\"Danny Mann\\\", \\\"order\\\": 11}, {\\\"cast_id\\\": 16, \\\"character\\\": \\\"Nurse George (voice)\\\", \\\"credit_id\\\": \\\"52fe45d19251416c750638a1\\\", \\\"gender\\\": 0, \\\"id\\\": 84494, \\\"name\\\": \\\"Donald Fullilove\\\", \\\"order\\\": 12}, {\\\"cast_id\\\": 17, \\\"character\\\": \\\"Nurse AJ (voice)\\\", \\\"credit_id\\\": \\\"52fe45d19251416c750638a5\\\", \\\"gender\\\": 2, \\\"id\\\": 84495, \\\"name\\\": \\\"Jess Harnell\\\", \\\"order\\\": 13}, {\\\"cast_id\\\": 18, \\\"character\\\": \\\"Omega (voice)\\\", \\\"credit_id\\\": \\\"52fe45d19251416c750638a9\\\", \\\"gender\\\": 0, \\\"id\\\": 84496, \\\"name\\\": \\\"Josh Cooley\\\", \\\"order\\\": 14}, {\\\"cast_id\\\": 20, \\\"character\\\": \\\"Campmaster Strauch (voice)\\\", \\\"credit_id\\\": \\\"52fe45d19251416c750638b1\\\", \\\"gender\\\": 2, \\\"id\\\": 12890, \\\"name\\\": \\\"Pete Docter\\\", \\\"order\\\": 15}]\"\n        ],\n        \"semantic_type\": \"\",\n        \"description\": \"\"\n      }\n    },\n    {\n      \"column\": \"crew\",\n      \"properties\": {\n        \"dtype\": \"string\",\n        \"num_unique_values\": 739,\n        \"samples\": [\n          \"[{\\\"credit_id\\\": \\\"52fe4a0cc3a36847f81b5c9f\\\", \\\"department\\\": \\\"Production\\\", \\\"gender\\\": 0, \\\"id\\\": 8386, \\\"job\\\": \\\"Executive Producer\\\", \\\"name\\\": \\\"Sarah Bradshaw\\\"}, {\\\"credit_id\\\": \\\"543eb4b5c3a368250a0028c5\\\", \\\"department\\\": \\\"Sound\\\", \\\"gender\\\": 2, \\\"id\\\": 1213, \\\"job\\\": \\\"Original Music Composer\\\", \\\"name\\\": \\\"James Newton Howard\\\"}, {\\\"credit_id\\\": \\\"55a77d9592514125da0011b2\\\", \\\"department\\\": \\\"Camera\\\", \\\"gender\\\": 2, \\\"id\\\": 4501, \\\"job\\\": \\\"Director of Photography\\\", \\\"name\\\": \\\"Dean Semler\\\"}, {\\\"credit_id\\\": \\\"55a77dc39251411e18001479\\\", \\\"department\\\": \\\"Costume & Make-Up\\\", \\\"gender\\\": 1, \\\"id\\\": 6688, \\\"job\\\": \\\"Costume Design\\\", \\\"name\\\": \\\"Anna B. Sheppard\\\"}, {\\\"credit_id\\\": \\\"58cf90499251415a39031f8d\\\", \\\"department\\\": \\\"Production\\\", \\\"gender\\\": 1, \\\"id\\\": 11701, \\\"job\\\": \\\"Executive Producer\\\", \\\"name\\\": \\\"Angelina Jolie\\\"}, {\\\"credit_id\\\": \\\"52fe4a0cc3a36847f81b5ca5\\\", \\\"department\\\": \\\"Production\\\", \\\"gender\\\": 2, \\\"id\\\": 12824, \\\"job\\\": \\\"Producer\\\", \\\"name\\\": \\\"Don Hahn\\\"}, {\\\"credit_id\\\": \\\"52fe4a0cc3a36847f81b5cab\\\", \\\"department\\\": \\\"Production\\\", \\\"gender\\\": 1, \\\"id\\\": 23424, \\\"job\\\": \\\"Casting\\\", \\\"name\\\": \\\"Lucy Bevan\\\"}, {\\\"credit_id\\\": \\\"52fe4a0cc3a36847f81b5cbf\\\", \\\"department\\\": \\\"Writing\\\", \\\"gender\\\": 1, \\\"id\\\": 38792, \\\"job\\\": \\\"Screenplay\\\", \\\"name\\\": \\\"Linda Woolverton\\\"}, {\\\"credit_id\\\": \\\"52fe4a0cc3a36847f81b5cb9\\\", \\\"department\\\": \\\"Directing\\\", \\\"gender\\\": 0, \\\"id\\\": 1032536, \\\"job\\\": \\\"Director\\\", \\\"name\\\": \\\"Robert Stromberg\\\"}, {\\\"credit_id\\\": \\\"554fb323c3a3681870005427\\\", \\\"department\\\": \\\"Crew\\\", \\\"gender\\\": 0, \\\"id\\\": 1447542, \\\"job\\\": \\\"Compositors\\\", \\\"name\\\": \\\"Erik Classen\\\"}, {\\\"credit_id\\\": \\\"55468e5bc3a3680cd700770d\\\", \\\"department\\\": \\\"Visual Effects\\\", \\\"gender\\\": 0, \\\"id\\\": 1451684, \\\"job\\\": \\\"Visual Effects\\\", \\\"name\\\": \\\"Matthew Maners\\\"}, {\\\"credit_id\\\": \\\"552c5c7892514174db0002cf\\\", \\\"department\\\": \\\"Visual Effects\\\", \\\"gender\\\": 0, \\\"id\\\": 1452995, \\\"job\\\": \\\"Animation\\\", \\\"name\\\": \\\"Stewart Alves\\\"}, {\\\"credit_id\\\": \\\"552f5f15c3a368220e0014a0\\\", \\\"department\\\": \\\"Directing\\\", \\\"gender\\\": 0, \\\"id\\\": 1454884, \\\"job\\\": \\\"Assistant Director\\\", \\\"name\\\": \\\"Cedric Nicolas-Troyan\\\"}, {\\\"credit_id\\\": \\\"554ec43b92514162f5000072\\\", \\\"department\\\": \\\"Crew\\\", \\\"gender\\\": 0, \\\"id\\\": 1460603, \\\"job\\\": \\\"Compositors\\\", \\\"name\\\": \\\"Dhumal Sagar\\\"}]\",\n          \"[{\\\"credit_id\\\": \\\"53748f960e0a267c5f003884\\\", \\\"department\\\": \\\"Costume & Make-Up\\\", \\\"gender\\\": 2, \\\"id\\\": 605, \\\"job\\\": \\\"Costume Design\\\", \\\"name\\\": \\\"Michael Kaplan\\\"}, {\\\"credit_id\\\": \\\"57ec8eebc3a3683a850026a8\\\", \\\"department\\\": \\\"Writing\\\", \\\"gender\\\": 2, \\\"id\\\": 1745, \\\"job\\\": \\\"Characters\\\", \\\"name\\\": \\\"Gene Roddenberry\\\"}, {\\\"credit_id\\\": \\\"52fe456d9251416c750561f7\\\", \\\"department\\\": \\\"Production\\\", \\\"gender\\\": 1, \\\"id\\\": 6052, \\\"job\\\": \\\"Casting\\\", \\\"name\\\": \\\"April Webster\\\"}, {\\\"credit_id\\\": \\\"52fe456c9251416c75056141\\\", \\\"department\\\": \\\"Directing\\\", \\\"gender\\\": 2, \\\"id\\\": 15344, \\\"job\\\": \\\"Director\\\", \\\"name\\\": \\\"J.J. Abrams\\\"}, {\\\"credit_id\\\": \\\"52fe456c9251416c75056147\\\", \\\"department\\\": \\\"Production\\\", \\\"gender\\\": 2, \\\"id\\\": 15344, \\\"job\\\": \\\"Producer\\\", \\\"name\\\": \\\"J.J. Abrams\\\"}, {\\\"credit_id\\\": \\\"52fe456c9251416c75056159\\\", \\\"department\\\": \\\"Production\\\", \\\"gender\\\": 2, \\\"id\\\": 15345, \\\"job\\\": \\\"Executive Producer\\\", \\\"name\\\": \\\"Alex Kurtzman\\\"}, {\\\"credit_id\\\": \\\"52fe456e9251416c7505643f\\\", \\\"department\\\": \\\"Writing\\\", \\\"gender\\\": 2, \\\"id\\\": 15345, \\\"job\\\": \\\"Writer\\\", \\\"name\\\": \\\"Alex Kurtzman\\\"}, {\\\"credit_id\\\": \\\"52fe456c9251416c7505615f\\\", \\\"department\\\": \\\"Production\\\", \\\"gender\\\": 2, \\\"id\\\": 15346, \\\"job\\\": \\\"Executive Producer\\\", \\\"name\\\": \\\"Roberto Orci\\\"}, {\\\"credit_id\\\": \\\"52fe456e9251416c75056439\\\", \\\"department\\\": \\\"Writing\\\", \\\"gender\\\": 2, \\\"id\\\": 15346, \\\"job\\\": \\\"Writer\\\", \\\"name\\\": \\\"Roberto Orci\\\"}, {\\\"credit_id\\\": \\\"52fe456e9251416c75056445\\\", \\\"department\\\": \\\"Sound\\\", \\\"gender\\\": 2, \\\"id\\\": 15347, \\\"job\\\": \\\"Original Music Composer\\\", \\\"name\\\": \\\"Michael Giacchino\\\"}, {\\\"credit_id\\\": \\\"52fe456d9251416c750561e5\\\", \\\"department\\\": \\\"Camera\\\", \\\"gender\\\": 0, \\\"id\\\": 15348, \\\"job\\\": \\\"Director of Photography\\\", \\\"name\\\": \\\"Daniel Mindel\\\"}, {\\\"credit_id\\\": \\\"52fe456d9251416c750561eb\\\", \\\"department\\\": \\\"Editing\\\", \\\"gender\\\": 1, \\\"id\\\": 15349, \\\"job\\\": \\\"Editor\\\", \\\"name\\\": \\\"Maryann Brandon\\\"}, {\\\"credit_id\\\": \\\"52fe456d9251416c750561f1\\\", \\\"department\\\": \\\"Editing\\\", \\\"gender\\\": 1, \\\"id\\\": 15350, \\\"job\\\": \\\"Editor\\\", \\\"name\\\": \\\"Mary Jo Markey\\\"}, {\\\"credit_id\\\": \\\"52fe456d9251416c75056203\\\", \\\"department\\\": \\\"Art\\\", \\\"gender\\\": 2, \\\"id\\\": 15351, \\\"job\\\": \\\"Production Design\\\", \\\"name\\\": \\\"Scott Chambliss\\\"}, {\\\"credit_id\\\": \\\"537490870e0a267c670036c2\\\", \\\"department\\\": \\\"Art\\\", \\\"gender\\\": 1, \\\"id\\\": 15352, \\\"job\\\": \\\"Set Decoration\\\", \\\"name\\\": \\\"Karen Manthey\\\"}, {\\\"credit_id\\\": \\\"537490520e0a267c550037e3\\\", \\\"department\\\": \\\"Art\\\", \\\"gender\\\": 0, \\\"id\\\": 21568, \\\"job\\\": \\\"Art Direction\\\", \\\"name\\\": \\\"Keith P. Cunningham\\\"}, {\\\"credit_id\\\": \\\"52fe456c9251416c75056153\\\", \\\"department\\\": \\\"Production\\\", \\\"gender\\\": 2, \\\"id\\\": 40592, \\\"job\\\": \\\"Executive Producer\\\", \\\"name\\\": \\\"Jeffrey Chernov\\\"}, {\\\"credit_id\\\": \\\"52fe456c9251416c7505614d\\\", \\\"department\\\": \\\"Production\\\", \\\"gender\\\": 2, \\\"id\\\": 28977, \\\"job\\\": \\\"Executive Producer\\\", \\\"name\\\": \\\"Bryan Burk\\\"}, {\\\"credit_id\\\": \\\"52fe456c9251416c75056165\\\", \\\"department\\\": \\\"Production\\\", \\\"gender\\\": 2, \\\"id\\\": 28974, \\\"job\\\": \\\"Producer\\\", \\\"name\\\": \\\"Damon Lindelof\\\"}, {\\\"credit_id\\\": \\\"556550c69251413549000dfd\\\", \\\"department\\\": \\\"Crew\\\", \\\"gender\\\": 2, \\\"id\\\": 150194, \\\"job\\\": \\\"Stunts\\\", \\\"name\\\": \\\"Damion Poitier\\\"}, {\\\"credit_id\\\": \\\"52fe456d9251416c750561fd\\\", \\\"department\\\": \\\"Production\\\", \\\"gender\\\": 0, \\\"id\\\": 765144, \\\"job\\\": \\\"Casting\\\", \\\"name\\\": \\\"Alyssa Weisberg\\\"}, {\\\"credit_id\\\": \\\"53748fdb0e0a267c5c0038b0\\\", \\\"department\\\": \\\"Costume & Make-Up\\\", \\\"gender\\\": 0, \\\"id\\\": 1319743, \\\"job\\\": \\\"Makeup Department Head\\\", \\\"name\\\": \\\"Mindy Hall\\\"}, {\\\"credit_id\\\": \\\"537490140e0a267c670036bc\\\", \\\"department\\\": \\\"Costume & Make-Up\\\", \\\"gender\\\": 0, \\\"id\\\": 1319744, \\\"job\\\": \\\"Costume Supervisor\\\", \\\"name\\\": \\\"Linda Matthews\\\"}, {\\\"credit_id\\\": \\\"55519a35c3a3683d3b0000c3\\\", \\\"department\\\": \\\"Crew\\\", \\\"gender\\\": 0, \\\"id\\\": 1463568, \\\"job\\\": \\\"Digital Effects Supervisor\\\", \\\"name\\\": \\\"Mike Marcuzzi\\\"}]\",\n          \"[{\\\"credit_id\\\": \\\"5683b5f8c3a3684be90168e1\\\", \\\"department\\\": \\\"Production\\\", \\\"gender\\\": 2, \\\"id\\\": 7, \\\"job\\\": \\\"Executive Producer\\\", \\\"name\\\": \\\"Andrew Stanton\\\"}, {\\\"credit_id\\\": \\\"52fe45d19251416c75063871\\\", \\\"department\\\": \\\"Writing\\\", \\\"gender\\\": 2, \\\"id\\\": 10, \\\"job\\\": \\\"Screenplay\\\", \\\"name\\\": \\\"Bob Peterson\\\"}, {\\\"credit_id\\\": \\\"5882575a925141302b01110e\\\", \\\"department\\\": \\\"Directing\\\", \\\"gender\\\": 2, \\\"id\\\": 10, \\\"job\\\": \\\"Co-Director\\\", \\\"name\\\": \\\"Bob Peterson\\\"}, {\\\"credit_id\\\": \\\"568c7cf4c3a36860e9030b51\\\", \\\"department\\\": \\\"Writing\\\", \\\"gender\\\": 2, \\\"id\\\": 10, \\\"job\\\": \\\"Story\\\", \\\"name\\\": \\\"Bob Peterson\\\"}, {\\\"credit_id\\\": \\\"5683b62fc3a3684be90168f3\\\", \\\"department\\\": \\\"Production\\\", \\\"gender\\\": 2, \\\"id\\\": 7879, \\\"job\\\": \\\"Executive Producer\\\", \\\"name\\\": \\\"John Lasseter\\\"}, {\\\"credit_id\\\": \\\"588259ca9251413034011489\\\", \\\"department\\\": \\\"Lighting\\\", \\\"gender\\\": 2, \\\"id\\\": 7883, \\\"job\\\": \\\"Lighting Director\\\", \\\"name\\\": \\\"Ralph Eggleston\\\"}, {\\\"credit_id\\\": \\\"588259d3925141302b0112ae\\\", \\\"department\\\": \\\"Lighting\\\", \\\"gender\\\": 0, \\\"id\\\": 7888, \\\"job\\\": \\\"Lighting Director\\\", \\\"name\\\": \\\"Harley Jessup\\\"}, {\\\"credit_id\\\": \\\"572297499251413eaf0008d0\\\", \\\"department\\\": \\\"Camera\\\", \\\"gender\\\": 0, \\\"id\\\": 7894, \\\"job\\\": \\\"Director of Photography\\\", \\\"name\\\": \\\"Jean-Claude Kalache\\\"}, {\\\"credit_id\\\": \\\"57229461c3a3682d43000888\\\", \\\"department\\\": \\\"Art\\\", \\\"gender\\\": 0, \\\"id\\\": 7927, \\\"job\\\": \\\"Production Design\\\", \\\"name\\\": \\\"Ricky Nierva\\\"}, {\\\"credit_id\\\": \\\"572f6eef92514173a1003135\\\", \\\"department\\\": \\\"Visual Effects\\\", \\\"gender\\\": 0, \\\"id\\\": 7929, \\\"job\\\": \\\"Animation\\\", \\\"name\\\": \\\"Angus MacLane\\\"}, {\\\"credit_id\\\": \\\"5683b65d92514132db0152f4\\\", \\\"department\\\": \\\"Production\\\", \\\"gender\\\": 0, \\\"id\\\": 7940, \\\"job\\\": \\\"Producer\\\", \\\"name\\\": \\\"Jonas Rivera\\\"}, {\\\"credit_id\\\": \\\"588259b39251413037010f5e\\\", \\\"department\\\": \\\"Lighting\\\", \\\"gender\\\": 2, \\\"id\\\": 7962, \\\"job\\\": \\\"Lighting Director\\\", \\\"name\\\": \\\"Lou Romano\\\"}, {\\\"credit_id\\\": \\\"5882581ac3a368147d00fb1a\\\", \\\"department\\\": \\\"Camera\\\", \\\"gender\\\": 0, \\\"id\\\": 7975, \\\"job\\\": \\\"Director of Photography\\\", \\\"name\\\": \\\"Patrick Lin\\\"}, {\\\"credit_id\\\": \\\"58825c699251413034011641\\\", \\\"department\\\": \\\"Directing\\\", \\\"gender\\\": 0, \\\"id\\\": 7979, \\\"job\\\": \\\"Layout\\\", \\\"name\\\": \\\"Gregg Olsson\\\"}, {\\\"credit_id\\\": \\\"58825c57c3a368144f010266\\\", \\\"department\\\": \\\"Directing\\\", \\\"gender\\\": 2, \\\"id\\\": 7981, \\\"job\\\": \\\"Layout\\\", \\\"name\\\": \\\"Robert Anderson\\\"}, {\\\"credit_id\\\": \\\"576d6a63c3a36874e0001af2\\\", \\\"department\\\": \\\"Directing\\\", \\\"gender\\\": 0, \\\"id\\\": 7984, \\\"job\\\": \\\"Layout\\\", \\\"name\\\": \\\"Mark Sanford\\\"}, {\\\"credit_id\\\": \\\"588257f6c3a36814700116ee\\\", \\\"department\\\": \\\"Crew\\\", \\\"gender\\\": 2, \\\"id\\\": 8011, \\\"job\\\": \\\"Supervising Animator\\\", \\\"name\\\": \\\"Scott Clark\\\"}, {\\\"credit_id\\\": \\\"58825ce2c3a3681443010a0e\\\", \\\"department\\\": \\\"Visual Effects\\\", \\\"gender\\\": 0, \\\"id\\\": 8015, \\\"job\\\": \\\"Animation Director\\\", \\\"name\\\": \\\"Shawn Krause\\\"}, {\\\"credit_id\\\": \\\"58825d36c3a3681460012187\\\", \\\"department\\\": \\\"Visual Effects\\\", \\\"gender\\\": 0, \\\"id\\\": 8026, \\\"job\\\": \\\"Animation\\\", \\\"name\\\": \\\"Brett Coderre\\\"}, {\\\"credit_id\\\": \\\"58825d54c3a3681467010ae0\\\", \\\"department\\\": \\\"Visual Effects\\\", \\\"gender\\\": 0, \\\"id\\\": 8028, \\\"job\\\": \\\"Animation\\\", \\\"name\\\": \\\"Doug Dooley\\\"}, {\\\"credit_id\\\": \\\"58825d489251413028010cec\\\", \\\"department\\\": \\\"Visual Effects\\\", \\\"gender\\\": 0, \\\"id\\\": 8033, \\\"job\\\": \\\"Animation\\\", \\\"name\\\": \\\"Tim Crawfurd\\\"}, {\\\"credit_id\\\": \\\"58825d6292514130370111ee\\\", \\\"department\\\": \\\"Visual Effects\\\", \\\"gender\\\": 0, \\\"id\\\": 8034, \\\"job\\\": \\\"Animation\\\", \\\"name\\\": \\\"Ike Feldman\\\"}, {\\\"credit_id\\\": \\\"5724e104c3a368423a00220b\\\", \\\"department\\\": \\\"Visual Effects\\\", \\\"gender\\\": 0, \\\"id\\\": 8042, \\\"job\\\": \\\"Animation\\\", \\\"name\\\": \\\"Andy Schmidt\\\"}, {\\\"credit_id\\\": \\\"58825cec92514130340116b6\\\", \\\"department\\\": \\\"Visual Effects\\\", \\\"gender\\\": 0, \\\"id\\\": 8046, \\\"job\\\": \\\"Animation Director\\\", \\\"name\\\": \\\"Dave Mullins\\\"}, {\\\"credit_id\\\": \\\"58825cf592514130340116be\\\", \\\"department\\\": \\\"Visual Effects\\\", \\\"gender\\\": 0, \\\"id\\\": 8053, \\\"job\\\": \\\"Animation Director\\\", \\\"name\\\": \\\"Michael Venturini\\\"}, {\\\"credit_id\\\": \\\"58825b879251413037011097\\\", \\\"department\\\": \\\"Editing\\\", \\\"gender\\\": 0, \\\"id\\\": 8066, \\\"job\\\": \\\"Editor\\\", \\\"name\\\": \\\"Katherine Ringgold\\\"}, {\\\"credit_id\\\": \\\"572296829251414d330006fe\\\", \\\"department\\\": \\\"Production\\\", \\\"gender\\\": 0, \\\"id\\\": 8103, \\\"job\\\": \\\"Production Manager\\\", \\\"name\\\": \\\"Mark Nielsen\\\"}, {\\\"credit_id\\\": \\\"588257cd925141302e010fd8\\\", \\\"department\\\": \\\"Crew\\\", \\\"gender\\\": 0, \\\"id\\\": 8115, \\\"job\\\": \\\"Supervising Technical Director\\\", \\\"name\\\": \\\"Steve May\\\"}, {\\\"credit_id\\\": \\\"5722958bc3a3682d1e0007fc\\\", \\\"department\\\": \\\"Crew\\\", \\\"gender\\\": 0, \\\"id\\\": 8153, \\\"job\\\": \\\"Post Production Supervisor\\\", \\\"name\\\": \\\"Paul Cichocki\\\"}, {\\\"credit_id\\\": \\\"5683b71b9251412e52015b56\\\", \\\"department\\\": \\\"Sound\\\", \\\"gender\\\": 0, \\\"id\\\": 8158, \\\"job\\\": \\\"Supervising Sound Editor\\\", \\\"name\\\": \\\"Michael Silvers\\\"}, {\\\"credit_id\\\": \\\"568c7cdf92514132db02e56a\\\", \\\"department\\\": \\\"Writing\\\", \\\"gender\\\": 2, \\\"id\\\": 12890, \\\"job\\\": \\\"Screenplay\\\", \\\"name\\\": \\\"Pete Docter\\\"}, {\\\"credit_id\\\": \\\"568c7ce99251412e5202ea9b\\\", \\\"department\\\": \\\"Writing\\\", \\\"gender\\\": 2, \\\"id\\\": 12890, \\\"job\\\": \\\"Story\\\", \\\"name\\\": \\\"Pete Docter\\\"}, {\\\"credit_id\\\": \\\"5692ed0e9251414453000a9c\\\", \\\"department\\\": \\\"Directing\\\", \\\"gender\\\": 2, \\\"id\\\": 12890, \\\"job\\\": \\\"Director\\\", \\\"name\\\": \\\"Pete Docter\\\"}, {\\\"credit_id\\\": \\\"5683b6e39251412e52015b4b\\\", \\\"department\\\": \\\"Sound\\\", \\\"gender\\\": 1, \\\"id\\\": 15893, \\\"job\\\": \\\"Sound Effects Editor\\\", \\\"name\\\": \\\"Teresa Eckton\\\"}, {\\\"credit_id\\\": \\\"5683b69d9251417def01767e\\\", \\\"department\\\": \\\"Sound\\\", \\\"gender\\\": 2, \\\"id\\\": 15894, \\\"job\\\": \\\"Sound Re-Recording Mixer\\\", \\\"name\\\": \\\"Tom Myers\\\"}, {\\\"credit_id\\\": \\\"5683b6a592514131df014a8b\\\", \\\"department\\\": \\\"Sound\\\", \\\"gender\\\": 2, \\\"id\\\": 15894, \\\"job\\\": \\\"Sound Designer\\\", \\\"name\\\": \\\"Tom Myers\\\"}, {\\\"credit_id\\\": \\\"5683b6b09251412e52015b40\\\", \\\"department\\\": \\\"Sound\\\", \\\"gender\\\": 2, \\\"id\\\": 15894, \\\"job\\\": \\\"Supervising Sound Editor\\\", \\\"name\\\": \\\"Tom Myers\\\"}, {\\\"credit_id\\\": \\\"57dc208e9251412ee3000196\\\", \\\"department\\\": \\\"Visual Effects\\\", \\\"gender\\\": 0, \\\"id\\\": 15895, \\\"job\\\": \\\"Shading\\\", \\\"name\\\": \\\"David Munier\\\"}, {\\\"credit_id\\\": \\\"5882578bc3a368147d00fabb\\\", \\\"department\\\": \\\"Sound\\\", \\\"gender\\\": 2, \\\"id\\\": 15347, \\\"job\\\": \\\"Music\\\", \\\"name\\\": \\\"Michael Giacchino\\\"}, {\\\"credit_id\\\": \\\"5724db2e92514155c30033ef\\\", \\\"department\\\": \\\"Sound\\\", \\\"gender\\\": 2, \\\"id\\\": 15354, \\\"job\\\": \\\"Music Editor\\\", \\\"name\\\": \\\"Stephen M. Davis\\\"}, {\\\"credit_id\\\": \\\"568c7d03c3a3680e01009b81\\\", \\\"department\\\": \\\"Writing\\\", \\\"gender\\\": 0, \\\"id\\\": 17867, \\\"job\\\": \\\"Story\\\", \\\"name\\\": \\\"Tom McCarthy\\\"}, {\\\"credit_id\\\": \\\"588260489251413028010eef\\\", \\\"department\\\": \\\"Sound\\\", \\\"gender\\\": 0, \\\"id\\\": 28241, \\\"job\\\": \\\"Orchestrator\\\", \\\"name\\\": \\\"Tim Simonec\\\"}, {\\\"credit_id\\\": \\\"5683b865c3a368227b00cfda\\\", \\\"department\\\": \\\"Production\\\", \\\"gender\\\": 2, \\\"id\\\": 57673, \\\"job\\\": \\\"Casting\\\", \\\"name\\\": \\\"Kevin Reher\\\"}, {\\\"credit_id\\\": \\\"5772a56dc3a36846dd00029e\\\", \\\"department\\\": \\\"Directing\\\", \\\"gender\\\": 0, \\\"id\\\": 72972, \\\"job\\\": \\\"Layout\\\", \\\"name\\\": \\\"Andrew Cadelago\\\"}, {\\\"credit_id\\\": \\\"57681c359251417d1300077b\\\", \\\"department\\\": \\\"Sound\\\", \\\"gender\\\": 2, \\\"id\\\": 74811, \\\"job\\\": \\\"Sound Mixer\\\", \\\"name\\\": \\\"Dan Wallin\\\"}, {\\\"credit_id\\\": \\\"57229c5c9251413eaf00096e\\\", \\\"department\\\": \\\"Visual Effects\\\", \\\"gender\\\": 2, \\\"id\\\": 107704, \\\"job\\\": \\\"Animation\\\", \\\"name\\\": \\\"Rodrigo Blaas\\\"}, {\\\"credit_id\\\": \\\"588260079251413028010ec6\\\", \\\"department\\\": \\\"Sound\\\", \\\"gender\\\": 0, \\\"id\\\": 138617, \\\"job\\\": \\\"Foley Editor\\\", \\\"name\\\": \\\"Jonathan Null\\\"}, {\\\"credit_id\\\": \\\"58826083c3a368144f010517\\\", \\\"department\\\": \\\"Crew\\\", \\\"gender\\\": 0, \\\"id\\\": 953331, \\\"job\\\": \\\"Executive Music Producer\\\", \\\"name\\\": \\\"Chris Montan\\\"}, {\\\"credit_id\\\": \\\"5683b87dc3a36860e9017128\\\", \\\"department\\\": \\\"Production\\\", \\\"gender\\\": 1, \\\"id\\\": 963497, \\\"job\\\": \\\"Casting\\\", \\\"name\\\": \\\"Natalie Lyon\\\"}, {\\\"credit_id\\\": \\\"5683b671c3a3685f89002fd7\\\", \\\"department\\\": \\\"Production\\\", \\\"gender\\\": 1, \\\"id\\\": 970529, \\\"job\\\": \\\"Associate Producer\\\", \\\"name\\\": \\\"Denise Ream\\\"}, {\\\"credit_id\\\": \\\"572bd499925141388e0002f6\\\", \\\"department\\\": \\\"Art\\\", \\\"gender\\\": 0, \\\"id\\\": 1211220, \\\"job\\\": \\\"Sculptor\\\", \\\"name\\\": \\\"Greg Dykstra\\\"}, {\\\"credit_id\\\": \\\"57327728c3a3686957000525\\\", \\\"department\\\": \\\"Sound\\\", \\\"gender\\\": 0, \\\"id\\\": 1291315, \\\"job\\\": \\\"Music Supervisor\\\", \\\"name\\\": \\\"Tom MacDougall\\\"}, {\\\"credit_id\\\": \\\"5724de2592514118af0022a6\\\", \\\"department\\\": \\\"Visual Effects\\\", \\\"gender\\\": 2, \\\"id\\\": 1299484, \\\"job\\\": \\\"Visual Effects Supervisor\\\", \\\"name\\\": \\\"Bob Whitehill\\\"}, {\\\"credit_id\\\": \\\"5683b68d9251414ecb008c1d\\\", \\\"department\\\": \\\"Sound\\\", \\\"gender\\\": 0, \\\"id\\\": 1378828, \\\"job\\\": \\\"Sound Re-Recording Mixer\\\", \\\"name\\\": \\\"Michael Semanick\\\"}, {\\\"credit_id\\\": \\\"58825d2dc3a3681470011aac\\\", \\\"department\\\": \\\"Visual Effects\\\", \\\"gender\\\": 0, \\\"id\\\": 1397397, \\\"job\\\": \\\"Animation\\\", \\\"name\\\": \\\"Louis Clichy\\\"}, {\\\"credit_id\\\": \\\"576eb50dc3a3683c240045bc\\\", \\\"department\\\": \\\"Visual Effects\\\", \\\"gender\\\": 0, \\\"id\\\": 1408648, \\\"job\\\": \\\"Animation\\\", \\\"name\\\": \\\"Jason Boose\\\"}, {\\\"credit_id\\\": \\\"58825ffc92514130340118b5\\\", \\\"department\\\": \\\"Sound\\\", \\\"gender\\\": 0, \\\"id\\\": 1412984, \\\"job\\\": \\\"Foley Editor\\\", \\\"name\\\": \\\"Pascal Garneau\\\"}, {\\\"credit_id\\\": \\\"57229ab0c3a3682d43000934\\\", \\\"department\\\": \\\"Visual Effects\\\", \\\"gender\\\": 0, \\\"id\\\": 1413096, \\\"job\\\": \\\"Animation\\\", \\\"name\\\": \\\"Simon Allen\\\"}, {\\\"credit_id\\\": \\\"5683b6ee9251412e52015b4f\\\", \\\"department\\\": \\\"Sound\\\", \\\"gender\\\": 0, \\\"id\\\": 1414177, \\\"job\\\": \\\"Sound Effects Editor\\\", \\\"name\\\": \\\"J.R. Grubbs\\\"}, {\\\"credit_id\\\": \\\"5683b6c6c3a3684bcc0188eb\\\", \\\"department\\\": \\\"Sound\\\", \\\"gender\\\": 0, \\\"id\\\": 1422411, \\\"job\\\": \\\"Sound Effects Editor\\\", \\\"name\\\": \\\"Al Nelson\\\"}, {\\\"credit_id\\\": \\\"576d7329c3a36874e0001f52\\\", \\\"department\\\": \\\"Editing\\\", \\\"gender\\\": 0, \\\"id\\\": 1435597, \\\"job\\\": \\\"Additional Editorial Assistant\\\", \\\"name\\\": \\\"Kevin Rose-Williams\\\"}, {\\\"credit_id\\\": \\\"58825b1a925141302b01139b\\\", \\\"department\\\": \\\"Art\\\", \\\"gender\\\": 0, \\\"id\\\": 1443472, \\\"job\\\": \\\"Art Department Coordinator\\\", \\\"name\\\": \\\"Erik Langley\\\"}, {\\\"credit_id\\\": \\\"57dc1e639251412ef30000e3\\\", \\\"department\\\": \\\"Visual Effects\\\", \\\"gender\\\": 0, \\\"id\\\": 1443479, \\\"job\\\": \\\"Animation Manager\\\", \\\"name\\\": \\\"A.J. Riebli III\\\"}, {\\\"credit_id\\\": \\\"5525950a92514166c1005b49\\\", \\\"department\\\": \\\"Editing\\\", \\\"gender\\\": 0, \\\"id\\\": 1450317, \\\"job\\\": \\\"Editorial Manager\\\", \\\"name\\\": \\\"Laura Leganza Reynolds\\\"}, {\\\"credit_id\\\": \\\"572297249251413eaf0008ca\\\", \\\"department\\\": \\\"Camera\\\", \\\"gender\\\": 2, \\\"id\\\": 1451703, \\\"job\\\": \\\"Camera Operator\\\", \\\"name\\\": \\\"Mark Dinicola\\\"}, {\\\"credit_id\\\": \\\"572f699fc3a36874eb00061e\\\", \\\"department\\\": \\\"Crew\\\", \\\"gender\\\": 0, \\\"id\\\": 1484178, \\\"job\\\": \\\"Sound Design Assistant\\\", \\\"name\\\": \\\"Dustin Cawood\\\"}, {\\\"credit_id\\\": \\\"5683b5d692514131df014a5b\\\", \\\"department\\\": \\\"Editing\\\", \\\"gender\\\": 0, \\\"id\\\": 1516156, \\\"job\\\": \\\"Editor\\\", \\\"name\\\": \\\"Kevin Nolting\\\"}, {\\\"credit_id\\\": \\\"5882609a925141303401191a\\\", \\\"department\\\": \\\"Editing\\\", \\\"gender\\\": 0, \\\"id\\\": 1552873, \\\"job\\\": \\\"Color Timer\\\", \\\"name\\\": \\\"Terry Claborn\\\"}, {\\\"credit_id\\\": \\\"5683b72a925141133400e990\\\", \\\"department\\\": \\\"Directing\\\", \\\"gender\\\": 0, \\\"id\\\": 1555650, \\\"job\\\": \\\"Script Supervisor\\\", \\\"name\\\": \\\"Lorien McKenna\\\"}, {\\\"credit_id\\\": \\\"58825b92c3a36814670109c9\\\", \\\"department\\\": \\\"Editing\\\", \\\"gender\\\": 0, \\\"id\\\": 1556629, \\\"job\\\": \\\"Associate Editor\\\", \\\"name\\\": \\\"Gregory Amundson\\\"}, {\\\"credit_id\\\": \\\"5882601192514130370113da\\\", \\\"department\\\": \\\"Sound\\\", \\\"gender\\\": 0, \\\"id\\\": 1556632, \\\"job\\\": \\\"ADR Editor\\\", \\\"name\\\": \\\"Steve Slanec\\\"}, {\\\"credit_id\\\": \\\"58825ae89251413037011023\\\", \\\"department\\\": \\\"Art\\\", \\\"gender\\\": 1, \\\"id\\\": 1605896, \\\"job\\\": \\\"Art Department Coordinator\\\", \\\"name\\\": \\\"Stephanie Hamilton\\\"}, {\\\"credit_id\\\": \\\"58825d91c3a3681467010b0c\\\", \\\"department\\\": \\\"Visual Effects\\\", \\\"gender\\\": 0, \\\"id\\\": 1711834, \\\"job\\\": \\\"Animation\\\", \\\"name\\\": \\\"Aaron Hartline\\\"}, {\\\"credit_id\\\": \\\"58825d0fc3a3681470011a91\\\", \\\"department\\\": \\\"Visual Effects\\\", \\\"gender\\\": 0, \\\"id\\\": 1711836, \\\"job\\\": \\\"Animation\\\", \\\"name\\\": \\\"Shaun Chacko\\\"}, {\\\"credit_id\\\": \\\"588259e5c3a368144f0100bf\\\", \\\"department\\\": \\\"Crew\\\", \\\"gender\\\": 0, \\\"id\\\": 1742706, \\\"job\\\": \\\"Production Artist\\\", \\\"name\\\": \\\"Daniel Arriaga\\\"}, {\\\"credit_id\\\": \\\"588259efc3a36814430107f6\\\", \\\"department\\\": \\\"Crew\\\", \\\"gender\\\": 0, \\\"id\\\": 1742707, \\\"job\\\": \\\"Production Artist\\\", \\\"name\\\": \\\"Noah Klocek\\\"}, {\\\"credit_id\\\": \\\"58825a3bc3a3681460011f59\\\", \\\"department\\\": \\\"Art\\\", \\\"gender\\\": 1, \\\"id\\\": 1742709, \\\"job\\\": \\\"Art Department Manager\\\", \\\"name\\\": \\\"Jennifer Birmingham\\\"}, {\\\"credit_id\\\": \\\"58825b699251413028010b7d\\\", \\\"department\\\": \\\"Editing\\\", \\\"gender\\\": 0, \\\"id\\\": 1742711, \\\"job\\\": \\\"Editorial Manager\\\", \\\"name\\\": \\\"Shannon Ryan\\\"}, {\\\"credit_id\\\": \\\"58825ba7c3a36814670109d9\\\", \\\"department\\\": \\\"Editing\\\", \\\"gender\\\": 0, \\\"id\\\": 1742712, \\\"job\\\": \\\"Assistant Editor\\\", \\\"name\\\": \\\"Thomas Gonzales\\\"}, {\\\"credit_id\\\": \\\"58825bb3c3a3681460012061\\\", \\\"department\\\": \\\"Editing\\\", \\\"gender\\\": 0, \\\"id\\\": 1742713, \\\"job\\\": \\\"Assistant Editor\\\", \\\"name\\\": \\\"C.J. Hsu\\\"}, {\\\"credit_id\\\": \\\"58825bbb92514130370110b7\\\", \\\"department\\\": \\\"Editing\\\", \\\"gender\\\": 0, \\\"id\\\": 1742714, \\\"job\\\": \\\"Assistant Editor\\\", \\\"name\\\": \\\"Amera Rizk\\\"}, {\\\"credit_id\\\": \\\"58825bf4c3a3681443010958\\\", \\\"department\\\": \\\"Editing\\\", \\\"gender\\\": 0, \\\"id\\\": 1742717, \\\"job\\\": \\\"Editorial Coordinator\\\", \\\"name\\\": \\\"Dallis Anderson\\\"}, {\\\"credit_id\\\": \\\"58825c21c3a3681449011bcd\\\", \\\"department\\\": \\\"Directing\\\", \\\"gender\\\": 0, \\\"id\\\": 1742719, \\\"job\\\": \\\"Layout\\\", \\\"name\\\": \\\"Mahyar Abousaeedi\\\"}, {\\\"credit_id\\\": \\\"58825c60c3a368147d00fdc7\\\", \\\"department\\\": \\\"Directing\\\", \\\"gender\\\": 0, \\\"id\\\": 1742720, \\\"job\\\": \\\"Layout\\\", \\\"name\\\": \\\"Josh Anon\\\"}, {\\\"credit_id\\\": \\\"58825c77c3a36814600120f5\\\", \\\"department\\\": \\\"Directing\\\", \\\"gender\\\": 0, \\\"id\\\": 1742721, \\\"job\\\": \\\"Layout\\\", \\\"name\\\": \\\"Sukwon Park\\\"}, {\\\"credit_id\\\": \\\"58825c7ec3a368147d00fde3\\\", \\\"department\\\": \\\"Directing\\\", \\\"gender\\\": 0, \\\"id\\\": 1742722, \\\"job\\\": \\\"Layout\\\", \\\"name\\\": \\\"Mark Shirra\\\"}, {\\\"credit_id\\\": \\\"58825c8ac3a36814430109ca\\\", \\\"department\\\": \\\"Directing\\\", \\\"gender\\\": 0, \\\"id\\\": 1742723, \\\"job\\\": \\\"Layout\\\", \\\"name\\\": \\\"Matthew Silas\\\"}, {\\\"credit_id\\\": \\\"58825c99c3a368146001211a\\\", \\\"department\\\": \\\"Directing\\\", \\\"gender\\\": 0, \\\"id\\\": 1742724, \\\"job\\\": \\\"Layout\\\", \\\"name\\\": \\\"Sylvia Gray Wong\\\"}, {\\\"credit_id\\\": \\\"58825ee9c3a368145b010f6b\\\", \\\"department\\\": \\\"Camera\\\", \\\"gender\\\": 0, \\\"id\\\": 1742751, \\\"job\\\": \\\"Camera Operator\\\", \\\"name\\\": \\\"Jeff Wan\\\"}, {\\\"credit_id\\\": \\\"58825f31c3a3681449011dfa\\\", \\\"department\\\": \\\"Crew\\\", \\\"gender\\\": 2, \\\"id\\\": 1742756, \\\"job\\\": \\\"Post-Production Manager\\\", \\\"name\\\": \\\"Eric Pearson\\\"}, {\\\"credit_id\\\": \\\"58825f5d925141303a01131b\\\", \\\"department\\\": \\\"Crew\\\", \\\"gender\\\": 0, \\\"id\\\": 1742757, \\\"job\\\": \\\"Post Production Assistant\\\", \\\"name\\\": \\\"Freesia Pearson\\\"}]\"\n        ],\n        \"semantic_type\": \"\",\n        \"description\": \"\"\n      }\n    }\n  ]\n}"
            }
          },
          "metadata": {},
          "execution_count": 144
        }
      ]
    },
    {
      "cell_type": "code",
      "source": [
        "movies.head(2)['cast'].values"
      ],
      "metadata": {
        "colab": {
          "base_uri": "https://localhost:8080/"
        },
        "id": "2f9db2WSnBn-",
        "outputId": "893a3f7e-d5b7-4568-9962-366ff2811c96"
      },
      "execution_count": null,
      "outputs": [
        {
          "output_type": "execute_result",
          "data": {
            "text/plain": [
              "array(['[{\"cast_id\": 242, \"character\": \"Jake Sully\", \"credit_id\": \"5602a8a7c3a3685532001c9a\", \"gender\": 2, \"id\": 65731, \"name\": \"Sam Worthington\", \"order\": 0}, {\"cast_id\": 3, \"character\": \"Neytiri\", \"credit_id\": \"52fe48009251416c750ac9cb\", \"gender\": 1, \"id\": 8691, \"name\": \"Zoe Saldana\", \"order\": 1}, {\"cast_id\": 25, \"character\": \"Dr. Grace Augustine\", \"credit_id\": \"52fe48009251416c750aca39\", \"gender\": 1, \"id\": 10205, \"name\": \"Sigourney Weaver\", \"order\": 2}, {\"cast_id\": 4, \"character\": \"Col. Quaritch\", \"credit_id\": \"52fe48009251416c750ac9cf\", \"gender\": 2, \"id\": 32747, \"name\": \"Stephen Lang\", \"order\": 3}, {\"cast_id\": 5, \"character\": \"Trudy Chacon\", \"credit_id\": \"52fe48009251416c750ac9d3\", \"gender\": 1, \"id\": 17647, \"name\": \"Michelle Rodriguez\", \"order\": 4}, {\"cast_id\": 8, \"character\": \"Selfridge\", \"credit_id\": \"52fe48009251416c750ac9e1\", \"gender\": 2, \"id\": 1771, \"name\": \"Giovanni Ribisi\", \"order\": 5}, {\"cast_id\": 7, \"character\": \"Norm Spellman\", \"credit_id\": \"52fe48009251416c750ac9dd\", \"gender\": 2, \"id\": 59231, \"name\": \"Joel David Moore\", \"order\": 6}, {\"cast_id\": 9, \"character\": \"Moat\", \"credit_id\": \"52fe48009251416c750ac9e5\", \"gender\": 1, \"id\": 30485, \"name\": \"CCH Pounder\", \"order\": 7}, {\"cast_id\": 11, \"character\": \"Eytukan\", \"credit_id\": \"52fe48009251416c750ac9ed\", \"gender\": 2, \"id\": 15853, \"name\": \"Wes Studi\", \"order\": 8}, {\"cast_id\": 10, \"character\": \"Tsu\\'Tey\", \"credit_id\": \"52fe48009251416c750ac9e9\", \"gender\": 2, \"id\": 10964, \"name\": \"Laz Alonso\", \"order\": 9}, {\"cast_id\": 12, \"character\": \"Dr. Max Patel\", \"credit_id\": \"52fe48009251416c750ac9f1\", \"gender\": 2, \"id\": 95697, \"name\": \"Dileep Rao\", \"order\": 10}, {\"cast_id\": 13, \"character\": \"Lyle Wainfleet\", \"credit_id\": \"52fe48009251416c750ac9f5\", \"gender\": 2, \"id\": 98215, \"name\": \"Matt Gerald\", \"order\": 11}, {\"cast_id\": 32, \"character\": \"Private Fike\", \"credit_id\": \"52fe48009251416c750aca5b\", \"gender\": 2, \"id\": 154153, \"name\": \"Sean Anthony Moran\", \"order\": 12}, {\"cast_id\": 33, \"character\": \"Cryo Vault Med Tech\", \"credit_id\": \"52fe48009251416c750aca5f\", \"gender\": 2, \"id\": 397312, \"name\": \"Jason Whyte\", \"order\": 13}, {\"cast_id\": 34, \"character\": \"Venture Star Crew Chief\", \"credit_id\": \"52fe48009251416c750aca63\", \"gender\": 2, \"id\": 42317, \"name\": \"Scott Lawrence\", \"order\": 14}, {\"cast_id\": 35, \"character\": \"Lock Up Trooper\", \"credit_id\": \"52fe48009251416c750aca67\", \"gender\": 2, \"id\": 986734, \"name\": \"Kelly Kilgour\", \"order\": 15}, {\"cast_id\": 36, \"character\": \"Shuttle Pilot\", \"credit_id\": \"52fe48009251416c750aca6b\", \"gender\": 0, \"id\": 1207227, \"name\": \"James Patrick Pitt\", \"order\": 16}, {\"cast_id\": 37, \"character\": \"Shuttle Co-Pilot\", \"credit_id\": \"52fe48009251416c750aca6f\", \"gender\": 0, \"id\": 1180936, \"name\": \"Sean Patrick Murphy\", \"order\": 17}, {\"cast_id\": 38, \"character\": \"Shuttle Crew Chief\", \"credit_id\": \"52fe48009251416c750aca73\", \"gender\": 2, \"id\": 1019578, \"name\": \"Peter Dillon\", \"order\": 18}, {\"cast_id\": 39, \"character\": \"Tractor Operator / Troupe\", \"credit_id\": \"52fe48009251416c750aca77\", \"gender\": 0, \"id\": 91443, \"name\": \"Kevin Dorman\", \"order\": 19}, {\"cast_id\": 40, \"character\": \"Dragon Gunship Pilot\", \"credit_id\": \"52fe48009251416c750aca7b\", \"gender\": 2, \"id\": 173391, \"name\": \"Kelson Henderson\", \"order\": 20}, {\"cast_id\": 41, \"character\": \"Dragon Gunship Gunner\", \"credit_id\": \"52fe48009251416c750aca7f\", \"gender\": 0, \"id\": 1207236, \"name\": \"David Van Horn\", \"order\": 21}, {\"cast_id\": 42, \"character\": \"Dragon Gunship Navigator\", \"credit_id\": \"52fe48009251416c750aca83\", \"gender\": 0, \"id\": 215913, \"name\": \"Jacob Tomuri\", \"order\": 22}, {\"cast_id\": 43, \"character\": \"Suit #1\", \"credit_id\": \"52fe48009251416c750aca87\", \"gender\": 0, \"id\": 143206, \"name\": \"Michael Blain-Rozgay\", \"order\": 23}, {\"cast_id\": 44, \"character\": \"Suit #2\", \"credit_id\": \"52fe48009251416c750aca8b\", \"gender\": 2, \"id\": 169676, \"name\": \"Jon Curry\", \"order\": 24}, {\"cast_id\": 46, \"character\": \"Ambient Room Tech\", \"credit_id\": \"52fe48009251416c750aca8f\", \"gender\": 0, \"id\": 1048610, \"name\": \"Luke Hawker\", \"order\": 25}, {\"cast_id\": 47, \"character\": \"Ambient Room Tech / Troupe\", \"credit_id\": \"52fe48009251416c750aca93\", \"gender\": 0, \"id\": 42288, \"name\": \"Woody Schultz\", \"order\": 26}, {\"cast_id\": 48, \"character\": \"Horse Clan Leader\", \"credit_id\": \"52fe48009251416c750aca97\", \"gender\": 2, \"id\": 68278, \"name\": \"Peter Mensah\", \"order\": 27}, {\"cast_id\": 49, \"character\": \"Link Room Tech\", \"credit_id\": \"52fe48009251416c750aca9b\", \"gender\": 0, \"id\": 1207247, \"name\": \"Sonia Yee\", \"order\": 28}, {\"cast_id\": 50, \"character\": \"Basketball Avatar / Troupe\", \"credit_id\": \"52fe48009251416c750aca9f\", \"gender\": 1, \"id\": 1207248, \"name\": \"Jahnel Curfman\", \"order\": 29}, {\"cast_id\": 51, \"character\": \"Basketball Avatar\", \"credit_id\": \"52fe48009251416c750acaa3\", \"gender\": 0, \"id\": 89714, \"name\": \"Ilram Choi\", \"order\": 30}, {\"cast_id\": 52, \"character\": \"Na\\'vi Child\", \"credit_id\": \"52fe48009251416c750acaa7\", \"gender\": 0, \"id\": 1207249, \"name\": \"Kyla Warren\", \"order\": 31}, {\"cast_id\": 53, \"character\": \"Troupe\", \"credit_id\": \"52fe48009251416c750acaab\", \"gender\": 0, \"id\": 1207250, \"name\": \"Lisa Roumain\", \"order\": 32}, {\"cast_id\": 54, \"character\": \"Troupe\", \"credit_id\": \"52fe48009251416c750acaaf\", \"gender\": 1, \"id\": 83105, \"name\": \"Debra Wilson\", \"order\": 33}, {\"cast_id\": 57, \"character\": \"Troupe\", \"credit_id\": \"52fe48009251416c750acabb\", \"gender\": 0, \"id\": 1207253, \"name\": \"Chris Mala\", \"order\": 34}, {\"cast_id\": 55, \"character\": \"Troupe\", \"credit_id\": \"52fe48009251416c750acab3\", \"gender\": 0, \"id\": 1207251, \"name\": \"Taylor Kibby\", \"order\": 35}, {\"cast_id\": 56, \"character\": \"Troupe\", \"credit_id\": \"52fe48009251416c750acab7\", \"gender\": 0, \"id\": 1207252, \"name\": \"Jodie Landau\", \"order\": 36}, {\"cast_id\": 58, \"character\": \"Troupe\", \"credit_id\": \"52fe48009251416c750acabf\", \"gender\": 0, \"id\": 1207254, \"name\": \"Julie Lamm\", \"order\": 37}, {\"cast_id\": 59, \"character\": \"Troupe\", \"credit_id\": \"52fe48009251416c750acac3\", \"gender\": 0, \"id\": 1207257, \"name\": \"Cullen B. Madden\", \"order\": 38}, {\"cast_id\": 60, \"character\": \"Troupe\", \"credit_id\": \"52fe48009251416c750acac7\", \"gender\": 0, \"id\": 1207259, \"name\": \"Joseph Brady Madden\", \"order\": 39}, {\"cast_id\": 61, \"character\": \"Troupe\", \"credit_id\": \"52fe48009251416c750acacb\", \"gender\": 0, \"id\": 1207262, \"name\": \"Frankie Torres\", \"order\": 40}, {\"cast_id\": 62, \"character\": \"Troupe\", \"credit_id\": \"52fe48009251416c750acacf\", \"gender\": 1, \"id\": 1158600, \"name\": \"Austin Wilson\", \"order\": 41}, {\"cast_id\": 63, \"character\": \"Troupe\", \"credit_id\": \"52fe48019251416c750acad3\", \"gender\": 1, \"id\": 983705, \"name\": \"Sara Wilson\", \"order\": 42}, {\"cast_id\": 64, \"character\": \"Troupe\", \"credit_id\": \"52fe48019251416c750acad7\", \"gender\": 0, \"id\": 1207263, \"name\": \"Tamica Washington-Miller\", \"order\": 43}, {\"cast_id\": 65, \"character\": \"Op Center Staff\", \"credit_id\": \"52fe48019251416c750acadb\", \"gender\": 1, \"id\": 1145098, \"name\": \"Lucy Briant\", \"order\": 44}, {\"cast_id\": 66, \"character\": \"Op Center Staff\", \"credit_id\": \"52fe48019251416c750acadf\", \"gender\": 2, \"id\": 33305, \"name\": \"Nathan Meister\", \"order\": 45}, {\"cast_id\": 67, \"character\": \"Op Center Staff\", \"credit_id\": \"52fe48019251416c750acae3\", \"gender\": 0, \"id\": 1207264, \"name\": \"Gerry Blair\", \"order\": 46}, {\"cast_id\": 68, \"character\": \"Op Center Staff\", \"credit_id\": \"52fe48019251416c750acae7\", \"gender\": 2, \"id\": 33311, \"name\": \"Matthew Chamberlain\", \"order\": 47}, {\"cast_id\": 69, \"character\": \"Op Center Staff\", \"credit_id\": \"52fe48019251416c750acaeb\", \"gender\": 0, \"id\": 1207265, \"name\": \"Paul Yates\", \"order\": 48}, {\"cast_id\": 70, \"character\": \"Op Center Duty Officer\", \"credit_id\": \"52fe48019251416c750acaef\", \"gender\": 0, \"id\": 1207266, \"name\": \"Wray Wilson\", \"order\": 49}, {\"cast_id\": 71, \"character\": \"Op Center Staff\", \"credit_id\": \"52fe48019251416c750acaf3\", \"gender\": 2, \"id\": 54492, \"name\": \"James Gaylyn\", \"order\": 50}, {\"cast_id\": 72, \"character\": \"Dancer\", \"credit_id\": \"52fe48019251416c750acaf7\", \"gender\": 0, \"id\": 1207267, \"name\": \"Melvin Leno Clark III\", \"order\": 51}, {\"cast_id\": 73, \"character\": \"Dancer\", \"credit_id\": \"52fe48019251416c750acafb\", \"gender\": 0, \"id\": 1207268, \"name\": \"Carvon Futrell\", \"order\": 52}, {\"cast_id\": 74, \"character\": \"Dancer\", \"credit_id\": \"52fe48019251416c750acaff\", \"gender\": 0, \"id\": 1207269, \"name\": \"Brandon Jelkes\", \"order\": 53}, {\"cast_id\": 75, \"character\": \"Dancer\", \"credit_id\": \"52fe48019251416c750acb03\", \"gender\": 0, \"id\": 1207270, \"name\": \"Micah Moch\", \"order\": 54}, {\"cast_id\": 76, \"character\": \"Dancer\", \"credit_id\": \"52fe48019251416c750acb07\", \"gender\": 0, \"id\": 1207271, \"name\": \"Hanniyah Muhammad\", \"order\": 55}, {\"cast_id\": 77, \"character\": \"Dancer\", \"credit_id\": \"52fe48019251416c750acb0b\", \"gender\": 0, \"id\": 1207272, \"name\": \"Christopher Nolen\", \"order\": 56}, {\"cast_id\": 78, \"character\": \"Dancer\", \"credit_id\": \"52fe48019251416c750acb0f\", \"gender\": 0, \"id\": 1207273, \"name\": \"Christa Oliver\", \"order\": 57}, {\"cast_id\": 79, \"character\": \"Dancer\", \"credit_id\": \"52fe48019251416c750acb13\", \"gender\": 0, \"id\": 1207274, \"name\": \"April Marie Thomas\", \"order\": 58}, {\"cast_id\": 80, \"character\": \"Dancer\", \"credit_id\": \"52fe48019251416c750acb17\", \"gender\": 0, \"id\": 1207275, \"name\": \"Bravita A. Threatt\", \"order\": 59}, {\"cast_id\": 81, \"character\": \"Mining Chief (uncredited)\", \"credit_id\": \"52fe48019251416c750acb1b\", \"gender\": 0, \"id\": 1207276, \"name\": \"Colin Bleasdale\", \"order\": 60}, {\"cast_id\": 82, \"character\": \"Veteran Miner (uncredited)\", \"credit_id\": \"52fe48019251416c750acb1f\", \"gender\": 0, \"id\": 107969, \"name\": \"Mike Bodnar\", \"order\": 61}, {\"cast_id\": 83, \"character\": \"Richard (uncredited)\", \"credit_id\": \"52fe48019251416c750acb23\", \"gender\": 0, \"id\": 1207278, \"name\": \"Matt Clayton\", \"order\": 62}, {\"cast_id\": 84, \"character\": \"Nav\\'i (uncredited)\", \"credit_id\": \"52fe48019251416c750acb27\", \"gender\": 1, \"id\": 147898, \"name\": \"Nicole Dionne\", \"order\": 63}, {\"cast_id\": 85, \"character\": \"Trooper (uncredited)\", \"credit_id\": \"52fe48019251416c750acb2b\", \"gender\": 0, \"id\": 1207280, \"name\": \"Jamie Harrison\", \"order\": 64}, {\"cast_id\": 86, \"character\": \"Trooper (uncredited)\", \"credit_id\": \"52fe48019251416c750acb2f\", \"gender\": 0, \"id\": 1207281, \"name\": \"Allan Henry\", \"order\": 65}, {\"cast_id\": 87, \"character\": \"Ground Technician (uncredited)\", \"credit_id\": \"52fe48019251416c750acb33\", \"gender\": 2, \"id\": 1207282, \"name\": \"Anthony Ingruber\", \"order\": 66}, {\"cast_id\": 88, \"character\": \"Flight Crew Mechanic (uncredited)\", \"credit_id\": \"52fe48019251416c750acb37\", \"gender\": 0, \"id\": 1207283, \"name\": \"Ashley Jeffery\", \"order\": 67}, {\"cast_id\": 14, \"character\": \"Samson Pilot\", \"credit_id\": \"52fe48009251416c750ac9f9\", \"gender\": 0, \"id\": 98216, \"name\": \"Dean Knowsley\", \"order\": 68}, {\"cast_id\": 89, \"character\": \"Trooper (uncredited)\", \"credit_id\": \"52fe48019251416c750acb3b\", \"gender\": 0, \"id\": 1201399, \"name\": \"Joseph Mika-Hunt\", \"order\": 69}, {\"cast_id\": 90, \"character\": \"Banshee (uncredited)\", \"credit_id\": \"52fe48019251416c750acb3f\", \"gender\": 0, \"id\": 236696, \"name\": \"Terry Notary\", \"order\": 70}, {\"cast_id\": 91, \"character\": \"Soldier (uncredited)\", \"credit_id\": \"52fe48019251416c750acb43\", \"gender\": 0, \"id\": 1207287, \"name\": \"Kai Pantano\", \"order\": 71}, {\"cast_id\": 92, \"character\": \"Blast Technician (uncredited)\", \"credit_id\": \"52fe48019251416c750acb47\", \"gender\": 0, \"id\": 1207288, \"name\": \"Logan Pithyou\", \"order\": 72}, {\"cast_id\": 93, \"character\": \"Vindum Raah (uncredited)\", \"credit_id\": \"52fe48019251416c750acb4b\", \"gender\": 0, \"id\": 1207289, \"name\": \"Stuart Pollock\", \"order\": 73}, {\"cast_id\": 94, \"character\": \"Hero (uncredited)\", \"credit_id\": \"52fe48019251416c750acb4f\", \"gender\": 0, \"id\": 584868, \"name\": \"Raja\", \"order\": 74}, {\"cast_id\": 95, \"character\": \"Ops Centreworker (uncredited)\", \"credit_id\": \"52fe48019251416c750acb53\", \"gender\": 0, \"id\": 1207290, \"name\": \"Gareth Ruck\", \"order\": 75}, {\"cast_id\": 96, \"character\": \"Engineer (uncredited)\", \"credit_id\": \"52fe48019251416c750acb57\", \"gender\": 0, \"id\": 1062463, \"name\": \"Rhian Sheehan\", \"order\": 76}, {\"cast_id\": 97, \"character\": \"Col. Quaritch\\'s Mech Suit (uncredited)\", \"credit_id\": \"52fe48019251416c750acb5b\", \"gender\": 0, \"id\": 60656, \"name\": \"T. J. Storm\", \"order\": 77}, {\"cast_id\": 98, \"character\": \"Female Marine (uncredited)\", \"credit_id\": \"52fe48019251416c750acb5f\", \"gender\": 0, \"id\": 1207291, \"name\": \"Jodie Taylor\", \"order\": 78}, {\"cast_id\": 99, \"character\": \"Ikran Clan Leader (uncredited)\", \"credit_id\": \"52fe48019251416c750acb63\", \"gender\": 1, \"id\": 1186027, \"name\": \"Alicia Vela-Bailey\", \"order\": 79}, {\"cast_id\": 100, \"character\": \"Geologist (uncredited)\", \"credit_id\": \"52fe48019251416c750acb67\", \"gender\": 0, \"id\": 1207292, \"name\": \"Richard Whiteside\", \"order\": 80}, {\"cast_id\": 101, \"character\": \"Na\\'vi (uncredited)\", \"credit_id\": \"52fe48019251416c750acb6b\", \"gender\": 0, \"id\": 103259, \"name\": \"Nikie Zambo\", \"order\": 81}, {\"cast_id\": 102, \"character\": \"Ambient Room Tech / Troupe\", \"credit_id\": \"52fe48019251416c750acb6f\", \"gender\": 1, \"id\": 42286, \"name\": \"Julene Renee\", \"order\": 82}]',\n",
              "       '[{\"cast_id\": 4, \"character\": \"Captain Jack Sparrow\", \"credit_id\": \"52fe4232c3a36847f800b50d\", \"gender\": 2, \"id\": 85, \"name\": \"Johnny Depp\", \"order\": 0}, {\"cast_id\": 5, \"character\": \"Will Turner\", \"credit_id\": \"52fe4232c3a36847f800b511\", \"gender\": 2, \"id\": 114, \"name\": \"Orlando Bloom\", \"order\": 1}, {\"cast_id\": 6, \"character\": \"Elizabeth Swann\", \"credit_id\": \"52fe4232c3a36847f800b515\", \"gender\": 1, \"id\": 116, \"name\": \"Keira Knightley\", \"order\": 2}, {\"cast_id\": 12, \"character\": \"William \\\\\"Bootstrap Bill\\\\\" Turner\", \"credit_id\": \"52fe4232c3a36847f800b52d\", \"gender\": 2, \"id\": 1640, \"name\": \"Stellan Skarsg\\\\u00e5rd\", \"order\": 3}, {\"cast_id\": 10, \"character\": \"Captain Sao Feng\", \"credit_id\": \"52fe4232c3a36847f800b525\", \"gender\": 2, \"id\": 1619, \"name\": \"Chow Yun-fat\", \"order\": 4}, {\"cast_id\": 9, \"character\": \"Captain Davy Jones\", \"credit_id\": \"52fe4232c3a36847f800b521\", \"gender\": 2, \"id\": 2440, \"name\": \"Bill Nighy\", \"order\": 5}, {\"cast_id\": 7, \"character\": \"Captain Hector Barbossa\", \"credit_id\": \"52fe4232c3a36847f800b519\", \"gender\": 2, \"id\": 118, \"name\": \"Geoffrey Rush\", \"order\": 6}, {\"cast_id\": 14, \"character\": \"Admiral James Norrington\", \"credit_id\": \"52fe4232c3a36847f800b535\", \"gender\": 2, \"id\": 1709, \"name\": \"Jack Davenport\", \"order\": 7}, {\"cast_id\": 13, \"character\": \"Joshamee Gibbs\", \"credit_id\": \"52fe4232c3a36847f800b531\", \"gender\": 2, \"id\": 2449, \"name\": \"Kevin McNally\", \"order\": 8}, {\"cast_id\": 11, \"character\": \"Lord Cutler Beckett\", \"credit_id\": \"52fe4232c3a36847f800b529\", \"gender\": 2, \"id\": 2441, \"name\": \"Tom Hollander\", \"order\": 9}, {\"cast_id\": 19, \"character\": \"Tia Dalma\", \"credit_id\": \"52fe4232c3a36847f800b549\", \"gender\": 1, \"id\": 2038, \"name\": \"Naomie Harris\", \"order\": 10}, {\"cast_id\": 8, \"character\": \"Governor Weatherby Swann\", \"credit_id\": \"52fe4232c3a36847f800b51d\", \"gender\": 2, \"id\": 378, \"name\": \"Jonathan Pryce\", \"order\": 11}, {\"cast_id\": 37, \"character\": \"Captain Teague Sparrow\", \"credit_id\": \"52fe4232c3a36847f800b5b3\", \"gender\": 2, \"id\": 1430, \"name\": \"Keith Richards\", \"order\": 12}, {\"cast_id\": 16, \"character\": \"Pintel\", \"credit_id\": \"52fe4232c3a36847f800b53d\", \"gender\": 2, \"id\": 1710, \"name\": \"Lee Arenberg\", \"order\": 13}, {\"cast_id\": 15, \"character\": \"Ragetti\", \"credit_id\": \"52fe4232c3a36847f800b539\", \"gender\": 2, \"id\": 1711, \"name\": \"Mackenzie Crook\", \"order\": 14}, {\"cast_id\": 18, \"character\": \"Lieutenant Theodore Groves\", \"credit_id\": \"52fe4232c3a36847f800b545\", \"gender\": 2, \"id\": 4031, \"name\": \"Greg Ellis\", \"order\": 15}, {\"cast_id\": 55, \"character\": \"Cotton\", \"credit_id\": \"57e28d2ec3a3681a01005b5c\", \"gender\": 2, \"id\": 1715, \"name\": \"David Bailie\", \"order\": 16}, {\"cast_id\": 17, \"character\": \"Marty\", \"credit_id\": \"52fe4232c3a36847f800b541\", \"gender\": 2, \"id\": 4030, \"name\": \"Martin Klebba\", \"order\": 17}, {\"cast_id\": 57, \"character\": \"Ian Mercer\", \"credit_id\": \"57e28d78c3a36808b900bf4f\", \"gender\": 0, \"id\": 939, \"name\": \"David Schofield\", \"order\": 18}, {\"cast_id\": 62, \"character\": \"Scarlett\", \"credit_id\": \"57e28ec5c3a3681a50005855\", \"gender\": 1, \"id\": 2450, \"name\": \"Lauren Maher\", \"order\": 19}, {\"cast_id\": 63, \"character\": \"Giselle\", \"credit_id\": \"57e28ed692514123f5005635\", \"gender\": 1, \"id\": 2452, \"name\": \"Vanessa Branch\", \"order\": 20}, {\"cast_id\": 60, \"character\": \"Mullroy\", \"credit_id\": \"57e28db2c3a3681a01005bc7\", \"gender\": 2, \"id\": 1714, \"name\": \"Angus Barnett\", \"order\": 21}, {\"cast_id\": 59, \"character\": \"Murtogg\", \"credit_id\": \"57e28da192514118f7006008\", \"gender\": 0, \"id\": 1713, \"name\": \"Giles New\", \"order\": 22}, {\"cast_id\": 58, \"character\": \"Tai Huang\", \"credit_id\": \"57e28d8ec3a3681a01005bab\", \"gender\": 2, \"id\": 22075, \"name\": \"Reggie Lee\", \"order\": 23}, {\"cast_id\": 64, \"character\": \"Henry Turner\", \"credit_id\": \"57e29119925141151100a6cc\", \"gender\": 2, \"id\": 61259, \"name\": \"Dominic Scott Kay\", \"order\": 24}, {\"cast_id\": 39, \"character\": \"Mistress Ching\", \"credit_id\": \"52fe4232c3a36847f800b5bd\", \"gender\": 1, \"id\": 33500, \"name\": \"Takayo Fischer\", \"order\": 25}, {\"cast_id\": 40, \"character\": \"Lieutenant Greitzer\", \"credit_id\": \"52fe4232c3a36847f800b5c1\", \"gender\": 2, \"id\": 1224149, \"name\": \"David Meunier\", \"order\": 26}, {\"cast_id\": 49, \"character\": \"Hadras\", \"credit_id\": \"56d1871c92514174680010cf\", \"gender\": 2, \"id\": 429401, \"name\": \"Ho-Kwan Tse\", \"order\": 27}, {\"cast_id\": 56, \"character\": \"Clacker\", \"credit_id\": \"57e28d4b92514125710055cb\", \"gender\": 0, \"id\": 1123, \"name\": \"Andy Beckwith\", \"order\": 28}, {\"cast_id\": 51, \"character\": \"Penrod\", \"credit_id\": \"56ec8c14c3a3682260003c53\", \"gender\": 2, \"id\": 1056117, \"name\": \"Peter Donald Badalamenti II\", \"order\": 29}, {\"cast_id\": 61, \"character\": \"Cotton\\'s Parrot (voice)\", \"credit_id\": \"57e28dcc9251412463005678\", \"gender\": 2, \"id\": 21700, \"name\": \"Christopher S. Capp\", \"order\": 30}, {\"cast_id\": 65, \"character\": \"Captain Teague\", \"credit_id\": \"58bc2a37c3a368663003740b\", \"gender\": 2, \"id\": 1430, \"name\": \"Keith Richards\", \"order\": 31}, {\"cast_id\": 66, \"character\": \"Captain Jocard\", \"credit_id\": \"58bc2a8e925141609e03a179\", \"gender\": 2, \"id\": 2603, \"name\": \"Hakeem Kae-Kazim\", \"order\": 32}, {\"cast_id\": 67, \"character\": \"Captain Ammand\", \"credit_id\": \"58e2a21ac3a36872af00f9c2\", \"gender\": 0, \"id\": 70577, \"name\": \"Ghassan Massoud\", \"order\": 33}]'],\n",
              "      dtype=object)"
            ]
          },
          "metadata": {},
          "execution_count": 198
        }
      ]
    },
    {
      "cell_type": "code",
      "source": [
        "def cast_name(obj):\n",
        "  li=[]\n",
        "  c=0\n",
        "  for i in ast.literal_eval(obj):\n",
        "    if c<3:\n",
        "      li.append(i['name'])\n",
        "      c=c+1\n",
        "    else:\n",
        "      break\n",
        "  return li"
      ],
      "metadata": {
        "id": "wJvqBTpFnJS9"
      },
      "execution_count": null,
      "outputs": []
    },
    {
      "cell_type": "code",
      "source": [
        "movies['cast']=movies['cast'].apply(cast_name)"
      ],
      "metadata": {
        "id": "P4tQB7QdveGS"
      },
      "execution_count": null,
      "outputs": []
    },
    {
      "cell_type": "code",
      "source": [
        "movies.head(1)"
      ],
      "metadata": {
        "colab": {
          "base_uri": "https://localhost:8080/",
          "height": 168
        },
        "id": "vpgN1b-4ve2u",
        "outputId": "dc3c5b72-e4e1-4ca8-a62f-4a2addf880f4"
      },
      "execution_count": null,
      "outputs": [
        {
          "output_type": "execute_result",
          "data": {
            "text/plain": [
              "   movie_id   title                                           overview  \\\n",
              "0     19995  Avatar  In the 22nd century, a paraplegic Marine is di...   \n",
              "\n",
              "                                          genres  \\\n",
              "0  [Action, Adventure, Fantasy, Science Fiction]   \n",
              "\n",
              "                                            keywords  \\\n",
              "0  [culture clash, future, space war, space colon...   \n",
              "\n",
              "                                               cast  \\\n",
              "0  [Sam Worthington, Zoe Saldana, Sigourney Weaver]   \n",
              "\n",
              "                                                crew  \n",
              "0  [{\"credit_id\": \"52fe48009251416c750aca23\", \"de...  "
            ],
            "text/html": [
              "\n",
              "  <div id=\"df-181d2e41-0af7-4a18-af76-627bec55c708\" class=\"colab-df-container\">\n",
              "    <div>\n",
              "<style scoped>\n",
              "    .dataframe tbody tr th:only-of-type {\n",
              "        vertical-align: middle;\n",
              "    }\n",
              "\n",
              "    .dataframe tbody tr th {\n",
              "        vertical-align: top;\n",
              "    }\n",
              "\n",
              "    .dataframe thead th {\n",
              "        text-align: right;\n",
              "    }\n",
              "</style>\n",
              "<table border=\"1\" class=\"dataframe\">\n",
              "  <thead>\n",
              "    <tr style=\"text-align: right;\">\n",
              "      <th></th>\n",
              "      <th>movie_id</th>\n",
              "      <th>title</th>\n",
              "      <th>overview</th>\n",
              "      <th>genres</th>\n",
              "      <th>keywords</th>\n",
              "      <th>cast</th>\n",
              "      <th>crew</th>\n",
              "    </tr>\n",
              "  </thead>\n",
              "  <tbody>\n",
              "    <tr>\n",
              "      <th>0</th>\n",
              "      <td>19995</td>\n",
              "      <td>Avatar</td>\n",
              "      <td>In the 22nd century, a paraplegic Marine is di...</td>\n",
              "      <td>[Action, Adventure, Fantasy, Science Fiction]</td>\n",
              "      <td>[culture clash, future, space war, space colon...</td>\n",
              "      <td>[Sam Worthington, Zoe Saldana, Sigourney Weaver]</td>\n",
              "      <td>[{\"credit_id\": \"52fe48009251416c750aca23\", \"de...</td>\n",
              "    </tr>\n",
              "  </tbody>\n",
              "</table>\n",
              "</div>\n",
              "    <div class=\"colab-df-buttons\">\n",
              "\n",
              "  <div class=\"colab-df-container\">\n",
              "    <button class=\"colab-df-convert\" onclick=\"convertToInteractive('df-181d2e41-0af7-4a18-af76-627bec55c708')\"\n",
              "            title=\"Convert this dataframe to an interactive table.\"\n",
              "            style=\"display:none;\">\n",
              "\n",
              "  <svg xmlns=\"http://www.w3.org/2000/svg\" height=\"24px\" viewBox=\"0 -960 960 960\">\n",
              "    <path d=\"M120-120v-720h720v720H120Zm60-500h600v-160H180v160Zm220 220h160v-160H400v160Zm0 220h160v-160H400v160ZM180-400h160v-160H180v160Zm440 0h160v-160H620v160ZM180-180h160v-160H180v160Zm440 0h160v-160H620v160Z\"/>\n",
              "  </svg>\n",
              "    </button>\n",
              "\n",
              "  <style>\n",
              "    .colab-df-container {\n",
              "      display:flex;\n",
              "      gap: 12px;\n",
              "    }\n",
              "\n",
              "    .colab-df-convert {\n",
              "      background-color: #E8F0FE;\n",
              "      border: none;\n",
              "      border-radius: 50%;\n",
              "      cursor: pointer;\n",
              "      display: none;\n",
              "      fill: #1967D2;\n",
              "      height: 32px;\n",
              "      padding: 0 0 0 0;\n",
              "      width: 32px;\n",
              "    }\n",
              "\n",
              "    .colab-df-convert:hover {\n",
              "      background-color: #E2EBFA;\n",
              "      box-shadow: 0px 1px 2px rgba(60, 64, 67, 0.3), 0px 1px 3px 1px rgba(60, 64, 67, 0.15);\n",
              "      fill: #174EA6;\n",
              "    }\n",
              "\n",
              "    .colab-df-buttons div {\n",
              "      margin-bottom: 4px;\n",
              "    }\n",
              "\n",
              "    [theme=dark] .colab-df-convert {\n",
              "      background-color: #3B4455;\n",
              "      fill: #D2E3FC;\n",
              "    }\n",
              "\n",
              "    [theme=dark] .colab-df-convert:hover {\n",
              "      background-color: #434B5C;\n",
              "      box-shadow: 0px 1px 3px 1px rgba(0, 0, 0, 0.15);\n",
              "      filter: drop-shadow(0px 1px 2px rgba(0, 0, 0, 0.3));\n",
              "      fill: #FFFFFF;\n",
              "    }\n",
              "  </style>\n",
              "\n",
              "    <script>\n",
              "      const buttonEl =\n",
              "        document.querySelector('#df-181d2e41-0af7-4a18-af76-627bec55c708 button.colab-df-convert');\n",
              "      buttonEl.style.display =\n",
              "        google.colab.kernel.accessAllowed ? 'block' : 'none';\n",
              "\n",
              "      async function convertToInteractive(key) {\n",
              "        const element = document.querySelector('#df-181d2e41-0af7-4a18-af76-627bec55c708');\n",
              "        const dataTable =\n",
              "          await google.colab.kernel.invokeFunction('convertToInteractive',\n",
              "                                                    [key], {});\n",
              "        if (!dataTable) return;\n",
              "\n",
              "        const docLinkHtml = 'Like what you see? Visit the ' +\n",
              "          '<a target=\"_blank\" href=https://colab.research.google.com/notebooks/data_table.ipynb>data table notebook</a>'\n",
              "          + ' to learn more about interactive tables.';\n",
              "        element.innerHTML = '';\n",
              "        dataTable['output_type'] = 'display_data';\n",
              "        await google.colab.output.renderOutput(dataTable, element);\n",
              "        const docLink = document.createElement('div');\n",
              "        docLink.innerHTML = docLinkHtml;\n",
              "        element.appendChild(docLink);\n",
              "      }\n",
              "    </script>\n",
              "  </div>\n",
              "\n",
              "\n",
              "    </div>\n",
              "  </div>\n"
            ],
            "application/vnd.google.colaboratory.intrinsic+json": {
              "type": "dataframe",
              "variable_name": "movies",
              "summary": "{\n  \"name\": \"movies\",\n  \"rows\": 739,\n  \"fields\": [\n    {\n      \"column\": \"movie_id\",\n      \"properties\": {\n        \"dtype\": \"number\",\n        \"std\": 71530,\n        \"min\": 12,\n        \"max\": 417859,\n        \"num_unique_values\": 739,\n        \"samples\": [\n          102651,\n          13475,\n          14160\n        ],\n        \"semantic_type\": \"\",\n        \"description\": \"\"\n      }\n    },\n    {\n      \"column\": \"title\",\n      \"properties\": {\n        \"dtype\": \"string\",\n        \"num_unique_values\": 739,\n        \"samples\": [\n          \"Maleficent\",\n          \"Star Trek\",\n          \"Up\"\n        ],\n        \"semantic_type\": \"\",\n        \"description\": \"\"\n      }\n    },\n    {\n      \"column\": \"overview\",\n      \"properties\": {\n        \"dtype\": \"string\",\n        \"num_unique_values\": 739,\n        \"samples\": [\n          \"The untold story of Disney's most iconic villain from the 1959 classic 'Sleeping Beauty'. A beautiful, pure-hearted young woman, Maleficent has an idyllic life growing up in a peaceable forest kingdom, until one day when an invading army threatens the harmony of the land.  Maleficent rises to be the land's fiercest protector, but she ultimately suffers a ruthless betrayal ? an act that begins to turn her heart into stone. Bent on revenge, Maleficent faces an epic battle with the invading King's successor and, as a result, places a curse upon his newborn infant Aurora. As the child grows, Maleficent realizes that Aurora holds the key to peace in the kingdom - and to Maleficent's true happiness as well.\",\n          \"The fate of the galaxy rests in the hands of bitter rivals. One, James Kirk, is a delinquent, thrill-seeking Iowa farm boy. The other, Spock, a Vulcan, was raised in a logic-based society that rejects all emotion. As fiery instinct clashes with calm reason, their unlikely but powerful partnership is the only thing capable of leading their crew through unimaginable danger, boldly going where no one has gone before. The human adventure has begun again.\",\n          \"Carl Fredricksen spent his entire life dreaming of exploring the globe and experiencing life to its fullest. But at age 78, life seems to have passed him by, until a twist of fate (and a persistent 8-year old Wilderness Explorer named Russell) gives him a new lease on life.\"\n        ],\n        \"semantic_type\": \"\",\n        \"description\": \"\"\n      }\n    },\n    {\n      \"column\": \"genres\",\n      \"properties\": {\n        \"dtype\": \"object\",\n        \"semantic_type\": \"\",\n        \"description\": \"\"\n      }\n    },\n    {\n      \"column\": \"keywords\",\n      \"properties\": {\n        \"dtype\": \"object\",\n        \"semantic_type\": \"\",\n        \"description\": \"\"\n      }\n    },\n    {\n      \"column\": \"cast\",\n      \"properties\": {\n        \"dtype\": \"object\",\n        \"semantic_type\": \"\",\n        \"description\": \"\"\n      }\n    },\n    {\n      \"column\": \"crew\",\n      \"properties\": {\n        \"dtype\": \"string\",\n        \"num_unique_values\": 739,\n        \"samples\": [\n          \"[{\\\"credit_id\\\": \\\"52fe4a0cc3a36847f81b5c9f\\\", \\\"department\\\": \\\"Production\\\", \\\"gender\\\": 0, \\\"id\\\": 8386, \\\"job\\\": \\\"Executive Producer\\\", \\\"name\\\": \\\"Sarah Bradshaw\\\"}, {\\\"credit_id\\\": \\\"543eb4b5c3a368250a0028c5\\\", \\\"department\\\": \\\"Sound\\\", \\\"gender\\\": 2, \\\"id\\\": 1213, \\\"job\\\": \\\"Original Music Composer\\\", \\\"name\\\": \\\"James Newton Howard\\\"}, {\\\"credit_id\\\": \\\"55a77d9592514125da0011b2\\\", \\\"department\\\": \\\"Camera\\\", \\\"gender\\\": 2, \\\"id\\\": 4501, \\\"job\\\": \\\"Director of Photography\\\", \\\"name\\\": \\\"Dean Semler\\\"}, {\\\"credit_id\\\": \\\"55a77dc39251411e18001479\\\", \\\"department\\\": \\\"Costume & Make-Up\\\", \\\"gender\\\": 1, \\\"id\\\": 6688, \\\"job\\\": \\\"Costume Design\\\", \\\"name\\\": \\\"Anna B. Sheppard\\\"}, {\\\"credit_id\\\": \\\"58cf90499251415a39031f8d\\\", \\\"department\\\": \\\"Production\\\", \\\"gender\\\": 1, \\\"id\\\": 11701, \\\"job\\\": \\\"Executive Producer\\\", \\\"name\\\": \\\"Angelina Jolie\\\"}, {\\\"credit_id\\\": \\\"52fe4a0cc3a36847f81b5ca5\\\", \\\"department\\\": \\\"Production\\\", \\\"gender\\\": 2, \\\"id\\\": 12824, \\\"job\\\": \\\"Producer\\\", \\\"name\\\": \\\"Don Hahn\\\"}, {\\\"credit_id\\\": \\\"52fe4a0cc3a36847f81b5cab\\\", \\\"department\\\": \\\"Production\\\", \\\"gender\\\": 1, \\\"id\\\": 23424, \\\"job\\\": \\\"Casting\\\", \\\"name\\\": \\\"Lucy Bevan\\\"}, {\\\"credit_id\\\": \\\"52fe4a0cc3a36847f81b5cbf\\\", \\\"department\\\": \\\"Writing\\\", \\\"gender\\\": 1, \\\"id\\\": 38792, \\\"job\\\": \\\"Screenplay\\\", \\\"name\\\": \\\"Linda Woolverton\\\"}, {\\\"credit_id\\\": \\\"52fe4a0cc3a36847f81b5cb9\\\", \\\"department\\\": \\\"Directing\\\", \\\"gender\\\": 0, \\\"id\\\": 1032536, \\\"job\\\": \\\"Director\\\", \\\"name\\\": \\\"Robert Stromberg\\\"}, {\\\"credit_id\\\": \\\"554fb323c3a3681870005427\\\", \\\"department\\\": \\\"Crew\\\", \\\"gender\\\": 0, \\\"id\\\": 1447542, \\\"job\\\": \\\"Compositors\\\", \\\"name\\\": \\\"Erik Classen\\\"}, {\\\"credit_id\\\": \\\"55468e5bc3a3680cd700770d\\\", \\\"department\\\": \\\"Visual Effects\\\", \\\"gender\\\": 0, \\\"id\\\": 1451684, \\\"job\\\": \\\"Visual Effects\\\", \\\"name\\\": \\\"Matthew Maners\\\"}, {\\\"credit_id\\\": \\\"552c5c7892514174db0002cf\\\", \\\"department\\\": \\\"Visual Effects\\\", \\\"gender\\\": 0, \\\"id\\\": 1452995, \\\"job\\\": \\\"Animation\\\", \\\"name\\\": \\\"Stewart Alves\\\"}, {\\\"credit_id\\\": \\\"552f5f15c3a368220e0014a0\\\", \\\"department\\\": \\\"Directing\\\", \\\"gender\\\": 0, \\\"id\\\": 1454884, \\\"job\\\": \\\"Assistant Director\\\", \\\"name\\\": \\\"Cedric Nicolas-Troyan\\\"}, {\\\"credit_id\\\": \\\"554ec43b92514162f5000072\\\", \\\"department\\\": \\\"Crew\\\", \\\"gender\\\": 0, \\\"id\\\": 1460603, \\\"job\\\": \\\"Compositors\\\", \\\"name\\\": \\\"Dhumal Sagar\\\"}]\",\n          \"[{\\\"credit_id\\\": \\\"53748f960e0a267c5f003884\\\", \\\"department\\\": \\\"Costume & Make-Up\\\", \\\"gender\\\": 2, \\\"id\\\": 605, \\\"job\\\": \\\"Costume Design\\\", \\\"name\\\": \\\"Michael Kaplan\\\"}, {\\\"credit_id\\\": \\\"57ec8eebc3a3683a850026a8\\\", \\\"department\\\": \\\"Writing\\\", \\\"gender\\\": 2, \\\"id\\\": 1745, \\\"job\\\": \\\"Characters\\\", \\\"name\\\": \\\"Gene Roddenberry\\\"}, {\\\"credit_id\\\": \\\"52fe456d9251416c750561f7\\\", \\\"department\\\": \\\"Production\\\", \\\"gender\\\": 1, \\\"id\\\": 6052, \\\"job\\\": \\\"Casting\\\", \\\"name\\\": \\\"April Webster\\\"}, {\\\"credit_id\\\": \\\"52fe456c9251416c75056141\\\", \\\"department\\\": \\\"Directing\\\", \\\"gender\\\": 2, \\\"id\\\": 15344, \\\"job\\\": \\\"Director\\\", \\\"name\\\": \\\"J.J. Abrams\\\"}, {\\\"credit_id\\\": \\\"52fe456c9251416c75056147\\\", \\\"department\\\": \\\"Production\\\", \\\"gender\\\": 2, \\\"id\\\": 15344, \\\"job\\\": \\\"Producer\\\", \\\"name\\\": \\\"J.J. Abrams\\\"}, {\\\"credit_id\\\": \\\"52fe456c9251416c75056159\\\", \\\"department\\\": \\\"Production\\\", \\\"gender\\\": 2, \\\"id\\\": 15345, \\\"job\\\": \\\"Executive Producer\\\", \\\"name\\\": \\\"Alex Kurtzman\\\"}, {\\\"credit_id\\\": \\\"52fe456e9251416c7505643f\\\", \\\"department\\\": \\\"Writing\\\", \\\"gender\\\": 2, \\\"id\\\": 15345, \\\"job\\\": \\\"Writer\\\", \\\"name\\\": \\\"Alex Kurtzman\\\"}, {\\\"credit_id\\\": \\\"52fe456c9251416c7505615f\\\", \\\"department\\\": \\\"Production\\\", \\\"gender\\\": 2, \\\"id\\\": 15346, \\\"job\\\": \\\"Executive Producer\\\", \\\"name\\\": \\\"Roberto Orci\\\"}, {\\\"credit_id\\\": \\\"52fe456e9251416c75056439\\\", \\\"department\\\": \\\"Writing\\\", \\\"gender\\\": 2, \\\"id\\\": 15346, \\\"job\\\": \\\"Writer\\\", \\\"name\\\": \\\"Roberto Orci\\\"}, {\\\"credit_id\\\": \\\"52fe456e9251416c75056445\\\", \\\"department\\\": \\\"Sound\\\", \\\"gender\\\": 2, \\\"id\\\": 15347, \\\"job\\\": \\\"Original Music Composer\\\", \\\"name\\\": \\\"Michael Giacchino\\\"}, {\\\"credit_id\\\": \\\"52fe456d9251416c750561e5\\\", \\\"department\\\": \\\"Camera\\\", \\\"gender\\\": 0, \\\"id\\\": 15348, \\\"job\\\": \\\"Director of Photography\\\", \\\"name\\\": \\\"Daniel Mindel\\\"}, {\\\"credit_id\\\": \\\"52fe456d9251416c750561eb\\\", \\\"department\\\": \\\"Editing\\\", \\\"gender\\\": 1, \\\"id\\\": 15349, \\\"job\\\": \\\"Editor\\\", \\\"name\\\": \\\"Maryann Brandon\\\"}, {\\\"credit_id\\\": \\\"52fe456d9251416c750561f1\\\", \\\"department\\\": \\\"Editing\\\", \\\"gender\\\": 1, \\\"id\\\": 15350, \\\"job\\\": \\\"Editor\\\", \\\"name\\\": \\\"Mary Jo Markey\\\"}, {\\\"credit_id\\\": \\\"52fe456d9251416c75056203\\\", \\\"department\\\": \\\"Art\\\", \\\"gender\\\": 2, \\\"id\\\": 15351, \\\"job\\\": \\\"Production Design\\\", \\\"name\\\": \\\"Scott Chambliss\\\"}, {\\\"credit_id\\\": \\\"537490870e0a267c670036c2\\\", \\\"department\\\": \\\"Art\\\", \\\"gender\\\": 1, \\\"id\\\": 15352, \\\"job\\\": \\\"Set Decoration\\\", \\\"name\\\": \\\"Karen Manthey\\\"}, {\\\"credit_id\\\": \\\"537490520e0a267c550037e3\\\", \\\"department\\\": \\\"Art\\\", \\\"gender\\\": 0, \\\"id\\\": 21568, \\\"job\\\": \\\"Art Direction\\\", \\\"name\\\": \\\"Keith P. Cunningham\\\"}, {\\\"credit_id\\\": \\\"52fe456c9251416c75056153\\\", \\\"department\\\": \\\"Production\\\", \\\"gender\\\": 2, \\\"id\\\": 40592, \\\"job\\\": \\\"Executive Producer\\\", \\\"name\\\": \\\"Jeffrey Chernov\\\"}, {\\\"credit_id\\\": \\\"52fe456c9251416c7505614d\\\", \\\"department\\\": \\\"Production\\\", \\\"gender\\\": 2, \\\"id\\\": 28977, \\\"job\\\": \\\"Executive Producer\\\", \\\"name\\\": \\\"Bryan Burk\\\"}, {\\\"credit_id\\\": \\\"52fe456c9251416c75056165\\\", \\\"department\\\": \\\"Production\\\", \\\"gender\\\": 2, \\\"id\\\": 28974, \\\"job\\\": \\\"Producer\\\", \\\"name\\\": \\\"Damon Lindelof\\\"}, {\\\"credit_id\\\": \\\"556550c69251413549000dfd\\\", \\\"department\\\": \\\"Crew\\\", \\\"gender\\\": 2, \\\"id\\\": 150194, \\\"job\\\": \\\"Stunts\\\", \\\"name\\\": \\\"Damion Poitier\\\"}, {\\\"credit_id\\\": \\\"52fe456d9251416c750561fd\\\", \\\"department\\\": \\\"Production\\\", \\\"gender\\\": 0, \\\"id\\\": 765144, \\\"job\\\": \\\"Casting\\\", \\\"name\\\": \\\"Alyssa Weisberg\\\"}, {\\\"credit_id\\\": \\\"53748fdb0e0a267c5c0038b0\\\", \\\"department\\\": \\\"Costume & Make-Up\\\", \\\"gender\\\": 0, \\\"id\\\": 1319743, \\\"job\\\": \\\"Makeup Department Head\\\", \\\"name\\\": \\\"Mindy Hall\\\"}, {\\\"credit_id\\\": \\\"537490140e0a267c670036bc\\\", \\\"department\\\": \\\"Costume & Make-Up\\\", \\\"gender\\\": 0, \\\"id\\\": 1319744, \\\"job\\\": \\\"Costume Supervisor\\\", \\\"name\\\": \\\"Linda Matthews\\\"}, {\\\"credit_id\\\": \\\"55519a35c3a3683d3b0000c3\\\", \\\"department\\\": \\\"Crew\\\", \\\"gender\\\": 0, \\\"id\\\": 1463568, \\\"job\\\": \\\"Digital Effects Supervisor\\\", \\\"name\\\": \\\"Mike Marcuzzi\\\"}]\",\n          \"[{\\\"credit_id\\\": \\\"5683b5f8c3a3684be90168e1\\\", \\\"department\\\": \\\"Production\\\", \\\"gender\\\": 2, \\\"id\\\": 7, \\\"job\\\": \\\"Executive Producer\\\", \\\"name\\\": \\\"Andrew Stanton\\\"}, {\\\"credit_id\\\": \\\"52fe45d19251416c75063871\\\", \\\"department\\\": \\\"Writing\\\", \\\"gender\\\": 2, \\\"id\\\": 10, \\\"job\\\": \\\"Screenplay\\\", \\\"name\\\": \\\"Bob Peterson\\\"}, {\\\"credit_id\\\": \\\"5882575a925141302b01110e\\\", \\\"department\\\": \\\"Directing\\\", \\\"gender\\\": 2, \\\"id\\\": 10, \\\"job\\\": \\\"Co-Director\\\", \\\"name\\\": \\\"Bob Peterson\\\"}, {\\\"credit_id\\\": \\\"568c7cf4c3a36860e9030b51\\\", \\\"department\\\": \\\"Writing\\\", \\\"gender\\\": 2, \\\"id\\\": 10, \\\"job\\\": \\\"Story\\\", \\\"name\\\": \\\"Bob Peterson\\\"}, {\\\"credit_id\\\": \\\"5683b62fc3a3684be90168f3\\\", \\\"department\\\": \\\"Production\\\", \\\"gender\\\": 2, \\\"id\\\": 7879, \\\"job\\\": \\\"Executive Producer\\\", \\\"name\\\": \\\"John Lasseter\\\"}, {\\\"credit_id\\\": \\\"588259ca9251413034011489\\\", \\\"department\\\": \\\"Lighting\\\", \\\"gender\\\": 2, \\\"id\\\": 7883, \\\"job\\\": \\\"Lighting Director\\\", \\\"name\\\": \\\"Ralph Eggleston\\\"}, {\\\"credit_id\\\": \\\"588259d3925141302b0112ae\\\", \\\"department\\\": \\\"Lighting\\\", \\\"gender\\\": 0, \\\"id\\\": 7888, \\\"job\\\": \\\"Lighting Director\\\", \\\"name\\\": \\\"Harley Jessup\\\"}, {\\\"credit_id\\\": \\\"572297499251413eaf0008d0\\\", \\\"department\\\": \\\"Camera\\\", \\\"gender\\\": 0, \\\"id\\\": 7894, \\\"job\\\": \\\"Director of Photography\\\", \\\"name\\\": \\\"Jean-Claude Kalache\\\"}, {\\\"credit_id\\\": \\\"57229461c3a3682d43000888\\\", \\\"department\\\": \\\"Art\\\", \\\"gender\\\": 0, \\\"id\\\": 7927, \\\"job\\\": \\\"Production Design\\\", \\\"name\\\": \\\"Ricky Nierva\\\"}, {\\\"credit_id\\\": \\\"572f6eef92514173a1003135\\\", \\\"department\\\": \\\"Visual Effects\\\", \\\"gender\\\": 0, \\\"id\\\": 7929, \\\"job\\\": \\\"Animation\\\", \\\"name\\\": \\\"Angus MacLane\\\"}, {\\\"credit_id\\\": \\\"5683b65d92514132db0152f4\\\", \\\"department\\\": \\\"Production\\\", \\\"gender\\\": 0, \\\"id\\\": 7940, \\\"job\\\": \\\"Producer\\\", \\\"name\\\": \\\"Jonas Rivera\\\"}, {\\\"credit_id\\\": \\\"588259b39251413037010f5e\\\", \\\"department\\\": \\\"Lighting\\\", \\\"gender\\\": 2, \\\"id\\\": 7962, \\\"job\\\": \\\"Lighting Director\\\", \\\"name\\\": \\\"Lou Romano\\\"}, {\\\"credit_id\\\": \\\"5882581ac3a368147d00fb1a\\\", \\\"department\\\": \\\"Camera\\\", \\\"gender\\\": 0, \\\"id\\\": 7975, \\\"job\\\": \\\"Director of Photography\\\", \\\"name\\\": \\\"Patrick Lin\\\"}, {\\\"credit_id\\\": \\\"58825c699251413034011641\\\", \\\"department\\\": \\\"Directing\\\", \\\"gender\\\": 0, \\\"id\\\": 7979, \\\"job\\\": \\\"Layout\\\", \\\"name\\\": \\\"Gregg Olsson\\\"}, {\\\"credit_id\\\": \\\"58825c57c3a368144f010266\\\", \\\"department\\\": \\\"Directing\\\", \\\"gender\\\": 2, \\\"id\\\": 7981, \\\"job\\\": \\\"Layout\\\", \\\"name\\\": \\\"Robert Anderson\\\"}, {\\\"credit_id\\\": \\\"576d6a63c3a36874e0001af2\\\", \\\"department\\\": \\\"Directing\\\", \\\"gender\\\": 0, \\\"id\\\": 7984, \\\"job\\\": \\\"Layout\\\", \\\"name\\\": \\\"Mark Sanford\\\"}, {\\\"credit_id\\\": \\\"588257f6c3a36814700116ee\\\", \\\"department\\\": \\\"Crew\\\", \\\"gender\\\": 2, \\\"id\\\": 8011, \\\"job\\\": \\\"Supervising Animator\\\", \\\"name\\\": \\\"Scott Clark\\\"}, {\\\"credit_id\\\": \\\"58825ce2c3a3681443010a0e\\\", \\\"department\\\": \\\"Visual Effects\\\", \\\"gender\\\": 0, \\\"id\\\": 8015, \\\"job\\\": \\\"Animation Director\\\", \\\"name\\\": \\\"Shawn Krause\\\"}, {\\\"credit_id\\\": \\\"58825d36c3a3681460012187\\\", \\\"department\\\": \\\"Visual Effects\\\", \\\"gender\\\": 0, \\\"id\\\": 8026, \\\"job\\\": \\\"Animation\\\", \\\"name\\\": \\\"Brett Coderre\\\"}, {\\\"credit_id\\\": \\\"58825d54c3a3681467010ae0\\\", \\\"department\\\": \\\"Visual Effects\\\", \\\"gender\\\": 0, \\\"id\\\": 8028, \\\"job\\\": \\\"Animation\\\", \\\"name\\\": \\\"Doug Dooley\\\"}, {\\\"credit_id\\\": \\\"58825d489251413028010cec\\\", \\\"department\\\": \\\"Visual Effects\\\", \\\"gender\\\": 0, \\\"id\\\": 8033, \\\"job\\\": \\\"Animation\\\", \\\"name\\\": \\\"Tim Crawfurd\\\"}, {\\\"credit_id\\\": \\\"58825d6292514130370111ee\\\", \\\"department\\\": \\\"Visual Effects\\\", \\\"gender\\\": 0, \\\"id\\\": 8034, \\\"job\\\": \\\"Animation\\\", \\\"name\\\": \\\"Ike Feldman\\\"}, {\\\"credit_id\\\": \\\"5724e104c3a368423a00220b\\\", \\\"department\\\": \\\"Visual Effects\\\", \\\"gender\\\": 0, \\\"id\\\": 8042, \\\"job\\\": \\\"Animation\\\", \\\"name\\\": \\\"Andy Schmidt\\\"}, {\\\"credit_id\\\": \\\"58825cec92514130340116b6\\\", \\\"department\\\": \\\"Visual Effects\\\", \\\"gender\\\": 0, \\\"id\\\": 8046, \\\"job\\\": \\\"Animation Director\\\", \\\"name\\\": \\\"Dave Mullins\\\"}, {\\\"credit_id\\\": \\\"58825cf592514130340116be\\\", \\\"department\\\": \\\"Visual Effects\\\", \\\"gender\\\": 0, \\\"id\\\": 8053, \\\"job\\\": \\\"Animation Director\\\", \\\"name\\\": \\\"Michael Venturini\\\"}, {\\\"credit_id\\\": \\\"58825b879251413037011097\\\", \\\"department\\\": \\\"Editing\\\", \\\"gender\\\": 0, \\\"id\\\": 8066, \\\"job\\\": \\\"Editor\\\", \\\"name\\\": \\\"Katherine Ringgold\\\"}, {\\\"credit_id\\\": \\\"572296829251414d330006fe\\\", \\\"department\\\": \\\"Production\\\", \\\"gender\\\": 0, \\\"id\\\": 8103, \\\"job\\\": \\\"Production Manager\\\", \\\"name\\\": \\\"Mark Nielsen\\\"}, {\\\"credit_id\\\": \\\"588257cd925141302e010fd8\\\", \\\"department\\\": \\\"Crew\\\", \\\"gender\\\": 0, \\\"id\\\": 8115, \\\"job\\\": \\\"Supervising Technical Director\\\", \\\"name\\\": \\\"Steve May\\\"}, {\\\"credit_id\\\": \\\"5722958bc3a3682d1e0007fc\\\", \\\"department\\\": \\\"Crew\\\", \\\"gender\\\": 0, \\\"id\\\": 8153, \\\"job\\\": \\\"Post Production Supervisor\\\", \\\"name\\\": \\\"Paul Cichocki\\\"}, {\\\"credit_id\\\": \\\"5683b71b9251412e52015b56\\\", \\\"department\\\": \\\"Sound\\\", \\\"gender\\\": 0, \\\"id\\\": 8158, \\\"job\\\": \\\"Supervising Sound Editor\\\", \\\"name\\\": \\\"Michael Silvers\\\"}, {\\\"credit_id\\\": \\\"568c7cdf92514132db02e56a\\\", \\\"department\\\": \\\"Writing\\\", \\\"gender\\\": 2, \\\"id\\\": 12890, \\\"job\\\": \\\"Screenplay\\\", \\\"name\\\": \\\"Pete Docter\\\"}, {\\\"credit_id\\\": \\\"568c7ce99251412e5202ea9b\\\", \\\"department\\\": \\\"Writing\\\", \\\"gender\\\": 2, \\\"id\\\": 12890, \\\"job\\\": \\\"Story\\\", \\\"name\\\": \\\"Pete Docter\\\"}, {\\\"credit_id\\\": \\\"5692ed0e9251414453000a9c\\\", \\\"department\\\": \\\"Directing\\\", \\\"gender\\\": 2, \\\"id\\\": 12890, \\\"job\\\": \\\"Director\\\", \\\"name\\\": \\\"Pete Docter\\\"}, {\\\"credit_id\\\": \\\"5683b6e39251412e52015b4b\\\", \\\"department\\\": \\\"Sound\\\", \\\"gender\\\": 1, \\\"id\\\": 15893, \\\"job\\\": \\\"Sound Effects Editor\\\", \\\"name\\\": \\\"Teresa Eckton\\\"}, {\\\"credit_id\\\": \\\"5683b69d9251417def01767e\\\", \\\"department\\\": \\\"Sound\\\", \\\"gender\\\": 2, \\\"id\\\": 15894, \\\"job\\\": \\\"Sound Re-Recording Mixer\\\", \\\"name\\\": \\\"Tom Myers\\\"}, {\\\"credit_id\\\": \\\"5683b6a592514131df014a8b\\\", \\\"department\\\": \\\"Sound\\\", \\\"gender\\\": 2, \\\"id\\\": 15894, \\\"job\\\": \\\"Sound Designer\\\", \\\"name\\\": \\\"Tom Myers\\\"}, {\\\"credit_id\\\": \\\"5683b6b09251412e52015b40\\\", \\\"department\\\": \\\"Sound\\\", \\\"gender\\\": 2, \\\"id\\\": 15894, \\\"job\\\": \\\"Supervising Sound Editor\\\", \\\"name\\\": \\\"Tom Myers\\\"}, {\\\"credit_id\\\": \\\"57dc208e9251412ee3000196\\\", \\\"department\\\": \\\"Visual Effects\\\", \\\"gender\\\": 0, \\\"id\\\": 15895, \\\"job\\\": \\\"Shading\\\", \\\"name\\\": \\\"David Munier\\\"}, {\\\"credit_id\\\": \\\"5882578bc3a368147d00fabb\\\", \\\"department\\\": \\\"Sound\\\", \\\"gender\\\": 2, \\\"id\\\": 15347, \\\"job\\\": \\\"Music\\\", \\\"name\\\": \\\"Michael Giacchino\\\"}, {\\\"credit_id\\\": \\\"5724db2e92514155c30033ef\\\", \\\"department\\\": \\\"Sound\\\", \\\"gender\\\": 2, \\\"id\\\": 15354, \\\"job\\\": \\\"Music Editor\\\", \\\"name\\\": \\\"Stephen M. Davis\\\"}, {\\\"credit_id\\\": \\\"568c7d03c3a3680e01009b81\\\", \\\"department\\\": \\\"Writing\\\", \\\"gender\\\": 0, \\\"id\\\": 17867, \\\"job\\\": \\\"Story\\\", \\\"name\\\": \\\"Tom McCarthy\\\"}, {\\\"credit_id\\\": \\\"588260489251413028010eef\\\", \\\"department\\\": \\\"Sound\\\", \\\"gender\\\": 0, \\\"id\\\": 28241, \\\"job\\\": \\\"Orchestrator\\\", \\\"name\\\": \\\"Tim Simonec\\\"}, {\\\"credit_id\\\": \\\"5683b865c3a368227b00cfda\\\", \\\"department\\\": \\\"Production\\\", \\\"gender\\\": 2, \\\"id\\\": 57673, \\\"job\\\": \\\"Casting\\\", \\\"name\\\": \\\"Kevin Reher\\\"}, {\\\"credit_id\\\": \\\"5772a56dc3a36846dd00029e\\\", \\\"department\\\": \\\"Directing\\\", \\\"gender\\\": 0, \\\"id\\\": 72972, \\\"job\\\": \\\"Layout\\\", \\\"name\\\": \\\"Andrew Cadelago\\\"}, {\\\"credit_id\\\": \\\"57681c359251417d1300077b\\\", \\\"department\\\": \\\"Sound\\\", \\\"gender\\\": 2, \\\"id\\\": 74811, \\\"job\\\": \\\"Sound Mixer\\\", \\\"name\\\": \\\"Dan Wallin\\\"}, {\\\"credit_id\\\": \\\"57229c5c9251413eaf00096e\\\", \\\"department\\\": \\\"Visual Effects\\\", \\\"gender\\\": 2, \\\"id\\\": 107704, \\\"job\\\": \\\"Animation\\\", \\\"name\\\": \\\"Rodrigo Blaas\\\"}, {\\\"credit_id\\\": \\\"588260079251413028010ec6\\\", \\\"department\\\": \\\"Sound\\\", \\\"gender\\\": 0, \\\"id\\\": 138617, \\\"job\\\": \\\"Foley Editor\\\", \\\"name\\\": \\\"Jonathan Null\\\"}, {\\\"credit_id\\\": \\\"58826083c3a368144f010517\\\", \\\"department\\\": \\\"Crew\\\", \\\"gender\\\": 0, \\\"id\\\": 953331, \\\"job\\\": \\\"Executive Music Producer\\\", \\\"name\\\": \\\"Chris Montan\\\"}, {\\\"credit_id\\\": \\\"5683b87dc3a36860e9017128\\\", \\\"department\\\": \\\"Production\\\", \\\"gender\\\": 1, \\\"id\\\": 963497, \\\"job\\\": \\\"Casting\\\", \\\"name\\\": \\\"Natalie Lyon\\\"}, {\\\"credit_id\\\": \\\"5683b671c3a3685f89002fd7\\\", \\\"department\\\": \\\"Production\\\", \\\"gender\\\": 1, \\\"id\\\": 970529, \\\"job\\\": \\\"Associate Producer\\\", \\\"name\\\": \\\"Denise Ream\\\"}, {\\\"credit_id\\\": \\\"572bd499925141388e0002f6\\\", \\\"department\\\": \\\"Art\\\", \\\"gender\\\": 0, \\\"id\\\": 1211220, \\\"job\\\": \\\"Sculptor\\\", \\\"name\\\": \\\"Greg Dykstra\\\"}, {\\\"credit_id\\\": \\\"57327728c3a3686957000525\\\", \\\"department\\\": \\\"Sound\\\", \\\"gender\\\": 0, \\\"id\\\": 1291315, \\\"job\\\": \\\"Music Supervisor\\\", \\\"name\\\": \\\"Tom MacDougall\\\"}, {\\\"credit_id\\\": \\\"5724de2592514118af0022a6\\\", \\\"department\\\": \\\"Visual Effects\\\", \\\"gender\\\": 2, \\\"id\\\": 1299484, \\\"job\\\": \\\"Visual Effects Supervisor\\\", \\\"name\\\": \\\"Bob Whitehill\\\"}, {\\\"credit_id\\\": \\\"5683b68d9251414ecb008c1d\\\", \\\"department\\\": \\\"Sound\\\", \\\"gender\\\": 0, \\\"id\\\": 1378828, \\\"job\\\": \\\"Sound Re-Recording Mixer\\\", \\\"name\\\": \\\"Michael Semanick\\\"}, {\\\"credit_id\\\": \\\"58825d2dc3a3681470011aac\\\", \\\"department\\\": \\\"Visual Effects\\\", \\\"gender\\\": 0, \\\"id\\\": 1397397, \\\"job\\\": \\\"Animation\\\", \\\"name\\\": \\\"Louis Clichy\\\"}, {\\\"credit_id\\\": \\\"576eb50dc3a3683c240045bc\\\", \\\"department\\\": \\\"Visual Effects\\\", \\\"gender\\\": 0, \\\"id\\\": 1408648, \\\"job\\\": \\\"Animation\\\", \\\"name\\\": \\\"Jason Boose\\\"}, {\\\"credit_id\\\": \\\"58825ffc92514130340118b5\\\", \\\"department\\\": \\\"Sound\\\", \\\"gender\\\": 0, \\\"id\\\": 1412984, \\\"job\\\": \\\"Foley Editor\\\", \\\"name\\\": \\\"Pascal Garneau\\\"}, {\\\"credit_id\\\": \\\"57229ab0c3a3682d43000934\\\", \\\"department\\\": \\\"Visual Effects\\\", \\\"gender\\\": 0, \\\"id\\\": 1413096, \\\"job\\\": \\\"Animation\\\", \\\"name\\\": \\\"Simon Allen\\\"}, {\\\"credit_id\\\": \\\"5683b6ee9251412e52015b4f\\\", \\\"department\\\": \\\"Sound\\\", \\\"gender\\\": 0, \\\"id\\\": 1414177, \\\"job\\\": \\\"Sound Effects Editor\\\", \\\"name\\\": \\\"J.R. Grubbs\\\"}, {\\\"credit_id\\\": \\\"5683b6c6c3a3684bcc0188eb\\\", \\\"department\\\": \\\"Sound\\\", \\\"gender\\\": 0, \\\"id\\\": 1422411, \\\"job\\\": \\\"Sound Effects Editor\\\", \\\"name\\\": \\\"Al Nelson\\\"}, {\\\"credit_id\\\": \\\"576d7329c3a36874e0001f52\\\", \\\"department\\\": \\\"Editing\\\", \\\"gender\\\": 0, \\\"id\\\": 1435597, \\\"job\\\": \\\"Additional Editorial Assistant\\\", \\\"name\\\": \\\"Kevin Rose-Williams\\\"}, {\\\"credit_id\\\": \\\"58825b1a925141302b01139b\\\", \\\"department\\\": \\\"Art\\\", \\\"gender\\\": 0, \\\"id\\\": 1443472, \\\"job\\\": \\\"Art Department Coordinator\\\", \\\"name\\\": \\\"Erik Langley\\\"}, {\\\"credit_id\\\": \\\"57dc1e639251412ef30000e3\\\", \\\"department\\\": \\\"Visual Effects\\\", \\\"gender\\\": 0, \\\"id\\\": 1443479, \\\"job\\\": \\\"Animation Manager\\\", \\\"name\\\": \\\"A.J. Riebli III\\\"}, {\\\"credit_id\\\": \\\"5525950a92514166c1005b49\\\", \\\"department\\\": \\\"Editing\\\", \\\"gender\\\": 0, \\\"id\\\": 1450317, \\\"job\\\": \\\"Editorial Manager\\\", \\\"name\\\": \\\"Laura Leganza Reynolds\\\"}, {\\\"credit_id\\\": \\\"572297249251413eaf0008ca\\\", \\\"department\\\": \\\"Camera\\\", \\\"gender\\\": 2, \\\"id\\\": 1451703, \\\"job\\\": \\\"Camera Operator\\\", \\\"name\\\": \\\"Mark Dinicola\\\"}, {\\\"credit_id\\\": \\\"572f699fc3a36874eb00061e\\\", \\\"department\\\": \\\"Crew\\\", \\\"gender\\\": 0, \\\"id\\\": 1484178, \\\"job\\\": \\\"Sound Design Assistant\\\", \\\"name\\\": \\\"Dustin Cawood\\\"}, {\\\"credit_id\\\": \\\"5683b5d692514131df014a5b\\\", \\\"department\\\": \\\"Editing\\\", \\\"gender\\\": 0, \\\"id\\\": 1516156, \\\"job\\\": \\\"Editor\\\", \\\"name\\\": \\\"Kevin Nolting\\\"}, {\\\"credit_id\\\": \\\"5882609a925141303401191a\\\", \\\"department\\\": \\\"Editing\\\", \\\"gender\\\": 0, \\\"id\\\": 1552873, \\\"job\\\": \\\"Color Timer\\\", \\\"name\\\": \\\"Terry Claborn\\\"}, {\\\"credit_id\\\": \\\"5683b72a925141133400e990\\\", \\\"department\\\": \\\"Directing\\\", \\\"gender\\\": 0, \\\"id\\\": 1555650, \\\"job\\\": \\\"Script Supervisor\\\", \\\"name\\\": \\\"Lorien McKenna\\\"}, {\\\"credit_id\\\": \\\"58825b92c3a36814670109c9\\\", \\\"department\\\": \\\"Editing\\\", \\\"gender\\\": 0, \\\"id\\\": 1556629, \\\"job\\\": \\\"Associate Editor\\\", \\\"name\\\": \\\"Gregory Amundson\\\"}, {\\\"credit_id\\\": \\\"5882601192514130370113da\\\", \\\"department\\\": \\\"Sound\\\", \\\"gender\\\": 0, \\\"id\\\": 1556632, \\\"job\\\": \\\"ADR Editor\\\", \\\"name\\\": \\\"Steve Slanec\\\"}, {\\\"credit_id\\\": \\\"58825ae89251413037011023\\\", \\\"department\\\": \\\"Art\\\", \\\"gender\\\": 1, \\\"id\\\": 1605896, \\\"job\\\": \\\"Art Department Coordinator\\\", \\\"name\\\": \\\"Stephanie Hamilton\\\"}, {\\\"credit_id\\\": \\\"58825d91c3a3681467010b0c\\\", \\\"department\\\": \\\"Visual Effects\\\", \\\"gender\\\": 0, \\\"id\\\": 1711834, \\\"job\\\": \\\"Animation\\\", \\\"name\\\": \\\"Aaron Hartline\\\"}, {\\\"credit_id\\\": \\\"58825d0fc3a3681470011a91\\\", \\\"department\\\": \\\"Visual Effects\\\", \\\"gender\\\": 0, \\\"id\\\": 1711836, \\\"job\\\": \\\"Animation\\\", \\\"name\\\": \\\"Shaun Chacko\\\"}, {\\\"credit_id\\\": \\\"588259e5c3a368144f0100bf\\\", \\\"department\\\": \\\"Crew\\\", \\\"gender\\\": 0, \\\"id\\\": 1742706, \\\"job\\\": \\\"Production Artist\\\", \\\"name\\\": \\\"Daniel Arriaga\\\"}, {\\\"credit_id\\\": \\\"588259efc3a36814430107f6\\\", \\\"department\\\": \\\"Crew\\\", \\\"gender\\\": 0, \\\"id\\\": 1742707, \\\"job\\\": \\\"Production Artist\\\", \\\"name\\\": \\\"Noah Klocek\\\"}, {\\\"credit_id\\\": \\\"58825a3bc3a3681460011f59\\\", \\\"department\\\": \\\"Art\\\", \\\"gender\\\": 1, \\\"id\\\": 1742709, \\\"job\\\": \\\"Art Department Manager\\\", \\\"name\\\": \\\"Jennifer Birmingham\\\"}, {\\\"credit_id\\\": \\\"58825b699251413028010b7d\\\", \\\"department\\\": \\\"Editing\\\", \\\"gender\\\": 0, \\\"id\\\": 1742711, \\\"job\\\": \\\"Editorial Manager\\\", \\\"name\\\": \\\"Shannon Ryan\\\"}, {\\\"credit_id\\\": \\\"58825ba7c3a36814670109d9\\\", \\\"department\\\": \\\"Editing\\\", \\\"gender\\\": 0, \\\"id\\\": 1742712, \\\"job\\\": \\\"Assistant Editor\\\", \\\"name\\\": \\\"Thomas Gonzales\\\"}, {\\\"credit_id\\\": \\\"58825bb3c3a3681460012061\\\", \\\"department\\\": \\\"Editing\\\", \\\"gender\\\": 0, \\\"id\\\": 1742713, \\\"job\\\": \\\"Assistant Editor\\\", \\\"name\\\": \\\"C.J. Hsu\\\"}, {\\\"credit_id\\\": \\\"58825bbb92514130370110b7\\\", \\\"department\\\": \\\"Editing\\\", \\\"gender\\\": 0, \\\"id\\\": 1742714, \\\"job\\\": \\\"Assistant Editor\\\", \\\"name\\\": \\\"Amera Rizk\\\"}, {\\\"credit_id\\\": \\\"58825bf4c3a3681443010958\\\", \\\"department\\\": \\\"Editing\\\", \\\"gender\\\": 0, \\\"id\\\": 1742717, \\\"job\\\": \\\"Editorial Coordinator\\\", \\\"name\\\": \\\"Dallis Anderson\\\"}, {\\\"credit_id\\\": \\\"58825c21c3a3681449011bcd\\\", \\\"department\\\": \\\"Directing\\\", \\\"gender\\\": 0, \\\"id\\\": 1742719, \\\"job\\\": \\\"Layout\\\", \\\"name\\\": \\\"Mahyar Abousaeedi\\\"}, {\\\"credit_id\\\": \\\"58825c60c3a368147d00fdc7\\\", \\\"department\\\": \\\"Directing\\\", \\\"gender\\\": 0, \\\"id\\\": 1742720, \\\"job\\\": \\\"Layout\\\", \\\"name\\\": \\\"Josh Anon\\\"}, {\\\"credit_id\\\": \\\"58825c77c3a36814600120f5\\\", \\\"department\\\": \\\"Directing\\\", \\\"gender\\\": 0, \\\"id\\\": 1742721, \\\"job\\\": \\\"Layout\\\", \\\"name\\\": \\\"Sukwon Park\\\"}, {\\\"credit_id\\\": \\\"58825c7ec3a368147d00fde3\\\", \\\"department\\\": \\\"Directing\\\", \\\"gender\\\": 0, \\\"id\\\": 1742722, \\\"job\\\": \\\"Layout\\\", \\\"name\\\": \\\"Mark Shirra\\\"}, {\\\"credit_id\\\": \\\"58825c8ac3a36814430109ca\\\", \\\"department\\\": \\\"Directing\\\", \\\"gender\\\": 0, \\\"id\\\": 1742723, \\\"job\\\": \\\"Layout\\\", \\\"name\\\": \\\"Matthew Silas\\\"}, {\\\"credit_id\\\": \\\"58825c99c3a368146001211a\\\", \\\"department\\\": \\\"Directing\\\", \\\"gender\\\": 0, \\\"id\\\": 1742724, \\\"job\\\": \\\"Layout\\\", \\\"name\\\": \\\"Sylvia Gray Wong\\\"}, {\\\"credit_id\\\": \\\"58825ee9c3a368145b010f6b\\\", \\\"department\\\": \\\"Camera\\\", \\\"gender\\\": 0, \\\"id\\\": 1742751, \\\"job\\\": \\\"Camera Operator\\\", \\\"name\\\": \\\"Jeff Wan\\\"}, {\\\"credit_id\\\": \\\"58825f31c3a3681449011dfa\\\", \\\"department\\\": \\\"Crew\\\", \\\"gender\\\": 2, \\\"id\\\": 1742756, \\\"job\\\": \\\"Post-Production Manager\\\", \\\"name\\\": \\\"Eric Pearson\\\"}, {\\\"credit_id\\\": \\\"58825f5d925141303a01131b\\\", \\\"department\\\": \\\"Crew\\\", \\\"gender\\\": 0, \\\"id\\\": 1742757, \\\"job\\\": \\\"Post Production Assistant\\\", \\\"name\\\": \\\"Freesia Pearson\\\"}]\"\n        ],\n        \"semantic_type\": \"\",\n        \"description\": \"\"\n      }\n    }\n  ]\n}"
            }
          },
          "metadata": {},
          "execution_count": 148
        }
      ]
    },
    {
      "cell_type": "code",
      "source": [
        "movies['crew'].head(2).values"
      ],
      "metadata": {
        "id": "zqyFGVPZw0lL"
      },
      "execution_count": null,
      "outputs": []
    },
    {
      "cell_type": "code",
      "source": [
        "def get_director(obj):\n",
        "  li=[]\n",
        "  for i in ast.literal_eval(obj):\n",
        "    if i[\"department\"]==\"Directing\":\n",
        "      li.append(i['name'])\n",
        "      break\n",
        "  return li\n",
        "#\"department\": \"Directing\""
      ],
      "metadata": {
        "id": "zGs7zHdFxDw1"
      },
      "execution_count": null,
      "outputs": []
    },
    {
      "cell_type": "code",
      "source": [
        "movies['crew']=movies['crew'].apply(get_director)"
      ],
      "metadata": {
        "id": "JSFPt0kazBqj"
      },
      "execution_count": null,
      "outputs": []
    },
    {
      "cell_type": "code",
      "source": [
        "movies.head(1)"
      ],
      "metadata": {
        "id": "r0Z6HU3fyPEg",
        "colab": {
          "base_uri": "https://localhost:8080/",
          "height": 133
        },
        "outputId": "5e4a0d6d-8bea-4c0b-956a-0983d95be2ec"
      },
      "execution_count": null,
      "outputs": [
        {
          "output_type": "execute_result",
          "data": {
            "text/plain": [
              "   movie_id   title                                           overview  \\\n",
              "0     19995  Avatar  In the 22nd century, a paraplegic Marine is di...   \n",
              "\n",
              "                                          genres  \\\n",
              "0  [Action, Adventure, Fantasy, Science Fiction]   \n",
              "\n",
              "                                            keywords  \\\n",
              "0  [culture clash, future, space war, space colon...   \n",
              "\n",
              "                                               cast             crew  \n",
              "0  [Sam Worthington, Zoe Saldana, Sigourney Weaver]  [James Cameron]  "
            ],
            "text/html": [
              "\n",
              "  <div id=\"df-0a675366-5363-4bc6-95b5-edb0ccce0a6d\" class=\"colab-df-container\">\n",
              "    <div>\n",
              "<style scoped>\n",
              "    .dataframe tbody tr th:only-of-type {\n",
              "        vertical-align: middle;\n",
              "    }\n",
              "\n",
              "    .dataframe tbody tr th {\n",
              "        vertical-align: top;\n",
              "    }\n",
              "\n",
              "    .dataframe thead th {\n",
              "        text-align: right;\n",
              "    }\n",
              "</style>\n",
              "<table border=\"1\" class=\"dataframe\">\n",
              "  <thead>\n",
              "    <tr style=\"text-align: right;\">\n",
              "      <th></th>\n",
              "      <th>movie_id</th>\n",
              "      <th>title</th>\n",
              "      <th>overview</th>\n",
              "      <th>genres</th>\n",
              "      <th>keywords</th>\n",
              "      <th>cast</th>\n",
              "      <th>crew</th>\n",
              "    </tr>\n",
              "  </thead>\n",
              "  <tbody>\n",
              "    <tr>\n",
              "      <th>0</th>\n",
              "      <td>19995</td>\n",
              "      <td>Avatar</td>\n",
              "      <td>In the 22nd century, a paraplegic Marine is di...</td>\n",
              "      <td>[Action, Adventure, Fantasy, Science Fiction]</td>\n",
              "      <td>[culture clash, future, space war, space colon...</td>\n",
              "      <td>[Sam Worthington, Zoe Saldana, Sigourney Weaver]</td>\n",
              "      <td>[James Cameron]</td>\n",
              "    </tr>\n",
              "  </tbody>\n",
              "</table>\n",
              "</div>\n",
              "    <div class=\"colab-df-buttons\">\n",
              "\n",
              "  <div class=\"colab-df-container\">\n",
              "    <button class=\"colab-df-convert\" onclick=\"convertToInteractive('df-0a675366-5363-4bc6-95b5-edb0ccce0a6d')\"\n",
              "            title=\"Convert this dataframe to an interactive table.\"\n",
              "            style=\"display:none;\">\n",
              "\n",
              "  <svg xmlns=\"http://www.w3.org/2000/svg\" height=\"24px\" viewBox=\"0 -960 960 960\">\n",
              "    <path d=\"M120-120v-720h720v720H120Zm60-500h600v-160H180v160Zm220 220h160v-160H400v160Zm0 220h160v-160H400v160ZM180-400h160v-160H180v160Zm440 0h160v-160H620v160ZM180-180h160v-160H180v160Zm440 0h160v-160H620v160Z\"/>\n",
              "  </svg>\n",
              "    </button>\n",
              "\n",
              "  <style>\n",
              "    .colab-df-container {\n",
              "      display:flex;\n",
              "      gap: 12px;\n",
              "    }\n",
              "\n",
              "    .colab-df-convert {\n",
              "      background-color: #E8F0FE;\n",
              "      border: none;\n",
              "      border-radius: 50%;\n",
              "      cursor: pointer;\n",
              "      display: none;\n",
              "      fill: #1967D2;\n",
              "      height: 32px;\n",
              "      padding: 0 0 0 0;\n",
              "      width: 32px;\n",
              "    }\n",
              "\n",
              "    .colab-df-convert:hover {\n",
              "      background-color: #E2EBFA;\n",
              "      box-shadow: 0px 1px 2px rgba(60, 64, 67, 0.3), 0px 1px 3px 1px rgba(60, 64, 67, 0.15);\n",
              "      fill: #174EA6;\n",
              "    }\n",
              "\n",
              "    .colab-df-buttons div {\n",
              "      margin-bottom: 4px;\n",
              "    }\n",
              "\n",
              "    [theme=dark] .colab-df-convert {\n",
              "      background-color: #3B4455;\n",
              "      fill: #D2E3FC;\n",
              "    }\n",
              "\n",
              "    [theme=dark] .colab-df-convert:hover {\n",
              "      background-color: #434B5C;\n",
              "      box-shadow: 0px 1px 3px 1px rgba(0, 0, 0, 0.15);\n",
              "      filter: drop-shadow(0px 1px 2px rgba(0, 0, 0, 0.3));\n",
              "      fill: #FFFFFF;\n",
              "    }\n",
              "  </style>\n",
              "\n",
              "    <script>\n",
              "      const buttonEl =\n",
              "        document.querySelector('#df-0a675366-5363-4bc6-95b5-edb0ccce0a6d button.colab-df-convert');\n",
              "      buttonEl.style.display =\n",
              "        google.colab.kernel.accessAllowed ? 'block' : 'none';\n",
              "\n",
              "      async function convertToInteractive(key) {\n",
              "        const element = document.querySelector('#df-0a675366-5363-4bc6-95b5-edb0ccce0a6d');\n",
              "        const dataTable =\n",
              "          await google.colab.kernel.invokeFunction('convertToInteractive',\n",
              "                                                    [key], {});\n",
              "        if (!dataTable) return;\n",
              "\n",
              "        const docLinkHtml = 'Like what you see? Visit the ' +\n",
              "          '<a target=\"_blank\" href=https://colab.research.google.com/notebooks/data_table.ipynb>data table notebook</a>'\n",
              "          + ' to learn more about interactive tables.';\n",
              "        element.innerHTML = '';\n",
              "        dataTable['output_type'] = 'display_data';\n",
              "        await google.colab.output.renderOutput(dataTable, element);\n",
              "        const docLink = document.createElement('div');\n",
              "        docLink.innerHTML = docLinkHtml;\n",
              "        element.appendChild(docLink);\n",
              "      }\n",
              "    </script>\n",
              "  </div>\n",
              "\n",
              "\n",
              "    </div>\n",
              "  </div>\n"
            ],
            "application/vnd.google.colaboratory.intrinsic+json": {
              "type": "dataframe",
              "variable_name": "movies",
              "summary": "{\n  \"name\": \"movies\",\n  \"rows\": 739,\n  \"fields\": [\n    {\n      \"column\": \"movie_id\",\n      \"properties\": {\n        \"dtype\": \"number\",\n        \"std\": 71530,\n        \"min\": 12,\n        \"max\": 417859,\n        \"num_unique_values\": 739,\n        \"samples\": [\n          102651,\n          13475,\n          14160\n        ],\n        \"semantic_type\": \"\",\n        \"description\": \"\"\n      }\n    },\n    {\n      \"column\": \"title\",\n      \"properties\": {\n        \"dtype\": \"string\",\n        \"num_unique_values\": 739,\n        \"samples\": [\n          \"Maleficent\",\n          \"Star Trek\",\n          \"Up\"\n        ],\n        \"semantic_type\": \"\",\n        \"description\": \"\"\n      }\n    },\n    {\n      \"column\": \"overview\",\n      \"properties\": {\n        \"dtype\": \"string\",\n        \"num_unique_values\": 739,\n        \"samples\": [\n          \"The untold story of Disney's most iconic villain from the 1959 classic 'Sleeping Beauty'. A beautiful, pure-hearted young woman, Maleficent has an idyllic life growing up in a peaceable forest kingdom, until one day when an invading army threatens the harmony of the land.  Maleficent rises to be the land's fiercest protector, but she ultimately suffers a ruthless betrayal ? an act that begins to turn her heart into stone. Bent on revenge, Maleficent faces an epic battle with the invading King's successor and, as a result, places a curse upon his newborn infant Aurora. As the child grows, Maleficent realizes that Aurora holds the key to peace in the kingdom - and to Maleficent's true happiness as well.\",\n          \"The fate of the galaxy rests in the hands of bitter rivals. One, James Kirk, is a delinquent, thrill-seeking Iowa farm boy. The other, Spock, a Vulcan, was raised in a logic-based society that rejects all emotion. As fiery instinct clashes with calm reason, their unlikely but powerful partnership is the only thing capable of leading their crew through unimaginable danger, boldly going where no one has gone before. The human adventure has begun again.\",\n          \"Carl Fredricksen spent his entire life dreaming of exploring the globe and experiencing life to its fullest. But at age 78, life seems to have passed him by, until a twist of fate (and a persistent 8-year old Wilderness Explorer named Russell) gives him a new lease on life.\"\n        ],\n        \"semantic_type\": \"\",\n        \"description\": \"\"\n      }\n    },\n    {\n      \"column\": \"genres\",\n      \"properties\": {\n        \"dtype\": \"object\",\n        \"semantic_type\": \"\",\n        \"description\": \"\"\n      }\n    },\n    {\n      \"column\": \"keywords\",\n      \"properties\": {\n        \"dtype\": \"object\",\n        \"semantic_type\": \"\",\n        \"description\": \"\"\n      }\n    },\n    {\n      \"column\": \"cast\",\n      \"properties\": {\n        \"dtype\": \"object\",\n        \"semantic_type\": \"\",\n        \"description\": \"\"\n      }\n    },\n    {\n      \"column\": \"crew\",\n      \"properties\": {\n        \"dtype\": \"object\",\n        \"semantic_type\": \"\",\n        \"description\": \"\"\n      }\n    }\n  ]\n}"
            }
          },
          "metadata": {},
          "execution_count": 152
        }
      ]
    },
    {
      "cell_type": "code",
      "source": [
        "movies['overview'] = movies['overview'].astype(str)\n"
      ],
      "metadata": {
        "id": "j4KzMW_Dh-aP"
      },
      "execution_count": null,
      "outputs": []
    },
    {
      "cell_type": "code",
      "source": [
        "movies['overview'].apply(lambda x:x.split( ))"
      ],
      "metadata": {
        "colab": {
          "base_uri": "https://localhost:8080/"
        },
        "id": "7WrgVo7vgNaX",
        "outputId": "8cf8801e-6e4c-415a-a4fa-337d99fb8d49"
      },
      "execution_count": null,
      "outputs": [
        {
          "output_type": "execute_result",
          "data": {
            "text/plain": [
              "0      [In, the, 22nd, century,, a, paraplegic, Marin...\n",
              "1      [Captain, Barbossa,, long, believed, to, be, d...\n",
              "2      [A, cryptic, message, from, Bond?s, past, send...\n",
              "3      [Following, the, death, of, District, Attorney...\n",
              "4      [John, Carter, is, a, war-weary,, former, mili...\n",
              "                             ...                        \n",
              "734    [Once, upon, a, time..., in, the, far, away, k...\n",
              "735    [Cabbie-turned-chauffeur, Jimmy, Tong, learns,...\n",
              "736    [A, passenger, train, has, been, hijacked, by,...\n",
              "737    [Jack, Ryan,, as, a, young, covert, CIA, analy...\n",
              "738    [A, story, based, on, the, life, of, a, strugg...\n",
              "Name: overview, Length: 739, dtype: object"
            ]
          },
          "metadata": {},
          "execution_count": 204
        }
      ]
    },
    {
      "cell_type": "code",
      "source": [
        "movies.head(1)"
      ],
      "metadata": {
        "colab": {
          "base_uri": "https://localhost:8080/",
          "height": 133
        },
        "id": "BySJX4FUjlH1",
        "outputId": "43b6646c-82e5-4741-9d19-c8127b9ab536"
      },
      "execution_count": null,
      "outputs": [
        {
          "output_type": "execute_result",
          "data": {
            "text/plain": [
              "   movie_id   title                                           overview  \\\n",
              "0     19995  Avatar  In the 22nd century, a paraplegic Marine is di...   \n",
              "\n",
              "                                          genres  \\\n",
              "0  [Action, Adventure, Fantasy, Science Fiction]   \n",
              "\n",
              "                                            keywords  \\\n",
              "0  [culture clash, future, space war, space colon...   \n",
              "\n",
              "                                               cast             crew  \n",
              "0  [Sam Worthington, Zoe Saldana, Sigourney Weaver]  [James Cameron]  "
            ],
            "text/html": [
              "\n",
              "  <div id=\"df-18aa638b-38be-4322-bf43-81986222154e\" class=\"colab-df-container\">\n",
              "    <div>\n",
              "<style scoped>\n",
              "    .dataframe tbody tr th:only-of-type {\n",
              "        vertical-align: middle;\n",
              "    }\n",
              "\n",
              "    .dataframe tbody tr th {\n",
              "        vertical-align: top;\n",
              "    }\n",
              "\n",
              "    .dataframe thead th {\n",
              "        text-align: right;\n",
              "    }\n",
              "</style>\n",
              "<table border=\"1\" class=\"dataframe\">\n",
              "  <thead>\n",
              "    <tr style=\"text-align: right;\">\n",
              "      <th></th>\n",
              "      <th>movie_id</th>\n",
              "      <th>title</th>\n",
              "      <th>overview</th>\n",
              "      <th>genres</th>\n",
              "      <th>keywords</th>\n",
              "      <th>cast</th>\n",
              "      <th>crew</th>\n",
              "    </tr>\n",
              "  </thead>\n",
              "  <tbody>\n",
              "    <tr>\n",
              "      <th>0</th>\n",
              "      <td>19995</td>\n",
              "      <td>Avatar</td>\n",
              "      <td>In the 22nd century, a paraplegic Marine is di...</td>\n",
              "      <td>[Action, Adventure, Fantasy, Science Fiction]</td>\n",
              "      <td>[culture clash, future, space war, space colon...</td>\n",
              "      <td>[Sam Worthington, Zoe Saldana, Sigourney Weaver]</td>\n",
              "      <td>[James Cameron]</td>\n",
              "    </tr>\n",
              "  </tbody>\n",
              "</table>\n",
              "</div>\n",
              "    <div class=\"colab-df-buttons\">\n",
              "\n",
              "  <div class=\"colab-df-container\">\n",
              "    <button class=\"colab-df-convert\" onclick=\"convertToInteractive('df-18aa638b-38be-4322-bf43-81986222154e')\"\n",
              "            title=\"Convert this dataframe to an interactive table.\"\n",
              "            style=\"display:none;\">\n",
              "\n",
              "  <svg xmlns=\"http://www.w3.org/2000/svg\" height=\"24px\" viewBox=\"0 -960 960 960\">\n",
              "    <path d=\"M120-120v-720h720v720H120Zm60-500h600v-160H180v160Zm220 220h160v-160H400v160Zm0 220h160v-160H400v160ZM180-400h160v-160H180v160Zm440 0h160v-160H620v160ZM180-180h160v-160H180v160Zm440 0h160v-160H620v160Z\"/>\n",
              "  </svg>\n",
              "    </button>\n",
              "\n",
              "  <style>\n",
              "    .colab-df-container {\n",
              "      display:flex;\n",
              "      gap: 12px;\n",
              "    }\n",
              "\n",
              "    .colab-df-convert {\n",
              "      background-color: #E8F0FE;\n",
              "      border: none;\n",
              "      border-radius: 50%;\n",
              "      cursor: pointer;\n",
              "      display: none;\n",
              "      fill: #1967D2;\n",
              "      height: 32px;\n",
              "      padding: 0 0 0 0;\n",
              "      width: 32px;\n",
              "    }\n",
              "\n",
              "    .colab-df-convert:hover {\n",
              "      background-color: #E2EBFA;\n",
              "      box-shadow: 0px 1px 2px rgba(60, 64, 67, 0.3), 0px 1px 3px 1px rgba(60, 64, 67, 0.15);\n",
              "      fill: #174EA6;\n",
              "    }\n",
              "\n",
              "    .colab-df-buttons div {\n",
              "      margin-bottom: 4px;\n",
              "    }\n",
              "\n",
              "    [theme=dark] .colab-df-convert {\n",
              "      background-color: #3B4455;\n",
              "      fill: #D2E3FC;\n",
              "    }\n",
              "\n",
              "    [theme=dark] .colab-df-convert:hover {\n",
              "      background-color: #434B5C;\n",
              "      box-shadow: 0px 1px 3px 1px rgba(0, 0, 0, 0.15);\n",
              "      filter: drop-shadow(0px 1px 2px rgba(0, 0, 0, 0.3));\n",
              "      fill: #FFFFFF;\n",
              "    }\n",
              "  </style>\n",
              "\n",
              "    <script>\n",
              "      const buttonEl =\n",
              "        document.querySelector('#df-18aa638b-38be-4322-bf43-81986222154e button.colab-df-convert');\n",
              "      buttonEl.style.display =\n",
              "        google.colab.kernel.accessAllowed ? 'block' : 'none';\n",
              "\n",
              "      async function convertToInteractive(key) {\n",
              "        const element = document.querySelector('#df-18aa638b-38be-4322-bf43-81986222154e');\n",
              "        const dataTable =\n",
              "          await google.colab.kernel.invokeFunction('convertToInteractive',\n",
              "                                                    [key], {});\n",
              "        if (!dataTable) return;\n",
              "\n",
              "        const docLinkHtml = 'Like what you see? Visit the ' +\n",
              "          '<a target=\"_blank\" href=https://colab.research.google.com/notebooks/data_table.ipynb>data table notebook</a>'\n",
              "          + ' to learn more about interactive tables.';\n",
              "        element.innerHTML = '';\n",
              "        dataTable['output_type'] = 'display_data';\n",
              "        await google.colab.output.renderOutput(dataTable, element);\n",
              "        const docLink = document.createElement('div');\n",
              "        docLink.innerHTML = docLinkHtml;\n",
              "        element.appendChild(docLink);\n",
              "      }\n",
              "    </script>\n",
              "  </div>\n",
              "\n",
              "\n",
              "    </div>\n",
              "  </div>\n"
            ],
            "application/vnd.google.colaboratory.intrinsic+json": {
              "type": "dataframe",
              "variable_name": "movies",
              "summary": "{\n  \"name\": \"movies\",\n  \"rows\": 739,\n  \"fields\": [\n    {\n      \"column\": \"movie_id\",\n      \"properties\": {\n        \"dtype\": \"number\",\n        \"std\": 71530,\n        \"min\": 12,\n        \"max\": 417859,\n        \"num_unique_values\": 739,\n        \"samples\": [\n          102651,\n          13475,\n          14160\n        ],\n        \"semantic_type\": \"\",\n        \"description\": \"\"\n      }\n    },\n    {\n      \"column\": \"title\",\n      \"properties\": {\n        \"dtype\": \"string\",\n        \"num_unique_values\": 739,\n        \"samples\": [\n          \"Maleficent\",\n          \"Star Trek\",\n          \"Up\"\n        ],\n        \"semantic_type\": \"\",\n        \"description\": \"\"\n      }\n    },\n    {\n      \"column\": \"overview\",\n      \"properties\": {\n        \"dtype\": \"string\",\n        \"num_unique_values\": 739,\n        \"samples\": [\n          \"The untold story of Disney's most iconic villain from the 1959 classic 'Sleeping Beauty'. A beautiful, pure-hearted young woman, Maleficent has an idyllic life growing up in a peaceable forest kingdom, until one day when an invading army threatens the harmony of the land.  Maleficent rises to be the land's fiercest protector, but she ultimately suffers a ruthless betrayal ? an act that begins to turn her heart into stone. Bent on revenge, Maleficent faces an epic battle with the invading King's successor and, as a result, places a curse upon his newborn infant Aurora. As the child grows, Maleficent realizes that Aurora holds the key to peace in the kingdom - and to Maleficent's true happiness as well.\",\n          \"The fate of the galaxy rests in the hands of bitter rivals. One, James Kirk, is a delinquent, thrill-seeking Iowa farm boy. The other, Spock, a Vulcan, was raised in a logic-based society that rejects all emotion. As fiery instinct clashes with calm reason, their unlikely but powerful partnership is the only thing capable of leading their crew through unimaginable danger, boldly going where no one has gone before. The human adventure has begun again.\",\n          \"Carl Fredricksen spent his entire life dreaming of exploring the globe and experiencing life to its fullest. But at age 78, life seems to have passed him by, until a twist of fate (and a persistent 8-year old Wilderness Explorer named Russell) gives him a new lease on life.\"\n        ],\n        \"semantic_type\": \"\",\n        \"description\": \"\"\n      }\n    },\n    {\n      \"column\": \"genres\",\n      \"properties\": {\n        \"dtype\": \"object\",\n        \"semantic_type\": \"\",\n        \"description\": \"\"\n      }\n    },\n    {\n      \"column\": \"keywords\",\n      \"properties\": {\n        \"dtype\": \"object\",\n        \"semantic_type\": \"\",\n        \"description\": \"\"\n      }\n    },\n    {\n      \"column\": \"cast\",\n      \"properties\": {\n        \"dtype\": \"object\",\n        \"semantic_type\": \"\",\n        \"description\": \"\"\n      }\n    },\n    {\n      \"column\": \"crew\",\n      \"properties\": {\n        \"dtype\": \"object\",\n        \"semantic_type\": \"\",\n        \"description\": \"\"\n      }\n    }\n  ]\n}"
            }
          },
          "metadata": {},
          "execution_count": 155
        }
      ]
    },
    {
      "cell_type": "code",
      "source": [
        "movies['genres']=movies['genres'].apply(lambda x:[i.replace(\" \",'') for i in x])"
      ],
      "metadata": {
        "id": "UdTrQB52iVZ6"
      },
      "execution_count": null,
      "outputs": []
    },
    {
      "cell_type": "code",
      "source": [
        "movies['keywords']=movies['keywords'].apply(lambda x:[i.replace(\" \",'') for i in x])"
      ],
      "metadata": {
        "id": "5lZdwk91iwfE"
      },
      "execution_count": null,
      "outputs": []
    },
    {
      "cell_type": "code",
      "source": [
        "movies.head(1)"
      ],
      "metadata": {
        "colab": {
          "base_uri": "https://localhost:8080/",
          "height": 150
        },
        "id": "eIeiTvCQlCNG",
        "outputId": "8940740c-f02e-4e51-c438-afa5642ddd0f"
      },
      "execution_count": null,
      "outputs": [
        {
          "output_type": "execute_result",
          "data": {
            "text/plain": [
              "   movie_id   title                                           overview  \\\n",
              "0     19995  Avatar  In the 22nd century, a paraplegic Marine is di...   \n",
              "\n",
              "                                         genres  \\\n",
              "0  [Action, Adventure, Fantasy, ScienceFiction]   \n",
              "\n",
              "                                            keywords  \\\n",
              "0  [cultureclash, future, spacewar, spacecolony, ...   \n",
              "\n",
              "                                               cast             crew  \n",
              "0  [Sam Worthington, Zoe Saldana, Sigourney Weaver]  [James Cameron]  "
            ],
            "text/html": [
              "\n",
              "  <div id=\"df-dbb9d068-fafe-4f82-a167-8ef02f01a065\" class=\"colab-df-container\">\n",
              "    <div>\n",
              "<style scoped>\n",
              "    .dataframe tbody tr th:only-of-type {\n",
              "        vertical-align: middle;\n",
              "    }\n",
              "\n",
              "    .dataframe tbody tr th {\n",
              "        vertical-align: top;\n",
              "    }\n",
              "\n",
              "    .dataframe thead th {\n",
              "        text-align: right;\n",
              "    }\n",
              "</style>\n",
              "<table border=\"1\" class=\"dataframe\">\n",
              "  <thead>\n",
              "    <tr style=\"text-align: right;\">\n",
              "      <th></th>\n",
              "      <th>movie_id</th>\n",
              "      <th>title</th>\n",
              "      <th>overview</th>\n",
              "      <th>genres</th>\n",
              "      <th>keywords</th>\n",
              "      <th>cast</th>\n",
              "      <th>crew</th>\n",
              "    </tr>\n",
              "  </thead>\n",
              "  <tbody>\n",
              "    <tr>\n",
              "      <th>0</th>\n",
              "      <td>19995</td>\n",
              "      <td>Avatar</td>\n",
              "      <td>In the 22nd century, a paraplegic Marine is di...</td>\n",
              "      <td>[Action, Adventure, Fantasy, ScienceFiction]</td>\n",
              "      <td>[cultureclash, future, spacewar, spacecolony, ...</td>\n",
              "      <td>[Sam Worthington, Zoe Saldana, Sigourney Weaver]</td>\n",
              "      <td>[James Cameron]</td>\n",
              "    </tr>\n",
              "  </tbody>\n",
              "</table>\n",
              "</div>\n",
              "    <div class=\"colab-df-buttons\">\n",
              "\n",
              "  <div class=\"colab-df-container\">\n",
              "    <button class=\"colab-df-convert\" onclick=\"convertToInteractive('df-dbb9d068-fafe-4f82-a167-8ef02f01a065')\"\n",
              "            title=\"Convert this dataframe to an interactive table.\"\n",
              "            style=\"display:none;\">\n",
              "\n",
              "  <svg xmlns=\"http://www.w3.org/2000/svg\" height=\"24px\" viewBox=\"0 -960 960 960\">\n",
              "    <path d=\"M120-120v-720h720v720H120Zm60-500h600v-160H180v160Zm220 220h160v-160H400v160Zm0 220h160v-160H400v160ZM180-400h160v-160H180v160Zm440 0h160v-160H620v160ZM180-180h160v-160H180v160Zm440 0h160v-160H620v160Z\"/>\n",
              "  </svg>\n",
              "    </button>\n",
              "\n",
              "  <style>\n",
              "    .colab-df-container {\n",
              "      display:flex;\n",
              "      gap: 12px;\n",
              "    }\n",
              "\n",
              "    .colab-df-convert {\n",
              "      background-color: #E8F0FE;\n",
              "      border: none;\n",
              "      border-radius: 50%;\n",
              "      cursor: pointer;\n",
              "      display: none;\n",
              "      fill: #1967D2;\n",
              "      height: 32px;\n",
              "      padding: 0 0 0 0;\n",
              "      width: 32px;\n",
              "    }\n",
              "\n",
              "    .colab-df-convert:hover {\n",
              "      background-color: #E2EBFA;\n",
              "      box-shadow: 0px 1px 2px rgba(60, 64, 67, 0.3), 0px 1px 3px 1px rgba(60, 64, 67, 0.15);\n",
              "      fill: #174EA6;\n",
              "    }\n",
              "\n",
              "    .colab-df-buttons div {\n",
              "      margin-bottom: 4px;\n",
              "    }\n",
              "\n",
              "    [theme=dark] .colab-df-convert {\n",
              "      background-color: #3B4455;\n",
              "      fill: #D2E3FC;\n",
              "    }\n",
              "\n",
              "    [theme=dark] .colab-df-convert:hover {\n",
              "      background-color: #434B5C;\n",
              "      box-shadow: 0px 1px 3px 1px rgba(0, 0, 0, 0.15);\n",
              "      filter: drop-shadow(0px 1px 2px rgba(0, 0, 0, 0.3));\n",
              "      fill: #FFFFFF;\n",
              "    }\n",
              "  </style>\n",
              "\n",
              "    <script>\n",
              "      const buttonEl =\n",
              "        document.querySelector('#df-dbb9d068-fafe-4f82-a167-8ef02f01a065 button.colab-df-convert');\n",
              "      buttonEl.style.display =\n",
              "        google.colab.kernel.accessAllowed ? 'block' : 'none';\n",
              "\n",
              "      async function convertToInteractive(key) {\n",
              "        const element = document.querySelector('#df-dbb9d068-fafe-4f82-a167-8ef02f01a065');\n",
              "        const dataTable =\n",
              "          await google.colab.kernel.invokeFunction('convertToInteractive',\n",
              "                                                    [key], {});\n",
              "        if (!dataTable) return;\n",
              "\n",
              "        const docLinkHtml = 'Like what you see? Visit the ' +\n",
              "          '<a target=\"_blank\" href=https://colab.research.google.com/notebooks/data_table.ipynb>data table notebook</a>'\n",
              "          + ' to learn more about interactive tables.';\n",
              "        element.innerHTML = '';\n",
              "        dataTable['output_type'] = 'display_data';\n",
              "        await google.colab.output.renderOutput(dataTable, element);\n",
              "        const docLink = document.createElement('div');\n",
              "        docLink.innerHTML = docLinkHtml;\n",
              "        element.appendChild(docLink);\n",
              "      }\n",
              "    </script>\n",
              "  </div>\n",
              "\n",
              "\n",
              "    </div>\n",
              "  </div>\n"
            ],
            "application/vnd.google.colaboratory.intrinsic+json": {
              "type": "dataframe",
              "variable_name": "movies",
              "summary": "{\n  \"name\": \"movies\",\n  \"rows\": 739,\n  \"fields\": [\n    {\n      \"column\": \"movie_id\",\n      \"properties\": {\n        \"dtype\": \"number\",\n        \"std\": 71530,\n        \"min\": 12,\n        \"max\": 417859,\n        \"num_unique_values\": 739,\n        \"samples\": [\n          102651,\n          13475,\n          14160\n        ],\n        \"semantic_type\": \"\",\n        \"description\": \"\"\n      }\n    },\n    {\n      \"column\": \"title\",\n      \"properties\": {\n        \"dtype\": \"string\",\n        \"num_unique_values\": 739,\n        \"samples\": [\n          \"Maleficent\",\n          \"Star Trek\",\n          \"Up\"\n        ],\n        \"semantic_type\": \"\",\n        \"description\": \"\"\n      }\n    },\n    {\n      \"column\": \"overview\",\n      \"properties\": {\n        \"dtype\": \"string\",\n        \"num_unique_values\": 739,\n        \"samples\": [\n          \"The untold story of Disney's most iconic villain from the 1959 classic 'Sleeping Beauty'. A beautiful, pure-hearted young woman, Maleficent has an idyllic life growing up in a peaceable forest kingdom, until one day when an invading army threatens the harmony of the land.  Maleficent rises to be the land's fiercest protector, but she ultimately suffers a ruthless betrayal ? an act that begins to turn her heart into stone. Bent on revenge, Maleficent faces an epic battle with the invading King's successor and, as a result, places a curse upon his newborn infant Aurora. As the child grows, Maleficent realizes that Aurora holds the key to peace in the kingdom - and to Maleficent's true happiness as well.\",\n          \"The fate of the galaxy rests in the hands of bitter rivals. One, James Kirk, is a delinquent, thrill-seeking Iowa farm boy. The other, Spock, a Vulcan, was raised in a logic-based society that rejects all emotion. As fiery instinct clashes with calm reason, their unlikely but powerful partnership is the only thing capable of leading their crew through unimaginable danger, boldly going where no one has gone before. The human adventure has begun again.\",\n          \"Carl Fredricksen spent his entire life dreaming of exploring the globe and experiencing life to its fullest. But at age 78, life seems to have passed him by, until a twist of fate (and a persistent 8-year old Wilderness Explorer named Russell) gives him a new lease on life.\"\n        ],\n        \"semantic_type\": \"\",\n        \"description\": \"\"\n      }\n    },\n    {\n      \"column\": \"genres\",\n      \"properties\": {\n        \"dtype\": \"object\",\n        \"semantic_type\": \"\",\n        \"description\": \"\"\n      }\n    },\n    {\n      \"column\": \"keywords\",\n      \"properties\": {\n        \"dtype\": \"object\",\n        \"semantic_type\": \"\",\n        \"description\": \"\"\n      }\n    },\n    {\n      \"column\": \"cast\",\n      \"properties\": {\n        \"dtype\": \"object\",\n        \"semantic_type\": \"\",\n        \"description\": \"\"\n      }\n    },\n    {\n      \"column\": \"crew\",\n      \"properties\": {\n        \"dtype\": \"object\",\n        \"semantic_type\": \"\",\n        \"description\": \"\"\n      }\n    }\n  ]\n}"
            }
          },
          "metadata": {},
          "execution_count": 159
        }
      ]
    },
    {
      "cell_type": "code",
      "source": [
        "#movies['cast'] = movies['cast'].astype(str)"
      ],
      "metadata": {
        "id": "iVmb949jkqM6"
      },
      "execution_count": null,
      "outputs": []
    },
    {
      "cell_type": "code",
      "source": [
        "movies['cast']=movies['cast'].apply(lambda x:[i.replace(\" \",\"\") for i in x])"
      ],
      "metadata": {
        "id": "C4OdmTuJi3DF"
      },
      "execution_count": null,
      "outputs": []
    },
    {
      "cell_type": "code",
      "source": [
        "movies['keywords'].head(2)"
      ],
      "metadata": {
        "colab": {
          "base_uri": "https://localhost:8080/"
        },
        "id": "ZVybsMpzsPrT",
        "outputId": "34bdc999-8d15-4ff6-f6e6-371b46938dfd"
      },
      "execution_count": null,
      "outputs": [
        {
          "output_type": "execute_result",
          "data": {
            "text/plain": [
              "0    [cultureclash, future, spacewar, spacecolony, ...\n",
              "1    [ocean, drugabuse, exoticisland, eastindiatrad...\n",
              "Name: keywords, dtype: object"
            ]
          },
          "metadata": {},
          "execution_count": 208
        }
      ]
    },
    {
      "cell_type": "code",
      "source": [
        "movies['crew']=movies['crew'].apply(lambda x:[i.replace(\" \",'') for i in x])"
      ],
      "metadata": {
        "id": "54KT6VlmjH_K"
      },
      "execution_count": null,
      "outputs": []
    },
    {
      "cell_type": "code",
      "source": [
        "movies['crew'].head(2)"
      ],
      "metadata": {
        "colab": {
          "base_uri": "https://localhost:8080/"
        },
        "id": "wqv-87f6sYAz",
        "outputId": "c5ee8952-5d49-47a9-dfa9-a2a1fcc71ad7"
      },
      "execution_count": null,
      "outputs": [
        {
          "output_type": "execute_result",
          "data": {
            "text/plain": [
              "0     [JamesCameron]\n",
              "1    [GoreVerbinski]\n",
              "Name: crew, dtype: object"
            ]
          },
          "metadata": {},
          "execution_count": 163
        }
      ]
    },
    {
      "cell_type": "code",
      "source": [
        "movies['cast'].head(5).values"
      ],
      "metadata": {
        "colab": {
          "base_uri": "https://localhost:8080/"
        },
        "id": "9g3u-BV-k0q2",
        "outputId": "1c7aca33-cfbf-4d63-a110-9b86eac3a829"
      },
      "execution_count": null,
      "outputs": [
        {
          "output_type": "execute_result",
          "data": {
            "text/plain": [
              "array([list(['SamWorthington', 'ZoeSaldana', 'SigourneyWeaver']),\n",
              "       list(['JohnnyDepp', 'OrlandoBloom', 'KeiraKnightley']),\n",
              "       list(['DanielCraig', 'ChristophWaltz', 'LéaSeydoux']),\n",
              "       list(['ChristianBale', 'MichaelCaine', 'GaryOldman']),\n",
              "       list(['TaylorKitsch', 'LynnCollins', 'SamanthaMorton'])],\n",
              "      dtype=object)"
            ]
          },
          "metadata": {},
          "execution_count": 164
        }
      ]
    },
    {
      "cell_type": "code",
      "source": [
        "movies.head(1)"
      ],
      "metadata": {
        "colab": {
          "base_uri": "https://localhost:8080/"
        },
        "id": "Dty_ljVajR4R",
        "outputId": "cc545c59-68a3-4680-e508-36ac5722804a"
      },
      "execution_count": null,
      "outputs": [
        {
          "output_type": "execute_result",
          "data": {
            "text/plain": [
              "0    in the 22nd century, a paraplegic marine is di...\n",
              "Name: tags, dtype: object"
            ]
          },
          "metadata": {},
          "execution_count": 182
        }
      ]
    },
    {
      "cell_type": "code",
      "source": [
        "movies['tags'] = movies['overview'] + movies['genres'].apply(lambda x: ' '.join(map(str, x))) + movies['keywords'].apply(lambda x: ' '.join(map(str, x))) + movies['cast'].apply(lambda x: ' '.join(map(str, x))) + movies['crew'].apply(lambda x: ' '.join(map(str, x)))\n"
      ],
      "metadata": {
        "id": "pXMW192ZIWki"
      },
      "execution_count": null,
      "outputs": []
    },
    {
      "cell_type": "code",
      "source": [
        "movies.head(1)"
      ],
      "metadata": {
        "colab": {
          "base_uri": "https://localhost:8080/",
          "height": 188
        },
        "id": "k-7ZqLJiIZTI",
        "outputId": "a111567b-b7b3-4b99-f976-0c6f42ca72a5"
      },
      "execution_count": null,
      "outputs": [
        {
          "output_type": "execute_result",
          "data": {
            "text/plain": [
              "   movie_id   title                                           overview  \\\n",
              "0     19995  Avatar  In the 22nd century, a paraplegic Marine is di...   \n",
              "\n",
              "                                         genres  \\\n",
              "0  [Action, Adventure, Fantasy, ScienceFiction]   \n",
              "\n",
              "                                            keywords  \\\n",
              "0  [cultureclash, future, spacewar, spacecolony, ...   \n",
              "\n",
              "                                            cast            crew  \\\n",
              "0  [SamWorthington, ZoeSaldana, SigourneyWeaver]  [JamesCameron]   \n",
              "\n",
              "                                                tags  \n",
              "0  In the 22nd century, a paraplegic Marine is di...  "
            ],
            "text/html": [
              "\n",
              "  <div id=\"df-345702f7-4653-4132-90f9-35b76572fe67\" class=\"colab-df-container\">\n",
              "    <div>\n",
              "<style scoped>\n",
              "    .dataframe tbody tr th:only-of-type {\n",
              "        vertical-align: middle;\n",
              "    }\n",
              "\n",
              "    .dataframe tbody tr th {\n",
              "        vertical-align: top;\n",
              "    }\n",
              "\n",
              "    .dataframe thead th {\n",
              "        text-align: right;\n",
              "    }\n",
              "</style>\n",
              "<table border=\"1\" class=\"dataframe\">\n",
              "  <thead>\n",
              "    <tr style=\"text-align: right;\">\n",
              "      <th></th>\n",
              "      <th>movie_id</th>\n",
              "      <th>title</th>\n",
              "      <th>overview</th>\n",
              "      <th>genres</th>\n",
              "      <th>keywords</th>\n",
              "      <th>cast</th>\n",
              "      <th>crew</th>\n",
              "      <th>tags</th>\n",
              "    </tr>\n",
              "  </thead>\n",
              "  <tbody>\n",
              "    <tr>\n",
              "      <th>0</th>\n",
              "      <td>19995</td>\n",
              "      <td>Avatar</td>\n",
              "      <td>In the 22nd century, a paraplegic Marine is di...</td>\n",
              "      <td>[Action, Adventure, Fantasy, ScienceFiction]</td>\n",
              "      <td>[cultureclash, future, spacewar, spacecolony, ...</td>\n",
              "      <td>[SamWorthington, ZoeSaldana, SigourneyWeaver]</td>\n",
              "      <td>[JamesCameron]</td>\n",
              "      <td>In the 22nd century, a paraplegic Marine is di...</td>\n",
              "    </tr>\n",
              "  </tbody>\n",
              "</table>\n",
              "</div>\n",
              "    <div class=\"colab-df-buttons\">\n",
              "\n",
              "  <div class=\"colab-df-container\">\n",
              "    <button class=\"colab-df-convert\" onclick=\"convertToInteractive('df-345702f7-4653-4132-90f9-35b76572fe67')\"\n",
              "            title=\"Convert this dataframe to an interactive table.\"\n",
              "            style=\"display:none;\">\n",
              "\n",
              "  <svg xmlns=\"http://www.w3.org/2000/svg\" height=\"24px\" viewBox=\"0 -960 960 960\">\n",
              "    <path d=\"M120-120v-720h720v720H120Zm60-500h600v-160H180v160Zm220 220h160v-160H400v160Zm0 220h160v-160H400v160ZM180-400h160v-160H180v160Zm440 0h160v-160H620v160ZM180-180h160v-160H180v160Zm440 0h160v-160H620v160Z\"/>\n",
              "  </svg>\n",
              "    </button>\n",
              "\n",
              "  <style>\n",
              "    .colab-df-container {\n",
              "      display:flex;\n",
              "      gap: 12px;\n",
              "    }\n",
              "\n",
              "    .colab-df-convert {\n",
              "      background-color: #E8F0FE;\n",
              "      border: none;\n",
              "      border-radius: 50%;\n",
              "      cursor: pointer;\n",
              "      display: none;\n",
              "      fill: #1967D2;\n",
              "      height: 32px;\n",
              "      padding: 0 0 0 0;\n",
              "      width: 32px;\n",
              "    }\n",
              "\n",
              "    .colab-df-convert:hover {\n",
              "      background-color: #E2EBFA;\n",
              "      box-shadow: 0px 1px 2px rgba(60, 64, 67, 0.3), 0px 1px 3px 1px rgba(60, 64, 67, 0.15);\n",
              "      fill: #174EA6;\n",
              "    }\n",
              "\n",
              "    .colab-df-buttons div {\n",
              "      margin-bottom: 4px;\n",
              "    }\n",
              "\n",
              "    [theme=dark] .colab-df-convert {\n",
              "      background-color: #3B4455;\n",
              "      fill: #D2E3FC;\n",
              "    }\n",
              "\n",
              "    [theme=dark] .colab-df-convert:hover {\n",
              "      background-color: #434B5C;\n",
              "      box-shadow: 0px 1px 3px 1px rgba(0, 0, 0, 0.15);\n",
              "      filter: drop-shadow(0px 1px 2px rgba(0, 0, 0, 0.3));\n",
              "      fill: #FFFFFF;\n",
              "    }\n",
              "  </style>\n",
              "\n",
              "    <script>\n",
              "      const buttonEl =\n",
              "        document.querySelector('#df-345702f7-4653-4132-90f9-35b76572fe67 button.colab-df-convert');\n",
              "      buttonEl.style.display =\n",
              "        google.colab.kernel.accessAllowed ? 'block' : 'none';\n",
              "\n",
              "      async function convertToInteractive(key) {\n",
              "        const element = document.querySelector('#df-345702f7-4653-4132-90f9-35b76572fe67');\n",
              "        const dataTable =\n",
              "          await google.colab.kernel.invokeFunction('convertToInteractive',\n",
              "                                                    [key], {});\n",
              "        if (!dataTable) return;\n",
              "\n",
              "        const docLinkHtml = 'Like what you see? Visit the ' +\n",
              "          '<a target=\"_blank\" href=https://colab.research.google.com/notebooks/data_table.ipynb>data table notebook</a>'\n",
              "          + ' to learn more about interactive tables.';\n",
              "        element.innerHTML = '';\n",
              "        dataTable['output_type'] = 'display_data';\n",
              "        await google.colab.output.renderOutput(dataTable, element);\n",
              "        const docLink = document.createElement('div');\n",
              "        docLink.innerHTML = docLinkHtml;\n",
              "        element.appendChild(docLink);\n",
              "      }\n",
              "    </script>\n",
              "  </div>\n",
              "\n",
              "\n",
              "    </div>\n",
              "  </div>\n"
            ],
            "application/vnd.google.colaboratory.intrinsic+json": {
              "type": "dataframe",
              "variable_name": "movies",
              "summary": "{\n  \"name\": \"movies\",\n  \"rows\": 739,\n  \"fields\": [\n    {\n      \"column\": \"movie_id\",\n      \"properties\": {\n        \"dtype\": \"number\",\n        \"std\": 71530,\n        \"min\": 12,\n        \"max\": 417859,\n        \"num_unique_values\": 739,\n        \"samples\": [\n          102651,\n          13475,\n          14160\n        ],\n        \"semantic_type\": \"\",\n        \"description\": \"\"\n      }\n    },\n    {\n      \"column\": \"title\",\n      \"properties\": {\n        \"dtype\": \"string\",\n        \"num_unique_values\": 739,\n        \"samples\": [\n          \"Maleficent\",\n          \"Star Trek\",\n          \"Up\"\n        ],\n        \"semantic_type\": \"\",\n        \"description\": \"\"\n      }\n    },\n    {\n      \"column\": \"overview\",\n      \"properties\": {\n        \"dtype\": \"string\",\n        \"num_unique_values\": 739,\n        \"samples\": [\n          \"The untold story of Disney's most iconic villain from the 1959 classic 'Sleeping Beauty'. A beautiful, pure-hearted young woman, Maleficent has an idyllic life growing up in a peaceable forest kingdom, until one day when an invading army threatens the harmony of the land.  Maleficent rises to be the land's fiercest protector, but she ultimately suffers a ruthless betrayal ? an act that begins to turn her heart into stone. Bent on revenge, Maleficent faces an epic battle with the invading King's successor and, as a result, places a curse upon his newborn infant Aurora. As the child grows, Maleficent realizes that Aurora holds the key to peace in the kingdom - and to Maleficent's true happiness as well.\",\n          \"The fate of the galaxy rests in the hands of bitter rivals. One, James Kirk, is a delinquent, thrill-seeking Iowa farm boy. The other, Spock, a Vulcan, was raised in a logic-based society that rejects all emotion. As fiery instinct clashes with calm reason, their unlikely but powerful partnership is the only thing capable of leading their crew through unimaginable danger, boldly going where no one has gone before. The human adventure has begun again.\",\n          \"Carl Fredricksen spent his entire life dreaming of exploring the globe and experiencing life to its fullest. But at age 78, life seems to have passed him by, until a twist of fate (and a persistent 8-year old Wilderness Explorer named Russell) gives him a new lease on life.\"\n        ],\n        \"semantic_type\": \"\",\n        \"description\": \"\"\n      }\n    },\n    {\n      \"column\": \"genres\",\n      \"properties\": {\n        \"dtype\": \"object\",\n        \"semantic_type\": \"\",\n        \"description\": \"\"\n      }\n    },\n    {\n      \"column\": \"keywords\",\n      \"properties\": {\n        \"dtype\": \"object\",\n        \"semantic_type\": \"\",\n        \"description\": \"\"\n      }\n    },\n    {\n      \"column\": \"cast\",\n      \"properties\": {\n        \"dtype\": \"object\",\n        \"semantic_type\": \"\",\n        \"description\": \"\"\n      }\n    },\n    {\n      \"column\": \"crew\",\n      \"properties\": {\n        \"dtype\": \"object\",\n        \"semantic_type\": \"\",\n        \"description\": \"\"\n      }\n    },\n    {\n      \"column\": \"tags\",\n      \"properties\": {\n        \"dtype\": \"string\",\n        \"num_unique_values\": 739,\n        \"samples\": [\n          \"The untold story of Disney's most iconic villain from the 1959 classic 'Sleeping Beauty'. A beautiful, pure-hearted young woman, Maleficent has an idyllic life growing up in a peaceable forest kingdom, until one day when an invading army threatens the harmony of the land.  Maleficent rises to be the land's fiercest protector, but she ultimately suffers a ruthless betrayal ? an act that begins to turn her heart into stone. Bent on revenge, Maleficent faces an epic battle with the invading King's successor and, as a result, places a curse upon his newborn infant Aurora. As the child grows, Maleficent realizes that Aurora holds the key to peace in the kingdom - and to Maleficent's true happiness as well.Fantasy Adventure Action Family Romancefairytale villain sleepingbeauty darkfantasy basedonfairytale adaptation retelling literaryadaptation 3dAngelinaJolie ElleFanning SharltoCopleyRobertStromberg\",\n          \"The fate of the galaxy rests in the hands of bitter rivals. One, James Kirk, is a delinquent, thrill-seeking Iowa farm boy. The other, Spock, a Vulcan, was raised in a logic-based society that rejects all emotion. As fiery instinct clashes with calm reason, their unlikely but powerful partnership is the only thing capable of leading their crew through unimaginable danger, boldly going where no one has gone before. The human adventure has begun again.ScienceFiction Action Adventurespacecraft teleportation spacemission parachute timetravel blackhole supernova prequel warpspeed futuristic warpengine romulans outerspace vulcan alternatereality spaceopera rebootChrisPine ZacharyQuinto LeonardNimoyJ.J.Abrams\",\n          \"Carl Fredricksen spent his entire life dreaming of exploring the globe and experiencing life to its fullest. But at age 78, life seems to have passed him by, until a twist of fate (and a persistent 8-year old Wilderness Explorer named Russell) gives him a new lease on life.Animation Comedy Family Adventureagedifference centralandsouthamerica balloon animation floatingintheair duringcreditsstinger exploringEdAsner ChristopherPlummer JordanNagaiBobPeterson\"\n        ],\n        \"semantic_type\": \"\",\n        \"description\": \"\"\n      }\n    }\n  ]\n}"
            }
          },
          "metadata": {},
          "execution_count": 167
        }
      ]
    },
    {
      "cell_type": "code",
      "source": [
        "movies=movies[['movie_id','title','tags']]"
      ],
      "metadata": {
        "id": "y_mie_USIhcp",
        "colab": {
          "base_uri": "https://localhost:8080/",
          "height": 304
        },
        "outputId": "ab7a7fdb-383c-470b-a22c-daacabbc0d3e"
      },
      "execution_count": null,
      "outputs": [
        {
          "output_type": "error",
          "ename": "KeyError",
          "evalue": "\"None of [Index(['movie_id', 'title', 'tags'], dtype='object')] are in the [index]\"",
          "traceback": [
            "\u001b[0;31m---------------------------------------------------------------------------\u001b[0m",
            "\u001b[0;31mKeyError\u001b[0m                                  Traceback (most recent call last)",
            "\u001b[0;32m<ipython-input-51-9a5f55d6550e>\u001b[0m in \u001b[0;36m<cell line: 1>\u001b[0;34m()\u001b[0m\n\u001b[0;32m----> 1\u001b[0;31m \u001b[0mmovies\u001b[0m\u001b[0;34m=\u001b[0m\u001b[0mmovies\u001b[0m\u001b[0;34m[\u001b[0m\u001b[0;34m[\u001b[0m\u001b[0;34m'movie_id'\u001b[0m\u001b[0;34m,\u001b[0m\u001b[0;34m'title'\u001b[0m\u001b[0;34m,\u001b[0m\u001b[0;34m'tags'\u001b[0m\u001b[0;34m]\u001b[0m\u001b[0;34m]\u001b[0m\u001b[0;34m\u001b[0m\u001b[0;34m\u001b[0m\u001b[0m\n\u001b[0m",
            "\u001b[0;32m/usr/local/lib/python3.10/dist-packages/pandas/core/series.py\u001b[0m in \u001b[0;36m__getitem__\u001b[0;34m(self, key)\u001b[0m\n\u001b[1;32m   1031\u001b[0m             \u001b[0;32mreturn\u001b[0m \u001b[0mself\u001b[0m\u001b[0;34m.\u001b[0m\u001b[0m_get_values\u001b[0m\u001b[0;34m(\u001b[0m\u001b[0mkey\u001b[0m\u001b[0;34m)\u001b[0m\u001b[0;34m\u001b[0m\u001b[0;34m\u001b[0m\u001b[0m\n\u001b[1;32m   1032\u001b[0m \u001b[0;34m\u001b[0m\u001b[0m\n\u001b[0;32m-> 1033\u001b[0;31m         \u001b[0;32mreturn\u001b[0m \u001b[0mself\u001b[0m\u001b[0;34m.\u001b[0m\u001b[0m_get_with\u001b[0m\u001b[0;34m(\u001b[0m\u001b[0mkey\u001b[0m\u001b[0;34m)\u001b[0m\u001b[0;34m\u001b[0m\u001b[0;34m\u001b[0m\u001b[0m\n\u001b[0m\u001b[1;32m   1034\u001b[0m \u001b[0;34m\u001b[0m\u001b[0m\n\u001b[1;32m   1035\u001b[0m     \u001b[0;32mdef\u001b[0m \u001b[0m_get_with\u001b[0m\u001b[0;34m(\u001b[0m\u001b[0mself\u001b[0m\u001b[0;34m,\u001b[0m \u001b[0mkey\u001b[0m\u001b[0;34m)\u001b[0m\u001b[0;34m:\u001b[0m\u001b[0;34m\u001b[0m\u001b[0;34m\u001b[0m\u001b[0m\n",
            "\u001b[0;32m/usr/local/lib/python3.10/dist-packages/pandas/core/series.py\u001b[0m in \u001b[0;36m_get_with\u001b[0;34m(self, key)\u001b[0m\n\u001b[1;32m   1071\u001b[0m \u001b[0;34m\u001b[0m\u001b[0m\n\u001b[1;32m   1072\u001b[0m         \u001b[0;31m# handle the dup indexing case GH#4246\u001b[0m\u001b[0;34m\u001b[0m\u001b[0;34m\u001b[0m\u001b[0m\n\u001b[0;32m-> 1073\u001b[0;31m         \u001b[0;32mreturn\u001b[0m \u001b[0mself\u001b[0m\u001b[0;34m.\u001b[0m\u001b[0mloc\u001b[0m\u001b[0;34m[\u001b[0m\u001b[0mkey\u001b[0m\u001b[0;34m]\u001b[0m\u001b[0;34m\u001b[0m\u001b[0;34m\u001b[0m\u001b[0m\n\u001b[0m\u001b[1;32m   1074\u001b[0m \u001b[0;34m\u001b[0m\u001b[0m\n\u001b[1;32m   1075\u001b[0m     \u001b[0;32mdef\u001b[0m \u001b[0m_get_values_tuple\u001b[0m\u001b[0;34m(\u001b[0m\u001b[0mself\u001b[0m\u001b[0;34m,\u001b[0m \u001b[0mkey\u001b[0m\u001b[0;34m:\u001b[0m \u001b[0mtuple\u001b[0m\u001b[0;34m)\u001b[0m\u001b[0;34m:\u001b[0m\u001b[0;34m\u001b[0m\u001b[0;34m\u001b[0m\u001b[0m\n",
            "\u001b[0;32m/usr/local/lib/python3.10/dist-packages/pandas/core/indexing.py\u001b[0m in \u001b[0;36m__getitem__\u001b[0;34m(self, key)\u001b[0m\n\u001b[1;32m   1101\u001b[0m \u001b[0;34m\u001b[0m\u001b[0m\n\u001b[1;32m   1102\u001b[0m             \u001b[0mmaybe_callable\u001b[0m \u001b[0;34m=\u001b[0m \u001b[0mcom\u001b[0m\u001b[0;34m.\u001b[0m\u001b[0mapply_if_callable\u001b[0m\u001b[0;34m(\u001b[0m\u001b[0mkey\u001b[0m\u001b[0;34m,\u001b[0m \u001b[0mself\u001b[0m\u001b[0;34m.\u001b[0m\u001b[0mobj\u001b[0m\u001b[0;34m)\u001b[0m\u001b[0;34m\u001b[0m\u001b[0;34m\u001b[0m\u001b[0m\n\u001b[0;32m-> 1103\u001b[0;31m             \u001b[0;32mreturn\u001b[0m \u001b[0mself\u001b[0m\u001b[0;34m.\u001b[0m\u001b[0m_getitem_axis\u001b[0m\u001b[0;34m(\u001b[0m\u001b[0mmaybe_callable\u001b[0m\u001b[0;34m,\u001b[0m \u001b[0maxis\u001b[0m\u001b[0;34m=\u001b[0m\u001b[0maxis\u001b[0m\u001b[0;34m)\u001b[0m\u001b[0;34m\u001b[0m\u001b[0;34m\u001b[0m\u001b[0m\n\u001b[0m\u001b[1;32m   1104\u001b[0m \u001b[0;34m\u001b[0m\u001b[0m\n\u001b[1;32m   1105\u001b[0m     \u001b[0;32mdef\u001b[0m \u001b[0m_is_scalar_access\u001b[0m\u001b[0;34m(\u001b[0m\u001b[0mself\u001b[0m\u001b[0;34m,\u001b[0m \u001b[0mkey\u001b[0m\u001b[0;34m:\u001b[0m \u001b[0mtuple\u001b[0m\u001b[0;34m)\u001b[0m\u001b[0;34m:\u001b[0m\u001b[0;34m\u001b[0m\u001b[0;34m\u001b[0m\u001b[0m\n",
            "\u001b[0;32m/usr/local/lib/python3.10/dist-packages/pandas/core/indexing.py\u001b[0m in \u001b[0;36m_getitem_axis\u001b[0;34m(self, key, axis)\u001b[0m\n\u001b[1;32m   1330\u001b[0m                     \u001b[0;32mraise\u001b[0m \u001b[0mValueError\u001b[0m\u001b[0;34m(\u001b[0m\u001b[0;34m\"Cannot index with multidimensional key\"\u001b[0m\u001b[0;34m)\u001b[0m\u001b[0;34m\u001b[0m\u001b[0;34m\u001b[0m\u001b[0m\n\u001b[1;32m   1331\u001b[0m \u001b[0;34m\u001b[0m\u001b[0m\n\u001b[0;32m-> 1332\u001b[0;31m                 \u001b[0;32mreturn\u001b[0m \u001b[0mself\u001b[0m\u001b[0;34m.\u001b[0m\u001b[0m_getitem_iterable\u001b[0m\u001b[0;34m(\u001b[0m\u001b[0mkey\u001b[0m\u001b[0;34m,\u001b[0m \u001b[0maxis\u001b[0m\u001b[0;34m=\u001b[0m\u001b[0maxis\u001b[0m\u001b[0;34m)\u001b[0m\u001b[0;34m\u001b[0m\u001b[0;34m\u001b[0m\u001b[0m\n\u001b[0m\u001b[1;32m   1333\u001b[0m \u001b[0;34m\u001b[0m\u001b[0m\n\u001b[1;32m   1334\u001b[0m             \u001b[0;31m# nested tuple slicing\u001b[0m\u001b[0;34m\u001b[0m\u001b[0;34m\u001b[0m\u001b[0m\n",
            "\u001b[0;32m/usr/local/lib/python3.10/dist-packages/pandas/core/indexing.py\u001b[0m in \u001b[0;36m_getitem_iterable\u001b[0;34m(self, key, axis)\u001b[0m\n\u001b[1;32m   1270\u001b[0m \u001b[0;34m\u001b[0m\u001b[0m\n\u001b[1;32m   1271\u001b[0m         \u001b[0;31m# A collection of keys\u001b[0m\u001b[0;34m\u001b[0m\u001b[0;34m\u001b[0m\u001b[0m\n\u001b[0;32m-> 1272\u001b[0;31m         \u001b[0mkeyarr\u001b[0m\u001b[0;34m,\u001b[0m \u001b[0mindexer\u001b[0m \u001b[0;34m=\u001b[0m \u001b[0mself\u001b[0m\u001b[0;34m.\u001b[0m\u001b[0m_get_listlike_indexer\u001b[0m\u001b[0;34m(\u001b[0m\u001b[0mkey\u001b[0m\u001b[0;34m,\u001b[0m \u001b[0maxis\u001b[0m\u001b[0;34m)\u001b[0m\u001b[0;34m\u001b[0m\u001b[0;34m\u001b[0m\u001b[0m\n\u001b[0m\u001b[1;32m   1273\u001b[0m         return self.obj._reindex_with_indexers(\n\u001b[1;32m   1274\u001b[0m             \u001b[0;34m{\u001b[0m\u001b[0maxis\u001b[0m\u001b[0;34m:\u001b[0m \u001b[0;34m[\u001b[0m\u001b[0mkeyarr\u001b[0m\u001b[0;34m,\u001b[0m \u001b[0mindexer\u001b[0m\u001b[0;34m]\u001b[0m\u001b[0;34m}\u001b[0m\u001b[0;34m,\u001b[0m \u001b[0mcopy\u001b[0m\u001b[0;34m=\u001b[0m\u001b[0;32mTrue\u001b[0m\u001b[0;34m,\u001b[0m \u001b[0mallow_dups\u001b[0m\u001b[0;34m=\u001b[0m\u001b[0;32mTrue\u001b[0m\u001b[0;34m\u001b[0m\u001b[0;34m\u001b[0m\u001b[0m\n",
            "\u001b[0;32m/usr/local/lib/python3.10/dist-packages/pandas/core/indexing.py\u001b[0m in \u001b[0;36m_get_listlike_indexer\u001b[0;34m(self, key, axis)\u001b[0m\n\u001b[1;32m   1460\u001b[0m         \u001b[0maxis_name\u001b[0m \u001b[0;34m=\u001b[0m \u001b[0mself\u001b[0m\u001b[0;34m.\u001b[0m\u001b[0mobj\u001b[0m\u001b[0;34m.\u001b[0m\u001b[0m_get_axis_name\u001b[0m\u001b[0;34m(\u001b[0m\u001b[0maxis\u001b[0m\u001b[0;34m)\u001b[0m\u001b[0;34m\u001b[0m\u001b[0;34m\u001b[0m\u001b[0m\n\u001b[1;32m   1461\u001b[0m \u001b[0;34m\u001b[0m\u001b[0m\n\u001b[0;32m-> 1462\u001b[0;31m         \u001b[0mkeyarr\u001b[0m\u001b[0;34m,\u001b[0m \u001b[0mindexer\u001b[0m \u001b[0;34m=\u001b[0m \u001b[0max\u001b[0m\u001b[0;34m.\u001b[0m\u001b[0m_get_indexer_strict\u001b[0m\u001b[0;34m(\u001b[0m\u001b[0mkey\u001b[0m\u001b[0;34m,\u001b[0m \u001b[0maxis_name\u001b[0m\u001b[0;34m)\u001b[0m\u001b[0;34m\u001b[0m\u001b[0;34m\u001b[0m\u001b[0m\n\u001b[0m\u001b[1;32m   1463\u001b[0m \u001b[0;34m\u001b[0m\u001b[0m\n\u001b[1;32m   1464\u001b[0m         \u001b[0;32mreturn\u001b[0m \u001b[0mkeyarr\u001b[0m\u001b[0;34m,\u001b[0m \u001b[0mindexer\u001b[0m\u001b[0;34m\u001b[0m\u001b[0;34m\u001b[0m\u001b[0m\n",
            "\u001b[0;32m/usr/local/lib/python3.10/dist-packages/pandas/core/indexes/base.py\u001b[0m in \u001b[0;36m_get_indexer_strict\u001b[0;34m(self, key, axis_name)\u001b[0m\n\u001b[1;32m   5875\u001b[0m             \u001b[0mkeyarr\u001b[0m\u001b[0;34m,\u001b[0m \u001b[0mindexer\u001b[0m\u001b[0;34m,\u001b[0m \u001b[0mnew_indexer\u001b[0m \u001b[0;34m=\u001b[0m \u001b[0mself\u001b[0m\u001b[0;34m.\u001b[0m\u001b[0m_reindex_non_unique\u001b[0m\u001b[0;34m(\u001b[0m\u001b[0mkeyarr\u001b[0m\u001b[0;34m)\u001b[0m\u001b[0;34m\u001b[0m\u001b[0;34m\u001b[0m\u001b[0m\n\u001b[1;32m   5876\u001b[0m \u001b[0;34m\u001b[0m\u001b[0m\n\u001b[0;32m-> 5877\u001b[0;31m         \u001b[0mself\u001b[0m\u001b[0;34m.\u001b[0m\u001b[0m_raise_if_missing\u001b[0m\u001b[0;34m(\u001b[0m\u001b[0mkeyarr\u001b[0m\u001b[0;34m,\u001b[0m \u001b[0mindexer\u001b[0m\u001b[0;34m,\u001b[0m \u001b[0maxis_name\u001b[0m\u001b[0;34m)\u001b[0m\u001b[0;34m\u001b[0m\u001b[0;34m\u001b[0m\u001b[0m\n\u001b[0m\u001b[1;32m   5878\u001b[0m \u001b[0;34m\u001b[0m\u001b[0m\n\u001b[1;32m   5879\u001b[0m         \u001b[0mkeyarr\u001b[0m \u001b[0;34m=\u001b[0m \u001b[0mself\u001b[0m\u001b[0;34m.\u001b[0m\u001b[0mtake\u001b[0m\u001b[0;34m(\u001b[0m\u001b[0mindexer\u001b[0m\u001b[0;34m)\u001b[0m\u001b[0;34m\u001b[0m\u001b[0;34m\u001b[0m\u001b[0m\n",
            "\u001b[0;32m/usr/local/lib/python3.10/dist-packages/pandas/core/indexes/base.py\u001b[0m in \u001b[0;36m_raise_if_missing\u001b[0;34m(self, key, indexer, axis_name)\u001b[0m\n\u001b[1;32m   5936\u001b[0m                 \u001b[0;32mif\u001b[0m \u001b[0muse_interval_msg\u001b[0m\u001b[0;34m:\u001b[0m\u001b[0;34m\u001b[0m\u001b[0;34m\u001b[0m\u001b[0m\n\u001b[1;32m   5937\u001b[0m                     \u001b[0mkey\u001b[0m \u001b[0;34m=\u001b[0m \u001b[0mlist\u001b[0m\u001b[0;34m(\u001b[0m\u001b[0mkey\u001b[0m\u001b[0;34m)\u001b[0m\u001b[0;34m\u001b[0m\u001b[0;34m\u001b[0m\u001b[0m\n\u001b[0;32m-> 5938\u001b[0;31m                 \u001b[0;32mraise\u001b[0m \u001b[0mKeyError\u001b[0m\u001b[0;34m(\u001b[0m\u001b[0;34mf\"None of [{key}] are in the [{axis_name}]\"\u001b[0m\u001b[0;34m)\u001b[0m\u001b[0;34m\u001b[0m\u001b[0;34m\u001b[0m\u001b[0m\n\u001b[0m\u001b[1;32m   5939\u001b[0m \u001b[0;34m\u001b[0m\u001b[0m\n\u001b[1;32m   5940\u001b[0m             \u001b[0mnot_found\u001b[0m \u001b[0;34m=\u001b[0m \u001b[0mlist\u001b[0m\u001b[0;34m(\u001b[0m\u001b[0mensure_index\u001b[0m\u001b[0;34m(\u001b[0m\u001b[0mkey\u001b[0m\u001b[0;34m)\u001b[0m\u001b[0;34m[\u001b[0m\u001b[0mmissing_mask\u001b[0m\u001b[0;34m.\u001b[0m\u001b[0mnonzero\u001b[0m\u001b[0;34m(\u001b[0m\u001b[0;34m)\u001b[0m\u001b[0;34m[\u001b[0m\u001b[0;36m0\u001b[0m\u001b[0;34m]\u001b[0m\u001b[0;34m]\u001b[0m\u001b[0;34m.\u001b[0m\u001b[0munique\u001b[0m\u001b[0;34m(\u001b[0m\u001b[0;34m)\u001b[0m\u001b[0;34m)\u001b[0m\u001b[0;34m\u001b[0m\u001b[0;34m\u001b[0m\u001b[0m\n",
            "\u001b[0;31mKeyError\u001b[0m: \"None of [Index(['movie_id', 'title', 'tags'], dtype='object')] are in the [index]\""
          ]
        }
      ]
    },
    {
      "cell_type": "code",
      "source": [
        "movies['overview']+movies['genres']+movies['keywords']+movies['cast']+movies['crew']"
      ],
      "metadata": {
        "colab": {
          "base_uri": "https://localhost:8080/",
          "height": 478
        },
        "id": "cE7n7lF_fSz8",
        "outputId": "cad46a02-b68b-4b8e-af54-dd6d3e06d703"
      },
      "execution_count": null,
      "outputs": [
        {
          "output_type": "error",
          "ename": "KeyError",
          "evalue": "'overview'",
          "traceback": [
            "\u001b[0;31m---------------------------------------------------------------------------\u001b[0m",
            "\u001b[0;31mKeyError\u001b[0m                                  Traceback (most recent call last)",
            "\u001b[0;32m/usr/local/lib/python3.10/dist-packages/pandas/core/indexes/base.py\u001b[0m in \u001b[0;36mget_loc\u001b[0;34m(self, key)\u001b[0m\n\u001b[1;32m   3652\u001b[0m         \u001b[0;32mtry\u001b[0m\u001b[0;34m:\u001b[0m\u001b[0;34m\u001b[0m\u001b[0;34m\u001b[0m\u001b[0m\n\u001b[0;32m-> 3653\u001b[0;31m             \u001b[0;32mreturn\u001b[0m \u001b[0mself\u001b[0m\u001b[0;34m.\u001b[0m\u001b[0m_engine\u001b[0m\u001b[0;34m.\u001b[0m\u001b[0mget_loc\u001b[0m\u001b[0;34m(\u001b[0m\u001b[0mcasted_key\u001b[0m\u001b[0;34m)\u001b[0m\u001b[0;34m\u001b[0m\u001b[0;34m\u001b[0m\u001b[0m\n\u001b[0m\u001b[1;32m   3654\u001b[0m         \u001b[0;32mexcept\u001b[0m \u001b[0mKeyError\u001b[0m \u001b[0;32mas\u001b[0m \u001b[0merr\u001b[0m\u001b[0;34m:\u001b[0m\u001b[0;34m\u001b[0m\u001b[0;34m\u001b[0m\u001b[0m\n",
            "\u001b[0;32m/usr/local/lib/python3.10/dist-packages/pandas/_libs/index.pyx\u001b[0m in \u001b[0;36mpandas._libs.index.IndexEngine.get_loc\u001b[0;34m()\u001b[0m\n",
            "\u001b[0;32m/usr/local/lib/python3.10/dist-packages/pandas/_libs/index.pyx\u001b[0m in \u001b[0;36mpandas._libs.index.IndexEngine.get_loc\u001b[0;34m()\u001b[0m\n",
            "\u001b[0;32mpandas/_libs/hashtable_class_helper.pxi\u001b[0m in \u001b[0;36mpandas._libs.hashtable.PyObjectHashTable.get_item\u001b[0;34m()\u001b[0m\n",
            "\u001b[0;32mpandas/_libs/hashtable_class_helper.pxi\u001b[0m in \u001b[0;36mpandas._libs.hashtable.PyObjectHashTable.get_item\u001b[0;34m()\u001b[0m\n",
            "\u001b[0;31mKeyError\u001b[0m: 'overview'",
            "\nThe above exception was the direct cause of the following exception:\n",
            "\u001b[0;31mKeyError\u001b[0m                                  Traceback (most recent call last)",
            "\u001b[0;32m<ipython-input-26-b3aa206b930d>\u001b[0m in \u001b[0;36m<cell line: 1>\u001b[0;34m()\u001b[0m\n\u001b[0;32m----> 1\u001b[0;31m \u001b[0mmovies\u001b[0m\u001b[0;34m[\u001b[0m\u001b[0;34m'overview'\u001b[0m\u001b[0;34m]\u001b[0m\u001b[0;34m+\u001b[0m\u001b[0mmovies\u001b[0m\u001b[0;34m[\u001b[0m\u001b[0;34m'genres'\u001b[0m\u001b[0;34m]\u001b[0m\u001b[0;34m+\u001b[0m\u001b[0mmovies\u001b[0m\u001b[0;34m[\u001b[0m\u001b[0;34m'keywords'\u001b[0m\u001b[0;34m]\u001b[0m\u001b[0;34m+\u001b[0m\u001b[0mmovies\u001b[0m\u001b[0;34m[\u001b[0m\u001b[0;34m'cast'\u001b[0m\u001b[0;34m]\u001b[0m\u001b[0;34m+\u001b[0m\u001b[0mmovies\u001b[0m\u001b[0;34m[\u001b[0m\u001b[0;34m'crew'\u001b[0m\u001b[0;34m]\u001b[0m\u001b[0;34m\u001b[0m\u001b[0;34m\u001b[0m\u001b[0m\n\u001b[0m",
            "\u001b[0;32m/usr/local/lib/python3.10/dist-packages/pandas/core/frame.py\u001b[0m in \u001b[0;36m__getitem__\u001b[0;34m(self, key)\u001b[0m\n\u001b[1;32m   3759\u001b[0m             \u001b[0;32mif\u001b[0m \u001b[0mself\u001b[0m\u001b[0;34m.\u001b[0m\u001b[0mcolumns\u001b[0m\u001b[0;34m.\u001b[0m\u001b[0mnlevels\u001b[0m \u001b[0;34m>\u001b[0m \u001b[0;36m1\u001b[0m\u001b[0;34m:\u001b[0m\u001b[0;34m\u001b[0m\u001b[0;34m\u001b[0m\u001b[0m\n\u001b[1;32m   3760\u001b[0m                 \u001b[0;32mreturn\u001b[0m \u001b[0mself\u001b[0m\u001b[0;34m.\u001b[0m\u001b[0m_getitem_multilevel\u001b[0m\u001b[0;34m(\u001b[0m\u001b[0mkey\u001b[0m\u001b[0;34m)\u001b[0m\u001b[0;34m\u001b[0m\u001b[0;34m\u001b[0m\u001b[0m\n\u001b[0;32m-> 3761\u001b[0;31m             \u001b[0mindexer\u001b[0m \u001b[0;34m=\u001b[0m \u001b[0mself\u001b[0m\u001b[0;34m.\u001b[0m\u001b[0mcolumns\u001b[0m\u001b[0;34m.\u001b[0m\u001b[0mget_loc\u001b[0m\u001b[0;34m(\u001b[0m\u001b[0mkey\u001b[0m\u001b[0;34m)\u001b[0m\u001b[0;34m\u001b[0m\u001b[0;34m\u001b[0m\u001b[0m\n\u001b[0m\u001b[1;32m   3762\u001b[0m             \u001b[0;32mif\u001b[0m \u001b[0mis_integer\u001b[0m\u001b[0;34m(\u001b[0m\u001b[0mindexer\u001b[0m\u001b[0;34m)\u001b[0m\u001b[0;34m:\u001b[0m\u001b[0;34m\u001b[0m\u001b[0;34m\u001b[0m\u001b[0m\n\u001b[1;32m   3763\u001b[0m                 \u001b[0mindexer\u001b[0m \u001b[0;34m=\u001b[0m \u001b[0;34m[\u001b[0m\u001b[0mindexer\u001b[0m\u001b[0;34m]\u001b[0m\u001b[0;34m\u001b[0m\u001b[0;34m\u001b[0m\u001b[0m\n",
            "\u001b[0;32m/usr/local/lib/python3.10/dist-packages/pandas/core/indexes/base.py\u001b[0m in \u001b[0;36mget_loc\u001b[0;34m(self, key)\u001b[0m\n\u001b[1;32m   3653\u001b[0m             \u001b[0;32mreturn\u001b[0m \u001b[0mself\u001b[0m\u001b[0;34m.\u001b[0m\u001b[0m_engine\u001b[0m\u001b[0;34m.\u001b[0m\u001b[0mget_loc\u001b[0m\u001b[0;34m(\u001b[0m\u001b[0mcasted_key\u001b[0m\u001b[0;34m)\u001b[0m\u001b[0;34m\u001b[0m\u001b[0;34m\u001b[0m\u001b[0m\n\u001b[1;32m   3654\u001b[0m         \u001b[0;32mexcept\u001b[0m \u001b[0mKeyError\u001b[0m \u001b[0;32mas\u001b[0m \u001b[0merr\u001b[0m\u001b[0;34m:\u001b[0m\u001b[0;34m\u001b[0m\u001b[0;34m\u001b[0m\u001b[0m\n\u001b[0;32m-> 3655\u001b[0;31m             \u001b[0;32mraise\u001b[0m \u001b[0mKeyError\u001b[0m\u001b[0;34m(\u001b[0m\u001b[0mkey\u001b[0m\u001b[0;34m)\u001b[0m \u001b[0;32mfrom\u001b[0m \u001b[0merr\u001b[0m\u001b[0;34m\u001b[0m\u001b[0;34m\u001b[0m\u001b[0m\n\u001b[0m\u001b[1;32m   3656\u001b[0m         \u001b[0;32mexcept\u001b[0m \u001b[0mTypeError\u001b[0m\u001b[0;34m:\u001b[0m\u001b[0;34m\u001b[0m\u001b[0;34m\u001b[0m\u001b[0m\n\u001b[1;32m   3657\u001b[0m             \u001b[0;31m# If we have a listlike key, _check_indexing_error will raise\u001b[0m\u001b[0;34m\u001b[0m\u001b[0;34m\u001b[0m\u001b[0m\n",
            "\u001b[0;31mKeyError\u001b[0m: 'overview'"
          ]
        }
      ]
    },
    {
      "cell_type": "code",
      "source": [
        "movies['tags']="
      ],
      "metadata": {
        "colab": {
          "base_uri": "https://localhost:8080/",
          "height": 547
        },
        "id": "6JWWsZ9mdxbc",
        "outputId": "cb4de6ff-3cfe-4e12-fbeb-ab950799bc15"
      },
      "execution_count": null,
      "outputs": [
        {
          "output_type": "error",
          "ename": "KeyError",
          "evalue": "'overview'",
          "traceback": [
            "\u001b[0;31m---------------------------------------------------------------------------\u001b[0m",
            "\u001b[0;31mKeyError\u001b[0m                                  Traceback (most recent call last)",
            "\u001b[0;32m/usr/local/lib/python3.10/dist-packages/pandas/core/indexes/base.py\u001b[0m in \u001b[0;36mget_loc\u001b[0;34m(self, key)\u001b[0m\n\u001b[1;32m   3652\u001b[0m         \u001b[0;32mtry\u001b[0m\u001b[0;34m:\u001b[0m\u001b[0;34m\u001b[0m\u001b[0;34m\u001b[0m\u001b[0m\n\u001b[0;32m-> 3653\u001b[0;31m             \u001b[0;32mreturn\u001b[0m \u001b[0mself\u001b[0m\u001b[0;34m.\u001b[0m\u001b[0m_engine\u001b[0m\u001b[0;34m.\u001b[0m\u001b[0mget_loc\u001b[0m\u001b[0;34m(\u001b[0m\u001b[0mcasted_key\u001b[0m\u001b[0;34m)\u001b[0m\u001b[0;34m\u001b[0m\u001b[0;34m\u001b[0m\u001b[0m\n\u001b[0m\u001b[1;32m   3654\u001b[0m         \u001b[0;32mexcept\u001b[0m \u001b[0mKeyError\u001b[0m \u001b[0;32mas\u001b[0m \u001b[0merr\u001b[0m\u001b[0;34m:\u001b[0m\u001b[0;34m\u001b[0m\u001b[0;34m\u001b[0m\u001b[0m\n",
            "\u001b[0;32m/usr/local/lib/python3.10/dist-packages/pandas/_libs/index.pyx\u001b[0m in \u001b[0;36mpandas._libs.index.IndexEngine.get_loc\u001b[0;34m()\u001b[0m\n",
            "\u001b[0;32m/usr/local/lib/python3.10/dist-packages/pandas/_libs/index.pyx\u001b[0m in \u001b[0;36mpandas._libs.index.IndexEngine.get_loc\u001b[0;34m()\u001b[0m\n",
            "\u001b[0;32mpandas/_libs/hashtable_class_helper.pxi\u001b[0m in \u001b[0;36mpandas._libs.hashtable.PyObjectHashTable.get_item\u001b[0;34m()\u001b[0m\n",
            "\u001b[0;32mpandas/_libs/hashtable_class_helper.pxi\u001b[0m in \u001b[0;36mpandas._libs.hashtable.PyObjectHashTable.get_item\u001b[0;34m()\u001b[0m\n",
            "\u001b[0;31mKeyError\u001b[0m: 'overview'",
            "\nThe above exception was the direct cause of the following exception:\n",
            "\u001b[0;31mKeyError\u001b[0m                                  Traceback (most recent call last)",
            "\u001b[0;32m<ipython-input-98-90a282fce17f>\u001b[0m in \u001b[0;36m<cell line: 1>\u001b[0;34m()\u001b[0m\n\u001b[0;32m----> 1\u001b[0;31m \u001b[0mmovies\u001b[0m\u001b[0;34m[\u001b[0m\u001b[0;34m'tags'\u001b[0m\u001b[0;34m]\u001b[0m\u001b[0;34m=\u001b[0m\u001b[0mmovies\u001b[0m\u001b[0;34m[\u001b[0m\u001b[0;34m'overview'\u001b[0m\u001b[0;34m]\u001b[0m\u001b[0;34m+\u001b[0m\u001b[0mmovies\u001b[0m\u001b[0;34m[\u001b[0m\u001b[0;34m'genres'\u001b[0m\u001b[0;34m]\u001b[0m\u001b[0;34m+\u001b[0m\u001b[0mmovies\u001b[0m\u001b[0;34m[\u001b[0m\u001b[0;34m'keywords'\u001b[0m\u001b[0;34m]\u001b[0m\u001b[0;34m+\u001b[0m\u001b[0mmovies\u001b[0m\u001b[0;34m[\u001b[0m\u001b[0;34m'cast'\u001b[0m\u001b[0;34m]\u001b[0m\u001b[0;34m+\u001b[0m\u001b[0mmovies\u001b[0m\u001b[0;34m[\u001b[0m\u001b[0;34m'crew'\u001b[0m\u001b[0;34m]\u001b[0m\u001b[0;34m\u001b[0m\u001b[0;34m\u001b[0m\u001b[0m\n\u001b[0m",
            "\u001b[0;32m/usr/local/lib/python3.10/dist-packages/pandas/core/frame.py\u001b[0m in \u001b[0;36m__getitem__\u001b[0;34m(self, key)\u001b[0m\n\u001b[1;32m   3759\u001b[0m             \u001b[0;32mif\u001b[0m \u001b[0mself\u001b[0m\u001b[0;34m.\u001b[0m\u001b[0mcolumns\u001b[0m\u001b[0;34m.\u001b[0m\u001b[0mnlevels\u001b[0m \u001b[0;34m>\u001b[0m \u001b[0;36m1\u001b[0m\u001b[0;34m:\u001b[0m\u001b[0;34m\u001b[0m\u001b[0;34m\u001b[0m\u001b[0m\n\u001b[1;32m   3760\u001b[0m                 \u001b[0;32mreturn\u001b[0m \u001b[0mself\u001b[0m\u001b[0;34m.\u001b[0m\u001b[0m_getitem_multilevel\u001b[0m\u001b[0;34m(\u001b[0m\u001b[0mkey\u001b[0m\u001b[0;34m)\u001b[0m\u001b[0;34m\u001b[0m\u001b[0;34m\u001b[0m\u001b[0m\n\u001b[0;32m-> 3761\u001b[0;31m             \u001b[0mindexer\u001b[0m \u001b[0;34m=\u001b[0m \u001b[0mself\u001b[0m\u001b[0;34m.\u001b[0m\u001b[0mcolumns\u001b[0m\u001b[0;34m.\u001b[0m\u001b[0mget_loc\u001b[0m\u001b[0;34m(\u001b[0m\u001b[0mkey\u001b[0m\u001b[0;34m)\u001b[0m\u001b[0;34m\u001b[0m\u001b[0;34m\u001b[0m\u001b[0m\n\u001b[0m\u001b[1;32m   3762\u001b[0m             \u001b[0;32mif\u001b[0m \u001b[0mis_integer\u001b[0m\u001b[0;34m(\u001b[0m\u001b[0mindexer\u001b[0m\u001b[0;34m)\u001b[0m\u001b[0;34m:\u001b[0m\u001b[0;34m\u001b[0m\u001b[0;34m\u001b[0m\u001b[0m\n\u001b[1;32m   3763\u001b[0m                 \u001b[0mindexer\u001b[0m \u001b[0;34m=\u001b[0m \u001b[0;34m[\u001b[0m\u001b[0mindexer\u001b[0m\u001b[0;34m]\u001b[0m\u001b[0;34m\u001b[0m\u001b[0;34m\u001b[0m\u001b[0m\n",
            "\u001b[0;32m/usr/local/lib/python3.10/dist-packages/pandas/core/indexes/base.py\u001b[0m in \u001b[0;36mget_loc\u001b[0;34m(self, key)\u001b[0m\n\u001b[1;32m   3653\u001b[0m             \u001b[0;32mreturn\u001b[0m \u001b[0mself\u001b[0m\u001b[0;34m.\u001b[0m\u001b[0m_engine\u001b[0m\u001b[0;34m.\u001b[0m\u001b[0mget_loc\u001b[0m\u001b[0;34m(\u001b[0m\u001b[0mcasted_key\u001b[0m\u001b[0;34m)\u001b[0m\u001b[0;34m\u001b[0m\u001b[0;34m\u001b[0m\u001b[0m\n\u001b[1;32m   3654\u001b[0m         \u001b[0;32mexcept\u001b[0m \u001b[0mKeyError\u001b[0m \u001b[0;32mas\u001b[0m \u001b[0merr\u001b[0m\u001b[0;34m:\u001b[0m\u001b[0;34m\u001b[0m\u001b[0;34m\u001b[0m\u001b[0m\n\u001b[0;32m-> 3655\u001b[0;31m             \u001b[0;32mraise\u001b[0m \u001b[0mKeyError\u001b[0m\u001b[0;34m(\u001b[0m\u001b[0mkey\u001b[0m\u001b[0;34m)\u001b[0m \u001b[0;32mfrom\u001b[0m \u001b[0merr\u001b[0m\u001b[0;34m\u001b[0m\u001b[0;34m\u001b[0m\u001b[0m\n\u001b[0m\u001b[1;32m   3656\u001b[0m         \u001b[0;32mexcept\u001b[0m \u001b[0mTypeError\u001b[0m\u001b[0;34m:\u001b[0m\u001b[0;34m\u001b[0m\u001b[0;34m\u001b[0m\u001b[0m\n\u001b[1;32m   3657\u001b[0m             \u001b[0;31m# If we have a listlike key, _check_indexing_error will raise\u001b[0m\u001b[0;34m\u001b[0m\u001b[0;34m\u001b[0m\u001b[0m\n",
            "\u001b[0;31mKeyError\u001b[0m: 'overview'"
          ]
        }
      ]
    },
    {
      "cell_type": "code",
      "source": [
        "new_movies=movies[['movie_id','title','tags']]"
      ],
      "metadata": {
        "id": "zHUH3RGVeu-q"
      },
      "execution_count": null,
      "outputs": []
    },
    {
      "cell_type": "code",
      "source": [
        "movies.head(1)  # string --> list = split\n",
        "                # list --> string = join"
      ],
      "metadata": {
        "colab": {
          "base_uri": "https://localhost:8080/",
          "height": 188
        },
        "id": "hzUh0rQreEVk",
        "outputId": "204aaf5a-bb1d-415c-ca54-c9a8c98c05fd"
      },
      "execution_count": null,
      "outputs": [
        {
          "output_type": "execute_result",
          "data": {
            "text/plain": [
              "   movie_id   title                                           overview  \\\n",
              "0     19995  Avatar  In the 22nd century, a paraplegic Marine is di...   \n",
              "\n",
              "                                         genres  \\\n",
              "0  [Action, Adventure, Fantasy, ScienceFiction]   \n",
              "\n",
              "                                            keywords  \\\n",
              "0  [cultureclash, future, spacewar, spacecolony, ...   \n",
              "\n",
              "                                            cast            crew  \\\n",
              "0  [SamWorthington, ZoeSaldana, SigourneyWeaver]  [JamesCameron]   \n",
              "\n",
              "                                                tags  \n",
              "0  In the 22nd century, a paraplegic Marine is di...  "
            ],
            "text/html": [
              "\n",
              "  <div id=\"df-79f9f0f2-debf-4ed9-ad60-45e33b9045bf\" class=\"colab-df-container\">\n",
              "    <div>\n",
              "<style scoped>\n",
              "    .dataframe tbody tr th:only-of-type {\n",
              "        vertical-align: middle;\n",
              "    }\n",
              "\n",
              "    .dataframe tbody tr th {\n",
              "        vertical-align: top;\n",
              "    }\n",
              "\n",
              "    .dataframe thead th {\n",
              "        text-align: right;\n",
              "    }\n",
              "</style>\n",
              "<table border=\"1\" class=\"dataframe\">\n",
              "  <thead>\n",
              "    <tr style=\"text-align: right;\">\n",
              "      <th></th>\n",
              "      <th>movie_id</th>\n",
              "      <th>title</th>\n",
              "      <th>overview</th>\n",
              "      <th>genres</th>\n",
              "      <th>keywords</th>\n",
              "      <th>cast</th>\n",
              "      <th>crew</th>\n",
              "      <th>tags</th>\n",
              "    </tr>\n",
              "  </thead>\n",
              "  <tbody>\n",
              "    <tr>\n",
              "      <th>0</th>\n",
              "      <td>19995</td>\n",
              "      <td>Avatar</td>\n",
              "      <td>In the 22nd century, a paraplegic Marine is di...</td>\n",
              "      <td>[Action, Adventure, Fantasy, ScienceFiction]</td>\n",
              "      <td>[cultureclash, future, spacewar, spacecolony, ...</td>\n",
              "      <td>[SamWorthington, ZoeSaldana, SigourneyWeaver]</td>\n",
              "      <td>[JamesCameron]</td>\n",
              "      <td>In the 22nd century, a paraplegic Marine is di...</td>\n",
              "    </tr>\n",
              "  </tbody>\n",
              "</table>\n",
              "</div>\n",
              "    <div class=\"colab-df-buttons\">\n",
              "\n",
              "  <div class=\"colab-df-container\">\n",
              "    <button class=\"colab-df-convert\" onclick=\"convertToInteractive('df-79f9f0f2-debf-4ed9-ad60-45e33b9045bf')\"\n",
              "            title=\"Convert this dataframe to an interactive table.\"\n",
              "            style=\"display:none;\">\n",
              "\n",
              "  <svg xmlns=\"http://www.w3.org/2000/svg\" height=\"24px\" viewBox=\"0 -960 960 960\">\n",
              "    <path d=\"M120-120v-720h720v720H120Zm60-500h600v-160H180v160Zm220 220h160v-160H400v160Zm0 220h160v-160H400v160ZM180-400h160v-160H180v160Zm440 0h160v-160H620v160ZM180-180h160v-160H180v160Zm440 0h160v-160H620v160Z\"/>\n",
              "  </svg>\n",
              "    </button>\n",
              "\n",
              "  <style>\n",
              "    .colab-df-container {\n",
              "      display:flex;\n",
              "      gap: 12px;\n",
              "    }\n",
              "\n",
              "    .colab-df-convert {\n",
              "      background-color: #E8F0FE;\n",
              "      border: none;\n",
              "      border-radius: 50%;\n",
              "      cursor: pointer;\n",
              "      display: none;\n",
              "      fill: #1967D2;\n",
              "      height: 32px;\n",
              "      padding: 0 0 0 0;\n",
              "      width: 32px;\n",
              "    }\n",
              "\n",
              "    .colab-df-convert:hover {\n",
              "      background-color: #E2EBFA;\n",
              "      box-shadow: 0px 1px 2px rgba(60, 64, 67, 0.3), 0px 1px 3px 1px rgba(60, 64, 67, 0.15);\n",
              "      fill: #174EA6;\n",
              "    }\n",
              "\n",
              "    .colab-df-buttons div {\n",
              "      margin-bottom: 4px;\n",
              "    }\n",
              "\n",
              "    [theme=dark] .colab-df-convert {\n",
              "      background-color: #3B4455;\n",
              "      fill: #D2E3FC;\n",
              "    }\n",
              "\n",
              "    [theme=dark] .colab-df-convert:hover {\n",
              "      background-color: #434B5C;\n",
              "      box-shadow: 0px 1px 3px 1px rgba(0, 0, 0, 0.15);\n",
              "      filter: drop-shadow(0px 1px 2px rgba(0, 0, 0, 0.3));\n",
              "      fill: #FFFFFF;\n",
              "    }\n",
              "  </style>\n",
              "\n",
              "    <script>\n",
              "      const buttonEl =\n",
              "        document.querySelector('#df-79f9f0f2-debf-4ed9-ad60-45e33b9045bf button.colab-df-convert');\n",
              "      buttonEl.style.display =\n",
              "        google.colab.kernel.accessAllowed ? 'block' : 'none';\n",
              "\n",
              "      async function convertToInteractive(key) {\n",
              "        const element = document.querySelector('#df-79f9f0f2-debf-4ed9-ad60-45e33b9045bf');\n",
              "        const dataTable =\n",
              "          await google.colab.kernel.invokeFunction('convertToInteractive',\n",
              "                                                    [key], {});\n",
              "        if (!dataTable) return;\n",
              "\n",
              "        const docLinkHtml = 'Like what you see? Visit the ' +\n",
              "          '<a target=\"_blank\" href=https://colab.research.google.com/notebooks/data_table.ipynb>data table notebook</a>'\n",
              "          + ' to learn more about interactive tables.';\n",
              "        element.innerHTML = '';\n",
              "        dataTable['output_type'] = 'display_data';\n",
              "        await google.colab.output.renderOutput(dataTable, element);\n",
              "        const docLink = document.createElement('div');\n",
              "        docLink.innerHTML = docLinkHtml;\n",
              "        element.appendChild(docLink);\n",
              "      }\n",
              "    </script>\n",
              "  </div>\n",
              "\n",
              "\n",
              "    </div>\n",
              "  </div>\n"
            ],
            "application/vnd.google.colaboratory.intrinsic+json": {
              "type": "dataframe",
              "summary": "{\n  \"name\": \"                # list --> string = join\",\n  \"rows\": 1,\n  \"fields\": [\n    {\n      \"column\": \"movie_id\",\n      \"properties\": {\n        \"dtype\": \"number\",\n        \"std\": null,\n        \"min\": 19995,\n        \"max\": 19995,\n        \"num_unique_values\": 1,\n        \"samples\": [\n          19995\n        ],\n        \"semantic_type\": \"\",\n        \"description\": \"\"\n      }\n    },\n    {\n      \"column\": \"title\",\n      \"properties\": {\n        \"dtype\": \"string\",\n        \"num_unique_values\": 1,\n        \"samples\": [\n          \"Avatar\"\n        ],\n        \"semantic_type\": \"\",\n        \"description\": \"\"\n      }\n    },\n    {\n      \"column\": \"overview\",\n      \"properties\": {\n        \"dtype\": \"string\",\n        \"num_unique_values\": 1,\n        \"samples\": [\n          \"In the 22nd century, a paraplegic Marine is dispatched to the moon Pandora on a unique mission, but becomes torn between following orders and protecting an alien civilization.\"\n        ],\n        \"semantic_type\": \"\",\n        \"description\": \"\"\n      }\n    },\n    {\n      \"column\": \"genres\",\n      \"properties\": {\n        \"dtype\": \"object\",\n        \"semantic_type\": \"\",\n        \"description\": \"\"\n      }\n    },\n    {\n      \"column\": \"keywords\",\n      \"properties\": {\n        \"dtype\": \"object\",\n        \"semantic_type\": \"\",\n        \"description\": \"\"\n      }\n    },\n    {\n      \"column\": \"cast\",\n      \"properties\": {\n        \"dtype\": \"object\",\n        \"semantic_type\": \"\",\n        \"description\": \"\"\n      }\n    },\n    {\n      \"column\": \"crew\",\n      \"properties\": {\n        \"dtype\": \"object\",\n        \"semantic_type\": \"\",\n        \"description\": \"\"\n      }\n    },\n    {\n      \"column\": \"tags\",\n      \"properties\": {\n        \"dtype\": \"string\",\n        \"num_unique_values\": 1,\n        \"samples\": [\n          \"In the 22nd century, a paraplegic Marine is dispatched to the moon Pandora on a unique mission, but becomes torn between following orders and protecting an alien civilization.Action Adventure Fantasy ScienceFictioncultureclash future spacewar spacecolony society spacetravel futuristic romance space alien tribe alienplanet cgi marine soldier battle loveaffair antiwar powerrelations mindandsoul 3dSamWorthington ZoeSaldana SigourneyWeaverJamesCameron\"\n        ],\n        \"semantic_type\": \"\",\n        \"description\": \"\"\n      }\n    }\n  ]\n}"
            }
          },
          "metadata": {},
          "execution_count": 168
        }
      ]
    },
    {
      "cell_type": "code",
      "source": [
        "new_moviesnew_=movies['tags'].apply(lambda x: x.lower())"
      ],
      "metadata": {
        "id": "UQTEpHQ9I0Iv"
      },
      "execution_count": null,
      "outputs": []
    },
    {
      "cell_type": "code",
      "source": [
        "#  text---> vectors\n",
        "# more words , more dimensionality , more complexity, reduces performances"
      ],
      "metadata": {
        "id": "1zepnEYJJS2I"
      },
      "execution_count": null,
      "outputs": []
    },
    {
      "cell_type": "code",
      "source": [
        "from sklearn.feature_extraction.text import CountVectorizer\n"
      ],
      "metadata": {
        "id": "8tZ6ItigLHNv"
      },
      "execution_count": null,
      "outputs": []
    },
    {
      "cell_type": "code",
      "source": [
        "cv=CountVectorizer(max_features=7000,stop_words='english')"
      ],
      "metadata": {
        "id": "7kOoRE_lNzHg"
      },
      "execution_count": null,
      "outputs": []
    },
    {
      "cell_type": "code",
      "source": [
        "cv.fit_transform(new_movies['tags']).toarray().shape"
      ],
      "metadata": {
        "id": "qMmKy7kGLl45",
        "colab": {
          "base_uri": "https://localhost:8080/"
        },
        "outputId": "ad874a60-6605-4736-bcde-0a61194b429a"
      },
      "execution_count": null,
      "outputs": [
        {
          "output_type": "execute_result",
          "data": {
            "text/plain": [
              "(739, 7000)"
            ]
          },
          "metadata": {},
          "execution_count": 247
        }
      ]
    },
    {
      "cell_type": "code",
      "source": [
        "vectors=cv.fit_transform(new_movies['tags']).toarray()"
      ],
      "metadata": {
        "id": "t9PSt7gEPwks"
      },
      "execution_count": null,
      "outputs": []
    },
    {
      "cell_type": "code",
      "source": [
        "vectors.shape"
      ],
      "metadata": {
        "colab": {
          "base_uri": "https://localhost:8080/"
        },
        "id": "j_jwX0qCL0H5",
        "outputId": "b3263c48-cab4-4bab-bb32-bccb0946712e"
      },
      "execution_count": null,
      "outputs": [
        {
          "output_type": "execute_result",
          "data": {
            "text/plain": [
              "(739, 7000)"
            ]
          },
          "metadata": {},
          "execution_count": 249
        }
      ]
    },
    {
      "cell_type": "code",
      "source": [
        "!pip show scikit-learn"
      ],
      "metadata": {
        "colab": {
          "base_uri": "https://localhost:8080/"
        },
        "id": "2CL24hK1MeXs",
        "outputId": "76cccf2e-9d6e-4b8f-eff0-e15c73446ab1"
      },
      "execution_count": null,
      "outputs": [
        {
          "output_type": "stream",
          "name": "stdout",
          "text": [
            "Name: scikit-learn\n",
            "Version: 1.2.2\n",
            "Summary: A set of python modules for machine learning and data mining\n",
            "Home-page: http://scikit-learn.org\n",
            "Author: \n",
            "Author-email: \n",
            "License: new BSD\n",
            "Location: /usr/local/lib/python3.10/dist-packages\n",
            "Requires: joblib, numpy, scipy, threadpoolctl\n",
            "Required-by: bigframes, fastai, imbalanced-learn, librosa, mlxtend, qudida, sklearn-pandas, yellowbrick\n"
          ]
        }
      ]
    },
    {
      "cell_type": "code",
      "source": [
        "from sklearn.feature_extraction.text import CountVectorizer"
      ],
      "metadata": {
        "id": "BeN7wHaDMjoe"
      },
      "execution_count": null,
      "outputs": []
    },
    {
      "cell_type": "code",
      "source": [
        "from nltk.stem import WordNetLemmatizer\n",
        "import nltk\n",
        "nltk.download('wordnet')"
      ],
      "metadata": {
        "id": "tjS5OSVHMrva",
        "colab": {
          "base_uri": "https://localhost:8080/"
        },
        "outputId": "ec34e500-7191-4452-adf0-874eb145ce32"
      },
      "execution_count": null,
      "outputs": [
        {
          "output_type": "stream",
          "name": "stderr",
          "text": [
            "[nltk_data] Downloading package wordnet to /root/nltk_data...\n",
            "[nltk_data]   Package wordnet is already up-to-date!\n"
          ]
        },
        {
          "output_type": "execute_result",
          "data": {
            "text/plain": [
              "True"
            ]
          },
          "metadata": {},
          "execution_count": 174
        }
      ]
    },
    {
      "cell_type": "code",
      "source": [
        "lemmatizer=WordNetLemmatizer()\n"
      ],
      "metadata": {
        "id": "jj2W0_9pMvof"
      },
      "execution_count": null,
      "outputs": []
    },
    {
      "cell_type": "code",
      "source": [
        "def stem(text):\n",
        "  li=[]\n",
        "  for i in text.split():\n",
        "    li.append(lemmatizer.lemmatize(i))\n",
        "  return \" \".join(li)"
      ],
      "metadata": {
        "id": "VTZmImQfNy6a"
      },
      "execution_count": null,
      "outputs": []
    },
    {
      "cell_type": "code",
      "source": [
        "new_movies['tags'].apply(stem)"
      ],
      "metadata": {
        "id": "V3evuFFV4DZx",
        "colab": {
          "base_uri": "https://localhost:8080/"
        },
        "outputId": "dbeb0934-7caf-4fb4-fa83-8d883a74e4f6"
      },
      "execution_count": null,
      "outputs": [
        {
          "output_type": "execute_result",
          "data": {
            "text/plain": [
              "0      In the 22nd century, a paraplegic Marine is di...\n",
              "1      Captain Barbossa, long believed to be dead, ha...\n",
              "2      A cryptic message from Bond?s past sends him o...\n",
              "3      Following the death of District Attorney Harve...\n",
              "4      John Carter is a war-weary, former military ca...\n",
              "                             ...                        \n",
              "734    Once upon a time... in the far away kingdom of...\n",
              "735    Cabbie-turned-chauffeur Jimmy Tong learns ther...\n",
              "736    A passenger train ha been hijacked by an elect...\n",
              "737    Jack Ryan, a a young covert CIA analyst, uncov...\n",
              "738    A story based on the life of a struggling Long...\n",
              "Name: tags, Length: 739, dtype: object"
            ]
          },
          "metadata": {},
          "execution_count": 219
        }
      ]
    },
    {
      "cell_type": "code",
      "source": [
        "cv.get_feature_names_out()"
      ],
      "metadata": {
        "colab": {
          "base_uri": "https://localhost:8080/"
        },
        "id": "JYVmEzrkON-D",
        "outputId": "82c47782-a53b-4264-8c83-e648153161d2"
      },
      "execution_count": null,
      "outputs": [
        {
          "output_type": "execute_result",
          "data": {
            "text/plain": [
              "array(['000', '007', '10', ..., 'zookeeper', 'zorro',\n",
              "       'zoëkravitzrobertschwentke'], dtype=object)"
            ]
          },
          "metadata": {},
          "execution_count": 236
        }
      ]
    },
    {
      "cell_type": "code",
      "source": [
        "from sklearn.metrics.pairwise import cosine_similarity"
      ],
      "metadata": {
        "id": "WpNsi5LiOlY_"
      },
      "execution_count": null,
      "outputs": []
    },
    {
      "cell_type": "code",
      "source": [
        "cosine_similarity(vectors)"
      ],
      "metadata": {
        "colab": {
          "base_uri": "https://localhost:8080/"
        },
        "id": "7G9Do-u2PBQ7",
        "outputId": "0d09c68c-4190-41b2-f9e4-4769b079ad12"
      },
      "execution_count": null,
      "outputs": [
        {
          "output_type": "execute_result",
          "data": {
            "text/plain": [
              "array([[1.        , 0.        , 0.        , ..., 0.        , 0.05812382,\n",
              "        0.        ],\n",
              "       [0.        , 1.        , 0.        , ..., 0.        , 0.        ,\n",
              "        0.12909944],\n",
              "       [0.        , 0.        , 1.        , ..., 0.        , 0.        ,\n",
              "        0.        ],\n",
              "       ...,\n",
              "       [0.        , 0.        , 0.        , ..., 1.        , 0.07372098,\n",
              "        0.        ],\n",
              "       [0.05812382, 0.        , 0.        , ..., 0.07372098, 1.        ,\n",
              "        0.        ],\n",
              "       [0.        , 0.12909944, 0.        , ..., 0.        , 0.        ,\n",
              "        1.        ]])"
            ]
          },
          "metadata": {},
          "execution_count": 250
        }
      ]
    },
    {
      "cell_type": "code",
      "source": [
        "cosine_similarity(vectors).shape"
      ],
      "metadata": {
        "colab": {
          "base_uri": "https://localhost:8080/"
        },
        "id": "MBPU0JEUP7eR",
        "outputId": "8ced835c-7126-483b-bb02-07333ce50af0"
      },
      "execution_count": null,
      "outputs": [
        {
          "output_type": "execute_result",
          "data": {
            "text/plain": [
              "(739, 739)"
            ]
          },
          "metadata": {},
          "execution_count": 251
        }
      ]
    },
    {
      "cell_type": "code",
      "source": [
        "similarity=cosine_similarity(vectors)"
      ],
      "metadata": {
        "id": "PlGwARzOP9Cj"
      },
      "execution_count": null,
      "outputs": []
    },
    {
      "cell_type": "code",
      "source": [
        "similarity[0]"
      ],
      "metadata": {
        "colab": {
          "base_uri": "https://localhost:8080/"
        },
        "id": "sbo3MkaMQGiq",
        "outputId": "95ca096c-5985-43d9-f328-2ea333bf69b5"
      },
      "execution_count": null,
      "outputs": [
        {
          "output_type": "execute_result",
          "data": {
            "text/plain": [
              "array([1.        , 0.        , 0.        , 0.01898316, 0.07045671,\n",
              "       0.04474374, 0.        , 0.02507061, 0.        , 0.        ,\n",
              "       0.        , 0.02567481, 0.        , 0.        , 0.        ,\n",
              "       0.        , 0.        , 0.04109975, 0.06590622, 0.01979131,\n",
              "       0.        , 0.03106849, 0.        , 0.        , 0.        ,\n",
              "       0.        , 0.05333807, 0.10524567, 0.        , 0.02216755,\n",
              "       0.        , 0.02906191, 0.        , 0.        , 0.        ,\n",
              "       0.        , 0.09802862, 0.        , 0.        , 0.        ,\n",
              "       0.        , 0.04559608, 0.        , 0.04847862, 0.        ,\n",
              "       0.04559608, 0.06213698, 0.10356163, 0.02258194, 0.        ,\n",
              "       0.        , 0.        , 0.07798129, 0.        , 0.        ,\n",
              "       0.        , 0.0358748 , 0.02702703, 0.        , 0.01849633,\n",
              "       0.02632491, 0.03874921, 0.        , 0.04175738, 0.        ,\n",
              "       0.        , 0.        , 0.09320546, 0.0328798 , 0.        ,\n",
              "       0.        , 0.        , 0.        , 0.        , 0.1678604 ,\n",
              "       0.02666904, 0.        , 0.        , 0.        , 0.        ,\n",
              "       0.        , 0.01635831, 0.        , 0.10028244, 0.        ,\n",
              "       0.03321361, 0.        , 0.055577  , 0.        , 0.04168275,\n",
              "       0.        , 0.06448259, 0.02258194, 0.        , 0.06575959,\n",
              "       0.06774581, 0.        , 0.        , 0.        , 0.        ,\n",
              "       0.        , 0.        , 0.02104913, 0.02104913, 0.        ,\n",
              "       0.        , 0.        , 0.02158664, 0.07045671, 0.        ,\n",
              "       0.        , 0.05638839, 0.        , 0.        , 0.        ,\n",
              "       0.        , 0.        , 0.        , 0.        , 0.02348557,\n",
              "       0.        , 0.        , 0.        , 0.04559608, 0.        ,\n",
              "       0.02840382, 0.        , 0.03929887, 0.        , 0.        ,\n",
              "       0.        , 0.0277885 , 0.01885786, 0.        , 0.06575959,\n",
              "       0.        , 0.        , 0.03271662, 0.        , 0.04175738,\n",
              "       0.02398006, 0.07749843, 0.02702703, 0.        , 0.        ,\n",
              "       0.        , 0.        , 0.        , 0.03676073, 0.10701463,\n",
              "       0.11097799, 0.11961783, 0.        , 0.04047223, 0.        ,\n",
              "       0.        , 0.04078237, 0.        , 0.04355036, 0.        ,\n",
              "       0.01861452, 0.        , 0.        , 0.        , 0.        ,\n",
              "       0.        , 0.03001501, 0.        , 0.05198752, 0.02216755,\n",
              "       0.04649906, 0.        , 0.03504998, 0.        , 0.02450715,\n",
              "       0.        , 0.        , 0.        , 0.        , 0.        ,\n",
              "       0.        , 0.        , 0.        , 0.01742626, 0.10984369,\n",
              "       0.        , 0.        , 0.        , 0.        , 0.        ,\n",
              "       0.        , 0.        , 0.        , 0.01815483, 0.        ,\n",
              "       0.        , 0.        , 0.        , 0.        , 0.04244764,\n",
              "       0.        , 0.        , 0.        , 0.        , 0.        ,\n",
              "       0.        , 0.03485252, 0.02666904, 0.        , 0.        ,\n",
              "       0.        , 0.        , 0.        , 0.02071233, 0.        ,\n",
              "       0.        , 0.        , 0.        , 0.        , 0.        ,\n",
              "       0.1265544 , 0.        , 0.04142465, 0.02666904, 0.01804513,\n",
              "       0.        , 0.        , 0.02906191, 0.04697114, 0.01732917,\n",
              "       0.01752499, 0.        , 0.        , 0.        , 0.        ,\n",
              "       0.        , 0.06105625, 0.        , 0.01951057, 0.07974522,\n",
              "       0.        , 0.        , 0.        , 0.02258194, 0.        ,\n",
              "       0.02819419, 0.02237187, 0.        , 0.        , 0.0358748 ,\n",
              "       0.        , 0.        , 0.        , 0.        , 0.02507061,\n",
              "       0.        , 0.        , 0.02819419, 0.        , 0.        ,\n",
              "       0.13151919, 0.        , 0.        , 0.        , 0.        ,\n",
              "       0.        , 0.02702703, 0.        , 0.        , 0.        ,\n",
              "       0.04796011, 0.        , 0.        , 0.        , 0.0401358 ,\n",
              "       0.05905386, 0.        , 0.01993631, 0.04956816, 0.04796011,\n",
              "       0.        , 0.07702442, 0.        , 0.        , 0.        ,\n",
              "       0.        , 0.        , 0.02861819, 0.        , 0.        ,\n",
              "       0.        , 0.        , 0.        , 0.        , 0.0335578 ,\n",
              "       0.03001501, 0.        , 0.02258194, 0.        , 0.        ,\n",
              "       0.09913632, 0.13657399, 0.        , 0.        , 0.03304544,\n",
              "       0.12527215, 0.02861819, 0.05881717, 0.        , 0.        ,\n",
              "       0.        , 0.10269923, 0.05134962, 0.0358748 , 0.        ,\n",
              "       0.        , 0.        , 0.        , 0.        , 0.        ,\n",
              "       0.        , 0.        , 0.10959932, 0.        , 0.        ,\n",
              "       0.0358748 , 0.        , 0.        , 0.        , 0.        ,\n",
              "       0.02536731, 0.        , 0.05198752, 0.        , 0.02536731,\n",
              "       0.        , 0.        , 0.        , 0.        , 0.        ,\n",
              "       0.        , 0.        , 0.07494001, 0.02196874, 0.        ,\n",
              "       0.        , 0.        , 0.        , 0.        , 0.        ,\n",
              "       0.        , 0.        , 0.        , 0.        , 0.        ,\n",
              "       0.        , 0.0316386 , 0.        , 0.        , 0.0335578 ,\n",
              "       0.        , 0.02702703, 0.        , 0.04393748, 0.        ,\n",
              "       0.05134962, 0.        , 0.        , 0.03052813, 0.04796011,\n",
              "       0.        , 0.        , 0.02536731, 0.1434992 , 0.        ,\n",
              "       0.02177518, 0.        , 0.        , 0.        , 0.        ,\n",
              "       0.        , 0.        , 0.        , 0.        , 0.        ,\n",
              "       0.        , 0.        , 0.        , 0.        , 0.        ,\n",
              "       0.        , 0.018735  , 0.        , 0.        , 0.        ,\n",
              "       0.02952693, 0.        , 0.02906191, 0.        , 0.        ,\n",
              "       0.        , 0.0335578 , 0.        , 0.        , 0.0335578 ,\n",
              "       0.        , 0.02279804, 0.        , 0.        , 0.        ,\n",
              "       0.02324953, 0.        , 0.02423931, 0.02666904, 0.        ,\n",
              "       0.03338438, 0.        , 0.        , 0.        , 0.        ,\n",
              "       0.02372895, 0.        , 0.07352146, 0.02450715, 0.        ,\n",
              "       0.02348557, 0.        , 0.        , 0.01849633, 0.        ,\n",
              "       0.05014122, 0.        , 0.07118685, 0.        , 0.        ,\n",
              "       0.        , 0.        , 0.        , 0.        , 0.0316386 ,\n",
              "       0.        , 0.        , 0.        , 0.        , 0.        ,\n",
              "       0.        , 0.        , 0.        , 0.02279804, 0.        ,\n",
              "       0.        , 0.        , 0.        , 0.        , 0.0949158 ,\n",
              "       0.        , 0.04559608, 0.        , 0.        , 0.        ,\n",
              "       0.        , 0.09320546, 0.        , 0.        , 0.        ,\n",
              "       0.        , 0.1076244 , 0.02216755, 0.        , 0.02104913,\n",
              "       0.        , 0.        , 0.        , 0.05405405, 0.        ,\n",
              "       0.02258194, 0.03676073, 0.        , 0.        , 0.        ,\n",
              "       0.        , 0.        , 0.        , 0.0335578 , 0.        ,\n",
              "       0.        , 0.        , 0.07543143, 0.03722904, 0.        ,\n",
              "       0.03987261, 0.        , 0.        , 0.        , 0.        ,\n",
              "       0.07974522, 0.        , 0.        , 0.        , 0.        ,\n",
              "       0.        , 0.        , 0.11742785, 0.        , 0.        ,\n",
              "       0.03676073, 0.        , 0.15110651, 0.        , 0.        ,\n",
              "       0.055577  , 0.        , 0.03106849, 0.05264981, 0.        ,\n",
              "       0.        , 0.        , 0.        , 0.        , 0.        ,\n",
              "       0.        , 0.02423931, 0.        , 0.        , 0.        ,\n",
              "       0.        , 0.        , 0.        , 0.        , 0.09208185,\n",
              "       0.03771571, 0.        , 0.01885786, 0.03676073, 0.        ,\n",
              "       0.02567481, 0.05405405, 0.        , 0.        , 0.16439899,\n",
              "       0.        , 0.04649906, 0.        , 0.        , 0.        ,\n",
              "       0.        , 0.        , 0.        , 0.        , 0.09695723,\n",
              "       0.        , 0.        , 0.        , 0.        , 0.        ,\n",
              "       0.01546536, 0.        , 0.05264981, 0.        , 0.        ,\n",
              "       0.01713978, 0.        , 0.        , 0.        , 0.06213698,\n",
              "       0.        , 0.        , 0.        , 0.08219949, 0.        ,\n",
              "       0.03874921, 0.        , 0.        , 0.        , 0.        ,\n",
              "       0.        , 0.        , 0.05812382, 0.04175738, 0.0949158 ,\n",
              "       0.        , 0.06855912, 0.1823843 , 0.        , 0.        ,\n",
              "       0.        , 0.        , 0.        , 0.02702703, 0.04142465,\n",
              "       0.        , 0.        , 0.        , 0.        , 0.        ,\n",
              "       0.06974858, 0.02372895, 0.        , 0.        , 0.03001501,\n",
              "       0.02372895, 0.        , 0.        , 0.        , 0.        ,\n",
              "       0.        , 0.        , 0.        , 0.        , 0.        ,\n",
              "       0.        , 0.        , 0.        , 0.        , 0.02599376,\n",
              "       0.        , 0.        , 0.05198752, 0.        , 0.        ,\n",
              "       0.        , 0.        , 0.        , 0.        , 0.        ,\n",
              "       0.        , 0.06213698, 0.        , 0.        , 0.        ,\n",
              "       0.        , 0.        , 0.05638839, 0.        , 0.055577  ,\n",
              "       0.06974858, 0.        , 0.02632491, 0.        , 0.        ,\n",
              "       0.        , 0.        , 0.        , 0.05264981, 0.        ,\n",
              "       0.        , 0.02599376, 0.04901431, 0.        , 0.        ,\n",
              "       0.        , 0.        , 0.        , 0.03874921, 0.        ,\n",
              "       0.        , 0.        , 0.        , 0.        , 0.        ,\n",
              "       0.        , 0.08948747, 0.        , 0.        , 0.        ,\n",
              "       0.        , 0.        , 0.        , 0.        , 0.        ,\n",
              "       0.        , 0.        , 0.02507061, 0.        , 0.02478408,\n",
              "       0.        , 0.        , 0.        , 0.        , 0.        ,\n",
              "       0.02861819, 0.        , 0.        , 0.        , 0.        ,\n",
              "       0.        , 0.        , 0.055577  , 0.02348557, 0.        ,\n",
              "       0.        , 0.        , 0.09802862, 0.        , 0.        ,\n",
              "       0.        , 0.        , 0.        , 0.        , 0.        ,\n",
              "       0.        , 0.02906191, 0.        , 0.        , 0.05014122,\n",
              "       0.        , 0.        , 0.        , 0.        , 0.        ,\n",
              "       0.        , 0.        , 0.        , 0.        , 0.        ,\n",
              "       0.        , 0.        , 0.        , 0.        , 0.        ,\n",
              "       0.        , 0.        , 0.        , 0.        , 0.        ,\n",
              "       0.        , 0.        , 0.        , 0.        , 0.        ,\n",
              "       0.        , 0.        , 0.        , 0.02023612, 0.        ,\n",
              "       0.        , 0.        , 0.05812382, 0.        ])"
            ]
          },
          "metadata": {},
          "execution_count": 254
        }
      ]
    },
    {
      "cell_type": "code",
      "source": [
        "def recommend(movie):\n",
        "  index = new_movies[new_movies['title'] == movie].index[0]\n",
        "  distances = sorted(list(enumerate(similarity[index])),reverse=True,key = lambda x: x[1])\n",
        "  for i in distances[1:6]:                                           # sorting on the basis of 2nd number\n",
        "      print(new_movies.iloc[i[0]].title)"
      ],
      "metadata": {
        "id": "CW_mEH58QSsA"
      },
      "execution_count": null,
      "outputs": []
    },
    {
      "cell_type": "code",
      "source": [
        "recommend(\"Pirates of the Caribbean: At World's End\")"
      ],
      "metadata": {
        "colab": {
          "base_uri": "https://localhost:8080/"
        },
        "id": "UH7rPtLuSwac",
        "outputId": "44f9a7e2-413d-4003-b63e-98af4d6298bb"
      },
      "execution_count": null,
      "outputs": [
        {
          "output_type": "stream",
          "name": "stdout",
          "text": [
            "Pirates of the Caribbean: Dead Man's Chest\n",
            "Pirates of the Caribbean: On Stranger Tides\n",
            "Pirates of the Caribbean: The Curse of the Black Pearl\n",
            "In the Heart of the Sea\n",
            "Life of Pi\n"
          ]
        }
      ]
    }
  ]
}
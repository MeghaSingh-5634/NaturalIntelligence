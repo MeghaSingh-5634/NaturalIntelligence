{
  "nbformat": 4,
  "nbformat_minor": 0,
  "metadata": {
    "colab": {
      "provenance": [],
      "authorship_tag": "ABX9TyMQftO8W7UO7KV/ekqELvEi",
      "include_colab_link": true
    },
    "kernelspec": {
      "name": "python3",
      "display_name": "Python 3"
    },
    "language_info": {
      "name": "python"
    }
  },
  "cells": [
    {
      "cell_type": "markdown",
      "metadata": {
        "id": "view-in-github",
        "colab_type": "text"
      },
      "source": [
        "<a href=\"https://colab.research.google.com/github/MeghaSingh-5634/NaturalIntelligence/blob/main/BagOfWords.ipynb\" target=\"_parent\"><img src=\"https://colab.research.google.com/assets/colab-badge.svg\" alt=\"Open In Colab\"/></a>"
      ]
    },
    {
      "cell_type": "code",
      "execution_count": null,
      "metadata": {
        "id": "cFZVEdelviFs",
        "colab": {
          "base_uri": "https://localhost:8080/"
        },
        "outputId": "f716e22a-701d-4cb9-d721-8389265d8471"
      },
      "outputs": [
        {
          "output_type": "stream",
          "name": "stderr",
          "text": [
            "[nltk_data] Downloading package punkt to /root/nltk_data...\n",
            "[nltk_data]   Unzipping tokenizers/punkt.zip.\n",
            "[nltk_data] Downloading package wordnet to /root/nltk_data...\n",
            "[nltk_data] Downloading package stopwords to /root/nltk_data...\n",
            "[nltk_data]   Unzipping corpora/stopwords.zip.\n"
          ]
        },
        {
          "output_type": "execute_result",
          "data": {
            "text/plain": [
              "True"
            ]
          },
          "metadata": {},
          "execution_count": 1
        }
      ],
      "source": [
        "import nltk\n",
        "from nltk.corpus import stopwords\n",
        "from nltk.stem import WordNetLemmatizer\n",
        "nltk.download(\"punkt\")\n",
        "nltk.download(\"wordnet\")\n",
        "nltk.download(\"stopwords\")"
      ]
    },
    {
      "cell_type": "code",
      "source": [
        "paragraph=\"\"\"I have three visions for India. In 3000 years of our history people from all over the world have come and invaded us, captured our lands, conquered our minds.\n",
        "From Alexander onwards the Greeks, the Turks, the Moguls, the Portuguese, the British, the French, the Dutch, all of them came and looted us, took over what was ours.\n",
        "Yet we have not done this to any other nation. We have not conquered anyone.\n",
        "We have not grabbed their land, their culture and their history and tried to enforce our way of life on them.\n",
        "Why? Because we respect the freedom of others. That is why my FIRST VISION is that of FREEDOM.\n",
        "I believe that India got its first vision of this in 1857, when we started the war of Independence.\n",
        "It is this freedom that we must protect and nurture and build on. If we are not free, no one will respect us.\n",
        "We have 10 percent growth rate in most areas. Our poverty levels are falling.\n",
        "Our achievements are being globally recognised today. Yet we lack the self-confidence to see ourselves as a developed nation, self-reliant and self-assured.\n",
        "Isn’t this incorrect? MY SECOND VISION for India is DEVELOPMENT. For fifty years we have been a developing nation.\n",
        "It is time we see ourselves as a developed nation. We are among top five nations in the world in terms of GDP.\n",
        "I have a THIRD VISION. India must stand up to the world. Because I believe that unless India stands up to the world, no one will respect us.\n",
        "Only strength respects strength. We must be strong not only as a military power but also as an economic power. Both must go hand-in-hand.\n",
        "My good fortune was to have worked with three great minds. Dr.Vikram Sarabhai, of the Dept. of Space, Professor Satish Dhawan, who succeeded him and Dr.\n",
        "Brahm Prakash, father of nuclear material.\n",
        "I was lucky to have worked with all three of them closely and consider this the great opportunity . I see four milestones in my career.\"\"\""
      ],
      "metadata": {
        "id": "3q6l5isC1xVy"
      },
      "execution_count": null,
      "outputs": []
    },
    {
      "cell_type": "code",
      "source": [
        "lemmatizer=nltk.WordNetLemmatizer()\n",
        "sentences=nltk.sent_tokenize(paragraph)"
      ],
      "metadata": {
        "id": "n3Spve-Y1_b3"
      },
      "execution_count": null,
      "outputs": []
    },
    {
      "cell_type": "code",
      "source": [
        "import re\n",
        "corpus=[]"
      ],
      "metadata": {
        "id": "e9R_jIb145zd"
      },
      "execution_count": null,
      "outputs": []
    },
    {
      "cell_type": "code",
      "source": [
        "for i in range(len(sentences)):\n",
        "  # review=re.sub('[a-zA-Z]','',sentences[i])\n",
        "  # review=review.lower()\n",
        "  # review=review.split()\n",
        "  # review=[lemmatizer.lemmatize(word) for word in review if word not in set(stopwords.words('english'))]\n",
        "  # #lemmatizer.lemmatize(word) for word in words if word not in set(('english'))\n",
        "  # review=''.join(review)\n",
        "  # corpus.append(review)\n",
        "    review = re.sub(r'\\W', ' ', sentences[i])  # Use \\W to remove non-alphabetic characters\n",
        "    review = review.lower()\n",
        "    review = review.split()\n",
        "    review = [lemmatizer.lemmatize(word) for word in review if word not in set(stopwords.words('english'))]\n",
        "    review = ' '.join(review)  # Joining the lemmatized words with space\n",
        "    corpus.append(review)"
      ],
      "metadata": {
        "id": "LNqeGWts5ABe"
      },
      "execution_count": null,
      "outputs": []
    },
    {
      "cell_type": "code",
      "source": [
        "from sklearn.feature_extraction.text import CountVectorizer\n",
        "cv = CountVectorizer(max_features=1500)\n",
        "X = cv.fit_transform(corpus).toarray()\n",
        "print(X)\n",
        "\n"
      ],
      "metadata": {
        "colab": {
          "base_uri": "https://localhost:8080/"
        },
        "id": "-lfp_t-BclZ0",
        "outputId": "8c16a8ae-1029-4cef-86c0-f6c7bba9731d"
      },
      "execution_count": null,
      "outputs": [
        {
          "output_type": "stream",
          "name": "stdout",
          "text": [
            "[[0 0 0 ... 0 0 0]\n",
            " [0 0 1 ... 1 1 0]\n",
            " [0 0 0 ... 0 0 0]\n",
            " ...\n",
            " [0 0 0 ... 0 0 0]\n",
            " [0 0 0 ... 0 0 0]\n",
            " [0 0 0 ... 0 0 0]]\n"
          ]
        }
      ]
    },
    {
      "cell_type": "code",
      "source": [
        "feature_names = cv.get_feature_names_out()\n",
        "\n",
        "# Iterate over each row and column to print the word and its frequency\n",
        "for i, sentence in enumerate(X):\n",
        "    print(f\"Sentence {i + 1}:\")\n",
        "    for j, count in enumerate(sentence):\n",
        "        if count > 0:\n",
        "            print(f\"   {feature_names[j]}: {count}\")"
      ],
      "metadata": {
        "id": "INOkzf_N6mTg",
        "colab": {
          "base_uri": "https://localhost:8080/"
        },
        "outputId": "3a684940-c85d-45ab-d096-012e7263f576"
      },
      "execution_count": null,
      "outputs": [
        {
          "output_type": "stream",
          "name": "stdout",
          "text": [
            "Sentence 1:\n",
            "   india: 1\n",
            "   three: 1\n",
            "   vision: 1\n",
            "Sentence 2:\n",
            "   3000: 1\n",
            "   captured: 1\n",
            "   come: 1\n",
            "   conquered: 1\n",
            "   history: 1\n",
            "   invaded: 1\n",
            "   land: 1\n",
            "   mind: 1\n",
            "   people: 1\n",
            "   world: 1\n",
            "   year: 1\n",
            "Sentence 3:\n",
            "   alexander: 1\n",
            "   british: 1\n",
            "   came: 1\n",
            "   dutch: 1\n",
            "   french: 1\n",
            "   greek: 1\n",
            "   looted: 1\n",
            "   mogul: 1\n",
            "   onwards: 1\n",
            "   portuguese: 1\n",
            "   took: 1\n",
            "   turk: 1\n",
            "Sentence 4:\n",
            "   done: 1\n",
            "   nation: 1\n",
            "   yet: 1\n",
            "Sentence 5:\n",
            "   anyone: 1\n",
            "   conquered: 1\n",
            "Sentence 6:\n",
            "   culture: 1\n",
            "   enforce: 1\n",
            "   grabbed: 1\n",
            "   history: 1\n",
            "   land: 1\n",
            "   life: 1\n",
            "   tried: 1\n",
            "   way: 1\n",
            "Sentence 7:\n",
            "Sentence 8:\n",
            "   freedom: 1\n",
            "   others: 1\n",
            "   respect: 1\n",
            "Sentence 9:\n",
            "   first: 1\n",
            "   freedom: 1\n",
            "   vision: 1\n",
            "Sentence 10:\n",
            "   1857: 1\n",
            "   believe: 1\n",
            "   first: 1\n",
            "   got: 1\n",
            "   independence: 1\n",
            "   india: 1\n",
            "   started: 1\n",
            "   vision: 1\n",
            "   war: 1\n",
            "Sentence 11:\n",
            "   build: 1\n",
            "   freedom: 1\n",
            "   must: 1\n",
            "   nurture: 1\n",
            "   protect: 1\n",
            "Sentence 12:\n",
            "   free: 1\n",
            "   one: 1\n",
            "   respect: 1\n",
            "Sentence 13:\n",
            "   10: 1\n",
            "   area: 1\n",
            "   growth: 1\n",
            "   percent: 1\n",
            "   rate: 1\n",
            "Sentence 14:\n",
            "   falling: 1\n",
            "   level: 1\n",
            "   poverty: 1\n",
            "Sentence 15:\n",
            "   achievement: 1\n",
            "   globally: 1\n",
            "   recognised: 1\n",
            "   today: 1\n",
            "Sentence 16:\n",
            "   assured: 1\n",
            "   confidence: 1\n",
            "   developed: 1\n",
            "   lack: 1\n",
            "   nation: 1\n",
            "   reliant: 1\n",
            "   see: 1\n",
            "   self: 3\n",
            "   yet: 1\n",
            "Sentence 17:\n",
            "   incorrect: 1\n",
            "Sentence 18:\n",
            "   development: 1\n",
            "   india: 1\n",
            "   second: 1\n",
            "   vision: 1\n",
            "Sentence 19:\n",
            "   developing: 1\n",
            "   fifty: 1\n",
            "   nation: 1\n",
            "   year: 1\n",
            "Sentence 20:\n",
            "   developed: 1\n",
            "   nation: 1\n",
            "   see: 1\n",
            "   time: 1\n",
            "Sentence 21:\n",
            "   among: 1\n",
            "   five: 1\n",
            "   gdp: 1\n",
            "   nation: 1\n",
            "   term: 1\n",
            "   top: 1\n",
            "   world: 1\n",
            "Sentence 22:\n",
            "   third: 1\n",
            "   vision: 1\n",
            "Sentence 23:\n",
            "   india: 1\n",
            "   must: 1\n",
            "   stand: 1\n",
            "   world: 1\n",
            "Sentence 24:\n",
            "   believe: 1\n",
            "   india: 1\n",
            "   one: 1\n",
            "   respect: 1\n",
            "   stand: 1\n",
            "   unless: 1\n",
            "   world: 1\n",
            "Sentence 25:\n",
            "   respect: 1\n",
            "   strength: 2\n",
            "Sentence 26:\n",
            "   also: 1\n",
            "   economic: 1\n",
            "   military: 1\n",
            "   must: 1\n",
            "   power: 2\n",
            "   strong: 1\n",
            "Sentence 27:\n",
            "   go: 1\n",
            "   hand: 2\n",
            "   must: 1\n",
            "Sentence 28:\n",
            "   fortune: 1\n",
            "   good: 1\n",
            "   great: 1\n",
            "   mind: 1\n",
            "   three: 1\n",
            "   worked: 1\n",
            "Sentence 29:\n",
            "   dept: 1\n",
            "   dr: 1\n",
            "   sarabhai: 1\n",
            "   vikram: 1\n",
            "Sentence 30:\n",
            "   brahm: 1\n",
            "   dhawan: 1\n",
            "   dr: 1\n",
            "   father: 1\n",
            "   material: 1\n",
            "   nuclear: 1\n",
            "   prakash: 1\n",
            "   professor: 1\n",
            "   satish: 1\n",
            "   space: 1\n",
            "   succeeded: 1\n",
            "Sentence 31:\n",
            "   closely: 1\n",
            "   consider: 1\n",
            "   great: 1\n",
            "   lucky: 1\n",
            "   opportunity: 1\n",
            "   three: 1\n",
            "   worked: 1\n",
            "Sentence 32:\n",
            "   career: 1\n",
            "   four: 1\n",
            "   milestone: 1\n",
            "   see: 1\n"
          ]
        }
      ]
    },
    {
      "cell_type": "code",
      "source": [
        "\n"
      ],
      "metadata": {
        "id": "Zi7TKqceIpSM"
      },
      "execution_count": null,
      "outputs": []
    },
    {
      "cell_type": "code",
      "source": [],
      "metadata": {
        "id": "jWYxDXyFHXU9"
      },
      "execution_count": null,
      "outputs": []
    }
  ]
}
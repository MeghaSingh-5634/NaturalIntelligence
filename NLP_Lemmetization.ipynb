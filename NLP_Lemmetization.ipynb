{
  "nbformat": 4,
  "nbformat_minor": 0,
  "metadata": {
    "colab": {
      "provenance": [],
      "authorship_tag": "ABX9TyPYNJEBPNtWOnMIBVfsqh5C",
      "include_colab_link": true
    },
    "kernelspec": {
      "name": "python3",
      "display_name": "Python 3"
    },
    "language_info": {
      "name": "python"
    }
  },
  "cells": [
    {
      "cell_type": "markdown",
      "metadata": {
        "id": "view-in-github",
        "colab_type": "text"
      },
      "source": [
        "<a href=\"https://colab.research.google.com/github/MeghaSingh-5634/NaturalIntelligence/blob/main/NLP_Lemmetization.ipynb\" target=\"_parent\"><img src=\"https://colab.research.google.com/assets/colab-badge.svg\" alt=\"Open In Colab\"/></a>"
      ]
    },
    {
      "cell_type": "code",
      "execution_count": null,
      "metadata": {
        "colab": {
          "base_uri": "https://localhost:8080/"
        },
        "id": "lOMJX_ha292G",
        "outputId": "0bfd44f1-3109-4664-aaa1-b55c49d706e6"
      },
      "outputs": [
        {
          "output_type": "stream",
          "name": "stderr",
          "text": [
            "[nltk_data] Downloading package punkt to /root/nltk_data...\n",
            "[nltk_data]   Package punkt is already up-to-date!\n",
            "[nltk_data] Downloading package stopwords to /root/nltk_data...\n",
            "[nltk_data]   Package stopwords is already up-to-date!\n",
            "[nltk_data] Downloading package wordnet to /root/nltk_data...\n"
          ]
        },
        {
          "output_type": "execute_result",
          "data": {
            "text/plain": [
              "True"
            ]
          },
          "metadata": {},
          "execution_count": 19
        }
      ],
      "source": [
        "import nltk\n",
        "from nltk.stem import WordNetLemmatizer\n",
        "from nltk.corpus import stopwords\n",
        "nltk.download(\"punkt\")\n",
        "nltk.download(\"stopwords\")\n",
        "nltk.download('wordnet')\n",
        "\"\"\"WordNet can be described as a comprehensive lexical database of the English language that organizes words into sets of synonyms (synsets) and\n",
        "provides information about their semantic relationships. It offers a structured representation of word meanings and their connections, making it\n",
        "a valuable resource for understanding language semantics.\n",
        "Example:\n",
        "Let's say we want to explore the word \"car\" in WordNet.\n",
        "In WordNet, \"car\" belongs to a synset that includes synonyms like \"automobile,\" \"motorcar,\" and \"machine.\"\n",
        "Additionally, WordNet provides information about semantic relationships such as hypernyms (more general terms) like \"vehicle,\"\n",
        "hyponyms (more specific terms) like \"sedan\" and \"convertible,\" as well as related concepts like \"drive\" and \"engine.\"\"\"\n",
        "\"\"\" WordNet helps disambiguate the meaning of words by providing multiple senses and their relationships. NLP systems can use this information\n",
        "to determine the correct sense of a word in a given context.\n",
        "In summary, WordNet enhances NLP systems by providing a rich source of semantic knowledge, enabling them to better understand, interpret,\n",
        "and generate natural language text.\n",
        "\n",
        "\n"
      ]
    },
    {
      "cell_type": "code",
      "source": [
        "paragraph=\"\"\"I have three visions for India. In 3000 years of our history people from all over the world have come and invaded us, captured our lands, conquered our minds.\n",
        "From Alexander onwards the Greeks, the Turks, the Moguls, the Portuguese, the British, the French, the Dutch, all of them came and looted us, took over what was ours.\n",
        "Yet we have not done this to any other nation. We have not conquered anyone.\n",
        "We have not grabbed their land, their culture and their history and tried to enforce our way of life on them.\n",
        "Why? Because we respect the freedom of others. That is why my FIRST VISION is that of FREEDOM.\n",
        "I believe that India got its first vision of this in 1857, when we started the war of Independence.\n",
        "It is this freedom that we must protect and nurture and build on. If we are not free, no one will respect us.\n",
        "We have 10 percent growth rate in most areas. Our poverty levels are falling.\n",
        "Our achievements are being globally recognised today. Yet we lack the self-confidence to see ourselves as a developed nation, self-reliant and self-assured.\n",
        "Isn’t this incorrect? MY SECOND VISION for India is DEVELOPMENT. For fifty years we have been a developing nation.\n",
        "It is time we see ourselves as a developed nation. We are among top five nations in the world in terms of GDP.\n",
        "I have a THIRD VISION. India must stand up to the world. Because I believe that unless India stands up to the world, no one will respect us.\n",
        "Only strength respects strength. We must be strong not only as a military power but also as an economic power. Both must go hand-in-hand.\n",
        "My good fortune was to have worked with three great minds. Dr.Vikram Sarabhai, of the Dept. of Space, Professor Satish Dhawan, who succeeded him and Dr.\n",
        "Brahm Prakash, father of nuclear material.\n",
        "I was lucky to have worked with all three of them closely and consider this the great opportunity . I see four milestones in my career.\"\"\"\n"
      ],
      "metadata": {
        "id": "2g-hP5r83oM4"
      },
      "execution_count": null,
      "outputs": []
    },
    {
      "cell_type": "code",
      "source": [
        "lemmatizer=WordNetLemmatizer()\n",
        "sentences=nltk.sent_tokenize(paragraph)"
      ],
      "metadata": {
        "id": "ycGWWuQi3qzh"
      },
      "execution_count": null,
      "outputs": []
    },
    {
      "cell_type": "code",
      "source": [
        "for i in range(len(sentences)):\n",
        "  words=nltk.word_tokenize(sentences[i])\n",
        "  words=[lemmatizer.lemmatize(word) for word in words if word not in set(stopwords.words('english'))]\n",
        "  sentences[i]=''.join(words)\n",
        "  print(words)"
      ],
      "metadata": {
        "colab": {
          "base_uri": "https://localhost:8080/"
        },
        "id": "imU3tITr31nD",
        "outputId": "92547224-a990-4962-e212-b43bd9fffd28"
      },
      "execution_count": null,
      "outputs": [
        {
          "output_type": "stream",
          "name": "stdout",
          "text": [
            "['I', 'three', 'vision', 'India', '.']\n",
            "['In', '3000', 'year', 'history', 'people', 'world', 'come', 'invaded', 'u', ',', 'captured', 'land', ',', 'conquered', 'mind', '.']\n",
            "['From', 'Alexander', 'onwards', 'Greeks', ',', 'Turks', ',', 'Moguls', ',', 'Portuguese', ',', 'British', ',', 'French', ',', 'Dutch', ',', 'came', 'looted', 'u', ',', 'took', '.']\n",
            "['Yet', 'done', 'nation', '.']\n",
            "['We', 'conquered', 'anyone', '.']\n",
            "['We', 'grabbed', 'land', ',', 'culture', 'history', 'tried', 'enforce', 'way', 'life', '.']\n",
            "['Why', '?']\n",
            "['Because', 'respect', 'freedom', 'others', '.']\n",
            "['That', 'FIRST', 'VISION', 'FREEDOM', '.']\n",
            "['I', 'believe', 'India', 'got', 'first', 'vision', '1857', ',', 'started', 'war', 'Independence', '.']\n",
            "['It', 'freedom', 'must', 'protect', 'nurture', 'build', '.']\n",
            "['If', 'free', ',', 'one', 'respect', 'u', '.']\n",
            "['We', '10', 'percent', 'growth', 'rate', 'area', '.']\n",
            "['Our', 'poverty', 'level', 'falling', '.']\n",
            "['Our', 'achievement', 'globally', 'recognised', 'today', '.']\n",
            "['Yet', 'lack', 'self-confidence', 'see', 'developed', 'nation', ',', 'self-reliant', 'self-assured', '.']\n",
            "['Isn', '’', 'incorrect', '?']\n",
            "['MY', 'SECOND', 'VISION', 'India', 'DEVELOPMENT', '.']\n",
            "['For', 'fifty', 'year', 'developing', 'nation', '.']\n",
            "['It', 'time', 'see', 'developed', 'nation', '.']\n",
            "['We', 'among', 'top', 'five', 'nation', 'world', 'term', 'GDP', '.']\n",
            "['I', 'THIRD', 'VISION', '.']\n",
            "['India', 'must', 'stand', 'world', '.']\n",
            "['Because', 'I', 'believe', 'unless', 'India', 'stand', 'world', ',', 'one', 'respect', 'u', '.']\n",
            "['Only', 'strength', 'respect', 'strength', '.']\n",
            "['We', 'must', 'strong', 'military', 'power', 'also', 'economic', 'power', '.']\n",
            "['Both', 'must', 'go', 'hand-in-hand', '.']\n",
            "['My', 'good', 'fortune', 'worked', 'three', 'great', 'mind', '.']\n",
            "['Dr.Vikram', 'Sarabhai', ',', 'Dept', '.']\n",
            "['Space', ',', 'Professor', 'Satish', 'Dhawan', ',', 'succeeded', 'Dr.', 'Brahm', 'Prakash', ',', 'father', 'nuclear', 'material', '.']\n",
            "['I', 'lucky', 'worked', 'three', 'closely', 'consider', 'great', 'opportunity', '.']\n",
            "['I', 'see', 'four', 'milestone', 'career', '.']\n"
          ]
        }
      ]
    }
  ]
}
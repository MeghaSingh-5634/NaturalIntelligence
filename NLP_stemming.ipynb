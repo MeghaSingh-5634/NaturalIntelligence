{
  "nbformat": 4,
  "nbformat_minor": 0,
  "metadata": {
    "colab": {
      "provenance": [],
      "authorship_tag": "ABX9TyOONH2lmkpaQTx8PyeStTcV",
      "include_colab_link": true
    },
    "kernelspec": {
      "name": "python3",
      "display_name": "Python 3"
    },
    "language_info": {
      "name": "python"
    }
  },
  "cells": [
    {
      "cell_type": "markdown",
      "metadata": {
        "id": "view-in-github",
        "colab_type": "text"
      },
      "source": [
        "<a href=\"https://colab.research.google.com/github/MeghaSingh-5634/NaturalIntelligence/blob/main/NLP_stemming.ipynb\" target=\"_parent\"><img src=\"https://colab.research.google.com/assets/colab-badge.svg\" alt=\"Open In Colab\"/></a>"
      ]
    },
    {
      "cell_type": "code",
      "source": [
        "import nltk\n",
        "from nltk.stem import PorterStemmer\n",
        "from nltk.corpus import stopwords\n",
        "nltk.download('punkt') #Punkt is a pre-trained unsupervised tokenizer included in NLTK, used for tokenizing text into\n",
        "#individual words or sentences.\n",
        "nltk.download('stopwords')\n"
      ],
      "metadata": {
        "colab": {
          "base_uri": "https://localhost:8080/"
        },
        "id": "4qC7CCp_5fO0",
        "outputId": "bfdb061d-c462-4939-91c8-6b9502dcd24e"
      },
      "execution_count": null,
      "outputs": [
        {
          "output_type": "stream",
          "name": "stderr",
          "text": [
            "[nltk_data] Downloading package punkt to /root/nltk_data...\n",
            "[nltk_data]   Unzipping tokenizers/punkt.zip.\n",
            "[nltk_data] Downloading package stopwords to /root/nltk_data...\n",
            "[nltk_data]   Unzipping corpora/stopwords.zip.\n"
          ]
        },
        {
          "output_type": "execute_result",
          "data": {
            "text/plain": [
              "True"
            ]
          },
          "metadata": {},
          "execution_count": 1
        }
      ]
    },
    {
      "cell_type": "code",
      "execution_count": null,
      "metadata": {
        "id": "vhkG63Ln2990"
      },
      "outputs": [],
      "source": [
        "paragraph=\"\"\"I have three visions for India. In 3000 years of our history people from all over the world have come and invaded us, captured our lands, conquered our minds.\n",
        "From Alexander onwards the Greeks, the Turks, the Moguls, the Portuguese, the British, the French, the Dutch, all of them came and looted us, took over what was ours.\n",
        "Yet we have not done this to any other nation. We have not conquered anyone.\n",
        "We have not grabbed their land, their culture and their history and tried to enforce our way of life on them.\n",
        "Why? Because we respect the freedom of others. That is why my FIRST VISION is that of FREEDOM.\n",
        "I believe that India got its first vision of this in 1857, when we started the war of Independence.\n",
        "It is this freedom that we must protect and nurture and build on. If we are not free, no one will respect us.\n",
        "We have 10 percent growth rate in most areas. Our poverty levels are falling.\n",
        "Our achievements are being globally recognised today. Yet we lack the self-confidence to see ourselves as a developed nation, self-reliant and self-assured.\n",
        "Isn’t this incorrect? MY SECOND VISION for India is DEVELOPMENT. For fifty years we have been a developing nation.\n",
        "It is time we see ourselves as a developed nation. We are among top five nations in the world in terms of GDP.\n",
        "I have a THIRD VISION. India must stand up to the world. Because I believe that unless India stands up to the world, no one will respect us.\n",
        "Only strength respects strength. We must be strong not only as a military power but also as an economic power. Both must go hand-in-hand.\n",
        "My good fortune was to have worked with three great minds. Dr.Vikram Sarabhai, of the Dept. of Space, Professor Satish Dhawan, who succeeded him and Dr.\n",
        "Brahm Prakash, father of nuclear material.\n",
        "I was lucky to have worked with all three of them closely and consider this the great opportunity . I see four milestones in my career.\"\"\""
      ]
    },
    {
      "cell_type": "code",
      "source": [
        "sentences=nltk.sent_tokenize(paragraph) # paragraph into sentences\n",
        "stemmer=PorterStemmer() # object of PorterStemmer\n",
        "print(len(sentences))\n"
      ],
      "metadata": {
        "colab": {
          "base_uri": "https://localhost:8080/"
        },
        "id": "tlnd_aml5P4y",
        "outputId": "6cc74091-ef4f-4c17-e3b8-326e4209630e"
      },
      "execution_count": null,
      "outputs": [
        {
          "output_type": "stream",
          "name": "stdout",
          "text": [
            "32\n"
          ]
        }
      ]
    },
    {
      "cell_type": "code",
      "source": [
        "for i in range(len(sentences)):\n",
        "  print(sentences[i])"
      ],
      "metadata": {
        "colab": {
          "base_uri": "https://localhost:8080/"
        },
        "id": "N9L8oOxR1Bkb",
        "outputId": "1bc5f975-8de6-415e-ca45-16093a9e61fa"
      },
      "execution_count": null,
      "outputs": [
        {
          "output_type": "stream",
          "name": "stdout",
          "text": [
            "I have three visions for India.\n",
            "In 3000 years of our history people from all over the world have come and invaded us, captured our lands, conquered our minds.\n",
            "From Alexander onwards the Greeks, the Turks, the Moguls, the Portuguese, the British, the French, the Dutch, all of them came and looted us, took over what was ours.\n",
            "Yet we have not done this to any other nation.\n",
            "We have not conquered anyone.\n",
            "We have not grabbed their land, their culture and their history and tried to enforce our way of life on them.\n",
            "Why?\n",
            "Because we respect the freedom of others.\n",
            "That is why my FIRST VISION is that of FREEDOM.\n",
            "I believe that India got its first vision of this in 1857, when we started the war of Independence.\n",
            "It is this freedom that we must protect and nurture and build on.\n",
            "If we are not free, no one will respect us.\n",
            "We have 10 percent growth rate in most areas.\n",
            "Our poverty levels are falling.\n",
            "Our achievements are being globally recognised today.\n",
            "Yet we lack the self-confidence to see ourselves as a developed nation, self-reliant and self-assured.\n",
            "Isn’t this incorrect?\n",
            "MY SECOND VISION for India is DEVELOPMENT.\n",
            "For fifty years we have been a developing nation.\n",
            "It is time we see ourselves as a developed nation.\n",
            "We are among top five nations in the world in terms of GDP.\n",
            "I have a THIRD VISION.\n",
            "India must stand up to the world.\n",
            "Because I believe that unless India stands up to the world, no one will respect us.\n",
            "Only strength respects strength.\n",
            "We must be strong not only as a military power but also as an economic power.\n",
            "Both must go hand-in-hand.\n",
            "My good fortune was to have worked with three great minds.\n",
            "Dr.Vikram Sarabhai, of the Dept.\n",
            "of Space, Professor Satish Dhawan, who succeeded him and Dr.\n",
            "Brahm Prakash, father of nuclear material.\n",
            "I was lucky to have worked with all three of them closely and consider this the great opportunity .\n",
            "I see four milestones in my career.\n"
          ]
        }
      ]
    },
    {
      "cell_type": "code",
      "source": [
        "for i in range(len(sentences)):\n",
        "  words=nltk.word_tokenize(sentences[i]); # sentences into words\n",
        "  words=[stemmer.stem(word) for word in words if word not in set(stopwords.words('english'))]\n",
        "  sentences[i]=''.join(words)\n",
        "  print(words)"
      ],
      "metadata": {
        "colab": {
          "base_uri": "https://localhost:8080/"
        },
        "id": "wnoEzQ3-7KeE",
        "outputId": "0afd691f-8f68-4e76-c5ec-1008bde1b632"
      },
      "execution_count": null,
      "outputs": [
        {
          "output_type": "stream",
          "name": "stdout",
          "text": [
            "['i', 'three', 'vision', 'india', '.']\n",
            "['in', '3000', 'year', 'histori', 'peopl', 'world', 'come', 'invad', 'us', ',', 'captur', 'land', ',', 'conquer', 'mind', '.']\n",
            "['from', 'alexand', 'onward', 'greek', ',', 'turk', ',', 'mogul', ',', 'portugues', ',', 'british', ',', 'french', ',', 'dutch', ',', 'came', 'loot', 'us', ',', 'took', '.']\n",
            "['yet', 'done', 'nation', '.']\n",
            "['we', 'conquer', 'anyon', '.']\n",
            "['we', 'grab', 'land', ',', 'cultur', 'histori', 'tri', 'enforc', 'way', 'life', '.']\n",
            "['whi', '?']\n",
            "['becaus', 'respect', 'freedom', 'other', '.']\n",
            "['that', 'first', 'vision', 'freedom', '.']\n",
            "['i', 'believ', 'india', 'got', 'first', 'vision', '1857', ',', 'start', 'war', 'independ', '.']\n",
            "['it', 'freedom', 'must', 'protect', 'nurtur', 'build', '.']\n",
            "['if', 'free', ',', 'one', 'respect', 'us', '.']\n",
            "['we', '10', 'percent', 'growth', 'rate', 'area', '.']\n",
            "['our', 'poverti', 'level', 'fall', '.']\n",
            "['our', 'achiev', 'global', 'recognis', 'today', '.']\n",
            "['yet', 'lack', 'self-confid', 'see', 'develop', 'nation', ',', 'self-reli', 'self-assur', '.']\n",
            "['isn', '’', 'incorrect', '?']\n",
            "['my', 'second', 'vision', 'india', 'develop', '.']\n",
            "['for', 'fifti', 'year', 'develop', 'nation', '.']\n",
            "['it', 'time', 'see', 'develop', 'nation', '.']\n",
            "['we', 'among', 'top', 'five', 'nation', 'world', 'term', 'gdp', '.']\n",
            "['i', 'third', 'vision', '.']\n",
            "['india', 'must', 'stand', 'world', '.']\n",
            "['becaus', 'i', 'believ', 'unless', 'india', 'stand', 'world', ',', 'one', 'respect', 'us', '.']\n",
            "['onli', 'strength', 'respect', 'strength', '.']\n",
            "['we', 'must', 'strong', 'militari', 'power', 'also', 'econom', 'power', '.']\n",
            "['both', 'must', 'go', 'hand-in-hand', '.']\n",
            "['my', 'good', 'fortun', 'work', 'three', 'great', 'mind', '.']\n",
            "['dr.vikram', 'sarabhai', ',', 'dept', '.']\n",
            "['space', ',', 'professor', 'satish', 'dhawan', ',', 'succeed', 'dr.', 'brahm', 'prakash', ',', 'father', 'nuclear', 'materi', '.']\n",
            "['i', 'lucki', 'work', 'three', 'close', 'consid', 'great', 'opportun', '.']\n",
            "['i', 'see', 'four', 'mileston', 'career', '.']\n"
          ]
        }
      ]
    }
  ]
}